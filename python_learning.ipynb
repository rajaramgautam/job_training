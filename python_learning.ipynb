{
 "cells": [
  {
   "cell_type": "markdown",
   "id": "2129d4db",
   "metadata": {},
   "source": [
    "# Date 05/02/2022"
   ]
  },
  {
   "cell_type": "code",
   "execution_count": 1,
   "id": "16442172",
   "metadata": {},
   "outputs": [
    {
     "name": "stdout",
     "output_type": "stream",
     "text": [
      "Hello Python\n"
     ]
    }
   ],
   "source": [
    "print('Hello Python')"
   ]
  },
  {
   "cell_type": "code",
   "execution_count": 2,
   "id": "04047d82",
   "metadata": {},
   "outputs": [
    {
     "name": "stdout",
     "output_type": "stream",
     "text": [
      "I am already writing code and enjoying this course!\n"
     ]
    }
   ],
   "source": [
    "print('I am already writing code and enjoying this course!')"
   ]
  },
  {
   "cell_type": "code",
   "execution_count": 9,
   "id": "9ee3025d",
   "metadata": {},
   "outputs": [
    {
     "name": "stdout",
     "output_type": "stream",
     "text": [
      "What do you want for lunch? : Roti\n",
      "Your Roti is ready.\n"
     ]
    }
   ],
   "source": [
    "lunch = input('What do you want for lunch? : ')\n",
    "lunch\n",
    "print(f\"Your \" + lunch + \" is ready.\")"
   ]
  },
  {
   "cell_type": "markdown",
   "id": "82ac7e05",
   "metadata": {},
   "source": [
    "### Varaiable\n",
    "- Variables should always start with lettes usually lower case.\n",
    "- It should never start with number or any other symbol.\n",
    "- No spaces or special characters in variable names\n",
    "- Names are case sensitive and python in over all is case sensitive language.\n",
    "- Reasonable name length\n",
    "- Get away from python reserve words\n"
   ]
  },
  {
   "cell_type": "code",
   "execution_count": 10,
   "id": "2f8881f2",
   "metadata": {},
   "outputs": [],
   "source": [
    "a = b = c = 10"
   ]
  },
  {
   "cell_type": "code",
   "execution_count": 11,
   "id": "dbcd7f45",
   "metadata": {},
   "outputs": [
    {
     "data": {
      "text/plain": [
       "4366858880"
      ]
     },
     "execution_count": 11,
     "metadata": {},
     "output_type": "execute_result"
    }
   ],
   "source": [
    "id(a)"
   ]
  },
  {
   "cell_type": "code",
   "execution_count": 12,
   "id": "05944a45",
   "metadata": {},
   "outputs": [
    {
     "data": {
      "text/plain": [
       "4366858880"
      ]
     },
     "execution_count": 12,
     "metadata": {},
     "output_type": "execute_result"
    }
   ],
   "source": [
    "id(b)"
   ]
  },
  {
   "cell_type": "code",
   "execution_count": 13,
   "id": "18b1549e",
   "metadata": {},
   "outputs": [
    {
     "data": {
      "text/plain": [
       "4366858880"
      ]
     },
     "execution_count": 13,
     "metadata": {},
     "output_type": "execute_result"
    }
   ],
   "source": [
    "id(c)"
   ]
  },
  {
   "cell_type": "code",
   "execution_count": 15,
   "id": "796624cb",
   "metadata": {},
   "outputs": [],
   "source": [
    "d, e , f = 5, 6, 7"
   ]
  },
  {
   "cell_type": "code",
   "execution_count": 16,
   "id": "7481777b",
   "metadata": {},
   "outputs": [
    {
     "data": {
      "text/plain": [
       "5"
      ]
     },
     "execution_count": 16,
     "metadata": {},
     "output_type": "execute_result"
    }
   ],
   "source": [
    "d"
   ]
  },
  {
   "cell_type": "code",
   "execution_count": 17,
   "id": "6b4386e7",
   "metadata": {},
   "outputs": [
    {
     "data": {
      "text/plain": [
       "6"
      ]
     },
     "execution_count": 17,
     "metadata": {},
     "output_type": "execute_result"
    }
   ],
   "source": [
    "e"
   ]
  },
  {
   "cell_type": "code",
   "execution_count": 18,
   "id": "3a545df0",
   "metadata": {},
   "outputs": [
    {
     "data": {
      "text/plain": [
       "7"
      ]
     },
     "execution_count": 18,
     "metadata": {},
     "output_type": "execute_result"
    }
   ],
   "source": [
    "f"
   ]
  },
  {
   "cell_type": "code",
   "execution_count": 19,
   "id": "ab9df350",
   "metadata": {},
   "outputs": [
    {
     "name": "stdout",
     "output_type": "stream",
     "text": [
      "4366858752\n"
     ]
    }
   ],
   "source": [
    "print(id(e))"
   ]
  },
  {
   "cell_type": "code",
   "execution_count": 20,
   "id": "ca0e7f01",
   "metadata": {},
   "outputs": [
    {
     "name": "stdout",
     "output_type": "stream",
     "text": [
      "4366858784\n"
     ]
    }
   ],
   "source": [
    "print(id(f))"
   ]
  },
  {
   "cell_type": "markdown",
   "id": "b7e7bd96",
   "metadata": {},
   "source": [
    "# Data Types"
   ]
  },
  {
   "cell_type": "markdown",
   "id": "05999bb0",
   "metadata": {},
   "source": [
    "- strings\n",
    "- numbers\n",
    "- boolean\n",
    "- lists\n",
    "- sets\n",
    "- frozensets\n",
    "- tuples\n",
    "- ranges\n",
    "- dictionaries\n",
    "- None"
   ]
  },
  {
   "cell_type": "markdown",
   "id": "a525a562",
   "metadata": {},
   "source": [
    "- Mutuability (lists, sets, dictionaries)\n",
    "- Immutuability"
   ]
  },
  {
   "cell_type": "code",
   "execution_count": 24,
   "id": "3e7e42db",
   "metadata": {},
   "outputs": [
    {
     "name": "stdout",
     "output_type": "stream",
     "text": [
      "18\n",
      "19\n",
      "20\n",
      "21\n",
      "22\n",
      "23\n",
      "24\n",
      "25\n",
      "26\n",
      "27\n",
      "28\n",
      "29\n",
      "30\n",
      "31\n",
      "32\n",
      "33\n",
      "34\n",
      "35\n",
      "36\n",
      "37\n",
      "38\n",
      "39\n",
      "40\n",
      "41\n",
      "42\n",
      "43\n",
      "44\n",
      "45\n",
      "46\n",
      "47\n",
      "48\n",
      "49\n",
      "50\n",
      "51\n",
      "52\n",
      "53\n",
      "54\n",
      "55\n",
      "56\n",
      "57\n",
      "58\n",
      "59\n",
      "60\n",
      "61\n",
      "62\n",
      "63\n",
      "64\n",
      "65\n",
      "66\n",
      "67\n",
      "68\n",
      "69\n",
      "70\n",
      "71\n",
      "72\n",
      "73\n",
      "74\n",
      "75\n",
      "76\n",
      "77\n",
      "78\n",
      "79\n",
      "80\n",
      "81\n",
      "82\n",
      "83\n",
      "84\n",
      "85\n",
      "86\n",
      "87\n",
      "88\n",
      "89\n",
      "90\n",
      "91\n",
      "92\n",
      "93\n",
      "94\n",
      "95\n",
      "96\n",
      "97\n",
      "98\n",
      "99\n",
      "100\n",
      "101\n",
      "102\n",
      "103\n",
      "104\n",
      "105\n",
      "106\n",
      "107\n",
      "108\n",
      "109\n",
      "110\n",
      "111\n",
      "112\n",
      "113\n",
      "114\n",
      "115\n",
      "116\n",
      "117\n",
      "118\n",
      "119\n",
      "120\n",
      "121\n",
      "122\n",
      "123\n",
      "124\n",
      "125\n",
      "126\n",
      "127\n",
      "128\n",
      "129\n",
      "130\n",
      "131\n",
      "132\n",
      "133\n",
      "134\n",
      "135\n",
      "136\n",
      "137\n",
      "138\n",
      "139\n",
      "140\n",
      "141\n",
      "142\n",
      "143\n",
      "144\n",
      "145\n",
      "146\n",
      "147\n",
      "148\n",
      "149\n"
     ]
    }
   ],
   "source": [
    "voter_age = range(18, 150)\n",
    "for item in voter_age:\n",
    "    print(item)"
   ]
  },
  {
   "cell_type": "markdown",
   "id": "9baef50b",
   "metadata": {},
   "source": [
    "### Strings"
   ]
  },
  {
   "cell_type": "code",
   "execution_count": 25,
   "id": "36f768c7",
   "metadata": {},
   "outputs": [
    {
     "data": {
      "text/plain": [
       "'This is my first string'"
      ]
     },
     "execution_count": 25,
     "metadata": {},
     "output_type": "execute_result"
    }
   ],
   "source": [
    "my_string = 'This is my first string'\n",
    "my_string"
   ]
  },
  {
   "cell_type": "markdown",
   "id": "33ddc662",
   "metadata": {},
   "source": [
    "###### \\ escaping characters"
   ]
  },
  {
   "cell_type": "code",
   "execution_count": 27,
   "id": "d94ea188",
   "metadata": {},
   "outputs": [],
   "source": [
    "string = 'Cisco Router'"
   ]
  },
  {
   "cell_type": "code",
   "execution_count": 29,
   "id": "0728ce14",
   "metadata": {},
   "outputs": [
    {
     "data": {
      "text/plain": [
       "'Cisco'"
      ]
     },
     "execution_count": 29,
     "metadata": {},
     "output_type": "execute_result"
    }
   ],
   "source": [
    "string[0:5]"
   ]
  },
  {
   "cell_type": "code",
   "execution_count": 30,
   "id": "9092f7c2",
   "metadata": {},
   "outputs": [
    {
     "data": {
      "text/plain": [
       "12"
      ]
     },
     "execution_count": 30,
     "metadata": {},
     "output_type": "execute_result"
    }
   ],
   "source": [
    "len(string)"
   ]
  },
  {
   "cell_type": "markdown",
   "id": "12b65d53",
   "metadata": {},
   "source": [
    "###### Methods of String"
   ]
  },
  {
   "cell_type": "code",
   "execution_count": 31,
   "id": "f2ad9644",
   "metadata": {},
   "outputs": [],
   "source": [
    "a = 'Cisco Switch'"
   ]
  },
  {
   "cell_type": "code",
   "execution_count": 33,
   "id": "4fde8819",
   "metadata": {},
   "outputs": [
    {
     "data": {
      "text/plain": [
       "0"
      ]
     },
     "execution_count": 33,
     "metadata": {},
     "output_type": "execute_result"
    }
   ],
   "source": [
    "a.index('C')"
   ]
  },
  {
   "cell_type": "code",
   "execution_count": 35,
   "id": "0cbaac61",
   "metadata": {},
   "outputs": [
    {
     "data": {
      "text/plain": [
       "2"
      ]
     },
     "execution_count": 35,
     "metadata": {},
     "output_type": "execute_result"
    }
   ],
   "source": [
    "a.count('i')"
   ]
  },
  {
   "cell_type": "code",
   "execution_count": 36,
   "id": "2a1d4106",
   "metadata": {},
   "outputs": [
    {
     "data": {
      "text/plain": [
       "7"
      ]
     },
     "execution_count": 36,
     "metadata": {},
     "output_type": "execute_result"
    }
   ],
   "source": [
    "a.find('w')"
   ]
  },
  {
   "cell_type": "code",
   "execution_count": 37,
   "id": "842bd159",
   "metadata": {},
   "outputs": [
    {
     "data": {
      "text/plain": [
       "-1"
      ]
     },
     "execution_count": 37,
     "metadata": {},
     "output_type": "execute_result"
    }
   ],
   "source": [
    "a.find('abc')"
   ]
  },
  {
   "cell_type": "code",
   "execution_count": 38,
   "id": "6952b5c4",
   "metadata": {},
   "outputs": [
    {
     "data": {
      "text/plain": [
       "'cisco switch'"
      ]
     },
     "execution_count": 38,
     "metadata": {},
     "output_type": "execute_result"
    }
   ],
   "source": [
    "a.lower()"
   ]
  },
  {
   "cell_type": "code",
   "execution_count": 39,
   "id": "60b61f63",
   "metadata": {},
   "outputs": [
    {
     "data": {
      "text/plain": [
       "'CISCO SWITCH'"
      ]
     },
     "execution_count": 39,
     "metadata": {},
     "output_type": "execute_result"
    }
   ],
   "source": [
    "a.upper()"
   ]
  },
  {
   "cell_type": "code",
   "execution_count": 41,
   "id": "68075b36",
   "metadata": {},
   "outputs": [
    {
     "data": {
      "text/plain": [
       "True"
      ]
     },
     "execution_count": 41,
     "metadata": {},
     "output_type": "execute_result"
    }
   ],
   "source": [
    "a.startswith('C')"
   ]
  },
  {
   "cell_type": "code",
   "execution_count": 43,
   "id": "82f7c846",
   "metadata": {},
   "outputs": [
    {
     "data": {
      "text/plain": [
       "False"
      ]
     },
     "execution_count": 43,
     "metadata": {},
     "output_type": "execute_result"
    }
   ],
   "source": [
    "a.endswith('c')"
   ]
  },
  {
   "cell_type": "code",
   "execution_count": 45,
   "id": "665082fa",
   "metadata": {},
   "outputs": [],
   "source": [
    "b = '    Cisco Switch   '"
   ]
  },
  {
   "cell_type": "code",
   "execution_count": 46,
   "id": "d5d80406",
   "metadata": {},
   "outputs": [
    {
     "data": {
      "text/plain": [
       "'Cisco Switch'"
      ]
     },
     "execution_count": 46,
     "metadata": {},
     "output_type": "execute_result"
    }
   ],
   "source": [
    "b.strip()"
   ]
  },
  {
   "cell_type": "code",
   "execution_count": 47,
   "id": "05c806f2",
   "metadata": {},
   "outputs": [],
   "source": [
    "c = \"$$$Cisco Switch$$$\""
   ]
  },
  {
   "cell_type": "code",
   "execution_count": 48,
   "id": "4943541a",
   "metadata": {},
   "outputs": [
    {
     "data": {
      "text/plain": [
       "'Cisco Switch'"
      ]
     },
     "execution_count": 48,
     "metadata": {},
     "output_type": "execute_result"
    }
   ],
   "source": [
    "c.strip('$')"
   ]
  },
  {
   "cell_type": "code",
   "execution_count": 51,
   "id": "eb4d9614",
   "metadata": {},
   "outputs": [],
   "source": [
    "d = '    Cisco Switch   '"
   ]
  },
  {
   "cell_type": "code",
   "execution_count": 52,
   "id": "80097405",
   "metadata": {},
   "outputs": [
    {
     "data": {
      "text/plain": [
       "'CiscoSwitch'"
      ]
     },
     "execution_count": 52,
     "metadata": {},
     "output_type": "execute_result"
    }
   ],
   "source": [
    "d.replace(' ', '')"
   ]
  },
  {
   "cell_type": "code",
   "execution_count": 53,
   "id": "94bd644c",
   "metadata": {},
   "outputs": [],
   "source": [
    "e = 'Cisco, Juniper, HP, Avaya, Nortel'"
   ]
  },
  {
   "cell_type": "code",
   "execution_count": 54,
   "id": "19fb2d1e",
   "metadata": {},
   "outputs": [
    {
     "data": {
      "text/plain": [
       "['Cisco', ' Juniper', ' HP', ' Avaya', ' Nortel']"
      ]
     },
     "execution_count": 54,
     "metadata": {},
     "output_type": "execute_result"
    }
   ],
   "source": [
    "e.split(',')"
   ]
  },
  {
   "cell_type": "code",
   "execution_count": 55,
   "id": "328ea0a4",
   "metadata": {},
   "outputs": [
    {
     "data": {
      "text/plain": [
       "'C_i_s_c_o_ _S_w_i_t_c_h'"
      ]
     },
     "execution_count": 55,
     "metadata": {},
     "output_type": "execute_result"
    }
   ],
   "source": [
    "'_'.join(a)"
   ]
  },
  {
   "cell_type": "markdown",
   "id": "d5d43cca",
   "metadata": {},
   "source": [
    "###### Operators & Formatting"
   ]
  },
  {
   "cell_type": "code",
   "execution_count": 56,
   "id": "ec94ae70",
   "metadata": {},
   "outputs": [
    {
     "data": {
      "text/plain": [
       "'CiscoSwitch'"
      ]
     },
     "execution_count": 56,
     "metadata": {},
     "output_type": "execute_result"
    }
   ],
   "source": [
    "x = 'Cisco'\n",
    "y = 'Switch'\n",
    "x+y"
   ]
  },
  {
   "cell_type": "code",
   "execution_count": 57,
   "id": "8f64f523",
   "metadata": {},
   "outputs": [
    {
     "data": {
      "text/plain": [
       "'CiscoCiscoCisco'"
      ]
     },
     "execution_count": 57,
     "metadata": {},
     "output_type": "execute_result"
    }
   ],
   "source": [
    "3 * x"
   ]
  },
  {
   "cell_type": "code",
   "execution_count": 58,
   "id": "3db13110",
   "metadata": {},
   "outputs": [
    {
     "data": {
      "text/plain": [
       "'Cisco model: 2600XM, 2 WAN slots, IOS 12.400000'"
      ]
     },
     "execution_count": 58,
     "metadata": {},
     "output_type": "execute_result"
    }
   ],
   "source": [
    "'Cisco model: %s, %d WAN slots, IOS %f' %('2600XM', 2, 12.4)"
   ]
  },
  {
   "cell_type": "code",
   "execution_count": 60,
   "id": "2be5d00a",
   "metadata": {},
   "outputs": [
    {
     "data": {
      "text/plain": [
       "'Cisco model: 2600XM, 2 WAN slots, IOS 12.4'"
      ]
     },
     "execution_count": 60,
     "metadata": {},
     "output_type": "execute_result"
    }
   ],
   "source": [
    "'Cisco model: %s, %d WAN slots, IOS %.1f' %('2600XM', 2, 12.4)"
   ]
  },
  {
   "cell_type": "code",
   "execution_count": 61,
   "id": "f2ea64c2",
   "metadata": {},
   "outputs": [
    {
     "data": {
      "text/plain": [
       "'Cisco model: 2600XM, 2 WAN slots, IOS 12.40'"
      ]
     },
     "execution_count": 61,
     "metadata": {},
     "output_type": "execute_result"
    }
   ],
   "source": [
    "'Cisco model: %s, %d WAN slots, IOS %.2f' %('2600XM', 2, 12.4)"
   ]
  },
  {
   "cell_type": "code",
   "execution_count": 62,
   "id": "e198e626",
   "metadata": {},
   "outputs": [
    {
     "data": {
      "text/plain": [
       "'Cisco model: 2600XM, 2 WAN slots, IOS 12.4'"
      ]
     },
     "execution_count": 62,
     "metadata": {},
     "output_type": "execute_result"
    }
   ],
   "source": [
    "'Cisco model: {}, {} WAN slots, IOS {}' .format ('2600XM', 2, 12.4)"
   ]
  },
  {
   "cell_type": "markdown",
   "id": "a8d73e0a",
   "metadata": {},
   "source": [
    "###### f-stings"
   ]
  },
  {
   "cell_type": "code",
   "execution_count": 67,
   "id": "2736fb0c",
   "metadata": {},
   "outputs": [],
   "source": [
    "model = '2600 X M' \n",
    "slots = 4  \n",
    "ios = 12.3"
   ]
  },
  {
   "cell_type": "code",
   "execution_count": 68,
   "id": "a59d6446",
   "metadata": {},
   "outputs": [
    {
     "data": {
      "text/plain": [
       "'Cisco model: 2600 X M, 4 WAN slots, IOS 12.3'"
      ]
     },
     "execution_count": 68,
     "metadata": {},
     "output_type": "execute_result"
    }
   ],
   "source": [
    "f'Cisco model: {model}, {slots} WAN slots, IOS {ios}'"
   ]
  },
  {
   "cell_type": "code",
   "execution_count": 69,
   "id": "4ce06365",
   "metadata": {},
   "outputs": [
    {
     "data": {
      "text/plain": [
       "'Cisco model: 2600 x m, 8 WAN slots, IOS 12.3'"
      ]
     },
     "execution_count": 69,
     "metadata": {},
     "output_type": "execute_result"
    }
   ],
   "source": [
    "f'Cisco model: {model.lower()}, {slots * 2} WAN slots, IOS {ios}'"
   ]
  },
  {
   "cell_type": "code",
   "execution_count": 70,
   "id": "92c486a5",
   "metadata": {},
   "outputs": [],
   "source": [
    "string1 = 'Hello, wea are home.'"
   ]
  },
  {
   "cell_type": "code",
   "execution_count": 71,
   "id": "18a42e2c",
   "metadata": {},
   "outputs": [
    {
     "data": {
      "text/plain": [
       "'home.'"
      ]
     },
     "execution_count": 71,
     "metadata": {},
     "output_type": "execute_result"
    }
   ],
   "source": [
    "string1[-5:]"
   ]
  },
  {
   "cell_type": "code",
   "execution_count": 72,
   "id": "c64970ef",
   "metadata": {},
   "outputs": [
    {
     "data": {
      "text/plain": [
       "'home'"
      ]
     },
     "execution_count": 72,
     "metadata": {},
     "output_type": "execute_result"
    }
   ],
   "source": [
    "string1[-5:-1]"
   ]
  },
  {
   "cell_type": "code",
   "execution_count": 73,
   "id": "89b11856",
   "metadata": {},
   "outputs": [
    {
     "data": {
      "text/plain": [
       "'Hello'"
      ]
     },
     "execution_count": 73,
     "metadata": {},
     "output_type": "execute_result"
    }
   ],
   "source": [
    "string1[0:5]"
   ]
  },
  {
   "cell_type": "code",
   "execution_count": 75,
   "id": "dda52d7d",
   "metadata": {},
   "outputs": [
    {
     "data": {
      "text/plain": [
       "'Hlo e r oe'"
      ]
     },
     "execution_count": 75,
     "metadata": {},
     "output_type": "execute_result"
    }
   ],
   "source": [
    "string1[::2]"
   ]
  },
  {
   "cell_type": "code",
   "execution_count": 76,
   "id": "f153e486",
   "metadata": {},
   "outputs": [
    {
     "data": {
      "text/plain": [
       "'.emoh era aew ,olleH'"
      ]
     },
     "execution_count": 76,
     "metadata": {},
     "output_type": "execute_result"
    }
   ],
   "source": [
    "string1[::-1]"
   ]
  },
  {
   "cell_type": "markdown",
   "id": "898b0629",
   "metadata": {},
   "source": [
    "###### mysting[start: stop: step]"
   ]
  },
  {
   "cell_type": "code",
   "execution_count": 77,
   "id": "f4bcbe16",
   "metadata": {},
   "outputs": [],
   "source": [
    "mystring = '0123456789'"
   ]
  },
  {
   "cell_type": "code",
   "execution_count": 79,
   "id": "b6f94b48",
   "metadata": {},
   "outputs": [
    {
     "data": {
      "text/plain": [
       "'02468'"
      ]
     },
     "execution_count": 79,
     "metadata": {},
     "output_type": "execute_result"
    }
   ],
   "source": [
    "mystring[0::2]"
   ]
  },
  {
   "cell_type": "code",
   "execution_count": 80,
   "id": "e2177432",
   "metadata": {},
   "outputs": [
    {
     "data": {
      "text/plain": [
       "'13579'"
      ]
     },
     "execution_count": 80,
     "metadata": {},
     "output_type": "execute_result"
    }
   ],
   "source": [
    "mystring[1::2]"
   ]
  },
  {
   "cell_type": "code",
   "execution_count": 81,
   "id": "06bd230c",
   "metadata": {},
   "outputs": [],
   "source": [
    "string3 = 'nepal mountain budha pashupati nath'"
   ]
  },
  {
   "cell_type": "code",
   "execution_count": 89,
   "id": "92728e63",
   "metadata": {},
   "outputs": [],
   "source": [
    "string4 = string3.title()"
   ]
  },
  {
   "cell_type": "code",
   "execution_count": 83,
   "id": "08678051",
   "metadata": {},
   "outputs": [
    {
     "data": {
      "text/plain": [
       "False"
      ]
     },
     "execution_count": 83,
     "metadata": {},
     "output_type": "execute_result"
    }
   ],
   "source": [
    "string3.isalnum()"
   ]
  },
  {
   "cell_type": "code",
   "execution_count": 84,
   "id": "88bd6863",
   "metadata": {},
   "outputs": [
    {
     "data": {
      "text/plain": [
       "False"
      ]
     },
     "execution_count": 84,
     "metadata": {},
     "output_type": "execute_result"
    }
   ],
   "source": [
    "string3.isalpha()"
   ]
  },
  {
   "cell_type": "code",
   "execution_count": 85,
   "id": "1d00bb54",
   "metadata": {},
   "outputs": [
    {
     "data": {
      "text/plain": [
       "False"
      ]
     },
     "execution_count": 85,
     "metadata": {},
     "output_type": "execute_result"
    }
   ],
   "source": [
    "string3.isdigit()"
   ]
  },
  {
   "cell_type": "code",
   "execution_count": 86,
   "id": "5fce1183",
   "metadata": {},
   "outputs": [
    {
     "data": {
      "text/plain": [
       "True"
      ]
     },
     "execution_count": 86,
     "metadata": {},
     "output_type": "execute_result"
    }
   ],
   "source": [
    "string3.islower()"
   ]
  },
  {
   "cell_type": "code",
   "execution_count": 87,
   "id": "4185329f",
   "metadata": {},
   "outputs": [
    {
     "data": {
      "text/plain": [
       "False"
      ]
     },
     "execution_count": 87,
     "metadata": {},
     "output_type": "execute_result"
    }
   ],
   "source": [
    "string3.isupper()"
   ]
  },
  {
   "cell_type": "code",
   "execution_count": 88,
   "id": "db46a3b7",
   "metadata": {},
   "outputs": [
    {
     "data": {
      "text/plain": [
       "False"
      ]
     },
     "execution_count": 88,
     "metadata": {},
     "output_type": "execute_result"
    }
   ],
   "source": [
    "string3.isnumeric()"
   ]
  },
  {
   "cell_type": "code",
   "execution_count": 90,
   "id": "896a55ea",
   "metadata": {},
   "outputs": [
    {
     "data": {
      "text/plain": [
       "True"
      ]
     },
     "execution_count": 90,
     "metadata": {},
     "output_type": "execute_result"
    }
   ],
   "source": [
    "string4.istitle()"
   ]
  },
  {
   "cell_type": "code",
   "execution_count": 91,
   "id": "b1d74dc2",
   "metadata": {},
   "outputs": [
    {
     "data": {
      "text/plain": [
       "False"
      ]
     },
     "execution_count": 91,
     "metadata": {},
     "output_type": "execute_result"
    }
   ],
   "source": [
    "string4.isupper()"
   ]
  },
  {
   "cell_type": "code",
   "execution_count": 92,
   "id": "97ad10c7",
   "metadata": {},
   "outputs": [],
   "source": [
    "string5 = string3.upper()"
   ]
  },
  {
   "cell_type": "code",
   "execution_count": 93,
   "id": "d2707e5a",
   "metadata": {},
   "outputs": [
    {
     "data": {
      "text/plain": [
       "True"
      ]
     },
     "execution_count": 93,
     "metadata": {},
     "output_type": "execute_result"
    }
   ],
   "source": [
    "string5.isupper()"
   ]
  },
  {
   "cell_type": "markdown",
   "id": "259bcf9e",
   "metadata": {},
   "source": [
    "# Numbers"
   ]
  },
  {
   "cell_type": "code",
   "execution_count": 94,
   "id": "f168d275",
   "metadata": {},
   "outputs": [
    {
     "data": {
      "text/plain": [
       "3"
      ]
     },
     "execution_count": 94,
     "metadata": {},
     "output_type": "execute_result"
    }
   ],
   "source": [
    "7//2"
   ]
  },
  {
   "cell_type": "code",
   "execution_count": 95,
   "id": "fce5e922",
   "metadata": {},
   "outputs": [
    {
     "data": {
      "text/plain": [
       "1"
      ]
     },
     "execution_count": 95,
     "metadata": {},
     "output_type": "execute_result"
    }
   ],
   "source": [
    "7%2"
   ]
  },
  {
   "cell_type": "code",
   "execution_count": 100,
   "id": "67a292a9",
   "metadata": {},
   "outputs": [
    {
     "data": {
      "text/plain": [
       "False"
      ]
     },
     "execution_count": 100,
     "metadata": {},
     "output_type": "execute_result"
    }
   ],
   "source": [
    "bool([])"
   ]
  },
  {
   "cell_type": "code",
   "execution_count": 102,
   "id": "91891e97",
   "metadata": {},
   "outputs": [
    {
     "data": {
      "text/plain": [
       "False"
      ]
     },
     "execution_count": 102,
     "metadata": {},
     "output_type": "execute_result"
    }
   ],
   "source": [
    "bool({})"
   ]
  },
  {
   "cell_type": "code",
   "execution_count": 103,
   "id": "643f7608",
   "metadata": {},
   "outputs": [
    {
     "data": {
      "text/plain": [
       "False"
      ]
     },
     "execution_count": 103,
     "metadata": {},
     "output_type": "execute_result"
    }
   ],
   "source": [
    "bool(None)"
   ]
  },
  {
   "cell_type": "code",
   "execution_count": 104,
   "id": "13a8d7ea",
   "metadata": {},
   "outputs": [
    {
     "data": {
      "text/plain": [
       "False"
      ]
     },
     "execution_count": 104,
     "metadata": {},
     "output_type": "execute_result"
    }
   ],
   "source": [
    "bool(0)"
   ]
  },
  {
   "cell_type": "code",
   "execution_count": 105,
   "id": "09f626ba",
   "metadata": {},
   "outputs": [
    {
     "data": {
      "text/plain": [
       "False"
      ]
     },
     "execution_count": 105,
     "metadata": {},
     "output_type": "execute_result"
    }
   ],
   "source": [
    "bool(0.0)"
   ]
  },
  {
   "cell_type": "markdown",
   "id": "29fe5dbb",
   "metadata": {},
   "source": [
    "# Boolean"
   ]
  },
  {
   "cell_type": "markdown",
   "id": "56f5bac6",
   "metadata": {},
   "source": [
    "# List"
   ]
  },
  {
   "cell_type": "code",
   "execution_count": 106,
   "id": "a3a47c31",
   "metadata": {},
   "outputs": [
    {
     "data": {
      "text/plain": [
       "list"
      ]
     },
     "execution_count": 106,
     "metadata": {},
     "output_type": "execute_result"
    }
   ],
   "source": [
    "list1 = []\n",
    "type(list1)"
   ]
  },
  {
   "cell_type": "code",
   "execution_count": 107,
   "id": "eeb8ddab",
   "metadata": {},
   "outputs": [],
   "source": [
    "list1.append('Cisco')"
   ]
  },
  {
   "cell_type": "code",
   "execution_count": 108,
   "id": "aab32071",
   "metadata": {},
   "outputs": [
    {
     "data": {
      "text/plain": [
       "['Cisco']"
      ]
     },
     "execution_count": 108,
     "metadata": {},
     "output_type": "execute_result"
    }
   ],
   "source": [
    "list1"
   ]
  },
  {
   "cell_type": "code",
   "execution_count": 109,
   "id": "e435284b",
   "metadata": {},
   "outputs": [],
   "source": [
    "list1.append('Juniper')"
   ]
  },
  {
   "cell_type": "code",
   "execution_count": 110,
   "id": "7281aacf",
   "metadata": {},
   "outputs": [
    {
     "data": {
      "text/plain": [
       "['Cisco', 'Juniper']"
      ]
     },
     "execution_count": 110,
     "metadata": {},
     "output_type": "execute_result"
    }
   ],
   "source": [
    "list1"
   ]
  },
  {
   "cell_type": "code",
   "execution_count": 111,
   "id": "abf9584b",
   "metadata": {},
   "outputs": [],
   "source": [
    "list1.append('Avaya')"
   ]
  },
  {
   "cell_type": "code",
   "execution_count": 112,
   "id": "3edc8eb3",
   "metadata": {},
   "outputs": [
    {
     "data": {
      "text/plain": [
       "['Cisco', 'Juniper', 'Avaya']"
      ]
     },
     "execution_count": 112,
     "metadata": {},
     "output_type": "execute_result"
    }
   ],
   "source": [
    "list1"
   ]
  },
  {
   "cell_type": "markdown",
   "id": "8301231d",
   "metadata": {},
   "source": [
    "###### List Methods"
   ]
  },
  {
   "cell_type": "code",
   "execution_count": 113,
   "id": "926227c6",
   "metadata": {},
   "outputs": [],
   "source": [
    "list2 = [-11, 2, 12]"
   ]
  },
  {
   "cell_type": "code",
   "execution_count": 114,
   "id": "8fe3d7b1",
   "metadata": {},
   "outputs": [
    {
     "data": {
      "text/plain": [
       "-11"
      ]
     },
     "execution_count": 114,
     "metadata": {},
     "output_type": "execute_result"
    }
   ],
   "source": [
    "min(list2)"
   ]
  },
  {
   "cell_type": "code",
   "execution_count": 115,
   "id": "8b126eda",
   "metadata": {},
   "outputs": [
    {
     "data": {
      "text/plain": [
       "12"
      ]
     },
     "execution_count": 115,
     "metadata": {},
     "output_type": "execute_result"
    }
   ],
   "source": [
    "max(list2)"
   ]
  },
  {
   "cell_type": "code",
   "execution_count": 116,
   "id": "ab71beb4",
   "metadata": {},
   "outputs": [],
   "source": [
    "list1.append(100)"
   ]
  },
  {
   "cell_type": "code",
   "execution_count": 117,
   "id": "66b87d98",
   "metadata": {},
   "outputs": [
    {
     "data": {
      "text/plain": [
       "['Cisco', 'Juniper', 'Avaya', 100]"
      ]
     },
     "execution_count": 117,
     "metadata": {},
     "output_type": "execute_result"
    }
   ],
   "source": [
    "list1"
   ]
  },
  {
   "cell_type": "code",
   "execution_count": 118,
   "id": "6c7a2ba1",
   "metadata": {},
   "outputs": [],
   "source": [
    "del list1[3]"
   ]
  },
  {
   "cell_type": "code",
   "execution_count": 119,
   "id": "4761f3dd",
   "metadata": {},
   "outputs": [
    {
     "data": {
      "text/plain": [
       "'Cisco'"
      ]
     },
     "execution_count": 119,
     "metadata": {},
     "output_type": "execute_result"
    }
   ],
   "source": [
    "list1.pop(0)"
   ]
  },
  {
   "cell_type": "code",
   "execution_count": 120,
   "id": "2bb9834d",
   "metadata": {},
   "outputs": [
    {
     "data": {
      "text/plain": [
       "['Juniper', 'Avaya']"
      ]
     },
     "execution_count": 120,
     "metadata": {},
     "output_type": "execute_result"
    }
   ],
   "source": [
    "list1"
   ]
  },
  {
   "cell_type": "code",
   "execution_count": 121,
   "id": "c130daa6",
   "metadata": {},
   "outputs": [],
   "source": [
    "list1.remove('Juniper')"
   ]
  },
  {
   "cell_type": "code",
   "execution_count": 122,
   "id": "1c8e8f84",
   "metadata": {},
   "outputs": [
    {
     "data": {
      "text/plain": [
       "['Avaya']"
      ]
     },
     "execution_count": 122,
     "metadata": {},
     "output_type": "execute_result"
    }
   ],
   "source": [
    "list1"
   ]
  },
  {
   "cell_type": "code",
   "execution_count": 126,
   "id": "d99481a5",
   "metadata": {},
   "outputs": [],
   "source": [
    "list1.insert(3, 'Nortel')"
   ]
  },
  {
   "cell_type": "code",
   "execution_count": 127,
   "id": "dfe0ea58",
   "metadata": {},
   "outputs": [
    {
     "data": {
      "text/plain": [
       "['Avaya', 'Nortel', 'Nortel']"
      ]
     },
     "execution_count": 127,
     "metadata": {},
     "output_type": "execute_result"
    }
   ],
   "source": [
    "list1"
   ]
  },
  {
   "cell_type": "code",
   "execution_count": 128,
   "id": "6dcb21bc",
   "metadata": {},
   "outputs": [
    {
     "name": "stdout",
     "output_type": "stream",
     "text": [
      "Avaya\n",
      "Nortel\n",
      "Nortel\n"
     ]
    }
   ],
   "source": [
    "for item in list1:\n",
    "    print(item)"
   ]
  },
  {
   "cell_type": "code",
   "execution_count": 129,
   "id": "9c42fa7c",
   "metadata": {},
   "outputs": [
    {
     "data": {
      "text/plain": [
       "{'Avaya', 'Nortel'}"
      ]
     },
     "execution_count": 129,
     "metadata": {},
     "output_type": "execute_result"
    }
   ],
   "source": [
    "set(list1)"
   ]
  },
  {
   "cell_type": "code",
   "execution_count": 130,
   "id": "2c499f92",
   "metadata": {},
   "outputs": [],
   "source": [
    "list2 = [9, 99, 999]"
   ]
  },
  {
   "cell_type": "code",
   "execution_count": 139,
   "id": "d5fa6825",
   "metadata": {},
   "outputs": [],
   "source": [
    "list3 = list1.extend(list2)"
   ]
  },
  {
   "cell_type": "code",
   "execution_count": 140,
   "id": "17f4c6d2",
   "metadata": {},
   "outputs": [
    {
     "data": {
      "text/plain": [
       "['Avaya', 'Nortel', 'Nortel', 9, 99, 999, 9, 99, 999, 9, 99, 999, 9, 99, 999]"
      ]
     },
     "execution_count": 140,
     "metadata": {},
     "output_type": "execute_result"
    }
   ],
   "source": [
    "list1"
   ]
  },
  {
   "cell_type": "code",
   "execution_count": 141,
   "id": "35155850",
   "metadata": {},
   "outputs": [
    {
     "data": {
      "text/plain": [
       "['Avaya', 'Nortel', 'Nortel', 9, 99, 999, 9, 99, 999, 9, 99, 999, 9, 99, 999]"
      ]
     },
     "execution_count": 141,
     "metadata": {},
     "output_type": "execute_result"
    }
   ],
   "source": [
    "list1"
   ]
  },
  {
   "cell_type": "code",
   "execution_count": 142,
   "id": "ca88de53",
   "metadata": {},
   "outputs": [],
   "source": [
    "list3"
   ]
  },
  {
   "cell_type": "code",
   "execution_count": 143,
   "id": "847aac83",
   "metadata": {},
   "outputs": [
    {
     "data": {
      "text/plain": [
       "4"
      ]
     },
     "execution_count": 143,
     "metadata": {},
     "output_type": "execute_result"
    }
   ],
   "source": [
    "list1.count(99)"
   ]
  },
  {
   "cell_type": "code",
   "execution_count": 145,
   "id": "244bd460",
   "metadata": {},
   "outputs": [],
   "source": [
    "list4 = [10, 20, 11, 66, 69, 99, 50, 49]"
   ]
  },
  {
   "cell_type": "code",
   "execution_count": 146,
   "id": "570040d7",
   "metadata": {},
   "outputs": [],
   "source": [
    "list4.sort()"
   ]
  },
  {
   "cell_type": "code",
   "execution_count": 147,
   "id": "4f30d6a9",
   "metadata": {},
   "outputs": [
    {
     "data": {
      "text/plain": [
       "[10, 11, 20, 49, 50, 66, 69, 99]"
      ]
     },
     "execution_count": 147,
     "metadata": {},
     "output_type": "execute_result"
    }
   ],
   "source": [
    "list4"
   ]
  },
  {
   "cell_type": "code",
   "execution_count": 148,
   "id": "1607965b",
   "metadata": {},
   "outputs": [],
   "source": [
    "list4.reverse()"
   ]
  },
  {
   "cell_type": "code",
   "execution_count": 149,
   "id": "dd643e9c",
   "metadata": {},
   "outputs": [
    {
     "data": {
      "text/plain": [
       "[99, 69, 66, 50, 49, 20, 11, 10]"
      ]
     },
     "execution_count": 149,
     "metadata": {},
     "output_type": "execute_result"
    }
   ],
   "source": [
    "list4"
   ]
  },
  {
   "cell_type": "code",
   "execution_count": 150,
   "id": "5f5c9261",
   "metadata": {},
   "outputs": [
    {
     "data": {
      "text/plain": [
       "[99, 69, 66, 50, 49, 20, 11, 10]"
      ]
     },
     "execution_count": 150,
     "metadata": {},
     "output_type": "execute_result"
    }
   ],
   "source": [
    "list4"
   ]
  },
  {
   "cell_type": "code",
   "execution_count": 155,
   "id": "e86a7b08",
   "metadata": {},
   "outputs": [],
   "source": [
    "list4.reverse()"
   ]
  },
  {
   "cell_type": "code",
   "execution_count": 156,
   "id": "c031ee59",
   "metadata": {},
   "outputs": [
    {
     "data": {
      "text/plain": [
       "[10, 11, 20, 49, 50, 66, 69, 99]"
      ]
     },
     "execution_count": 156,
     "metadata": {},
     "output_type": "execute_result"
    }
   ],
   "source": [
    "list4"
   ]
  },
  {
   "cell_type": "code",
   "execution_count": 157,
   "id": "828baa97",
   "metadata": {},
   "outputs": [
    {
     "data": {
      "text/plain": [
       "[10, 11, 20, 49, 50, 66, 69, 99]"
      ]
     },
     "execution_count": 157,
     "metadata": {},
     "output_type": "execute_result"
    }
   ],
   "source": [
    "list4"
   ]
  },
  {
   "cell_type": "markdown",
   "id": "a6ab0ebe",
   "metadata": {},
   "source": [
    "###### List Slicing"
   ]
  },
  {
   "cell_type": "code",
   "execution_count": 158,
   "id": "b4db4662",
   "metadata": {},
   "outputs": [
    {
     "data": {
      "text/plain": [
       "[11, 20, 49, 50, 66]"
      ]
     },
     "execution_count": 158,
     "metadata": {},
     "output_type": "execute_result"
    }
   ],
   "source": [
    "list4[1:6]"
   ]
  },
  {
   "cell_type": "code",
   "execution_count": 159,
   "id": "e6317f71",
   "metadata": {},
   "outputs": [
    {
     "data": {
      "text/plain": [
       "[49, 50, 66, 69, 99]"
      ]
     },
     "execution_count": 159,
     "metadata": {},
     "output_type": "execute_result"
    }
   ],
   "source": [
    "list4[3:]"
   ]
  },
  {
   "cell_type": "code",
   "execution_count": 161,
   "id": "a6ad672c",
   "metadata": {},
   "outputs": [
    {
     "data": {
      "text/plain": [
       "[10, 11, 20, 49, 50, 66, 69, 99]"
      ]
     },
     "execution_count": 161,
     "metadata": {},
     "output_type": "execute_result"
    }
   ],
   "source": [
    "list4[:]"
   ]
  },
  {
   "cell_type": "code",
   "execution_count": 163,
   "id": "2fcb33d6",
   "metadata": {},
   "outputs": [
    {
     "data": {
      "text/plain": [
       "[20, 49, 50, 66, 69]"
      ]
     },
     "execution_count": 163,
     "metadata": {},
     "output_type": "execute_result"
    }
   ],
   "source": [
    "list4[-6:-1]"
   ]
  },
  {
   "cell_type": "code",
   "execution_count": 164,
   "id": "97684c48",
   "metadata": {},
   "outputs": [
    {
     "data": {
      "text/plain": [
       "[66, 69, 99]"
      ]
     },
     "execution_count": 164,
     "metadata": {},
     "output_type": "execute_result"
    }
   ],
   "source": [
    "list4[-3:]"
   ]
  },
  {
   "cell_type": "code",
   "execution_count": 166,
   "id": "fcd53cf6",
   "metadata": {},
   "outputs": [
    {
     "data": {
      "text/plain": [
       "[10, 11, 20, 49, 50]"
      ]
     },
     "execution_count": 166,
     "metadata": {},
     "output_type": "execute_result"
    }
   ],
   "source": [
    "list4[:-3]"
   ]
  },
  {
   "cell_type": "code",
   "execution_count": 168,
   "id": "54afdb01",
   "metadata": {},
   "outputs": [
    {
     "data": {
      "text/plain": [
       "[99, 69, 66, 50, 49, 20, 11, 10]"
      ]
     },
     "execution_count": 168,
     "metadata": {},
     "output_type": "execute_result"
    }
   ],
   "source": [
    "list4[::-1]"
   ]
  },
  {
   "cell_type": "markdown",
   "id": "27408a02",
   "metadata": {},
   "source": [
    "# Sets"
   ]
  },
  {
   "cell_type": "code",
   "execution_count": 169,
   "id": "1981a96c",
   "metadata": {},
   "outputs": [],
   "source": [
    "list4.append(66)"
   ]
  },
  {
   "cell_type": "code",
   "execution_count": 170,
   "id": "15a529a4",
   "metadata": {},
   "outputs": [
    {
     "data": {
      "text/plain": [
       "[10, 11, 20, 49, 50, 66, 69, 99, 66]"
      ]
     },
     "execution_count": 170,
     "metadata": {},
     "output_type": "execute_result"
    }
   ],
   "source": [
    "list4"
   ]
  },
  {
   "cell_type": "code",
   "execution_count": 171,
   "id": "2a085691",
   "metadata": {},
   "outputs": [
    {
     "data": {
      "text/plain": [
       "{10, 11, 20, 49, 50, 66, 69, 99}"
      ]
     },
     "execution_count": 171,
     "metadata": {},
     "output_type": "execute_result"
    }
   ],
   "source": [
    "set(list4)"
   ]
  },
  {
   "cell_type": "code",
   "execution_count": 174,
   "id": "dec94538",
   "metadata": {},
   "outputs": [],
   "source": [
    "set2 = {11, 12, 13, 14, 15, 15, 11}"
   ]
  },
  {
   "cell_type": "code",
   "execution_count": 175,
   "id": "b2047500",
   "metadata": {},
   "outputs": [
    {
     "data": {
      "text/plain": [
       "{11, 12, 13, 14, 15}"
      ]
     },
     "execution_count": 175,
     "metadata": {},
     "output_type": "execute_result"
    }
   ],
   "source": [
    "set2"
   ]
  },
  {
   "cell_type": "code",
   "execution_count": 177,
   "id": "5af8984c",
   "metadata": {},
   "outputs": [],
   "source": [
    "set2.add(22)"
   ]
  },
  {
   "cell_type": "code",
   "execution_count": 178,
   "id": "62d30ca3",
   "metadata": {},
   "outputs": [
    {
     "data": {
      "text/plain": [
       "{11, 12, 13, 14, 15, 22}"
      ]
     },
     "execution_count": 178,
     "metadata": {},
     "output_type": "execute_result"
    }
   ],
   "source": [
    "set2"
   ]
  },
  {
   "cell_type": "code",
   "execution_count": null,
   "id": "f5708a42",
   "metadata": {},
   "outputs": [],
   "source": [
    "set2.remove"
   ]
  },
  {
   "cell_type": "code",
   "execution_count": null,
   "id": "3f4ba2b3",
   "metadata": {},
   "outputs": [],
   "source": [
    "- difference()\n",
    "- add()\n",
    "- pop()\n",
    "- intersection()\n",
    "- union()"
   ]
  },
  {
   "cell_type": "markdown",
   "id": "9ef75923",
   "metadata": {},
   "source": [
    "###### Frozensets"
   ]
  },
  {
   "cell_type": "markdown",
   "id": "108b6a72",
   "metadata": {},
   "source": [
    "- Immutability"
   ]
  },
  {
   "cell_type": "code",
   "execution_count": 179,
   "id": "3415b79e",
   "metadata": {},
   "outputs": [],
   "source": [
    "list1 = [1, 2, 3, 4]\n",
    "list2 = [3, 4, 7]"
   ]
  },
  {
   "cell_type": "code",
   "execution_count": 180,
   "id": "eee330fb",
   "metadata": {},
   "outputs": [],
   "source": [
    "fs1 = frozenset(list1)\n",
    "fs2 = frozenset(list2)"
   ]
  },
  {
   "cell_type": "code",
   "execution_count": 181,
   "id": "74c79508",
   "metadata": {},
   "outputs": [
    {
     "data": {
      "text/plain": [
       "frozenset({1, 2, 3, 4})"
      ]
     },
     "execution_count": 181,
     "metadata": {},
     "output_type": "execute_result"
    }
   ],
   "source": [
    "fs1"
   ]
  },
  {
   "cell_type": "code",
   "execution_count": 182,
   "id": "d0721ac2",
   "metadata": {},
   "outputs": [
    {
     "data": {
      "text/plain": [
       "frozenset({3, 4, 7})"
      ]
     },
     "execution_count": 182,
     "metadata": {},
     "output_type": "execute_result"
    }
   ],
   "source": [
    "fs2"
   ]
  },
  {
   "cell_type": "code",
   "execution_count": 183,
   "id": "37462d73",
   "metadata": {},
   "outputs": [
    {
     "data": {
      "text/plain": [
       "frozenset"
      ]
     },
     "execution_count": 183,
     "metadata": {},
     "output_type": "execute_result"
    }
   ],
   "source": [
    "type(fs1)"
   ]
  },
  {
   "cell_type": "code",
   "execution_count": 185,
   "id": "bcc07c94",
   "metadata": {},
   "outputs": [],
   "source": [
    "fs3 = fs1.copy"
   ]
  },
  {
   "cell_type": "code",
   "execution_count": 186,
   "id": "127bbcb4",
   "metadata": {},
   "outputs": [
    {
     "data": {
      "text/plain": [
       "<function frozenset.copy>"
      ]
     },
     "execution_count": 186,
     "metadata": {},
     "output_type": "execute_result"
    }
   ],
   "source": [
    "fs3"
   ]
  },
  {
   "cell_type": "markdown",
   "id": "8c543cb6",
   "metadata": {},
   "source": [
    "# Tuples"
   ]
  },
  {
   "cell_type": "code",
   "execution_count": null,
   "id": "e747f8e6",
   "metadata": {},
   "outputs": [],
   "source": []
  }
 ],
 "metadata": {
  "kernelspec": {
   "display_name": "Python 3 (ipykernel)",
   "language": "python",
   "name": "python3"
  },
  "language_info": {
   "codemirror_mode": {
    "name": "ipython",
    "version": 3
   },
   "file_extension": ".py",
   "mimetype": "text/x-python",
   "name": "python",
   "nbconvert_exporter": "python",
   "pygments_lexer": "ipython3",
   "version": "3.8.8"
  }
 },
 "nbformat": 4,
 "nbformat_minor": 5
}
