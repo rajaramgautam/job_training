{
 "cells": [
  {
   "cell_type": "markdown",
   "id": "fd14c8ba",
   "metadata": {},
   "source": [
    "# Date 05/02/2022"
   ]
  },
  {
   "cell_type": "code",
   "execution_count": 1,
   "id": "3dec5591",
   "metadata": {},
   "outputs": [
    {
     "name": "stdout",
     "output_type": "stream",
     "text": [
      "Hello Python\n"
     ]
    }
   ],
   "source": [
    "print('Hello Python')"
   ]
  },
  {
   "cell_type": "code",
   "execution_count": 2,
   "id": "e9965723",
   "metadata": {},
   "outputs": [
    {
     "name": "stdout",
     "output_type": "stream",
     "text": [
      "I am already writing code and enjoying this course!\n"
     ]
    }
   ],
   "source": [
    "print('I am already writing code and enjoying this course!')"
   ]
  },
  {
   "cell_type": "code",
   "execution_count": 9,
   "id": "81977d9a",
   "metadata": {},
   "outputs": [
    {
     "name": "stdout",
     "output_type": "stream",
     "text": [
      "What do you want for lunch? : Roti\n",
      "Your Roti is ready.\n"
     ]
    }
   ],
   "source": [
    "lunch = input('What do you want for lunch? : ')\n",
    "lunch\n",
    "print(f\"Your \" + lunch + \" is ready.\")"
   ]
  },
  {
   "cell_type": "markdown",
   "id": "de0df821",
   "metadata": {},
   "source": [
    "### Varaiable\n",
    "- Variables should always start with lettes usually lower case.\n",
    "- It should never start with number or any other symbol.\n",
    "- No spaces or special characters in variable names\n",
    "- Names are case sensitive and python in over all is case sensitive language.\n",
    "- Reasonable name length\n",
    "- Get away from python reserve words\n"
   ]
  },
  {
   "cell_type": "code",
   "execution_count": 10,
   "id": "d527822f",
   "metadata": {},
   "outputs": [],
   "source": [
    "a = b = c = 10"
   ]
  },
  {
   "cell_type": "code",
   "execution_count": 11,
   "id": "565af37b",
   "metadata": {},
   "outputs": [
    {
     "data": {
      "text/plain": [
       "4366858880"
      ]
     },
     "execution_count": 11,
     "metadata": {},
     "output_type": "execute_result"
    }
   ],
   "source": [
    "id(a)"
   ]
  },
  {
   "cell_type": "code",
   "execution_count": 12,
   "id": "b9d7fbe9",
   "metadata": {},
   "outputs": [
    {
     "data": {
      "text/plain": [
       "4366858880"
      ]
     },
     "execution_count": 12,
     "metadata": {},
     "output_type": "execute_result"
    }
   ],
   "source": [
    "id(b)"
   ]
  },
  {
   "cell_type": "code",
   "execution_count": 13,
   "id": "40df3b8d",
   "metadata": {},
   "outputs": [
    {
     "data": {
      "text/plain": [
       "4366858880"
      ]
     },
     "execution_count": 13,
     "metadata": {},
     "output_type": "execute_result"
    }
   ],
   "source": [
    "id(c)"
   ]
  },
  {
   "cell_type": "code",
   "execution_count": 15,
   "id": "cc06013a",
   "metadata": {},
   "outputs": [],
   "source": [
    "d, e , f = 5, 6, 7"
   ]
  },
  {
   "cell_type": "code",
   "execution_count": 16,
   "id": "a519bc6b",
   "metadata": {},
   "outputs": [
    {
     "data": {
      "text/plain": [
       "5"
      ]
     },
     "execution_count": 16,
     "metadata": {},
     "output_type": "execute_result"
    }
   ],
   "source": [
    "d"
   ]
  },
  {
   "cell_type": "code",
   "execution_count": 17,
   "id": "484ebef1",
   "metadata": {},
   "outputs": [
    {
     "data": {
      "text/plain": [
       "6"
      ]
     },
     "execution_count": 17,
     "metadata": {},
     "output_type": "execute_result"
    }
   ],
   "source": [
    "e"
   ]
  },
  {
   "cell_type": "code",
   "execution_count": 18,
   "id": "da8fd653",
   "metadata": {},
   "outputs": [
    {
     "data": {
      "text/plain": [
       "7"
      ]
     },
     "execution_count": 18,
     "metadata": {},
     "output_type": "execute_result"
    }
   ],
   "source": [
    "f"
   ]
  },
  {
   "cell_type": "code",
   "execution_count": 19,
   "id": "0d9732c9",
   "metadata": {},
   "outputs": [
    {
     "name": "stdout",
     "output_type": "stream",
     "text": [
      "4366858752\n"
     ]
    }
   ],
   "source": [
    "print(id(e))"
   ]
  },
  {
   "cell_type": "code",
   "execution_count": 20,
   "id": "5f4f8233",
   "metadata": {},
   "outputs": [
    {
     "name": "stdout",
     "output_type": "stream",
     "text": [
      "4366858784\n"
     ]
    }
   ],
   "source": [
    "print(id(f))"
   ]
  },
  {
   "cell_type": "markdown",
   "id": "b121495d",
   "metadata": {},
   "source": [
    "# Data Types"
   ]
  },
  {
   "cell_type": "markdown",
   "id": "dc205446",
   "metadata": {},
   "source": [
    "- strings\n",
    "- numbers\n",
    "- boolean\n",
    "- lists\n",
    "- sets\n",
    "- frozensets\n",
    "- tuples\n",
    "- ranges\n",
    "- dictionaries\n",
    "- None"
   ]
  },
  {
   "cell_type": "markdown",
   "id": "ec15d8f8",
   "metadata": {},
   "source": [
    "- Mutuability (lists, sets, dictionaries)\n",
    "- Immutuability"
   ]
  },
  {
   "cell_type": "code",
   "execution_count": 24,
   "id": "a96bf0bd",
   "metadata": {},
   "outputs": [
    {
     "name": "stdout",
     "output_type": "stream",
     "text": [
      "18\n",
      "19\n",
      "20\n",
      "21\n",
      "22\n",
      "23\n",
      "24\n",
      "25\n",
      "26\n",
      "27\n",
      "28\n",
      "29\n",
      "30\n",
      "31\n",
      "32\n",
      "33\n",
      "34\n",
      "35\n",
      "36\n",
      "37\n",
      "38\n",
      "39\n",
      "40\n",
      "41\n",
      "42\n",
      "43\n",
      "44\n",
      "45\n",
      "46\n",
      "47\n",
      "48\n",
      "49\n",
      "50\n",
      "51\n",
      "52\n",
      "53\n",
      "54\n",
      "55\n",
      "56\n",
      "57\n",
      "58\n",
      "59\n",
      "60\n",
      "61\n",
      "62\n",
      "63\n",
      "64\n",
      "65\n",
      "66\n",
      "67\n",
      "68\n",
      "69\n",
      "70\n",
      "71\n",
      "72\n",
      "73\n",
      "74\n",
      "75\n",
      "76\n",
      "77\n",
      "78\n",
      "79\n",
      "80\n",
      "81\n",
      "82\n",
      "83\n",
      "84\n",
      "85\n",
      "86\n",
      "87\n",
      "88\n",
      "89\n",
      "90\n",
      "91\n",
      "92\n",
      "93\n",
      "94\n",
      "95\n",
      "96\n",
      "97\n",
      "98\n",
      "99\n",
      "100\n",
      "101\n",
      "102\n",
      "103\n",
      "104\n",
      "105\n",
      "106\n",
      "107\n",
      "108\n",
      "109\n",
      "110\n",
      "111\n",
      "112\n",
      "113\n",
      "114\n",
      "115\n",
      "116\n",
      "117\n",
      "118\n",
      "119\n",
      "120\n",
      "121\n",
      "122\n",
      "123\n",
      "124\n",
      "125\n",
      "126\n",
      "127\n",
      "128\n",
      "129\n",
      "130\n",
      "131\n",
      "132\n",
      "133\n",
      "134\n",
      "135\n",
      "136\n",
      "137\n",
      "138\n",
      "139\n",
      "140\n",
      "141\n",
      "142\n",
      "143\n",
      "144\n",
      "145\n",
      "146\n",
      "147\n",
      "148\n",
      "149\n"
     ]
    }
   ],
   "source": [
    "voter_age = range(18, 150)\n",
    "for item in voter_age:\n",
    "    print(item)"
   ]
  },
  {
   "cell_type": "markdown",
   "id": "b7e94413",
   "metadata": {},
   "source": [
    "### Strings"
   ]
  },
  {
   "cell_type": "code",
   "execution_count": 25,
   "id": "4150aa4d",
   "metadata": {},
   "outputs": [
    {
     "data": {
      "text/plain": [
       "'This is my first string'"
      ]
     },
     "execution_count": 25,
     "metadata": {},
     "output_type": "execute_result"
    }
   ],
   "source": [
    "my_string = 'This is my first string'\n",
    "my_string"
   ]
  },
  {
   "cell_type": "markdown",
   "id": "6a2ccca9",
   "metadata": {},
   "source": [
    "###### \\ escaping characters"
   ]
  },
  {
   "cell_type": "code",
   "execution_count": 27,
   "id": "c6153812",
   "metadata": {},
   "outputs": [],
   "source": [
    "string = 'Cisco Router'"
   ]
  },
  {
   "cell_type": "code",
   "execution_count": 29,
   "id": "90979aad",
   "metadata": {},
   "outputs": [
    {
     "data": {
      "text/plain": [
       "'Cisco'"
      ]
     },
     "execution_count": 29,
     "metadata": {},
     "output_type": "execute_result"
    }
   ],
   "source": [
    "string[0:5]"
   ]
  },
  {
   "cell_type": "code",
   "execution_count": 30,
   "id": "1c238374",
   "metadata": {},
   "outputs": [
    {
     "data": {
      "text/plain": [
       "12"
      ]
     },
     "execution_count": 30,
     "metadata": {},
     "output_type": "execute_result"
    }
   ],
   "source": [
    "len(string)"
   ]
  },
  {
   "cell_type": "markdown",
   "id": "f32b5ca2",
   "metadata": {},
   "source": [
    "###### Methods of String"
   ]
  },
  {
   "cell_type": "code",
   "execution_count": 31,
   "id": "f1e754b4",
   "metadata": {},
   "outputs": [],
   "source": [
    "a = 'Cisco Switch'"
   ]
  },
  {
   "cell_type": "code",
   "execution_count": 33,
   "id": "a855f988",
   "metadata": {},
   "outputs": [
    {
     "data": {
      "text/plain": [
       "0"
      ]
     },
     "execution_count": 33,
     "metadata": {},
     "output_type": "execute_result"
    }
   ],
   "source": [
    "a.index('C')"
   ]
  },
  {
   "cell_type": "code",
   "execution_count": 35,
   "id": "db165398",
   "metadata": {},
   "outputs": [
    {
     "data": {
      "text/plain": [
       "2"
      ]
     },
     "execution_count": 35,
     "metadata": {},
     "output_type": "execute_result"
    }
   ],
   "source": [
    "a.count('i')"
   ]
  },
  {
   "cell_type": "code",
   "execution_count": 36,
   "id": "2acc17a9",
   "metadata": {},
   "outputs": [
    {
     "data": {
      "text/plain": [
       "7"
      ]
     },
     "execution_count": 36,
     "metadata": {},
     "output_type": "execute_result"
    }
   ],
   "source": [
    "a.find('w')"
   ]
  },
  {
   "cell_type": "code",
   "execution_count": 37,
   "id": "9e174497",
   "metadata": {},
   "outputs": [
    {
     "data": {
      "text/plain": [
       "-1"
      ]
     },
     "execution_count": 37,
     "metadata": {},
     "output_type": "execute_result"
    }
   ],
   "source": [
    "a.find('abc')"
   ]
  },
  {
   "cell_type": "code",
   "execution_count": 38,
   "id": "0a62531b",
   "metadata": {},
   "outputs": [
    {
     "data": {
      "text/plain": [
       "'cisco switch'"
      ]
     },
     "execution_count": 38,
     "metadata": {},
     "output_type": "execute_result"
    }
   ],
   "source": [
    "a.lower()"
   ]
  },
  {
   "cell_type": "code",
   "execution_count": 39,
   "id": "3ccd11fe",
   "metadata": {},
   "outputs": [
    {
     "data": {
      "text/plain": [
       "'CISCO SWITCH'"
      ]
     },
     "execution_count": 39,
     "metadata": {},
     "output_type": "execute_result"
    }
   ],
   "source": [
    "a.upper()"
   ]
  },
  {
   "cell_type": "code",
   "execution_count": 41,
   "id": "6451a4d5",
   "metadata": {},
   "outputs": [
    {
     "data": {
      "text/plain": [
       "True"
      ]
     },
     "execution_count": 41,
     "metadata": {},
     "output_type": "execute_result"
    }
   ],
   "source": [
    "a.startswith('C')"
   ]
  },
  {
   "cell_type": "code",
   "execution_count": 43,
   "id": "088cb011",
   "metadata": {},
   "outputs": [
    {
     "data": {
      "text/plain": [
       "False"
      ]
     },
     "execution_count": 43,
     "metadata": {},
     "output_type": "execute_result"
    }
   ],
   "source": [
    "a.endswith('c')"
   ]
  },
  {
   "cell_type": "code",
   "execution_count": 45,
   "id": "851be844",
   "metadata": {},
   "outputs": [],
   "source": [
    "b = '    Cisco Switch   '"
   ]
  },
  {
   "cell_type": "code",
   "execution_count": 46,
   "id": "49fc9028",
   "metadata": {},
   "outputs": [
    {
     "data": {
      "text/plain": [
       "'Cisco Switch'"
      ]
     },
     "execution_count": 46,
     "metadata": {},
     "output_type": "execute_result"
    }
   ],
   "source": [
    "b.strip()"
   ]
  },
  {
   "cell_type": "code",
   "execution_count": 47,
   "id": "1ddabf1a",
   "metadata": {},
   "outputs": [],
   "source": [
    "c = \"$$$Cisco Switch$$$\""
   ]
  },
  {
   "cell_type": "code",
   "execution_count": 48,
   "id": "c2a11f0c",
   "metadata": {},
   "outputs": [
    {
     "data": {
      "text/plain": [
       "'Cisco Switch'"
      ]
     },
     "execution_count": 48,
     "metadata": {},
     "output_type": "execute_result"
    }
   ],
   "source": [
    "c.strip('$')"
   ]
  },
  {
   "cell_type": "code",
   "execution_count": 51,
   "id": "5db133da",
   "metadata": {},
   "outputs": [],
   "source": [
    "d = '    Cisco Switch   '"
   ]
  },
  {
   "cell_type": "code",
   "execution_count": 52,
   "id": "9cb93599",
   "metadata": {},
   "outputs": [
    {
     "data": {
      "text/plain": [
       "'CiscoSwitch'"
      ]
     },
     "execution_count": 52,
     "metadata": {},
     "output_type": "execute_result"
    }
   ],
   "source": [
    "d.replace(' ', '')"
   ]
  },
  {
   "cell_type": "code",
   "execution_count": 53,
   "id": "904150a8",
   "metadata": {},
   "outputs": [],
   "source": [
    "e = 'Cisco, Juniper, HP, Avaya, Nortel'"
   ]
  },
  {
   "cell_type": "code",
   "execution_count": 54,
   "id": "9c0ee1d0",
   "metadata": {},
   "outputs": [
    {
     "data": {
      "text/plain": [
       "['Cisco', ' Juniper', ' HP', ' Avaya', ' Nortel']"
      ]
     },
     "execution_count": 54,
     "metadata": {},
     "output_type": "execute_result"
    }
   ],
   "source": [
    "e.split(',')"
   ]
  },
  {
   "cell_type": "code",
   "execution_count": 55,
   "id": "ec9e1b5b",
   "metadata": {},
   "outputs": [
    {
     "data": {
      "text/plain": [
       "'C_i_s_c_o_ _S_w_i_t_c_h'"
      ]
     },
     "execution_count": 55,
     "metadata": {},
     "output_type": "execute_result"
    }
   ],
   "source": [
    "'_'.join(a)"
   ]
  },
  {
   "cell_type": "markdown",
   "id": "566c59eb",
   "metadata": {},
   "source": [
    "###### Operators & Formatting"
   ]
  },
  {
   "cell_type": "code",
   "execution_count": 56,
   "id": "fa0b0f45",
   "metadata": {},
   "outputs": [
    {
     "data": {
      "text/plain": [
       "'CiscoSwitch'"
      ]
     },
     "execution_count": 56,
     "metadata": {},
     "output_type": "execute_result"
    }
   ],
   "source": [
    "x = 'Cisco'\n",
    "y = 'Switch'\n",
    "x+y"
   ]
  },
  {
   "cell_type": "code",
   "execution_count": 57,
   "id": "50d46502",
   "metadata": {},
   "outputs": [
    {
     "data": {
      "text/plain": [
       "'CiscoCiscoCisco'"
      ]
     },
     "execution_count": 57,
     "metadata": {},
     "output_type": "execute_result"
    }
   ],
   "source": [
    "3 * x"
   ]
  },
  {
   "cell_type": "code",
   "execution_count": 58,
   "id": "001f1bea",
   "metadata": {},
   "outputs": [
    {
     "data": {
      "text/plain": [
       "'Cisco model: 2600XM, 2 WAN slots, IOS 12.400000'"
      ]
     },
     "execution_count": 58,
     "metadata": {},
     "output_type": "execute_result"
    }
   ],
   "source": [
    "'Cisco model: %s, %d WAN slots, IOS %f' %('2600XM', 2, 12.4)"
   ]
  },
  {
   "cell_type": "code",
   "execution_count": 60,
   "id": "7ef9bd7b",
   "metadata": {},
   "outputs": [
    {
     "data": {
      "text/plain": [
       "'Cisco model: 2600XM, 2 WAN slots, IOS 12.4'"
      ]
     },
     "execution_count": 60,
     "metadata": {},
     "output_type": "execute_result"
    }
   ],
   "source": [
    "'Cisco model: %s, %d WAN slots, IOS %.1f' %('2600XM', 2, 12.4)"
   ]
  },
  {
   "cell_type": "code",
   "execution_count": 61,
   "id": "9b7bc364",
   "metadata": {},
   "outputs": [
    {
     "data": {
      "text/plain": [
       "'Cisco model: 2600XM, 2 WAN slots, IOS 12.40'"
      ]
     },
     "execution_count": 61,
     "metadata": {},
     "output_type": "execute_result"
    }
   ],
   "source": [
    "'Cisco model: %s, %d WAN slots, IOS %.2f' %('2600XM', 2, 12.4)"
   ]
  },
  {
   "cell_type": "code",
   "execution_count": 62,
   "id": "ff899046",
   "metadata": {},
   "outputs": [
    {
     "data": {
      "text/plain": [
       "'Cisco model: 2600XM, 2 WAN slots, IOS 12.4'"
      ]
     },
     "execution_count": 62,
     "metadata": {},
     "output_type": "execute_result"
    }
   ],
   "source": [
    "'Cisco model: {}, {} WAN slots, IOS {}' .format ('2600XM', 2, 12.4)"
   ]
  },
  {
   "cell_type": "markdown",
   "id": "67a35c76",
   "metadata": {},
   "source": [
    "###### f-stings"
   ]
  },
  {
   "cell_type": "code",
   "execution_count": 67,
   "id": "c35340c9",
   "metadata": {},
   "outputs": [],
   "source": [
    "model = '2600 X M' \n",
    "slots = 4  \n",
    "ios = 12.3"
   ]
  },
  {
   "cell_type": "code",
   "execution_count": 68,
   "id": "dc257330",
   "metadata": {},
   "outputs": [
    {
     "data": {
      "text/plain": [
       "'Cisco model: 2600 X M, 4 WAN slots, IOS 12.3'"
      ]
     },
     "execution_count": 68,
     "metadata": {},
     "output_type": "execute_result"
    }
   ],
   "source": [
    "f'Cisco model: {model}, {slots} WAN slots, IOS {ios}'"
   ]
  },
  {
   "cell_type": "code",
   "execution_count": 69,
   "id": "899c61a4",
   "metadata": {},
   "outputs": [
    {
     "data": {
      "text/plain": [
       "'Cisco model: 2600 x m, 8 WAN slots, IOS 12.3'"
      ]
     },
     "execution_count": 69,
     "metadata": {},
     "output_type": "execute_result"
    }
   ],
   "source": [
    "f'Cisco model: {model.lower()}, {slots * 2} WAN slots, IOS {ios}'"
   ]
  },
  {
   "cell_type": "code",
   "execution_count": 70,
   "id": "6bff7612",
   "metadata": {},
   "outputs": [],
   "source": [
    "string1 = 'Hello, wea are home.'"
   ]
  },
  {
   "cell_type": "code",
   "execution_count": 71,
   "id": "58927622",
   "metadata": {},
   "outputs": [
    {
     "data": {
      "text/plain": [
       "'home.'"
      ]
     },
     "execution_count": 71,
     "metadata": {},
     "output_type": "execute_result"
    }
   ],
   "source": [
    "string1[-5:]"
   ]
  },
  {
   "cell_type": "code",
   "execution_count": 72,
   "id": "b300ab55",
   "metadata": {},
   "outputs": [
    {
     "data": {
      "text/plain": [
       "'home'"
      ]
     },
     "execution_count": 72,
     "metadata": {},
     "output_type": "execute_result"
    }
   ],
   "source": [
    "string1[-5:-1]"
   ]
  },
  {
   "cell_type": "code",
   "execution_count": 73,
   "id": "f18c7260",
   "metadata": {},
   "outputs": [
    {
     "data": {
      "text/plain": [
       "'Hello'"
      ]
     },
     "execution_count": 73,
     "metadata": {},
     "output_type": "execute_result"
    }
   ],
   "source": [
    "string1[0:5]"
   ]
  },
  {
   "cell_type": "code",
   "execution_count": 75,
   "id": "b5ef32eb",
   "metadata": {},
   "outputs": [
    {
     "data": {
      "text/plain": [
       "'Hlo e r oe'"
      ]
     },
     "execution_count": 75,
     "metadata": {},
     "output_type": "execute_result"
    }
   ],
   "source": [
    "string1[::2]"
   ]
  },
  {
   "cell_type": "code",
   "execution_count": 76,
   "id": "f265a784",
   "metadata": {},
   "outputs": [
    {
     "data": {
      "text/plain": [
       "'.emoh era aew ,olleH'"
      ]
     },
     "execution_count": 76,
     "metadata": {},
     "output_type": "execute_result"
    }
   ],
   "source": [
    "string1[::-1]"
   ]
  },
  {
   "cell_type": "markdown",
   "id": "d217ec45",
   "metadata": {},
   "source": [
    "###### mysting[start: stop: step]"
   ]
  },
  {
   "cell_type": "code",
   "execution_count": 77,
   "id": "6be1ab51",
   "metadata": {},
   "outputs": [],
   "source": [
    "mystring = '0123456789'"
   ]
  },
  {
   "cell_type": "code",
   "execution_count": 79,
   "id": "d53e773b",
   "metadata": {},
   "outputs": [
    {
     "data": {
      "text/plain": [
       "'02468'"
      ]
     },
     "execution_count": 79,
     "metadata": {},
     "output_type": "execute_result"
    }
   ],
   "source": [
    "mystring[0::2]"
   ]
  },
  {
   "cell_type": "code",
   "execution_count": 80,
   "id": "648f6bf0",
   "metadata": {},
   "outputs": [
    {
     "data": {
      "text/plain": [
       "'13579'"
      ]
     },
     "execution_count": 80,
     "metadata": {},
     "output_type": "execute_result"
    }
   ],
   "source": [
    "mystring[1::2]"
   ]
  },
  {
   "cell_type": "code",
   "execution_count": 81,
   "id": "f0a4a261",
   "metadata": {},
   "outputs": [],
   "source": [
    "string3 = 'nepal mountain budha pashupati nath'"
   ]
  },
  {
   "cell_type": "code",
   "execution_count": 89,
   "id": "ace983d3",
   "metadata": {},
   "outputs": [],
   "source": [
    "string4 = string3.title()"
   ]
  },
  {
   "cell_type": "code",
   "execution_count": 83,
   "id": "954f7f3f",
   "metadata": {},
   "outputs": [
    {
     "data": {
      "text/plain": [
       "False"
      ]
     },
     "execution_count": 83,
     "metadata": {},
     "output_type": "execute_result"
    }
   ],
   "source": [
    "string3.isalnum()"
   ]
  },
  {
   "cell_type": "code",
   "execution_count": 84,
   "id": "c01162d2",
   "metadata": {},
   "outputs": [
    {
     "data": {
      "text/plain": [
       "False"
      ]
     },
     "execution_count": 84,
     "metadata": {},
     "output_type": "execute_result"
    }
   ],
   "source": [
    "string3.isalpha()"
   ]
  },
  {
   "cell_type": "code",
   "execution_count": 85,
   "id": "a2f61e50",
   "metadata": {},
   "outputs": [
    {
     "data": {
      "text/plain": [
       "False"
      ]
     },
     "execution_count": 85,
     "metadata": {},
     "output_type": "execute_result"
    }
   ],
   "source": [
    "string3.isdigit()"
   ]
  },
  {
   "cell_type": "code",
   "execution_count": 86,
   "id": "a7e6576b",
   "metadata": {},
   "outputs": [
    {
     "data": {
      "text/plain": [
       "True"
      ]
     },
     "execution_count": 86,
     "metadata": {},
     "output_type": "execute_result"
    }
   ],
   "source": [
    "string3.islower()"
   ]
  },
  {
   "cell_type": "code",
   "execution_count": 87,
   "id": "6b28cc10",
   "metadata": {},
   "outputs": [
    {
     "data": {
      "text/plain": [
       "False"
      ]
     },
     "execution_count": 87,
     "metadata": {},
     "output_type": "execute_result"
    }
   ],
   "source": [
    "string3.isupper()"
   ]
  },
  {
   "cell_type": "code",
   "execution_count": 88,
   "id": "a9ada39f",
   "metadata": {},
   "outputs": [
    {
     "data": {
      "text/plain": [
       "False"
      ]
     },
     "execution_count": 88,
     "metadata": {},
     "output_type": "execute_result"
    }
   ],
   "source": [
    "string3.isnumeric()"
   ]
  },
  {
   "cell_type": "code",
   "execution_count": 90,
   "id": "cbd7cb5b",
   "metadata": {},
   "outputs": [
    {
     "data": {
      "text/plain": [
       "True"
      ]
     },
     "execution_count": 90,
     "metadata": {},
     "output_type": "execute_result"
    }
   ],
   "source": [
    "string4.istitle()"
   ]
  },
  {
   "cell_type": "code",
   "execution_count": 91,
   "id": "4db6488b",
   "metadata": {},
   "outputs": [
    {
     "data": {
      "text/plain": [
       "False"
      ]
     },
     "execution_count": 91,
     "metadata": {},
     "output_type": "execute_result"
    }
   ],
   "source": [
    "string4.isupper()"
   ]
  },
  {
   "cell_type": "code",
   "execution_count": 92,
   "id": "9c37c615",
   "metadata": {},
   "outputs": [],
   "source": [
    "string5 = string3.upper()"
   ]
  },
  {
   "cell_type": "code",
   "execution_count": 93,
   "id": "ccae83a7",
   "metadata": {},
   "outputs": [
    {
     "data": {
      "text/plain": [
       "True"
      ]
     },
     "execution_count": 93,
     "metadata": {},
     "output_type": "execute_result"
    }
   ],
   "source": [
    "string5.isupper()"
   ]
  },
  {
   "cell_type": "markdown",
   "id": "46fcd8b2",
   "metadata": {},
   "source": [
    "# Numbers"
   ]
  },
  {
   "cell_type": "code",
   "execution_count": 94,
   "id": "1345aa10",
   "metadata": {},
   "outputs": [
    {
     "data": {
      "text/plain": [
       "3"
      ]
     },
     "execution_count": 94,
     "metadata": {},
     "output_type": "execute_result"
    }
   ],
   "source": [
    "7//2"
   ]
  },
  {
   "cell_type": "code",
   "execution_count": 95,
   "id": "ecbb57be",
   "metadata": {},
   "outputs": [
    {
     "data": {
      "text/plain": [
       "1"
      ]
     },
     "execution_count": 95,
     "metadata": {},
     "output_type": "execute_result"
    }
   ],
   "source": [
    "7%2"
   ]
  },
  {
   "cell_type": "code",
   "execution_count": 100,
   "id": "3a9493f5",
   "metadata": {},
   "outputs": [
    {
     "data": {
      "text/plain": [
       "False"
      ]
     },
     "execution_count": 100,
     "metadata": {},
     "output_type": "execute_result"
    }
   ],
   "source": [
    "bool([])"
   ]
  },
  {
   "cell_type": "code",
   "execution_count": 102,
   "id": "9804a936",
   "metadata": {},
   "outputs": [
    {
     "data": {
      "text/plain": [
       "False"
      ]
     },
     "execution_count": 102,
     "metadata": {},
     "output_type": "execute_result"
    }
   ],
   "source": [
    "bool({})"
   ]
  },
  {
   "cell_type": "code",
   "execution_count": 103,
   "id": "50574160",
   "metadata": {},
   "outputs": [
    {
     "data": {
      "text/plain": [
       "False"
      ]
     },
     "execution_count": 103,
     "metadata": {},
     "output_type": "execute_result"
    }
   ],
   "source": [
    "bool(None)"
   ]
  },
  {
   "cell_type": "code",
   "execution_count": 104,
   "id": "d97fb7db",
   "metadata": {},
   "outputs": [
    {
     "data": {
      "text/plain": [
       "False"
      ]
     },
     "execution_count": 104,
     "metadata": {},
     "output_type": "execute_result"
    }
   ],
   "source": [
    "bool(0)"
   ]
  },
  {
   "cell_type": "code",
   "execution_count": 105,
   "id": "147727c1",
   "metadata": {},
   "outputs": [
    {
     "data": {
      "text/plain": [
       "False"
      ]
     },
     "execution_count": 105,
     "metadata": {},
     "output_type": "execute_result"
    }
   ],
   "source": [
    "bool(0.0)"
   ]
  },
  {
   "cell_type": "markdown",
   "id": "8a6646be",
   "metadata": {},
   "source": [
    "# Boolean"
   ]
  },
  {
   "cell_type": "markdown",
   "id": "7ecacb23",
   "metadata": {},
   "source": [
    "# List"
   ]
  },
  {
   "cell_type": "code",
   "execution_count": 106,
   "id": "695a5444",
   "metadata": {},
   "outputs": [
    {
     "data": {
      "text/plain": [
       "list"
      ]
     },
     "execution_count": 106,
     "metadata": {},
     "output_type": "execute_result"
    }
   ],
   "source": [
    "list1 = []\n",
    "type(list1)"
   ]
  },
  {
   "cell_type": "code",
   "execution_count": 107,
   "id": "257c0d3f",
   "metadata": {},
   "outputs": [],
   "source": [
    "list1.append('Cisco')"
   ]
  },
  {
   "cell_type": "code",
   "execution_count": 108,
   "id": "9cd88161",
   "metadata": {},
   "outputs": [
    {
     "data": {
      "text/plain": [
       "['Cisco']"
      ]
     },
     "execution_count": 108,
     "metadata": {},
     "output_type": "execute_result"
    }
   ],
   "source": [
    "list1"
   ]
  },
  {
   "cell_type": "code",
   "execution_count": 109,
   "id": "4c97b3fc",
   "metadata": {},
   "outputs": [],
   "source": [
    "list1.append('Juniper')"
   ]
  },
  {
   "cell_type": "code",
   "execution_count": 110,
   "id": "af22e20a",
   "metadata": {},
   "outputs": [
    {
     "data": {
      "text/plain": [
       "['Cisco', 'Juniper']"
      ]
     },
     "execution_count": 110,
     "metadata": {},
     "output_type": "execute_result"
    }
   ],
   "source": [
    "list1"
   ]
  },
  {
   "cell_type": "code",
   "execution_count": 111,
   "id": "bf942dcf",
   "metadata": {},
   "outputs": [],
   "source": [
    "list1.append('Avaya')"
   ]
  },
  {
   "cell_type": "code",
   "execution_count": 112,
   "id": "dc82791e",
   "metadata": {},
   "outputs": [
    {
     "data": {
      "text/plain": [
       "['Cisco', 'Juniper', 'Avaya']"
      ]
     },
     "execution_count": 112,
     "metadata": {},
     "output_type": "execute_result"
    }
   ],
   "source": [
    "list1"
   ]
  },
  {
   "cell_type": "markdown",
   "id": "7826443e",
   "metadata": {},
   "source": [
    "###### List Methods"
   ]
  },
  {
   "cell_type": "code",
   "execution_count": 113,
   "id": "07d95c27",
   "metadata": {},
   "outputs": [],
   "source": [
    "list2 = [-11, 2, 12]"
   ]
  },
  {
   "cell_type": "code",
   "execution_count": 114,
   "id": "8db759d2",
   "metadata": {},
   "outputs": [
    {
     "data": {
      "text/plain": [
       "-11"
      ]
     },
     "execution_count": 114,
     "metadata": {},
     "output_type": "execute_result"
    }
   ],
   "source": [
    "min(list2)"
   ]
  },
  {
   "cell_type": "code",
   "execution_count": 115,
   "id": "f23e8077",
   "metadata": {},
   "outputs": [
    {
     "data": {
      "text/plain": [
       "12"
      ]
     },
     "execution_count": 115,
     "metadata": {},
     "output_type": "execute_result"
    }
   ],
   "source": [
    "max(list2)"
   ]
  },
  {
   "cell_type": "code",
   "execution_count": 116,
   "id": "7d4473ce",
   "metadata": {},
   "outputs": [],
   "source": [
    "list1.append(100)"
   ]
  },
  {
   "cell_type": "code",
   "execution_count": 117,
   "id": "de20f0b5",
   "metadata": {},
   "outputs": [
    {
     "data": {
      "text/plain": [
       "['Cisco', 'Juniper', 'Avaya', 100]"
      ]
     },
     "execution_count": 117,
     "metadata": {},
     "output_type": "execute_result"
    }
   ],
   "source": [
    "list1"
   ]
  },
  {
   "cell_type": "code",
   "execution_count": 118,
   "id": "b7f3c19d",
   "metadata": {},
   "outputs": [],
   "source": [
    "del list1[3]"
   ]
  },
  {
   "cell_type": "code",
   "execution_count": 119,
   "id": "01eff3cf",
   "metadata": {},
   "outputs": [
    {
     "data": {
      "text/plain": [
       "'Cisco'"
      ]
     },
     "execution_count": 119,
     "metadata": {},
     "output_type": "execute_result"
    }
   ],
   "source": [
    "list1.pop(0)"
   ]
  },
  {
   "cell_type": "code",
   "execution_count": 120,
   "id": "4dc25747",
   "metadata": {},
   "outputs": [
    {
     "data": {
      "text/plain": [
       "['Juniper', 'Avaya']"
      ]
     },
     "execution_count": 120,
     "metadata": {},
     "output_type": "execute_result"
    }
   ],
   "source": [
    "list1"
   ]
  },
  {
   "cell_type": "code",
   "execution_count": 121,
   "id": "13eaa6dd",
   "metadata": {},
   "outputs": [],
   "source": [
    "list1.remove('Juniper')"
   ]
  },
  {
   "cell_type": "code",
   "execution_count": 122,
   "id": "6bb20e99",
   "metadata": {},
   "outputs": [
    {
     "data": {
      "text/plain": [
       "['Avaya']"
      ]
     },
     "execution_count": 122,
     "metadata": {},
     "output_type": "execute_result"
    }
   ],
   "source": [
    "list1"
   ]
  },
  {
   "cell_type": "code",
   "execution_count": 126,
   "id": "fa881c80",
   "metadata": {},
   "outputs": [],
   "source": [
    "list1.insert(3, 'Nortel')"
   ]
  },
  {
   "cell_type": "code",
   "execution_count": 127,
   "id": "1dae9796",
   "metadata": {},
   "outputs": [
    {
     "data": {
      "text/plain": [
       "['Avaya', 'Nortel', 'Nortel']"
      ]
     },
     "execution_count": 127,
     "metadata": {},
     "output_type": "execute_result"
    }
   ],
   "source": [
    "list1"
   ]
  },
  {
   "cell_type": "code",
   "execution_count": 128,
   "id": "2a5e8ed2",
   "metadata": {},
   "outputs": [
    {
     "name": "stdout",
     "output_type": "stream",
     "text": [
      "Avaya\n",
      "Nortel\n",
      "Nortel\n"
     ]
    }
   ],
   "source": [
    "for item in list1:\n",
    "    print(item)"
   ]
  },
  {
   "cell_type": "code",
   "execution_count": 129,
   "id": "515da023",
   "metadata": {},
   "outputs": [
    {
     "data": {
      "text/plain": [
       "{'Avaya', 'Nortel'}"
      ]
     },
     "execution_count": 129,
     "metadata": {},
     "output_type": "execute_result"
    }
   ],
   "source": [
    "set(list1)"
   ]
  },
  {
   "cell_type": "code",
   "execution_count": 130,
   "id": "c64ea7da",
   "metadata": {},
   "outputs": [],
   "source": [
    "list2 = [9, 99, 999]"
   ]
  },
  {
   "cell_type": "code",
   "execution_count": 139,
   "id": "c82f6706",
   "metadata": {},
   "outputs": [],
   "source": [
    "list3 = list1.extend(list2)"
   ]
  },
  {
   "cell_type": "code",
   "execution_count": 140,
   "id": "eb04493b",
   "metadata": {},
   "outputs": [
    {
     "data": {
      "text/plain": [
       "['Avaya', 'Nortel', 'Nortel', 9, 99, 999, 9, 99, 999, 9, 99, 999, 9, 99, 999]"
      ]
     },
     "execution_count": 140,
     "metadata": {},
     "output_type": "execute_result"
    }
   ],
   "source": [
    "list1"
   ]
  },
  {
   "cell_type": "code",
   "execution_count": 141,
   "id": "2dab6666",
   "metadata": {},
   "outputs": [
    {
     "data": {
      "text/plain": [
       "['Avaya', 'Nortel', 'Nortel', 9, 99, 999, 9, 99, 999, 9, 99, 999, 9, 99, 999]"
      ]
     },
     "execution_count": 141,
     "metadata": {},
     "output_type": "execute_result"
    }
   ],
   "source": [
    "list1"
   ]
  },
  {
   "cell_type": "code",
   "execution_count": 142,
   "id": "82f7ac61",
   "metadata": {},
   "outputs": [],
   "source": [
    "list3"
   ]
  },
  {
   "cell_type": "code",
   "execution_count": 143,
   "id": "923ad477",
   "metadata": {},
   "outputs": [
    {
     "data": {
      "text/plain": [
       "4"
      ]
     },
     "execution_count": 143,
     "metadata": {},
     "output_type": "execute_result"
    }
   ],
   "source": [
    "list1.count(99)"
   ]
  },
  {
   "cell_type": "code",
   "execution_count": 145,
   "id": "30cf00b7",
   "metadata": {},
   "outputs": [],
   "source": [
    "list4 = [10, 20, 11, 66, 69, 99, 50, 49]"
   ]
  },
  {
   "cell_type": "code",
   "execution_count": 146,
   "id": "165d9c8c",
   "metadata": {},
   "outputs": [],
   "source": [
    "list4.sort()"
   ]
  },
  {
   "cell_type": "code",
   "execution_count": 147,
   "id": "1a0bf379",
   "metadata": {},
   "outputs": [
    {
     "data": {
      "text/plain": [
       "[10, 11, 20, 49, 50, 66, 69, 99]"
      ]
     },
     "execution_count": 147,
     "metadata": {},
     "output_type": "execute_result"
    }
   ],
   "source": [
    "list4"
   ]
  },
  {
   "cell_type": "code",
   "execution_count": 148,
   "id": "1c175dcf",
   "metadata": {},
   "outputs": [],
   "source": [
    "list4.reverse()"
   ]
  },
  {
   "cell_type": "code",
   "execution_count": 149,
   "id": "a288d270",
   "metadata": {},
   "outputs": [
    {
     "data": {
      "text/plain": [
       "[99, 69, 66, 50, 49, 20, 11, 10]"
      ]
     },
     "execution_count": 149,
     "metadata": {},
     "output_type": "execute_result"
    }
   ],
   "source": [
    "list4"
   ]
  },
  {
   "cell_type": "code",
   "execution_count": 150,
   "id": "f2ff1c45",
   "metadata": {},
   "outputs": [
    {
     "data": {
      "text/plain": [
       "[99, 69, 66, 50, 49, 20, 11, 10]"
      ]
     },
     "execution_count": 150,
     "metadata": {},
     "output_type": "execute_result"
    }
   ],
   "source": [
    "list4"
   ]
  },
  {
   "cell_type": "code",
   "execution_count": 155,
   "id": "44b17d64",
   "metadata": {},
   "outputs": [],
   "source": [
    "list4.reverse()"
   ]
  },
  {
   "cell_type": "code",
   "execution_count": 156,
   "id": "f438eb51",
   "metadata": {},
   "outputs": [
    {
     "data": {
      "text/plain": [
       "[10, 11, 20, 49, 50, 66, 69, 99]"
      ]
     },
     "execution_count": 156,
     "metadata": {},
     "output_type": "execute_result"
    }
   ],
   "source": [
    "list4"
   ]
  },
  {
   "cell_type": "code",
   "execution_count": 157,
   "id": "8abaa80a",
   "metadata": {},
   "outputs": [
    {
     "data": {
      "text/plain": [
       "[10, 11, 20, 49, 50, 66, 69, 99]"
      ]
     },
     "execution_count": 157,
     "metadata": {},
     "output_type": "execute_result"
    }
   ],
   "source": [
    "list4"
   ]
  },
  {
   "cell_type": "markdown",
   "id": "aa1fe7a3",
   "metadata": {},
   "source": [
    "###### List Slicing"
   ]
  },
  {
   "cell_type": "code",
   "execution_count": 158,
   "id": "25f878ea",
   "metadata": {},
   "outputs": [
    {
     "data": {
      "text/plain": [
       "[11, 20, 49, 50, 66]"
      ]
     },
     "execution_count": 158,
     "metadata": {},
     "output_type": "execute_result"
    }
   ],
   "source": [
    "list4[1:6]"
   ]
  },
  {
   "cell_type": "code",
   "execution_count": 159,
   "id": "700a6b4b",
   "metadata": {},
   "outputs": [
    {
     "data": {
      "text/plain": [
       "[49, 50, 66, 69, 99]"
      ]
     },
     "execution_count": 159,
     "metadata": {},
     "output_type": "execute_result"
    }
   ],
   "source": [
    "list4[3:]"
   ]
  },
  {
   "cell_type": "code",
   "execution_count": 161,
   "id": "eec601ad",
   "metadata": {},
   "outputs": [
    {
     "data": {
      "text/plain": [
       "[10, 11, 20, 49, 50, 66, 69, 99]"
      ]
     },
     "execution_count": 161,
     "metadata": {},
     "output_type": "execute_result"
    }
   ],
   "source": [
    "list4[:]"
   ]
  },
  {
   "cell_type": "code",
   "execution_count": 163,
   "id": "d1c0249c",
   "metadata": {},
   "outputs": [
    {
     "data": {
      "text/plain": [
       "[20, 49, 50, 66, 69]"
      ]
     },
     "execution_count": 163,
     "metadata": {},
     "output_type": "execute_result"
    }
   ],
   "source": [
    "list4[-6:-1]"
   ]
  },
  {
   "cell_type": "code",
   "execution_count": 164,
   "id": "75fbd19a",
   "metadata": {},
   "outputs": [
    {
     "data": {
      "text/plain": [
       "[66, 69, 99]"
      ]
     },
     "execution_count": 164,
     "metadata": {},
     "output_type": "execute_result"
    }
   ],
   "source": [
    "list4[-3:]"
   ]
  },
  {
   "cell_type": "code",
   "execution_count": 166,
   "id": "6d676b06",
   "metadata": {},
   "outputs": [
    {
     "data": {
      "text/plain": [
       "[10, 11, 20, 49, 50]"
      ]
     },
     "execution_count": 166,
     "metadata": {},
     "output_type": "execute_result"
    }
   ],
   "source": [
    "list4[:-3]"
   ]
  },
  {
   "cell_type": "code",
   "execution_count": 168,
   "id": "0e277aaf",
   "metadata": {},
   "outputs": [
    {
     "data": {
      "text/plain": [
       "[99, 69, 66, 50, 49, 20, 11, 10]"
      ]
     },
     "execution_count": 168,
     "metadata": {},
     "output_type": "execute_result"
    }
   ],
   "source": [
    "list4[::-1]"
   ]
  },
  {
   "cell_type": "markdown",
   "id": "5777e19a",
   "metadata": {},
   "source": [
    "# Sets"
   ]
  },
  {
   "cell_type": "code",
   "execution_count": 169,
   "id": "a0f9f9ce",
   "metadata": {},
   "outputs": [],
   "source": [
    "list4.append(66)"
   ]
  },
  {
   "cell_type": "code",
   "execution_count": 170,
   "id": "078f5654",
   "metadata": {},
   "outputs": [
    {
     "data": {
      "text/plain": [
       "[10, 11, 20, 49, 50, 66, 69, 99, 66]"
      ]
     },
     "execution_count": 170,
     "metadata": {},
     "output_type": "execute_result"
    }
   ],
   "source": [
    "list4"
   ]
  },
  {
   "cell_type": "code",
   "execution_count": 171,
   "id": "f6804db1",
   "metadata": {},
   "outputs": [
    {
     "data": {
      "text/plain": [
       "{10, 11, 20, 49, 50, 66, 69, 99}"
      ]
     },
     "execution_count": 171,
     "metadata": {},
     "output_type": "execute_result"
    }
   ],
   "source": [
    "set(list4)"
   ]
  },
  {
   "cell_type": "code",
   "execution_count": 174,
   "id": "ddcad927",
   "metadata": {},
   "outputs": [],
   "source": [
    "set2 = {11, 12, 13, 14, 15, 15, 11}"
   ]
  },
  {
   "cell_type": "code",
   "execution_count": 175,
   "id": "ff16666d",
   "metadata": {},
   "outputs": [
    {
     "data": {
      "text/plain": [
       "{11, 12, 13, 14, 15}"
      ]
     },
     "execution_count": 175,
     "metadata": {},
     "output_type": "execute_result"
    }
   ],
   "source": [
    "set2"
   ]
  },
  {
   "cell_type": "code",
   "execution_count": 177,
   "id": "2167c4c2",
   "metadata": {},
   "outputs": [],
   "source": [
    "set2.add(22)"
   ]
  },
  {
   "cell_type": "code",
   "execution_count": 178,
   "id": "119dcf7b",
   "metadata": {},
   "outputs": [
    {
     "data": {
      "text/plain": [
       "{11, 12, 13, 14, 15, 22}"
      ]
     },
     "execution_count": 178,
     "metadata": {},
     "output_type": "execute_result"
    }
   ],
   "source": [
    "set2"
   ]
  },
  {
   "cell_type": "code",
   "execution_count": null,
   "id": "24adfe68",
   "metadata": {},
   "outputs": [],
   "source": [
    "set2.remove"
   ]
  },
  {
   "cell_type": "code",
   "execution_count": null,
   "id": "38bd7d1e",
   "metadata": {},
   "outputs": [],
   "source": [
    "- difference()\n",
    "- add()\n",
    "- pop()\n",
    "- intersection()\n",
    "- union()"
   ]
  },
  {
   "cell_type": "markdown",
   "id": "20e60860",
   "metadata": {},
   "source": [
    "###### Frozensets"
   ]
  },
  {
   "cell_type": "markdown",
   "id": "940e105c",
   "metadata": {},
   "source": [
    "- Immutability"
   ]
  },
  {
   "cell_type": "code",
   "execution_count": 179,
   "id": "db3f5aca",
   "metadata": {},
   "outputs": [],
   "source": [
    "list1 = [1, 2, 3, 4]\n",
    "list2 = [3, 4, 7]"
   ]
  },
  {
   "cell_type": "code",
   "execution_count": 180,
   "id": "d3a07439",
   "metadata": {},
   "outputs": [],
   "source": [
    "fs1 = frozenset(list1)\n",
    "fs2 = frozenset(list2)"
   ]
  },
  {
   "cell_type": "code",
   "execution_count": 181,
   "id": "646f8547",
   "metadata": {},
   "outputs": [
    {
     "data": {
      "text/plain": [
       "frozenset({1, 2, 3, 4})"
      ]
     },
     "execution_count": 181,
     "metadata": {},
     "output_type": "execute_result"
    }
   ],
   "source": [
    "fs1"
   ]
  },
  {
   "cell_type": "code",
   "execution_count": 182,
   "id": "b4a47dfd",
   "metadata": {},
   "outputs": [
    {
     "data": {
      "text/plain": [
       "frozenset({3, 4, 7})"
      ]
     },
     "execution_count": 182,
     "metadata": {},
     "output_type": "execute_result"
    }
   ],
   "source": [
    "fs2"
   ]
  },
  {
   "cell_type": "code",
   "execution_count": 183,
   "id": "433c2fdc",
   "metadata": {},
   "outputs": [
    {
     "data": {
      "text/plain": [
       "frozenset"
      ]
     },
     "execution_count": 183,
     "metadata": {},
     "output_type": "execute_result"
    }
   ],
   "source": [
    "type(fs1)"
   ]
  },
  {
   "cell_type": "code",
   "execution_count": 185,
   "id": "152a74df",
   "metadata": {},
   "outputs": [],
   "source": [
    "fs3 = fs1.copy"
   ]
  },
  {
   "cell_type": "code",
   "execution_count": 186,
   "id": "1128b49a",
   "metadata": {},
   "outputs": [
    {
     "data": {
      "text/plain": [
       "<function frozenset.copy>"
      ]
     },
     "execution_count": 186,
     "metadata": {},
     "output_type": "execute_result"
    }
   ],
   "source": [
    "fs3"
   ]
  },
  {
   "cell_type": "markdown",
   "id": "11f5f735",
   "metadata": {},
   "source": [
    "# Tuples"
   ]
  },
  {
   "cell_type": "markdown",
   "id": "308d885b",
   "metadata": {},
   "source": [
    "- Immutable List"
   ]
  },
  {
   "cell_type": "code",
   "execution_count": 187,
   "id": "7d73f234",
   "metadata": {},
   "outputs": [
    {
     "data": {
      "text/plain": [
       "tuple"
      ]
     },
     "execution_count": 187,
     "metadata": {},
     "output_type": "execute_result"
    }
   ],
   "source": [
    "my_tuple = ()\n",
    "type(my_tuple)"
   ]
  },
  {
   "cell_type": "code",
   "execution_count": 188,
   "id": "a788d47b",
   "metadata": {},
   "outputs": [],
   "source": [
    "my_tuple = (2)"
   ]
  },
  {
   "cell_type": "code",
   "execution_count": 189,
   "id": "671359a4",
   "metadata": {},
   "outputs": [
    {
     "data": {
      "text/plain": [
       "int"
      ]
     },
     "execution_count": 189,
     "metadata": {},
     "output_type": "execute_result"
    }
   ],
   "source": [
    "type(my_tuple)"
   ]
  },
  {
   "cell_type": "code",
   "execution_count": 190,
   "id": "8efbdcbe",
   "metadata": {},
   "outputs": [],
   "source": [
    "my_tuple = (2,)"
   ]
  },
  {
   "cell_type": "code",
   "execution_count": 191,
   "id": "0cd78582",
   "metadata": {},
   "outputs": [
    {
     "data": {
      "text/plain": [
       "tuple"
      ]
     },
     "execution_count": 191,
     "metadata": {},
     "output_type": "execute_result"
    }
   ],
   "source": [
    "type(my_tuple)"
   ]
  },
  {
   "cell_type": "markdown",
   "id": "fd684357",
   "metadata": {},
   "source": [
    "- Tuples support indexting.\n",
    "- Slicing is possible with tuples."
   ]
  },
  {
   "cell_type": "markdown",
   "id": "c597af38",
   "metadata": {},
   "source": [
    "###### Tuple Packing and Unpacking"
   ]
  },
  {
   "cell_type": "code",
   "execution_count": 200,
   "id": "c0246d58",
   "metadata": {},
   "outputs": [],
   "source": [
    "tuple1 = ('Rajaram', 'Gautam', 'Texas', 76542)\n",
    "(First_Name, Last_Name, State, Zipcode) = tuple1 # Not a item in tuple in string data fromat\n"
   ]
  },
  {
   "cell_type": "code",
   "execution_count": 196,
   "id": "4472e03c",
   "metadata": {},
   "outputs": [
    {
     "data": {
      "text/plain": [
       "'Rajaram'"
      ]
     },
     "execution_count": 196,
     "metadata": {},
     "output_type": "execute_result"
    }
   ],
   "source": [
    "First_Name"
   ]
  },
  {
   "cell_type": "code",
   "execution_count": 197,
   "id": "5cd36379",
   "metadata": {},
   "outputs": [
    {
     "data": {
      "text/plain": [
       "'Gautam'"
      ]
     },
     "execution_count": 197,
     "metadata": {},
     "output_type": "execute_result"
    }
   ],
   "source": [
    "Last_Name"
   ]
  },
  {
   "cell_type": "code",
   "execution_count": 198,
   "id": "b225f4cc",
   "metadata": {},
   "outputs": [
    {
     "data": {
      "text/plain": [
       "'Texas'"
      ]
     },
     "execution_count": 198,
     "metadata": {},
     "output_type": "execute_result"
    }
   ],
   "source": [
    "State"
   ]
  },
  {
   "cell_type": "code",
   "execution_count": 199,
   "id": "2d1bc1c2",
   "metadata": {},
   "outputs": [
    {
     "data": {
      "text/plain": [
       "76542"
      ]
     },
     "execution_count": 199,
     "metadata": {},
     "output_type": "execute_result"
    }
   ],
   "source": [
    "Zipcode"
   ]
  },
  {
   "cell_type": "markdown",
   "id": "34b77b1b",
   "metadata": {},
   "source": [
    "### Tuples vs. Lists"
   ]
  },
  {
   "cell_type": "code",
   "execution_count": 201,
   "id": "51175cf8",
   "metadata": {},
   "outputs": [
    {
     "data": {
      "text/plain": [
       "4"
      ]
     },
     "execution_count": 201,
     "metadata": {},
     "output_type": "execute_result"
    }
   ],
   "source": [
    "len(tuple1)"
   ]
  },
  {
   "cell_type": "code",
   "execution_count": 210,
   "id": "ef817654",
   "metadata": {},
   "outputs": [],
   "source": [
    "tuple2 = (5, 6, 7, 2)"
   ]
  },
  {
   "cell_type": "code",
   "execution_count": 211,
   "id": "f4a62cab",
   "metadata": {},
   "outputs": [
    {
     "data": {
      "text/plain": [
       "2"
      ]
     },
     "execution_count": 211,
     "metadata": {},
     "output_type": "execute_result"
    }
   ],
   "source": [
    "min(tuple1)"
   ]
  },
  {
   "cell_type": "code",
   "execution_count": 212,
   "id": "127e8846",
   "metadata": {},
   "outputs": [
    {
     "data": {
      "text/plain": [
       "7"
      ]
     },
     "execution_count": 212,
     "metadata": {},
     "output_type": "execute_result"
    }
   ],
   "source": [
    "max(tuple2)"
   ]
  },
  {
   "cell_type": "code",
   "execution_count": 213,
   "id": "65a2fc03",
   "metadata": {},
   "outputs": [],
   "source": [
    "# concating tuple\n",
    "tuple3 = tuple2 + (8, 9, 10)"
   ]
  },
  {
   "cell_type": "code",
   "execution_count": 214,
   "id": "f70710fc",
   "metadata": {},
   "outputs": [
    {
     "data": {
      "text/plain": [
       "(5, 6, 7, 2, 8, 9, 10)"
      ]
     },
     "execution_count": 214,
     "metadata": {},
     "output_type": "execute_result"
    }
   ],
   "source": [
    "# Running Tuple\n",
    "tuple3"
   ]
  },
  {
   "cell_type": "code",
   "execution_count": 215,
   "id": "f0f91e45",
   "metadata": {},
   "outputs": [],
   "source": [
    "tuple4 = 2*tuple3"
   ]
  },
  {
   "cell_type": "code",
   "execution_count": 216,
   "id": "15561adc",
   "metadata": {},
   "outputs": [
    {
     "data": {
      "text/plain": [
       "(5, 6, 7, 2, 8, 9, 10, 5, 6, 7, 2, 8, 9, 10)"
      ]
     },
     "execution_count": 216,
     "metadata": {},
     "output_type": "execute_result"
    }
   ],
   "source": [
    "tuple4"
   ]
  },
  {
   "cell_type": "code",
   "execution_count": 220,
   "id": "14dccfb5",
   "metadata": {},
   "outputs": [
    {
     "data": {
      "text/plain": [
       "10"
      ]
     },
     "execution_count": 220,
     "metadata": {},
     "output_type": "execute_result"
    }
   ],
   "source": [
    "tuple4[-1]"
   ]
  },
  {
   "cell_type": "code",
   "execution_count": 222,
   "id": "d7b16aad",
   "metadata": {},
   "outputs": [
    {
     "data": {
      "text/plain": [
       "(8, 9, 10)"
      ]
     },
     "execution_count": 222,
     "metadata": {},
     "output_type": "execute_result"
    }
   ],
   "source": [
    "tuple4[-3:]"
   ]
  },
  {
   "cell_type": "markdown",
   "id": "779cde93",
   "metadata": {},
   "source": [
    "# Range"
   ]
  },
  {
   "cell_type": "code",
   "execution_count": 225,
   "id": "fa6d0baf",
   "metadata": {},
   "outputs": [
    {
     "name": "stdout",
     "output_type": "stream",
     "text": [
      "0\n",
      "1\n",
      "2\n",
      "3\n",
      "4\n",
      "5\n",
      "6\n",
      "7\n",
      "8\n",
      "9\n"
     ]
    }
   ],
   "source": [
    "for i in range(10):\n",
    "    print(i)"
   ]
  },
  {
   "cell_type": "code",
   "execution_count": 230,
   "id": "8570a330",
   "metadata": {},
   "outputs": [
    {
     "name": "stdout",
     "output_type": "stream",
     "text": [
      "1\n",
      "3\n",
      "5\n",
      "7\n",
      "9\n"
     ]
    }
   ],
   "source": [
    "for item in range(1, 10, 2):\n",
    "    print(item)"
   ]
  },
  {
   "cell_type": "code",
   "execution_count": 231,
   "id": "bb7611a8",
   "metadata": {},
   "outputs": [],
   "source": [
    "range1 = range(10)"
   ]
  },
  {
   "cell_type": "code",
   "execution_count": 233,
   "id": "12ea8327",
   "metadata": {},
   "outputs": [
    {
     "data": {
      "text/plain": [
       "[0, 1, 2, 3, 4, 5, 6, 7, 8, 9]"
      ]
     },
     "execution_count": 233,
     "metadata": {},
     "output_type": "execute_result"
    }
   ],
   "source": [
    "list(range1)"
   ]
  },
  {
   "cell_type": "code",
   "execution_count": 234,
   "id": "49cb4ba9",
   "metadata": {},
   "outputs": [
    {
     "data": {
      "text/plain": [
       "range"
      ]
     },
     "execution_count": 234,
     "metadata": {},
     "output_type": "execute_result"
    }
   ],
   "source": [
    "type(range1)"
   ]
  },
  {
   "cell_type": "code",
   "execution_count": 235,
   "id": "48f90e38",
   "metadata": {},
   "outputs": [
    {
     "data": {
      "text/plain": [
       "list"
      ]
     },
     "execution_count": 235,
     "metadata": {},
     "output_type": "execute_result"
    }
   ],
   "source": [
    "type(list(range1))"
   ]
  },
  {
   "cell_type": "code",
   "execution_count": 236,
   "id": "4da791f6",
   "metadata": {},
   "outputs": [
    {
     "data": {
      "text/plain": [
       "9"
      ]
     },
     "execution_count": 236,
     "metadata": {},
     "output_type": "execute_result"
    }
   ],
   "source": [
    "range1[-1]"
   ]
  },
  {
   "cell_type": "code",
   "execution_count": 238,
   "id": "d294b37e",
   "metadata": {},
   "outputs": [
    {
     "data": {
      "text/plain": [
       "[9, 8, 7, 6, 5, 4, 3, 2, 1, 0]"
      ]
     },
     "execution_count": 238,
     "metadata": {},
     "output_type": "execute_result"
    }
   ],
   "source": [
    "list(range1[::-1])"
   ]
  },
  {
   "cell_type": "code",
   "execution_count": 239,
   "id": "e672938f",
   "metadata": {},
   "outputs": [
    {
     "data": {
      "text/plain": [
       "False"
      ]
     },
     "execution_count": 239,
     "metadata": {},
     "output_type": "execute_result"
    }
   ],
   "source": [
    "11 in range1"
   ]
  },
  {
   "cell_type": "code",
   "execution_count": 240,
   "id": "adf5d1a2",
   "metadata": {},
   "outputs": [
    {
     "data": {
      "text/plain": [
       "True"
      ]
     },
     "execution_count": 240,
     "metadata": {},
     "output_type": "execute_result"
    }
   ],
   "source": [
    "7 in range1"
   ]
  },
  {
   "cell_type": "code",
   "execution_count": 241,
   "id": "e03aef46",
   "metadata": {},
   "outputs": [
    {
     "data": {
      "text/plain": [
       "4"
      ]
     },
     "execution_count": 241,
     "metadata": {},
     "output_type": "execute_result"
    }
   ],
   "source": [
    "range1[4]"
   ]
  },
  {
   "cell_type": "code",
   "execution_count": 242,
   "id": "735ee6f5",
   "metadata": {},
   "outputs": [
    {
     "data": {
      "text/plain": [
       "7"
      ]
     },
     "execution_count": 242,
     "metadata": {},
     "output_type": "execute_result"
    }
   ],
   "source": [
    "range1.index(7)"
   ]
  },
  {
   "cell_type": "markdown",
   "id": "d18802bb",
   "metadata": {},
   "source": [
    "- Slicing in range is not possible but we can convert it into list and do the slicing"
   ]
  },
  {
   "cell_type": "markdown",
   "id": "821ccece",
   "metadata": {},
   "source": [
    "# Dictionaries"
   ]
  },
  {
   "cell_type": "markdown",
   "id": "e7325587",
   "metadata": {},
   "source": [
    "- Mutables"
   ]
  },
  {
   "cell_type": "code",
   "execution_count": 243,
   "id": "79c86f57",
   "metadata": {},
   "outputs": [],
   "source": [
    "dict1 = {}"
   ]
  },
  {
   "cell_type": "code",
   "execution_count": 244,
   "id": "fc3d9314",
   "metadata": {},
   "outputs": [
    {
     "data": {
      "text/plain": [
       "dict"
      ]
     },
     "execution_count": 244,
     "metadata": {},
     "output_type": "execute_result"
    }
   ],
   "source": [
    "type(dict1)"
   ]
  },
  {
   "cell_type": "code",
   "execution_count": 245,
   "id": "d4f7a045",
   "metadata": {},
   "outputs": [],
   "source": [
    "dict1 = {'Vendor' : 'Cisco', 'Model': '2700', 'IOS' : '12.4', 'Ports': '4'}"
   ]
  },
  {
   "cell_type": "code",
   "execution_count": 246,
   "id": "14793d8a",
   "metadata": {},
   "outputs": [
    {
     "data": {
      "text/plain": [
       "{'Vendor': 'Cisco', 'Model': '2700', 'IOS': '12.4', 'Ports': '4'}"
      ]
     },
     "execution_count": 246,
     "metadata": {},
     "output_type": "execute_result"
    }
   ],
   "source": [
    "dict1"
   ]
  },
  {
   "cell_type": "markdown",
   "id": "dc6475cf",
   "metadata": {},
   "source": [
    "- Each key on the dictionaries must be unique and immutable type."
   ]
  },
  {
   "cell_type": "markdown",
   "id": "ed373e12",
   "metadata": {},
   "source": [
    "### Dictionaries Methods"
   ]
  },
  {
   "cell_type": "code",
   "execution_count": 247,
   "id": "67b45ace",
   "metadata": {},
   "outputs": [
    {
     "data": {
      "text/plain": [
       "'Cisco'"
      ]
     },
     "execution_count": 247,
     "metadata": {},
     "output_type": "execute_result"
    }
   ],
   "source": [
    "dict1['Vendor']"
   ]
  },
  {
   "cell_type": "code",
   "execution_count": 248,
   "id": "20c6d7af",
   "metadata": {},
   "outputs": [],
   "source": [
    "# adding a member to dictionaries\n",
    "dict1['RAM'] = '128'"
   ]
  },
  {
   "cell_type": "code",
   "execution_count": 249,
   "id": "607141b7",
   "metadata": {},
   "outputs": [
    {
     "data": {
      "text/plain": [
       "{'Vendor': 'Cisco', 'Model': '2700', 'IOS': '12.4', 'Ports': '4', 'RAM': '128'}"
      ]
     },
     "execution_count": 249,
     "metadata": {},
     "output_type": "execute_result"
    }
   ],
   "source": [
    "dict1"
   ]
  },
  {
   "cell_type": "code",
   "execution_count": 251,
   "id": "f42a1336",
   "metadata": {},
   "outputs": [],
   "source": [
    "# Updating a member to dictionaries\n",
    "dict1['IOS'] = '14.7'"
   ]
  },
  {
   "cell_type": "code",
   "execution_count": 252,
   "id": "45d54c48",
   "metadata": {},
   "outputs": [
    {
     "data": {
      "text/plain": [
       "{'Vendor': 'Cisco', 'Model': '2700', 'IOS': '14.7', 'Ports': '4', 'RAM': '128'}"
      ]
     },
     "execution_count": 252,
     "metadata": {},
     "output_type": "execute_result"
    }
   ],
   "source": [
    "dict1"
   ]
  },
  {
   "cell_type": "code",
   "execution_count": 253,
   "id": "cbf1e550",
   "metadata": {},
   "outputs": [],
   "source": [
    "del dict1['RAM']"
   ]
  },
  {
   "cell_type": "code",
   "execution_count": 254,
   "id": "dafe43b9",
   "metadata": {},
   "outputs": [
    {
     "data": {
      "text/plain": [
       "{'Vendor': 'Cisco', 'Model': '2700', 'IOS': '14.7', 'Ports': '4'}"
      ]
     },
     "execution_count": 254,
     "metadata": {},
     "output_type": "execute_result"
    }
   ],
   "source": [
    "dict1"
   ]
  },
  {
   "cell_type": "code",
   "execution_count": 255,
   "id": "105869ef",
   "metadata": {},
   "outputs": [
    {
     "data": {
      "text/plain": [
       "4"
      ]
     },
     "execution_count": 255,
     "metadata": {},
     "output_type": "execute_result"
    }
   ],
   "source": [
    "len(dict1)"
   ]
  },
  {
   "cell_type": "code",
   "execution_count": 257,
   "id": "c6522f29",
   "metadata": {},
   "outputs": [
    {
     "data": {
      "text/plain": [
       "False"
      ]
     },
     "execution_count": 257,
     "metadata": {},
     "output_type": "execute_result"
    }
   ],
   "source": [
    "\"vendor\" in dict1"
   ]
  },
  {
   "cell_type": "code",
   "execution_count": 258,
   "id": "ca93d48a",
   "metadata": {},
   "outputs": [
    {
     "data": {
      "text/plain": [
       "True"
      ]
     },
     "execution_count": 258,
     "metadata": {},
     "output_type": "execute_result"
    }
   ],
   "source": [
    "'Vendor' in dict1"
   ]
  },
  {
   "cell_type": "code",
   "execution_count": 259,
   "id": "606b46e3",
   "metadata": {},
   "outputs": [
    {
     "data": {
      "text/plain": [
       "False"
      ]
     },
     "execution_count": 259,
     "metadata": {},
     "output_type": "execute_result"
    }
   ],
   "source": [
    "'Cisco' in dict1"
   ]
  },
  {
   "cell_type": "code",
   "execution_count": 260,
   "id": "6ac3f89b",
   "metadata": {},
   "outputs": [
    {
     "data": {
      "text/plain": [
       "True"
      ]
     },
     "execution_count": 260,
     "metadata": {},
     "output_type": "execute_result"
    }
   ],
   "source": [
    "'Model' in dict1"
   ]
  },
  {
   "cell_type": "code",
   "execution_count": 262,
   "id": "f4b0db6f",
   "metadata": {},
   "outputs": [
    {
     "data": {
      "text/plain": [
       "dict_values(['Cisco', '2700', '14.7', '4'])"
      ]
     },
     "execution_count": 262,
     "metadata": {},
     "output_type": "execute_result"
    }
   ],
   "source": [
    "dict1.values()"
   ]
  },
  {
   "cell_type": "code",
   "execution_count": 263,
   "id": "8ddea609",
   "metadata": {},
   "outputs": [
    {
     "data": {
      "text/plain": [
       "dict_keys(['Vendor', 'Model', 'IOS', 'Ports'])"
      ]
     },
     "execution_count": 263,
     "metadata": {},
     "output_type": "execute_result"
    }
   ],
   "source": [
    "dict1.keys()"
   ]
  },
  {
   "cell_type": "code",
   "execution_count": 264,
   "id": "b36dfa59",
   "metadata": {},
   "outputs": [
    {
     "data": {
      "text/plain": [
       "dict_items([('Vendor', 'Cisco'), ('Model', '2700'), ('IOS', '14.7'), ('Ports', '4')])"
      ]
     },
     "execution_count": 264,
     "metadata": {},
     "output_type": "execute_result"
    }
   ],
   "source": [
    "dict1.items()"
   ]
  },
  {
   "cell_type": "markdown",
   "id": "ebf4c089",
   "metadata": {},
   "source": [
    "- Order is preserved in dictionaries in Python 3."
   ]
  },
  {
   "cell_type": "markdown",
   "id": "c3fb8512",
   "metadata": {},
   "source": [
    "# Conversion of Data Types"
   ]
  },
  {
   "cell_type": "code",
   "execution_count": 265,
   "id": "4b826a12",
   "metadata": {},
   "outputs": [],
   "source": [
    "# Converstion of string to float\n",
    "\n",
    "str1 = '49'\n",
    "float1 = float(str1)"
   ]
  },
  {
   "cell_type": "code",
   "execution_count": 266,
   "id": "8b087f45",
   "metadata": {},
   "outputs": [
    {
     "data": {
      "text/plain": [
       "float"
      ]
     },
     "execution_count": 266,
     "metadata": {},
     "output_type": "execute_result"
    }
   ],
   "source": [
    "type(float1)"
   ]
  },
  {
   "cell_type": "code",
   "execution_count": 267,
   "id": "ff43e704",
   "metadata": {},
   "outputs": [
    {
     "data": {
      "text/plain": [
       "str"
      ]
     },
     "execution_count": 267,
     "metadata": {},
     "output_type": "execute_result"
    }
   ],
   "source": [
    "type(str1)"
   ]
  },
  {
   "cell_type": "code",
   "execution_count": 272,
   "id": "c27a5c7a",
   "metadata": {},
   "outputs": [
    {
     "data": {
      "text/plain": [
       "49.0"
      ]
     },
     "execution_count": 272,
     "metadata": {},
     "output_type": "execute_result"
    }
   ],
   "source": [
    "float1"
   ]
  },
  {
   "cell_type": "code",
   "execution_count": 268,
   "id": "342fb190",
   "metadata": {},
   "outputs": [],
   "source": [
    "# Conversion of float to string\n",
    "float2 = 35.35\n",
    "str2 = str(float2)"
   ]
  },
  {
   "cell_type": "code",
   "execution_count": 269,
   "id": "9feafd5e",
   "metadata": {},
   "outputs": [
    {
     "data": {
      "text/plain": [
       "float"
      ]
     },
     "execution_count": 269,
     "metadata": {},
     "output_type": "execute_result"
    }
   ],
   "source": [
    "type(float2)"
   ]
  },
  {
   "cell_type": "code",
   "execution_count": 270,
   "id": "519d5b9b",
   "metadata": {},
   "outputs": [
    {
     "data": {
      "text/plain": [
       "str"
      ]
     },
     "execution_count": 270,
     "metadata": {},
     "output_type": "execute_result"
    }
   ],
   "source": [
    "type(str2)"
   ]
  },
  {
   "cell_type": "code",
   "execution_count": 273,
   "id": "c7b5bed5",
   "metadata": {},
   "outputs": [],
   "source": [
    "# Conversion of string to int\n",
    "str3 = '2500'\n",
    "int1 = int(str3)"
   ]
  },
  {
   "cell_type": "code",
   "execution_count": 274,
   "id": "9f2be06c",
   "metadata": {},
   "outputs": [
    {
     "data": {
      "text/plain": [
       "int"
      ]
     },
     "execution_count": 274,
     "metadata": {},
     "output_type": "execute_result"
    }
   ],
   "source": [
    "type(int1)"
   ]
  },
  {
   "cell_type": "code",
   "execution_count": 275,
   "id": "6aa398f0",
   "metadata": {},
   "outputs": [
    {
     "data": {
      "text/plain": [
       "2500"
      ]
     },
     "execution_count": 275,
     "metadata": {},
     "output_type": "execute_result"
    }
   ],
   "source": [
    "int1"
   ]
  },
  {
   "cell_type": "code",
   "execution_count": 276,
   "id": "a66dde6c",
   "metadata": {},
   "outputs": [],
   "source": [
    "# Conversion of tuple to list\n",
    "tuple1 = (1, 2, 3)\n",
    "list1 = list(tuple1)"
   ]
  },
  {
   "cell_type": "code",
   "execution_count": 277,
   "id": "e09fef5c",
   "metadata": {},
   "outputs": [
    {
     "data": {
      "text/plain": [
       "tuple"
      ]
     },
     "execution_count": 277,
     "metadata": {},
     "output_type": "execute_result"
    }
   ],
   "source": [
    "type(tuple1)"
   ]
  },
  {
   "cell_type": "code",
   "execution_count": 278,
   "id": "201c693e",
   "metadata": {},
   "outputs": [
    {
     "data": {
      "text/plain": [
       "list"
      ]
     },
     "execution_count": 278,
     "metadata": {},
     "output_type": "execute_result"
    }
   ],
   "source": [
    "type(list1)"
   ]
  },
  {
   "cell_type": "code",
   "execution_count": 279,
   "id": "39acd401",
   "metadata": {},
   "outputs": [
    {
     "data": {
      "text/plain": [
       "[1, 2, 3]"
      ]
     },
     "execution_count": 279,
     "metadata": {},
     "output_type": "execute_result"
    }
   ],
   "source": [
    "list1"
   ]
  },
  {
   "cell_type": "code",
   "execution_count": 280,
   "id": "dc53e449",
   "metadata": {},
   "outputs": [],
   "source": [
    "# Converstion of list into tuple\n",
    "list2 = [4, 5, 6]\n",
    "tuple2 = tuple(list2)"
   ]
  },
  {
   "cell_type": "code",
   "execution_count": 281,
   "id": "10076e50",
   "metadata": {},
   "outputs": [
    {
     "data": {
      "text/plain": [
       "tuple"
      ]
     },
     "execution_count": 281,
     "metadata": {},
     "output_type": "execute_result"
    }
   ],
   "source": [
    "type(list2)"
   ]
  },
  {
   "cell_type": "code",
   "execution_count": 282,
   "id": "e1782e69",
   "metadata": {},
   "outputs": [
    {
     "data": {
      "text/plain": [
       "tuple"
      ]
     },
     "execution_count": 282,
     "metadata": {},
     "output_type": "execute_result"
    }
   ],
   "source": [
    "type(tuple2)"
   ]
  },
  {
   "cell_type": "code",
   "execution_count": 283,
   "id": "cc8f74ed",
   "metadata": {},
   "outputs": [
    {
     "data": {
      "text/plain": [
       "(4, 5, 6)"
      ]
     },
     "execution_count": 283,
     "metadata": {},
     "output_type": "execute_result"
    }
   ],
   "source": [
    "tuple2"
   ]
  },
  {
   "cell_type": "code",
   "execution_count": 284,
   "id": "bbe49f7f",
   "metadata": {},
   "outputs": [],
   "source": [
    "# Converting list to set\n",
    "set2 = set(list2)"
   ]
  },
  {
   "cell_type": "code",
   "execution_count": 285,
   "id": "7283286e",
   "metadata": {},
   "outputs": [
    {
     "data": {
      "text/plain": [
       "set"
      ]
     },
     "execution_count": 285,
     "metadata": {},
     "output_type": "execute_result"
    }
   ],
   "source": [
    "type(set2)"
   ]
  },
  {
   "cell_type": "code",
   "execution_count": 286,
   "id": "82d2714d",
   "metadata": {},
   "outputs": [
    {
     "data": {
      "text/plain": [
       "{4, 5, 6}"
      ]
     },
     "execution_count": 286,
     "metadata": {},
     "output_type": "execute_result"
    }
   ],
   "source": [
    "set2"
   ]
  },
  {
   "cell_type": "code",
   "execution_count": 287,
   "id": "8fbdb6fb",
   "metadata": {},
   "outputs": [],
   "source": [
    "# Conversion of decimal to binary\n",
    "num = 10\n",
    "num_bin = bin(num)"
   ]
  },
  {
   "cell_type": "code",
   "execution_count": 288,
   "id": "77720a3c",
   "metadata": {},
   "outputs": [
    {
     "data": {
      "text/plain": [
       "str"
      ]
     },
     "execution_count": 288,
     "metadata": {},
     "output_type": "execute_result"
    }
   ],
   "source": [
    "type(num_bin)"
   ]
  },
  {
   "cell_type": "code",
   "execution_count": 289,
   "id": "7a81dafc",
   "metadata": {},
   "outputs": [
    {
     "data": {
      "text/plain": [
       "'0b1010'"
      ]
     },
     "execution_count": 289,
     "metadata": {},
     "output_type": "execute_result"
    }
   ],
   "source": [
    "num_bin"
   ]
  },
  {
   "cell_type": "code",
   "execution_count": 290,
   "id": "182a0581",
   "metadata": {},
   "outputs": [],
   "source": [
    "num_hex = hex(num)"
   ]
  },
  {
   "cell_type": "code",
   "execution_count": 291,
   "id": "ce2bf77c",
   "metadata": {},
   "outputs": [
    {
     "data": {
      "text/plain": [
       "'0xa'"
      ]
     },
     "execution_count": 291,
     "metadata": {},
     "output_type": "execute_result"
    }
   ],
   "source": [
    "num_hex"
   ]
  },
  {
   "cell_type": "code",
   "execution_count": 293,
   "id": "e7da3ff1",
   "metadata": {},
   "outputs": [],
   "source": [
    "bin_to_num = int(num_bin, 2)"
   ]
  },
  {
   "cell_type": "code",
   "execution_count": 294,
   "id": "1fe2438a",
   "metadata": {},
   "outputs": [
    {
     "data": {
      "text/plain": [
       "10"
      ]
     },
     "execution_count": 294,
     "metadata": {},
     "output_type": "execute_result"
    }
   ],
   "source": [
    "bin_to_num"
   ]
  },
  {
   "cell_type": "code",
   "execution_count": 295,
   "id": "943adb5a",
   "metadata": {},
   "outputs": [],
   "source": [
    "hex_to_num = int(num_hex, 16)"
   ]
  },
  {
   "cell_type": "code",
   "execution_count": 296,
   "id": "d4070a62",
   "metadata": {},
   "outputs": [
    {
     "data": {
      "text/plain": [
       "int"
      ]
     },
     "execution_count": 296,
     "metadata": {},
     "output_type": "execute_result"
    }
   ],
   "source": [
    "type(hex_to_num)"
   ]
  },
  {
   "cell_type": "code",
   "execution_count": 297,
   "id": "23b29668",
   "metadata": {},
   "outputs": [
    {
     "data": {
      "text/plain": [
       "10"
      ]
     },
     "execution_count": 297,
     "metadata": {},
     "output_type": "execute_result"
    }
   ],
   "source": [
    "hex_to_num"
   ]
  },
  {
   "cell_type": "code",
   "execution_count": null,
   "id": "714f15b5",
   "metadata": {},
   "outputs": [],
   "source": []
  }
 ],
 "metadata": {
  "kernelspec": {
   "display_name": "Python 3 (ipykernel)",
   "language": "python",
   "name": "python3"
  },
  "language_info": {
   "codemirror_mode": {
    "name": "ipython",
    "version": 3
   },
   "file_extension": ".py",
   "mimetype": "text/x-python",
   "name": "python",
   "nbconvert_exporter": "python",
   "pygments_lexer": "ipython3",
   "version": "3.8.8"
  }
 },
 "nbformat": 4,
 "nbformat_minor": 5
}
