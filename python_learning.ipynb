{
 "cells": [
  {
   "cell_type": "markdown",
   "id": "d5412d90",
   "metadata": {},
   "source": [
    "# Date 05/02/2022"
   ]
  },
  {
   "cell_type": "code",
   "execution_count": 1,
   "id": "9a10bf14",
   "metadata": {},
   "outputs": [
    {
     "name": "stdout",
     "output_type": "stream",
     "text": [
      "Hello Python\n"
     ]
    }
   ],
   "source": [
    "print('Hello Python')"
   ]
  },
  {
   "cell_type": "code",
   "execution_count": 2,
   "id": "e85be957",
   "metadata": {},
   "outputs": [
    {
     "name": "stdout",
     "output_type": "stream",
     "text": [
      "I am already writing code and enjoying this course!\n"
     ]
    }
   ],
   "source": [
    "print('I am already writing code and enjoying this course!')"
   ]
  },
  {
   "cell_type": "code",
   "execution_count": 3,
   "id": "a1d86ad2",
   "metadata": {},
   "outputs": [
    {
     "name": "stdout",
     "output_type": "stream",
     "text": [
      "What do you want for lunch? : Roti\n",
      "Your Roti is ready.\n"
     ]
    }
   ],
   "source": [
    "lunch = input('What do you want for lunch? : ')\n",
    "lunch\n",
    "print(f\"Your \" + lunch + \" is ready.\")"
   ]
  },
  {
   "cell_type": "markdown",
   "id": "8c61fa11",
   "metadata": {},
   "source": [
    "### Varaiable\n",
    "- Variables should always start with lettes usually lower case.\n",
    "- It should never start with number or any other symbol.\n",
    "- No spaces or special characters in variable names\n",
    "- Names are case sensitive and python in over all is case sensitive language.\n",
    "- Reasonable name length\n",
    "- Get away from python reserve words\n"
   ]
  },
  {
   "cell_type": "code",
   "execution_count": 4,
   "id": "000ae93d",
   "metadata": {},
   "outputs": [],
   "source": [
    "a = b = c = 10"
   ]
  },
  {
   "cell_type": "code",
   "execution_count": 5,
   "id": "9c67cb26",
   "metadata": {},
   "outputs": [
    {
     "data": {
      "text/plain": [
       "4346456704"
      ]
     },
     "execution_count": 5,
     "metadata": {},
     "output_type": "execute_result"
    }
   ],
   "source": [
    "id(a)"
   ]
  },
  {
   "cell_type": "code",
   "execution_count": 6,
   "id": "884580dc",
   "metadata": {},
   "outputs": [
    {
     "data": {
      "text/plain": [
       "4346456704"
      ]
     },
     "execution_count": 6,
     "metadata": {},
     "output_type": "execute_result"
    }
   ],
   "source": [
    "id(b)"
   ]
  },
  {
   "cell_type": "code",
   "execution_count": 7,
   "id": "9d746802",
   "metadata": {},
   "outputs": [
    {
     "data": {
      "text/plain": [
       "4346456704"
      ]
     },
     "execution_count": 7,
     "metadata": {},
     "output_type": "execute_result"
    }
   ],
   "source": [
    "id(c)"
   ]
  },
  {
   "cell_type": "code",
   "execution_count": 8,
   "id": "92699f41",
   "metadata": {},
   "outputs": [],
   "source": [
    "d, e , f = 5, 6, 7"
   ]
  },
  {
   "cell_type": "code",
   "execution_count": 9,
   "id": "8deaa35e",
   "metadata": {},
   "outputs": [
    {
     "data": {
      "text/plain": [
       "5"
      ]
     },
     "execution_count": 9,
     "metadata": {},
     "output_type": "execute_result"
    }
   ],
   "source": [
    "d"
   ]
  },
  {
   "cell_type": "code",
   "execution_count": 10,
   "id": "c396ec91",
   "metadata": {},
   "outputs": [
    {
     "data": {
      "text/plain": [
       "6"
      ]
     },
     "execution_count": 10,
     "metadata": {},
     "output_type": "execute_result"
    }
   ],
   "source": [
    "e"
   ]
  },
  {
   "cell_type": "code",
   "execution_count": 11,
   "id": "bcf58f79",
   "metadata": {},
   "outputs": [
    {
     "data": {
      "text/plain": [
       "7"
      ]
     },
     "execution_count": 11,
     "metadata": {},
     "output_type": "execute_result"
    }
   ],
   "source": [
    "f"
   ]
  },
  {
   "cell_type": "code",
   "execution_count": 12,
   "id": "45233e9a",
   "metadata": {},
   "outputs": [
    {
     "name": "stdout",
     "output_type": "stream",
     "text": [
      "4346456576\n"
     ]
    }
   ],
   "source": [
    "print(id(e))"
   ]
  },
  {
   "cell_type": "code",
   "execution_count": 13,
   "id": "09b14e60",
   "metadata": {},
   "outputs": [
    {
     "name": "stdout",
     "output_type": "stream",
     "text": [
      "4346456608\n"
     ]
    }
   ],
   "source": [
    "print(id(f))"
   ]
  },
  {
   "cell_type": "markdown",
   "id": "52a610d5",
   "metadata": {},
   "source": [
    "# Data Types"
   ]
  },
  {
   "cell_type": "markdown",
   "id": "76631a98",
   "metadata": {},
   "source": [
    "- strings\n",
    "- numbers\n",
    "- boolean\n",
    "- lists\n",
    "- sets\n",
    "- frozensets\n",
    "- tuples\n",
    "- ranges\n",
    "- dictionaries\n",
    "- None"
   ]
  },
  {
   "cell_type": "markdown",
   "id": "20bfa603",
   "metadata": {},
   "source": [
    "- Mutuability (lists, sets, dictionaries)\n",
    "- Immutuability"
   ]
  },
  {
   "cell_type": "code",
   "execution_count": 14,
   "id": "310aa49b",
   "metadata": {},
   "outputs": [
    {
     "name": "stdout",
     "output_type": "stream",
     "text": [
      "18\n",
      "19\n",
      "20\n",
      "21\n",
      "22\n",
      "23\n",
      "24\n",
      "25\n",
      "26\n",
      "27\n",
      "28\n",
      "29\n",
      "30\n",
      "31\n",
      "32\n",
      "33\n",
      "34\n",
      "35\n",
      "36\n",
      "37\n",
      "38\n",
      "39\n",
      "40\n",
      "41\n",
      "42\n",
      "43\n",
      "44\n",
      "45\n",
      "46\n",
      "47\n",
      "48\n",
      "49\n",
      "50\n",
      "51\n",
      "52\n",
      "53\n",
      "54\n",
      "55\n",
      "56\n",
      "57\n",
      "58\n",
      "59\n",
      "60\n",
      "61\n",
      "62\n",
      "63\n",
      "64\n",
      "65\n",
      "66\n",
      "67\n",
      "68\n",
      "69\n",
      "70\n",
      "71\n",
      "72\n",
      "73\n",
      "74\n",
      "75\n",
      "76\n",
      "77\n",
      "78\n",
      "79\n",
      "80\n",
      "81\n",
      "82\n",
      "83\n",
      "84\n",
      "85\n",
      "86\n",
      "87\n",
      "88\n",
      "89\n",
      "90\n",
      "91\n",
      "92\n",
      "93\n",
      "94\n",
      "95\n",
      "96\n",
      "97\n",
      "98\n",
      "99\n",
      "100\n",
      "101\n",
      "102\n",
      "103\n",
      "104\n",
      "105\n",
      "106\n",
      "107\n",
      "108\n",
      "109\n",
      "110\n",
      "111\n",
      "112\n",
      "113\n",
      "114\n",
      "115\n",
      "116\n",
      "117\n",
      "118\n",
      "119\n",
      "120\n",
      "121\n",
      "122\n",
      "123\n",
      "124\n",
      "125\n",
      "126\n",
      "127\n",
      "128\n",
      "129\n",
      "130\n",
      "131\n",
      "132\n",
      "133\n",
      "134\n",
      "135\n",
      "136\n",
      "137\n",
      "138\n",
      "139\n",
      "140\n",
      "141\n",
      "142\n",
      "143\n",
      "144\n",
      "145\n",
      "146\n",
      "147\n",
      "148\n",
      "149\n"
     ]
    }
   ],
   "source": [
    "voter_age = range(18, 150)\n",
    "for item in voter_age:\n",
    "    print(item)"
   ]
  },
  {
   "cell_type": "markdown",
   "id": "820a4465",
   "metadata": {},
   "source": [
    "### Strings"
   ]
  },
  {
   "cell_type": "code",
   "execution_count": 15,
   "id": "3277473b",
   "metadata": {},
   "outputs": [
    {
     "data": {
      "text/plain": [
       "'This is my first string'"
      ]
     },
     "execution_count": 15,
     "metadata": {},
     "output_type": "execute_result"
    }
   ],
   "source": [
    "my_string = 'This is my first string'\n",
    "my_string"
   ]
  },
  {
   "cell_type": "markdown",
   "id": "b4c149a7",
   "metadata": {},
   "source": [
    "###### \\ escaping characters"
   ]
  },
  {
   "cell_type": "code",
   "execution_count": 16,
   "id": "b88ba3c8",
   "metadata": {},
   "outputs": [],
   "source": [
    "string = 'Cisco Router'"
   ]
  },
  {
   "cell_type": "code",
   "execution_count": 17,
   "id": "fcd1cea1",
   "metadata": {},
   "outputs": [
    {
     "data": {
      "text/plain": [
       "'Cisco'"
      ]
     },
     "execution_count": 17,
     "metadata": {},
     "output_type": "execute_result"
    }
   ],
   "source": [
    "string[0:5]"
   ]
  },
  {
   "cell_type": "code",
   "execution_count": 18,
   "id": "ab8809cf",
   "metadata": {},
   "outputs": [
    {
     "data": {
      "text/plain": [
       "12"
      ]
     },
     "execution_count": 18,
     "metadata": {},
     "output_type": "execute_result"
    }
   ],
   "source": [
    "len(string)"
   ]
  },
  {
   "cell_type": "markdown",
   "id": "bc602ae7",
   "metadata": {},
   "source": [
    "###### Methods of String"
   ]
  },
  {
   "cell_type": "code",
   "execution_count": 19,
   "id": "3f775350",
   "metadata": {},
   "outputs": [],
   "source": [
    "a = 'Cisco Switch'"
   ]
  },
  {
   "cell_type": "code",
   "execution_count": 20,
   "id": "7a87d7b1",
   "metadata": {},
   "outputs": [
    {
     "data": {
      "text/plain": [
       "0"
      ]
     },
     "execution_count": 20,
     "metadata": {},
     "output_type": "execute_result"
    }
   ],
   "source": [
    "a.index('C')"
   ]
  },
  {
   "cell_type": "code",
   "execution_count": 21,
   "id": "e84e8538",
   "metadata": {},
   "outputs": [
    {
     "data": {
      "text/plain": [
       "2"
      ]
     },
     "execution_count": 21,
     "metadata": {},
     "output_type": "execute_result"
    }
   ],
   "source": [
    "a.count('i')"
   ]
  },
  {
   "cell_type": "code",
   "execution_count": 22,
   "id": "c9dd65dc",
   "metadata": {},
   "outputs": [
    {
     "data": {
      "text/plain": [
       "7"
      ]
     },
     "execution_count": 22,
     "metadata": {},
     "output_type": "execute_result"
    }
   ],
   "source": [
    "a.find('w')"
   ]
  },
  {
   "cell_type": "code",
   "execution_count": 23,
   "id": "11f34143",
   "metadata": {},
   "outputs": [
    {
     "data": {
      "text/plain": [
       "-1"
      ]
     },
     "execution_count": 23,
     "metadata": {},
     "output_type": "execute_result"
    }
   ],
   "source": [
    "a.find('abc')"
   ]
  },
  {
   "cell_type": "code",
   "execution_count": 24,
   "id": "e7398717",
   "metadata": {},
   "outputs": [
    {
     "data": {
      "text/plain": [
       "'cisco switch'"
      ]
     },
     "execution_count": 24,
     "metadata": {},
     "output_type": "execute_result"
    }
   ],
   "source": [
    "a.lower()"
   ]
  },
  {
   "cell_type": "code",
   "execution_count": 25,
   "id": "fa63b0c7",
   "metadata": {},
   "outputs": [
    {
     "data": {
      "text/plain": [
       "'CISCO SWITCH'"
      ]
     },
     "execution_count": 25,
     "metadata": {},
     "output_type": "execute_result"
    }
   ],
   "source": [
    "a.upper()"
   ]
  },
  {
   "cell_type": "code",
   "execution_count": 26,
   "id": "e76d2c18",
   "metadata": {},
   "outputs": [
    {
     "data": {
      "text/plain": [
       "True"
      ]
     },
     "execution_count": 26,
     "metadata": {},
     "output_type": "execute_result"
    }
   ],
   "source": [
    "a.startswith('C')"
   ]
  },
  {
   "cell_type": "code",
   "execution_count": 27,
   "id": "836ed39c",
   "metadata": {},
   "outputs": [
    {
     "data": {
      "text/plain": [
       "False"
      ]
     },
     "execution_count": 27,
     "metadata": {},
     "output_type": "execute_result"
    }
   ],
   "source": [
    "a.endswith('c')"
   ]
  },
  {
   "cell_type": "code",
   "execution_count": 28,
   "id": "9cb05886",
   "metadata": {},
   "outputs": [],
   "source": [
    "b = '    Cisco Switch   '"
   ]
  },
  {
   "cell_type": "code",
   "execution_count": 29,
   "id": "21dfe6f5",
   "metadata": {},
   "outputs": [
    {
     "data": {
      "text/plain": [
       "'Cisco Switch'"
      ]
     },
     "execution_count": 29,
     "metadata": {},
     "output_type": "execute_result"
    }
   ],
   "source": [
    "b.strip()"
   ]
  },
  {
   "cell_type": "code",
   "execution_count": 30,
   "id": "85f2882b",
   "metadata": {},
   "outputs": [],
   "source": [
    "c = \"$$$Cisco Switch$$$\""
   ]
  },
  {
   "cell_type": "code",
   "execution_count": 31,
   "id": "c52d2439",
   "metadata": {},
   "outputs": [
    {
     "data": {
      "text/plain": [
       "'Cisco Switch'"
      ]
     },
     "execution_count": 31,
     "metadata": {},
     "output_type": "execute_result"
    }
   ],
   "source": [
    "c.strip('$')"
   ]
  },
  {
   "cell_type": "code",
   "execution_count": 32,
   "id": "228b3261",
   "metadata": {},
   "outputs": [],
   "source": [
    "d = '    Cisco Switch   '"
   ]
  },
  {
   "cell_type": "code",
   "execution_count": 33,
   "id": "d88a9bf5",
   "metadata": {},
   "outputs": [
    {
     "data": {
      "text/plain": [
       "'CiscoSwitch'"
      ]
     },
     "execution_count": 33,
     "metadata": {},
     "output_type": "execute_result"
    }
   ],
   "source": [
    "d.replace(' ', '')"
   ]
  },
  {
   "cell_type": "code",
   "execution_count": 34,
   "id": "5105e89a",
   "metadata": {},
   "outputs": [],
   "source": [
    "e = 'Cisco, Juniper, HP, Avaya, Nortel'"
   ]
  },
  {
   "cell_type": "code",
   "execution_count": 35,
   "id": "37fffd9e",
   "metadata": {},
   "outputs": [
    {
     "data": {
      "text/plain": [
       "['Cisco', ' Juniper', ' HP', ' Avaya', ' Nortel']"
      ]
     },
     "execution_count": 35,
     "metadata": {},
     "output_type": "execute_result"
    }
   ],
   "source": [
    "e.split(',')"
   ]
  },
  {
   "cell_type": "code",
   "execution_count": 36,
   "id": "e1ec0957",
   "metadata": {},
   "outputs": [
    {
     "data": {
      "text/plain": [
       "'C_i_s_c_o_ _S_w_i_t_c_h'"
      ]
     },
     "execution_count": 36,
     "metadata": {},
     "output_type": "execute_result"
    }
   ],
   "source": [
    "'_'.join(a)"
   ]
  },
  {
   "cell_type": "markdown",
   "id": "5e9f3504",
   "metadata": {},
   "source": [
    "###### Operators & Formatting"
   ]
  },
  {
   "cell_type": "code",
   "execution_count": 37,
   "id": "e5ba85cb",
   "metadata": {},
   "outputs": [
    {
     "data": {
      "text/plain": [
       "'CiscoSwitch'"
      ]
     },
     "execution_count": 37,
     "metadata": {},
     "output_type": "execute_result"
    }
   ],
   "source": [
    "x = 'Cisco'\n",
    "y = 'Switch'\n",
    "x+y"
   ]
  },
  {
   "cell_type": "code",
   "execution_count": 38,
   "id": "a479ad7d",
   "metadata": {},
   "outputs": [
    {
     "data": {
      "text/plain": [
       "'CiscoCiscoCisco'"
      ]
     },
     "execution_count": 38,
     "metadata": {},
     "output_type": "execute_result"
    }
   ],
   "source": [
    "3 * x"
   ]
  },
  {
   "cell_type": "code",
   "execution_count": 39,
   "id": "19b02a88",
   "metadata": {},
   "outputs": [
    {
     "data": {
      "text/plain": [
       "'Cisco model: 2600XM, 2 WAN slots, IOS 12.400000'"
      ]
     },
     "execution_count": 39,
     "metadata": {},
     "output_type": "execute_result"
    }
   ],
   "source": [
    "'Cisco model: %s, %d WAN slots, IOS %f' %('2600XM', 2, 12.4)"
   ]
  },
  {
   "cell_type": "code",
   "execution_count": 40,
   "id": "f533ca58",
   "metadata": {},
   "outputs": [
    {
     "data": {
      "text/plain": [
       "'Cisco model: 2600XM, 2 WAN slots, IOS 12.4'"
      ]
     },
     "execution_count": 40,
     "metadata": {},
     "output_type": "execute_result"
    }
   ],
   "source": [
    "'Cisco model: %s, %d WAN slots, IOS %.1f' %('2600XM', 2, 12.4)"
   ]
  },
  {
   "cell_type": "code",
   "execution_count": 41,
   "id": "cb248d60",
   "metadata": {},
   "outputs": [
    {
     "data": {
      "text/plain": [
       "'Cisco model: 2600XM, 2 WAN slots, IOS 12.40'"
      ]
     },
     "execution_count": 41,
     "metadata": {},
     "output_type": "execute_result"
    }
   ],
   "source": [
    "'Cisco model: %s, %d WAN slots, IOS %.2f' %('2600XM', 2, 12.4)"
   ]
  },
  {
   "cell_type": "code",
   "execution_count": 42,
   "id": "143604f6",
   "metadata": {},
   "outputs": [
    {
     "data": {
      "text/plain": [
       "'Cisco model: 2600XM, 2 WAN slots, IOS 12.4'"
      ]
     },
     "execution_count": 42,
     "metadata": {},
     "output_type": "execute_result"
    }
   ],
   "source": [
    "'Cisco model: {}, {} WAN slots, IOS {}' .format ('2600XM', 2, 12.4)"
   ]
  },
  {
   "cell_type": "markdown",
   "id": "1fc699d4",
   "metadata": {},
   "source": [
    "###### f-stings"
   ]
  },
  {
   "cell_type": "code",
   "execution_count": 43,
   "id": "95cbf780",
   "metadata": {},
   "outputs": [],
   "source": [
    "model = '2600 X M' \n",
    "slots = 4  \n",
    "ios = 12.3"
   ]
  },
  {
   "cell_type": "code",
   "execution_count": 44,
   "id": "cfb3b97f",
   "metadata": {},
   "outputs": [
    {
     "data": {
      "text/plain": [
       "'Cisco model: 2600 X M, 4 WAN slots, IOS 12.3'"
      ]
     },
     "execution_count": 44,
     "metadata": {},
     "output_type": "execute_result"
    }
   ],
   "source": [
    "f'Cisco model: {model}, {slots} WAN slots, IOS {ios}'"
   ]
  },
  {
   "cell_type": "code",
   "execution_count": 45,
   "id": "203e7f5d",
   "metadata": {},
   "outputs": [
    {
     "data": {
      "text/plain": [
       "'Cisco model: 2600 x m, 8 WAN slots, IOS 12.3'"
      ]
     },
     "execution_count": 45,
     "metadata": {},
     "output_type": "execute_result"
    }
   ],
   "source": [
    "f'Cisco model: {model.lower()}, {slots * 2} WAN slots, IOS {ios}'"
   ]
  },
  {
   "cell_type": "code",
   "execution_count": 46,
   "id": "28164a66",
   "metadata": {},
   "outputs": [],
   "source": [
    "string1 = 'Hello, wea are home.'"
   ]
  },
  {
   "cell_type": "code",
   "execution_count": 47,
   "id": "ec64b546",
   "metadata": {},
   "outputs": [
    {
     "data": {
      "text/plain": [
       "'home.'"
      ]
     },
     "execution_count": 47,
     "metadata": {},
     "output_type": "execute_result"
    }
   ],
   "source": [
    "string1[-5:]"
   ]
  },
  {
   "cell_type": "code",
   "execution_count": 48,
   "id": "bde4e560",
   "metadata": {},
   "outputs": [
    {
     "data": {
      "text/plain": [
       "'home'"
      ]
     },
     "execution_count": 48,
     "metadata": {},
     "output_type": "execute_result"
    }
   ],
   "source": [
    "string1[-5:-1]"
   ]
  },
  {
   "cell_type": "code",
   "execution_count": 49,
   "id": "23905ca3",
   "metadata": {},
   "outputs": [
    {
     "data": {
      "text/plain": [
       "'Hello'"
      ]
     },
     "execution_count": 49,
     "metadata": {},
     "output_type": "execute_result"
    }
   ],
   "source": [
    "string1[0:5]"
   ]
  },
  {
   "cell_type": "code",
   "execution_count": 50,
   "id": "416071e1",
   "metadata": {},
   "outputs": [
    {
     "data": {
      "text/plain": [
       "'Hlo e r oe'"
      ]
     },
     "execution_count": 50,
     "metadata": {},
     "output_type": "execute_result"
    }
   ],
   "source": [
    "string1[::2]"
   ]
  },
  {
   "cell_type": "code",
   "execution_count": 51,
   "id": "6cddb414",
   "metadata": {},
   "outputs": [
    {
     "data": {
      "text/plain": [
       "'.emoh era aew ,olleH'"
      ]
     },
     "execution_count": 51,
     "metadata": {},
     "output_type": "execute_result"
    }
   ],
   "source": [
    "string1[::-1]"
   ]
  },
  {
   "cell_type": "markdown",
   "id": "dc5913b5",
   "metadata": {},
   "source": [
    "###### mysting[start: stop: step]"
   ]
  },
  {
   "cell_type": "code",
   "execution_count": 52,
   "id": "1d996dd3",
   "metadata": {},
   "outputs": [],
   "source": [
    "mystring = '0123456789'"
   ]
  },
  {
   "cell_type": "code",
   "execution_count": 53,
   "id": "173e28b2",
   "metadata": {},
   "outputs": [
    {
     "data": {
      "text/plain": [
       "'02468'"
      ]
     },
     "execution_count": 53,
     "metadata": {},
     "output_type": "execute_result"
    }
   ],
   "source": [
    "mystring[0::2]"
   ]
  },
  {
   "cell_type": "code",
   "execution_count": 54,
   "id": "4f0af52c",
   "metadata": {},
   "outputs": [
    {
     "data": {
      "text/plain": [
       "'13579'"
      ]
     },
     "execution_count": 54,
     "metadata": {},
     "output_type": "execute_result"
    }
   ],
   "source": [
    "mystring[1::2]"
   ]
  },
  {
   "cell_type": "code",
   "execution_count": 55,
   "id": "509d3d30",
   "metadata": {},
   "outputs": [],
   "source": [
    "string3 = 'nepal mountain budha pashupati nath'"
   ]
  },
  {
   "cell_type": "code",
   "execution_count": 56,
   "id": "abdeb60a",
   "metadata": {},
   "outputs": [],
   "source": [
    "string4 = string3.title()"
   ]
  },
  {
   "cell_type": "code",
   "execution_count": 57,
   "id": "73053a75",
   "metadata": {},
   "outputs": [
    {
     "data": {
      "text/plain": [
       "False"
      ]
     },
     "execution_count": 57,
     "metadata": {},
     "output_type": "execute_result"
    }
   ],
   "source": [
    "string3.isalnum()"
   ]
  },
  {
   "cell_type": "code",
   "execution_count": 58,
   "id": "f51a0509",
   "metadata": {},
   "outputs": [
    {
     "data": {
      "text/plain": [
       "False"
      ]
     },
     "execution_count": 58,
     "metadata": {},
     "output_type": "execute_result"
    }
   ],
   "source": [
    "string3.isalpha()"
   ]
  },
  {
   "cell_type": "code",
   "execution_count": 59,
   "id": "98e35ced",
   "metadata": {},
   "outputs": [
    {
     "data": {
      "text/plain": [
       "False"
      ]
     },
     "execution_count": 59,
     "metadata": {},
     "output_type": "execute_result"
    }
   ],
   "source": [
    "string3.isdigit()"
   ]
  },
  {
   "cell_type": "code",
   "execution_count": 60,
   "id": "bef5383f",
   "metadata": {},
   "outputs": [
    {
     "data": {
      "text/plain": [
       "True"
      ]
     },
     "execution_count": 60,
     "metadata": {},
     "output_type": "execute_result"
    }
   ],
   "source": [
    "string3.islower()"
   ]
  },
  {
   "cell_type": "code",
   "execution_count": 61,
   "id": "b252cd68",
   "metadata": {},
   "outputs": [
    {
     "data": {
      "text/plain": [
       "False"
      ]
     },
     "execution_count": 61,
     "metadata": {},
     "output_type": "execute_result"
    }
   ],
   "source": [
    "string3.isupper()"
   ]
  },
  {
   "cell_type": "code",
   "execution_count": 62,
   "id": "9b72358b",
   "metadata": {},
   "outputs": [
    {
     "data": {
      "text/plain": [
       "False"
      ]
     },
     "execution_count": 62,
     "metadata": {},
     "output_type": "execute_result"
    }
   ],
   "source": [
    "string3.isnumeric()"
   ]
  },
  {
   "cell_type": "code",
   "execution_count": 63,
   "id": "1e5beb67",
   "metadata": {},
   "outputs": [
    {
     "data": {
      "text/plain": [
       "True"
      ]
     },
     "execution_count": 63,
     "metadata": {},
     "output_type": "execute_result"
    }
   ],
   "source": [
    "string4.istitle()"
   ]
  },
  {
   "cell_type": "code",
   "execution_count": 64,
   "id": "f4610e26",
   "metadata": {},
   "outputs": [
    {
     "data": {
      "text/plain": [
       "False"
      ]
     },
     "execution_count": 64,
     "metadata": {},
     "output_type": "execute_result"
    }
   ],
   "source": [
    "string4.isupper()"
   ]
  },
  {
   "cell_type": "code",
   "execution_count": 65,
   "id": "ad36ae8a",
   "metadata": {},
   "outputs": [],
   "source": [
    "string5 = string3.upper()"
   ]
  },
  {
   "cell_type": "code",
   "execution_count": 66,
   "id": "75627873",
   "metadata": {},
   "outputs": [
    {
     "data": {
      "text/plain": [
       "True"
      ]
     },
     "execution_count": 66,
     "metadata": {},
     "output_type": "execute_result"
    }
   ],
   "source": [
    "string5.isupper()"
   ]
  },
  {
   "cell_type": "markdown",
   "id": "8ad47f7d",
   "metadata": {},
   "source": [
    "# Numbers"
   ]
  },
  {
   "cell_type": "code",
   "execution_count": 67,
   "id": "6b67602f",
   "metadata": {},
   "outputs": [
    {
     "data": {
      "text/plain": [
       "3"
      ]
     },
     "execution_count": 67,
     "metadata": {},
     "output_type": "execute_result"
    }
   ],
   "source": [
    "7//2"
   ]
  },
  {
   "cell_type": "code",
   "execution_count": 68,
   "id": "221c3006",
   "metadata": {},
   "outputs": [
    {
     "data": {
      "text/plain": [
       "1"
      ]
     },
     "execution_count": 68,
     "metadata": {},
     "output_type": "execute_result"
    }
   ],
   "source": [
    "7%2"
   ]
  },
  {
   "cell_type": "code",
   "execution_count": 69,
   "id": "4c8dda6a",
   "metadata": {},
   "outputs": [
    {
     "data": {
      "text/plain": [
       "False"
      ]
     },
     "execution_count": 69,
     "metadata": {},
     "output_type": "execute_result"
    }
   ],
   "source": [
    "bool([])"
   ]
  },
  {
   "cell_type": "code",
   "execution_count": 70,
   "id": "2b492877",
   "metadata": {},
   "outputs": [
    {
     "data": {
      "text/plain": [
       "False"
      ]
     },
     "execution_count": 70,
     "metadata": {},
     "output_type": "execute_result"
    }
   ],
   "source": [
    "bool({})"
   ]
  },
  {
   "cell_type": "code",
   "execution_count": 71,
   "id": "da4dca4b",
   "metadata": {},
   "outputs": [
    {
     "data": {
      "text/plain": [
       "False"
      ]
     },
     "execution_count": 71,
     "metadata": {},
     "output_type": "execute_result"
    }
   ],
   "source": [
    "bool(None)"
   ]
  },
  {
   "cell_type": "code",
   "execution_count": 72,
   "id": "f0d99000",
   "metadata": {},
   "outputs": [
    {
     "data": {
      "text/plain": [
       "False"
      ]
     },
     "execution_count": 72,
     "metadata": {},
     "output_type": "execute_result"
    }
   ],
   "source": [
    "bool(0)"
   ]
  },
  {
   "cell_type": "code",
   "execution_count": 73,
   "id": "384c6a2b",
   "metadata": {},
   "outputs": [
    {
     "data": {
      "text/plain": [
       "False"
      ]
     },
     "execution_count": 73,
     "metadata": {},
     "output_type": "execute_result"
    }
   ],
   "source": [
    "bool(0.0)"
   ]
  },
  {
   "cell_type": "markdown",
   "id": "f1d5914e",
   "metadata": {},
   "source": [
    "# Boolean"
   ]
  },
  {
   "cell_type": "markdown",
   "id": "c87da7c2",
   "metadata": {},
   "source": [
    "# List"
   ]
  },
  {
   "cell_type": "code",
   "execution_count": 74,
   "id": "109888d5",
   "metadata": {},
   "outputs": [
    {
     "data": {
      "text/plain": [
       "list"
      ]
     },
     "execution_count": 74,
     "metadata": {},
     "output_type": "execute_result"
    }
   ],
   "source": [
    "list1 = []\n",
    "type(list1)"
   ]
  },
  {
   "cell_type": "code",
   "execution_count": 75,
   "id": "2e3d2b07",
   "metadata": {},
   "outputs": [],
   "source": [
    "list1.append('Cisco')"
   ]
  },
  {
   "cell_type": "code",
   "execution_count": 76,
   "id": "a74bca0e",
   "metadata": {},
   "outputs": [
    {
     "data": {
      "text/plain": [
       "['Cisco']"
      ]
     },
     "execution_count": 76,
     "metadata": {},
     "output_type": "execute_result"
    }
   ],
   "source": [
    "list1"
   ]
  },
  {
   "cell_type": "code",
   "execution_count": 77,
   "id": "34db5649",
   "metadata": {},
   "outputs": [],
   "source": [
    "list1.append('Juniper')"
   ]
  },
  {
   "cell_type": "code",
   "execution_count": 78,
   "id": "cb029809",
   "metadata": {},
   "outputs": [
    {
     "data": {
      "text/plain": [
       "['Cisco', 'Juniper']"
      ]
     },
     "execution_count": 78,
     "metadata": {},
     "output_type": "execute_result"
    }
   ],
   "source": [
    "list1"
   ]
  },
  {
   "cell_type": "code",
   "execution_count": 79,
   "id": "b43563a4",
   "metadata": {},
   "outputs": [],
   "source": [
    "list1.append('Avaya')"
   ]
  },
  {
   "cell_type": "code",
   "execution_count": 80,
   "id": "7497c6e4",
   "metadata": {},
   "outputs": [
    {
     "data": {
      "text/plain": [
       "['Cisco', 'Juniper', 'Avaya']"
      ]
     },
     "execution_count": 80,
     "metadata": {},
     "output_type": "execute_result"
    }
   ],
   "source": [
    "list1"
   ]
  },
  {
   "cell_type": "markdown",
   "id": "d31610e9",
   "metadata": {},
   "source": [
    "###### List Methods"
   ]
  },
  {
   "cell_type": "code",
   "execution_count": 81,
   "id": "8e06f572",
   "metadata": {},
   "outputs": [],
   "source": [
    "list2 = [-11, 2, 12]"
   ]
  },
  {
   "cell_type": "code",
   "execution_count": 82,
   "id": "e674ca21",
   "metadata": {},
   "outputs": [
    {
     "data": {
      "text/plain": [
       "-11"
      ]
     },
     "execution_count": 82,
     "metadata": {},
     "output_type": "execute_result"
    }
   ],
   "source": [
    "min(list2)"
   ]
  },
  {
   "cell_type": "code",
   "execution_count": 83,
   "id": "267bdec3",
   "metadata": {},
   "outputs": [
    {
     "data": {
      "text/plain": [
       "12"
      ]
     },
     "execution_count": 83,
     "metadata": {},
     "output_type": "execute_result"
    }
   ],
   "source": [
    "max(list2)"
   ]
  },
  {
   "cell_type": "code",
   "execution_count": 84,
   "id": "32e03aae",
   "metadata": {},
   "outputs": [],
   "source": [
    "list1.append(100)"
   ]
  },
  {
   "cell_type": "code",
   "execution_count": 85,
   "id": "4d6b5ed4",
   "metadata": {},
   "outputs": [
    {
     "data": {
      "text/plain": [
       "['Cisco', 'Juniper', 'Avaya', 100]"
      ]
     },
     "execution_count": 85,
     "metadata": {},
     "output_type": "execute_result"
    }
   ],
   "source": [
    "list1"
   ]
  },
  {
   "cell_type": "code",
   "execution_count": 86,
   "id": "ce78df88",
   "metadata": {},
   "outputs": [],
   "source": [
    "del list1[3]"
   ]
  },
  {
   "cell_type": "code",
   "execution_count": 87,
   "id": "070a2bbc",
   "metadata": {},
   "outputs": [
    {
     "data": {
      "text/plain": [
       "'Cisco'"
      ]
     },
     "execution_count": 87,
     "metadata": {},
     "output_type": "execute_result"
    }
   ],
   "source": [
    "list1.pop(0)"
   ]
  },
  {
   "cell_type": "code",
   "execution_count": 88,
   "id": "df34349b",
   "metadata": {},
   "outputs": [
    {
     "data": {
      "text/plain": [
       "['Juniper', 'Avaya']"
      ]
     },
     "execution_count": 88,
     "metadata": {},
     "output_type": "execute_result"
    }
   ],
   "source": [
    "list1"
   ]
  },
  {
   "cell_type": "code",
   "execution_count": 89,
   "id": "b7db4d82",
   "metadata": {},
   "outputs": [],
   "source": [
    "list1.remove('Juniper')"
   ]
  },
  {
   "cell_type": "code",
   "execution_count": 90,
   "id": "aec56885",
   "metadata": {},
   "outputs": [
    {
     "data": {
      "text/plain": [
       "['Avaya']"
      ]
     },
     "execution_count": 90,
     "metadata": {},
     "output_type": "execute_result"
    }
   ],
   "source": [
    "list1"
   ]
  },
  {
   "cell_type": "code",
   "execution_count": 91,
   "id": "9e89f790",
   "metadata": {},
   "outputs": [],
   "source": [
    "list1.insert(3, 'Nortel')"
   ]
  },
  {
   "cell_type": "code",
   "execution_count": 92,
   "id": "b66d1523",
   "metadata": {},
   "outputs": [
    {
     "data": {
      "text/plain": [
       "['Avaya', 'Nortel']"
      ]
     },
     "execution_count": 92,
     "metadata": {},
     "output_type": "execute_result"
    }
   ],
   "source": [
    "list1"
   ]
  },
  {
   "cell_type": "code",
   "execution_count": 93,
   "id": "508f60f6",
   "metadata": {},
   "outputs": [
    {
     "name": "stdout",
     "output_type": "stream",
     "text": [
      "Avaya\n",
      "Nortel\n"
     ]
    }
   ],
   "source": [
    "for item in list1:\n",
    "    print(item)"
   ]
  },
  {
   "cell_type": "code",
   "execution_count": 94,
   "id": "0aba41a6",
   "metadata": {},
   "outputs": [
    {
     "data": {
      "text/plain": [
       "{'Avaya', 'Nortel'}"
      ]
     },
     "execution_count": 94,
     "metadata": {},
     "output_type": "execute_result"
    }
   ],
   "source": [
    "set(list1)"
   ]
  },
  {
   "cell_type": "code",
   "execution_count": 95,
   "id": "9dd9ae3c",
   "metadata": {},
   "outputs": [],
   "source": [
    "list2 = [9, 99, 999]"
   ]
  },
  {
   "cell_type": "code",
   "execution_count": 96,
   "id": "79ae0ab4",
   "metadata": {},
   "outputs": [],
   "source": [
    "list3 = list1.extend(list2)"
   ]
  },
  {
   "cell_type": "code",
   "execution_count": 97,
   "id": "6591b9d0",
   "metadata": {},
   "outputs": [
    {
     "data": {
      "text/plain": [
       "['Avaya', 'Nortel', 9, 99, 999]"
      ]
     },
     "execution_count": 97,
     "metadata": {},
     "output_type": "execute_result"
    }
   ],
   "source": [
    "list1"
   ]
  },
  {
   "cell_type": "code",
   "execution_count": 98,
   "id": "b4af5489",
   "metadata": {},
   "outputs": [
    {
     "data": {
      "text/plain": [
       "['Avaya', 'Nortel', 9, 99, 999]"
      ]
     },
     "execution_count": 98,
     "metadata": {},
     "output_type": "execute_result"
    }
   ],
   "source": [
    "list1"
   ]
  },
  {
   "cell_type": "code",
   "execution_count": 99,
   "id": "ed23297d",
   "metadata": {},
   "outputs": [],
   "source": [
    "list3"
   ]
  },
  {
   "cell_type": "code",
   "execution_count": 100,
   "id": "a276ca5b",
   "metadata": {},
   "outputs": [
    {
     "data": {
      "text/plain": [
       "1"
      ]
     },
     "execution_count": 100,
     "metadata": {},
     "output_type": "execute_result"
    }
   ],
   "source": [
    "list1.count(99)"
   ]
  },
  {
   "cell_type": "code",
   "execution_count": 101,
   "id": "7e3a3858",
   "metadata": {},
   "outputs": [],
   "source": [
    "list4 = [10, 20, 11, 66, 69, 99, 50, 49]"
   ]
  },
  {
   "cell_type": "code",
   "execution_count": 102,
   "id": "2ca0504c",
   "metadata": {},
   "outputs": [],
   "source": [
    "list4.sort()"
   ]
  },
  {
   "cell_type": "code",
   "execution_count": 103,
   "id": "2777a9a3",
   "metadata": {},
   "outputs": [
    {
     "data": {
      "text/plain": [
       "[10, 11, 20, 49, 50, 66, 69, 99]"
      ]
     },
     "execution_count": 103,
     "metadata": {},
     "output_type": "execute_result"
    }
   ],
   "source": [
    "list4"
   ]
  },
  {
   "cell_type": "code",
   "execution_count": 104,
   "id": "5fd0c1c4",
   "metadata": {},
   "outputs": [],
   "source": [
    "list4.reverse()"
   ]
  },
  {
   "cell_type": "code",
   "execution_count": 105,
   "id": "862f49c2",
   "metadata": {},
   "outputs": [
    {
     "data": {
      "text/plain": [
       "[99, 69, 66, 50, 49, 20, 11, 10]"
      ]
     },
     "execution_count": 105,
     "metadata": {},
     "output_type": "execute_result"
    }
   ],
   "source": [
    "list4"
   ]
  },
  {
   "cell_type": "code",
   "execution_count": 106,
   "id": "56a3db70",
   "metadata": {},
   "outputs": [
    {
     "data": {
      "text/plain": [
       "[99, 69, 66, 50, 49, 20, 11, 10]"
      ]
     },
     "execution_count": 106,
     "metadata": {},
     "output_type": "execute_result"
    }
   ],
   "source": [
    "list4"
   ]
  },
  {
   "cell_type": "code",
   "execution_count": 107,
   "id": "765293ce",
   "metadata": {},
   "outputs": [],
   "source": [
    "list4.reverse()"
   ]
  },
  {
   "cell_type": "code",
   "execution_count": 108,
   "id": "d38e5b02",
   "metadata": {},
   "outputs": [
    {
     "data": {
      "text/plain": [
       "[10, 11, 20, 49, 50, 66, 69, 99]"
      ]
     },
     "execution_count": 108,
     "metadata": {},
     "output_type": "execute_result"
    }
   ],
   "source": [
    "list4"
   ]
  },
  {
   "cell_type": "code",
   "execution_count": 109,
   "id": "b75a5522",
   "metadata": {},
   "outputs": [
    {
     "data": {
      "text/plain": [
       "[10, 11, 20, 49, 50, 66, 69, 99]"
      ]
     },
     "execution_count": 109,
     "metadata": {},
     "output_type": "execute_result"
    }
   ],
   "source": [
    "list4"
   ]
  },
  {
   "cell_type": "markdown",
   "id": "39f05931",
   "metadata": {},
   "source": [
    "###### List Slicing"
   ]
  },
  {
   "cell_type": "code",
   "execution_count": 110,
   "id": "e268aabd",
   "metadata": {},
   "outputs": [
    {
     "data": {
      "text/plain": [
       "[11, 20, 49, 50, 66]"
      ]
     },
     "execution_count": 110,
     "metadata": {},
     "output_type": "execute_result"
    }
   ],
   "source": [
    "list4[1:6]"
   ]
  },
  {
   "cell_type": "code",
   "execution_count": 111,
   "id": "d651ce16",
   "metadata": {},
   "outputs": [
    {
     "data": {
      "text/plain": [
       "[49, 50, 66, 69, 99]"
      ]
     },
     "execution_count": 111,
     "metadata": {},
     "output_type": "execute_result"
    }
   ],
   "source": [
    "list4[3:]"
   ]
  },
  {
   "cell_type": "code",
   "execution_count": 112,
   "id": "d4c1d7ce",
   "metadata": {},
   "outputs": [
    {
     "data": {
      "text/plain": [
       "[10, 11, 20, 49, 50, 66, 69, 99]"
      ]
     },
     "execution_count": 112,
     "metadata": {},
     "output_type": "execute_result"
    }
   ],
   "source": [
    "list4[:]"
   ]
  },
  {
   "cell_type": "code",
   "execution_count": 113,
   "id": "b0b9f7a5",
   "metadata": {},
   "outputs": [
    {
     "data": {
      "text/plain": [
       "[20, 49, 50, 66, 69]"
      ]
     },
     "execution_count": 113,
     "metadata": {},
     "output_type": "execute_result"
    }
   ],
   "source": [
    "list4[-6:-1]"
   ]
  },
  {
   "cell_type": "code",
   "execution_count": 114,
   "id": "b8c17c93",
   "metadata": {},
   "outputs": [
    {
     "data": {
      "text/plain": [
       "[66, 69, 99]"
      ]
     },
     "execution_count": 114,
     "metadata": {},
     "output_type": "execute_result"
    }
   ],
   "source": [
    "list4[-3:]"
   ]
  },
  {
   "cell_type": "code",
   "execution_count": 115,
   "id": "35f7071b",
   "metadata": {},
   "outputs": [
    {
     "data": {
      "text/plain": [
       "[10, 11, 20, 49, 50]"
      ]
     },
     "execution_count": 115,
     "metadata": {},
     "output_type": "execute_result"
    }
   ],
   "source": [
    "list4[:-3]"
   ]
  },
  {
   "cell_type": "code",
   "execution_count": 116,
   "id": "4ae838a6",
   "metadata": {},
   "outputs": [
    {
     "data": {
      "text/plain": [
       "[99, 69, 66, 50, 49, 20, 11, 10]"
      ]
     },
     "execution_count": 116,
     "metadata": {},
     "output_type": "execute_result"
    }
   ],
   "source": [
    "list4[::-1]"
   ]
  },
  {
   "cell_type": "markdown",
   "id": "eae75399",
   "metadata": {},
   "source": [
    "# Sets"
   ]
  },
  {
   "cell_type": "code",
   "execution_count": 117,
   "id": "27f8bbe2",
   "metadata": {},
   "outputs": [],
   "source": [
    "list4.append(66)"
   ]
  },
  {
   "cell_type": "code",
   "execution_count": 118,
   "id": "6e4c5abf",
   "metadata": {},
   "outputs": [
    {
     "data": {
      "text/plain": [
       "[10, 11, 20, 49, 50, 66, 69, 99, 66]"
      ]
     },
     "execution_count": 118,
     "metadata": {},
     "output_type": "execute_result"
    }
   ],
   "source": [
    "list4"
   ]
  },
  {
   "cell_type": "code",
   "execution_count": 119,
   "id": "af28fbf6",
   "metadata": {},
   "outputs": [
    {
     "data": {
      "text/plain": [
       "{10, 11, 20, 49, 50, 66, 69, 99}"
      ]
     },
     "execution_count": 119,
     "metadata": {},
     "output_type": "execute_result"
    }
   ],
   "source": [
    "set(list4)"
   ]
  },
  {
   "cell_type": "code",
   "execution_count": 120,
   "id": "cbe02e0d",
   "metadata": {},
   "outputs": [],
   "source": [
    "set2 = {11, 12, 13, 14, 15, 15, 11}"
   ]
  },
  {
   "cell_type": "code",
   "execution_count": 121,
   "id": "1c4c4692",
   "metadata": {},
   "outputs": [
    {
     "data": {
      "text/plain": [
       "{11, 12, 13, 14, 15}"
      ]
     },
     "execution_count": 121,
     "metadata": {},
     "output_type": "execute_result"
    }
   ],
   "source": [
    "set2"
   ]
  },
  {
   "cell_type": "code",
   "execution_count": 122,
   "id": "9ca84dbf",
   "metadata": {},
   "outputs": [],
   "source": [
    "set2.add(22)"
   ]
  },
  {
   "cell_type": "code",
   "execution_count": 123,
   "id": "37702b52",
   "metadata": {},
   "outputs": [
    {
     "data": {
      "text/plain": [
       "{11, 12, 13, 14, 15, 22}"
      ]
     },
     "execution_count": 123,
     "metadata": {},
     "output_type": "execute_result"
    }
   ],
   "source": [
    "set2"
   ]
  },
  {
   "cell_type": "code",
   "execution_count": 124,
   "id": "fbf921c0",
   "metadata": {},
   "outputs": [
    {
     "data": {
      "text/plain": [
       "<function set.remove>"
      ]
     },
     "execution_count": 124,
     "metadata": {},
     "output_type": "execute_result"
    }
   ],
   "source": [
    "set2.remove"
   ]
  },
  {
   "cell_type": "markdown",
   "id": "c9c7fccc",
   "metadata": {},
   "source": [
    "- difference()\n",
    "- add()\n",
    "- pop()\n",
    "- intersection()\n",
    "- union()"
   ]
  },
  {
   "cell_type": "markdown",
   "id": "fd03bc68",
   "metadata": {},
   "source": [
    "###### Frozensets"
   ]
  },
  {
   "cell_type": "markdown",
   "id": "fd8e9c33",
   "metadata": {},
   "source": [
    "- Immutability"
   ]
  },
  {
   "cell_type": "code",
   "execution_count": 126,
   "id": "053306a9",
   "metadata": {},
   "outputs": [],
   "source": [
    "list1 = [1, 2, 3, 4]\n",
    "list2 = [3, 4, 7]"
   ]
  },
  {
   "cell_type": "code",
   "execution_count": 127,
   "id": "12ffb136",
   "metadata": {},
   "outputs": [],
   "source": [
    "fs1 = frozenset(list1)\n",
    "fs2 = frozenset(list2)"
   ]
  },
  {
   "cell_type": "code",
   "execution_count": 128,
   "id": "7c1a8b76",
   "metadata": {},
   "outputs": [
    {
     "data": {
      "text/plain": [
       "frozenset({1, 2, 3, 4})"
      ]
     },
     "execution_count": 128,
     "metadata": {},
     "output_type": "execute_result"
    }
   ],
   "source": [
    "fs1"
   ]
  },
  {
   "cell_type": "code",
   "execution_count": 129,
   "id": "8361ec2f",
   "metadata": {},
   "outputs": [
    {
     "data": {
      "text/plain": [
       "frozenset({3, 4, 7})"
      ]
     },
     "execution_count": 129,
     "metadata": {},
     "output_type": "execute_result"
    }
   ],
   "source": [
    "fs2"
   ]
  },
  {
   "cell_type": "code",
   "execution_count": 130,
   "id": "50861a71",
   "metadata": {},
   "outputs": [
    {
     "data": {
      "text/plain": [
       "frozenset"
      ]
     },
     "execution_count": 130,
     "metadata": {},
     "output_type": "execute_result"
    }
   ],
   "source": [
    "type(fs1)"
   ]
  },
  {
   "cell_type": "code",
   "execution_count": 131,
   "id": "ef877bb1",
   "metadata": {},
   "outputs": [],
   "source": [
    "fs3 = fs1.copy"
   ]
  },
  {
   "cell_type": "code",
   "execution_count": 132,
   "id": "bf0f8bf5",
   "metadata": {},
   "outputs": [
    {
     "data": {
      "text/plain": [
       "<function frozenset.copy>"
      ]
     },
     "execution_count": 132,
     "metadata": {},
     "output_type": "execute_result"
    }
   ],
   "source": [
    "fs3"
   ]
  },
  {
   "cell_type": "markdown",
   "id": "0bfa9c50",
   "metadata": {},
   "source": [
    "# Tuples"
   ]
  },
  {
   "cell_type": "markdown",
   "id": "7ca0a585",
   "metadata": {},
   "source": [
    "- Immutable List"
   ]
  },
  {
   "cell_type": "code",
   "execution_count": 133,
   "id": "765d63e6",
   "metadata": {},
   "outputs": [
    {
     "data": {
      "text/plain": [
       "tuple"
      ]
     },
     "execution_count": 133,
     "metadata": {},
     "output_type": "execute_result"
    }
   ],
   "source": [
    "my_tuple = ()\n",
    "type(my_tuple)"
   ]
  },
  {
   "cell_type": "code",
   "execution_count": 134,
   "id": "12756ce2",
   "metadata": {},
   "outputs": [],
   "source": [
    "my_tuple = (2)"
   ]
  },
  {
   "cell_type": "code",
   "execution_count": 135,
   "id": "d69cd597",
   "metadata": {},
   "outputs": [
    {
     "data": {
      "text/plain": [
       "int"
      ]
     },
     "execution_count": 135,
     "metadata": {},
     "output_type": "execute_result"
    }
   ],
   "source": [
    "type(my_tuple)"
   ]
  },
  {
   "cell_type": "code",
   "execution_count": 136,
   "id": "79cb3107",
   "metadata": {},
   "outputs": [],
   "source": [
    "my_tuple = (2,)"
   ]
  },
  {
   "cell_type": "code",
   "execution_count": 137,
   "id": "4d45e604",
   "metadata": {},
   "outputs": [
    {
     "data": {
      "text/plain": [
       "tuple"
      ]
     },
     "execution_count": 137,
     "metadata": {},
     "output_type": "execute_result"
    }
   ],
   "source": [
    "type(my_tuple)"
   ]
  },
  {
   "cell_type": "markdown",
   "id": "57e733e1",
   "metadata": {},
   "source": [
    "- Tuples support indexting.\n",
    "- Slicing is possible with tuples."
   ]
  },
  {
   "cell_type": "markdown",
   "id": "9adf8150",
   "metadata": {},
   "source": [
    "###### Tuple Packing and Unpacking"
   ]
  },
  {
   "cell_type": "code",
   "execution_count": 138,
   "id": "0b7b4c14",
   "metadata": {},
   "outputs": [],
   "source": [
    "tuple1 = ('Rajaram', 'Gautam', 'Texas', 76542)\n",
    "(First_Name, Last_Name, State, Zipcode) = tuple1 # Not a item in tuple in string data fromat\n"
   ]
  },
  {
   "cell_type": "code",
   "execution_count": 139,
   "id": "1997062d",
   "metadata": {},
   "outputs": [
    {
     "data": {
      "text/plain": [
       "'Rajaram'"
      ]
     },
     "execution_count": 139,
     "metadata": {},
     "output_type": "execute_result"
    }
   ],
   "source": [
    "First_Name"
   ]
  },
  {
   "cell_type": "code",
   "execution_count": 140,
   "id": "fe3b7474",
   "metadata": {},
   "outputs": [
    {
     "data": {
      "text/plain": [
       "'Gautam'"
      ]
     },
     "execution_count": 140,
     "metadata": {},
     "output_type": "execute_result"
    }
   ],
   "source": [
    "Last_Name"
   ]
  },
  {
   "cell_type": "code",
   "execution_count": 141,
   "id": "b6a05980",
   "metadata": {},
   "outputs": [
    {
     "data": {
      "text/plain": [
       "'Texas'"
      ]
     },
     "execution_count": 141,
     "metadata": {},
     "output_type": "execute_result"
    }
   ],
   "source": [
    "State"
   ]
  },
  {
   "cell_type": "code",
   "execution_count": 142,
   "id": "9bc0d1b1",
   "metadata": {},
   "outputs": [
    {
     "data": {
      "text/plain": [
       "76542"
      ]
     },
     "execution_count": 142,
     "metadata": {},
     "output_type": "execute_result"
    }
   ],
   "source": [
    "Zipcode"
   ]
  },
  {
   "cell_type": "markdown",
   "id": "e2bfcccf",
   "metadata": {},
   "source": [
    "### Tuples vs. Lists"
   ]
  },
  {
   "cell_type": "code",
   "execution_count": 143,
   "id": "6de367e0",
   "metadata": {},
   "outputs": [
    {
     "data": {
      "text/plain": [
       "4"
      ]
     },
     "execution_count": 143,
     "metadata": {},
     "output_type": "execute_result"
    }
   ],
   "source": [
    "len(tuple1)"
   ]
  },
  {
   "cell_type": "code",
   "execution_count": 144,
   "id": "d6efa9e0",
   "metadata": {},
   "outputs": [],
   "source": [
    "tuple2 = (5, 6, 7, 2)"
   ]
  },
  {
   "cell_type": "code",
   "execution_count": 145,
   "id": "13e4de21",
   "metadata": {},
   "outputs": [
    {
     "ename": "TypeError",
     "evalue": "'<' not supported between instances of 'int' and 'str'",
     "output_type": "error",
     "traceback": [
      "\u001b[0;31m---------------------------------------------------------------------------\u001b[0m",
      "\u001b[0;31mTypeError\u001b[0m                                 Traceback (most recent call last)",
      "\u001b[0;32m/var/folders/zq/x5sj66553p9dvbt1_y838q_h0000gn/T/ipykernel_16998/2005138451.py\u001b[0m in \u001b[0;36m<module>\u001b[0;34m\u001b[0m\n\u001b[0;32m----> 1\u001b[0;31m \u001b[0mmin\u001b[0m\u001b[0;34m(\u001b[0m\u001b[0mtuple1\u001b[0m\u001b[0;34m)\u001b[0m\u001b[0;34m\u001b[0m\u001b[0;34m\u001b[0m\u001b[0m\n\u001b[0m",
      "\u001b[0;31mTypeError\u001b[0m: '<' not supported between instances of 'int' and 'str'"
     ]
    }
   ],
   "source": [
    "min(tuple1)"
   ]
  },
  {
   "cell_type": "code",
   "execution_count": 146,
   "id": "0e14af01",
   "metadata": {},
   "outputs": [
    {
     "data": {
      "text/plain": [
       "7"
      ]
     },
     "execution_count": 146,
     "metadata": {},
     "output_type": "execute_result"
    }
   ],
   "source": [
    "max(tuple2)"
   ]
  },
  {
   "cell_type": "code",
   "execution_count": 147,
   "id": "6861ae3c",
   "metadata": {},
   "outputs": [],
   "source": [
    "# concating tuple\n",
    "tuple3 = tuple2 + (8, 9, 10)"
   ]
  },
  {
   "cell_type": "code",
   "execution_count": 148,
   "id": "c0a86afd",
   "metadata": {},
   "outputs": [
    {
     "data": {
      "text/plain": [
       "(5, 6, 7, 2, 8, 9, 10)"
      ]
     },
     "execution_count": 148,
     "metadata": {},
     "output_type": "execute_result"
    }
   ],
   "source": [
    "# Running Tuple\n",
    "tuple3"
   ]
  },
  {
   "cell_type": "code",
   "execution_count": 149,
   "id": "fe8841ce",
   "metadata": {},
   "outputs": [],
   "source": [
    "tuple4 = 2*tuple3"
   ]
  },
  {
   "cell_type": "code",
   "execution_count": 150,
   "id": "53b654d0",
   "metadata": {},
   "outputs": [
    {
     "data": {
      "text/plain": [
       "(5, 6, 7, 2, 8, 9, 10, 5, 6, 7, 2, 8, 9, 10)"
      ]
     },
     "execution_count": 150,
     "metadata": {},
     "output_type": "execute_result"
    }
   ],
   "source": [
    "tuple4"
   ]
  },
  {
   "cell_type": "code",
   "execution_count": 151,
   "id": "07ed720a",
   "metadata": {},
   "outputs": [
    {
     "data": {
      "text/plain": [
       "10"
      ]
     },
     "execution_count": 151,
     "metadata": {},
     "output_type": "execute_result"
    }
   ],
   "source": [
    "tuple4[-1]"
   ]
  },
  {
   "cell_type": "code",
   "execution_count": 152,
   "id": "de845dc5",
   "metadata": {},
   "outputs": [
    {
     "data": {
      "text/plain": [
       "(8, 9, 10)"
      ]
     },
     "execution_count": 152,
     "metadata": {},
     "output_type": "execute_result"
    }
   ],
   "source": [
    "tuple4[-3:]"
   ]
  },
  {
   "cell_type": "markdown",
   "id": "9f3f9e8e",
   "metadata": {},
   "source": [
    "# Range"
   ]
  },
  {
   "cell_type": "code",
   "execution_count": 153,
   "id": "c0c8e18d",
   "metadata": {},
   "outputs": [
    {
     "name": "stdout",
     "output_type": "stream",
     "text": [
      "0\n",
      "1\n",
      "2\n",
      "3\n",
      "4\n",
      "5\n",
      "6\n",
      "7\n",
      "8\n",
      "9\n"
     ]
    }
   ],
   "source": [
    "for i in range(10):\n",
    "    print(i)"
   ]
  },
  {
   "cell_type": "code",
   "execution_count": 154,
   "id": "cb239a2f",
   "metadata": {},
   "outputs": [
    {
     "name": "stdout",
     "output_type": "stream",
     "text": [
      "1\n",
      "3\n",
      "5\n",
      "7\n",
      "9\n"
     ]
    }
   ],
   "source": [
    "for item in range(1, 10, 2):\n",
    "    print(item)"
   ]
  },
  {
   "cell_type": "code",
   "execution_count": 155,
   "id": "820d7e30",
   "metadata": {},
   "outputs": [],
   "source": [
    "range1 = range(10)"
   ]
  },
  {
   "cell_type": "code",
   "execution_count": 156,
   "id": "d132c9eb",
   "metadata": {},
   "outputs": [
    {
     "data": {
      "text/plain": [
       "[0, 1, 2, 3, 4, 5, 6, 7, 8, 9]"
      ]
     },
     "execution_count": 156,
     "metadata": {},
     "output_type": "execute_result"
    }
   ],
   "source": [
    "list(range1)"
   ]
  },
  {
   "cell_type": "code",
   "execution_count": 157,
   "id": "7be5d4a5",
   "metadata": {},
   "outputs": [
    {
     "data": {
      "text/plain": [
       "range"
      ]
     },
     "execution_count": 157,
     "metadata": {},
     "output_type": "execute_result"
    }
   ],
   "source": [
    "type(range1)"
   ]
  },
  {
   "cell_type": "code",
   "execution_count": 158,
   "id": "abda05a7",
   "metadata": {},
   "outputs": [
    {
     "data": {
      "text/plain": [
       "list"
      ]
     },
     "execution_count": 158,
     "metadata": {},
     "output_type": "execute_result"
    }
   ],
   "source": [
    "type(list(range1))"
   ]
  },
  {
   "cell_type": "code",
   "execution_count": 159,
   "id": "d8c21a43",
   "metadata": {},
   "outputs": [
    {
     "data": {
      "text/plain": [
       "9"
      ]
     },
     "execution_count": 159,
     "metadata": {},
     "output_type": "execute_result"
    }
   ],
   "source": [
    "range1[-1]"
   ]
  },
  {
   "cell_type": "code",
   "execution_count": 160,
   "id": "2f6b40c0",
   "metadata": {},
   "outputs": [
    {
     "data": {
      "text/plain": [
       "[9, 8, 7, 6, 5, 4, 3, 2, 1, 0]"
      ]
     },
     "execution_count": 160,
     "metadata": {},
     "output_type": "execute_result"
    }
   ],
   "source": [
    "list(range1[::-1])"
   ]
  },
  {
   "cell_type": "code",
   "execution_count": 161,
   "id": "0d2eeafa",
   "metadata": {},
   "outputs": [
    {
     "data": {
      "text/plain": [
       "False"
      ]
     },
     "execution_count": 161,
     "metadata": {},
     "output_type": "execute_result"
    }
   ],
   "source": [
    "11 in range1"
   ]
  },
  {
   "cell_type": "code",
   "execution_count": 162,
   "id": "6be3f4dd",
   "metadata": {},
   "outputs": [
    {
     "data": {
      "text/plain": [
       "True"
      ]
     },
     "execution_count": 162,
     "metadata": {},
     "output_type": "execute_result"
    }
   ],
   "source": [
    "7 in range1"
   ]
  },
  {
   "cell_type": "code",
   "execution_count": 163,
   "id": "e0caf5b6",
   "metadata": {},
   "outputs": [
    {
     "data": {
      "text/plain": [
       "4"
      ]
     },
     "execution_count": 163,
     "metadata": {},
     "output_type": "execute_result"
    }
   ],
   "source": [
    "range1[4]"
   ]
  },
  {
   "cell_type": "code",
   "execution_count": 164,
   "id": "896bf38c",
   "metadata": {},
   "outputs": [
    {
     "data": {
      "text/plain": [
       "7"
      ]
     },
     "execution_count": 164,
     "metadata": {},
     "output_type": "execute_result"
    }
   ],
   "source": [
    "range1.index(7)"
   ]
  },
  {
   "cell_type": "markdown",
   "id": "ee89180d",
   "metadata": {},
   "source": [
    "- Slicing in range is not possible but we can convert it into list and do the slicing"
   ]
  },
  {
   "cell_type": "markdown",
   "id": "f97e8528",
   "metadata": {},
   "source": [
    "# Dictionaries"
   ]
  },
  {
   "cell_type": "markdown",
   "id": "164a91f7",
   "metadata": {},
   "source": [
    "- Mutables"
   ]
  },
  {
   "cell_type": "code",
   "execution_count": 165,
   "id": "5a1a5f0b",
   "metadata": {},
   "outputs": [],
   "source": [
    "dict1 = {}"
   ]
  },
  {
   "cell_type": "code",
   "execution_count": 166,
   "id": "4c90b69f",
   "metadata": {},
   "outputs": [
    {
     "data": {
      "text/plain": [
       "dict"
      ]
     },
     "execution_count": 166,
     "metadata": {},
     "output_type": "execute_result"
    }
   ],
   "source": [
    "type(dict1)"
   ]
  },
  {
   "cell_type": "code",
   "execution_count": 167,
   "id": "5f5a0109",
   "metadata": {},
   "outputs": [],
   "source": [
    "dict1 = {'Vendor' : 'Cisco', 'Model': '2700', 'IOS' : '12.4', 'Ports': '4'}"
   ]
  },
  {
   "cell_type": "code",
   "execution_count": 168,
   "id": "75b78437",
   "metadata": {},
   "outputs": [
    {
     "data": {
      "text/plain": [
       "{'Vendor': 'Cisco', 'Model': '2700', 'IOS': '12.4', 'Ports': '4'}"
      ]
     },
     "execution_count": 168,
     "metadata": {},
     "output_type": "execute_result"
    }
   ],
   "source": [
    "dict1"
   ]
  },
  {
   "cell_type": "markdown",
   "id": "ac4cab12",
   "metadata": {},
   "source": [
    "- Each key on the dictionaries must be unique and immutable type."
   ]
  },
  {
   "cell_type": "markdown",
   "id": "6895df2c",
   "metadata": {},
   "source": [
    "### Dictionaries Methods"
   ]
  },
  {
   "cell_type": "code",
   "execution_count": 169,
   "id": "70da3e2a",
   "metadata": {},
   "outputs": [
    {
     "data": {
      "text/plain": [
       "'Cisco'"
      ]
     },
     "execution_count": 169,
     "metadata": {},
     "output_type": "execute_result"
    }
   ],
   "source": [
    "dict1['Vendor']"
   ]
  },
  {
   "cell_type": "code",
   "execution_count": 170,
   "id": "9f2f799c",
   "metadata": {},
   "outputs": [],
   "source": [
    "# adding a member to dictionaries\n",
    "dict1['RAM'] = '128'"
   ]
  },
  {
   "cell_type": "code",
   "execution_count": 171,
   "id": "f4abe33a",
   "metadata": {},
   "outputs": [
    {
     "data": {
      "text/plain": [
       "{'Vendor': 'Cisco', 'Model': '2700', 'IOS': '12.4', 'Ports': '4', 'RAM': '128'}"
      ]
     },
     "execution_count": 171,
     "metadata": {},
     "output_type": "execute_result"
    }
   ],
   "source": [
    "dict1"
   ]
  },
  {
   "cell_type": "code",
   "execution_count": 172,
   "id": "aeffaaab",
   "metadata": {},
   "outputs": [],
   "source": [
    "# Updating a member to dictionaries\n",
    "dict1['IOS'] = '14.7'"
   ]
  },
  {
   "cell_type": "code",
   "execution_count": 173,
   "id": "87713c94",
   "metadata": {},
   "outputs": [
    {
     "data": {
      "text/plain": [
       "{'Vendor': 'Cisco', 'Model': '2700', 'IOS': '14.7', 'Ports': '4', 'RAM': '128'}"
      ]
     },
     "execution_count": 173,
     "metadata": {},
     "output_type": "execute_result"
    }
   ],
   "source": [
    "dict1"
   ]
  },
  {
   "cell_type": "code",
   "execution_count": 174,
   "id": "f56b7d89",
   "metadata": {},
   "outputs": [],
   "source": [
    "del dict1['RAM']"
   ]
  },
  {
   "cell_type": "code",
   "execution_count": 175,
   "id": "db14fae2",
   "metadata": {},
   "outputs": [
    {
     "data": {
      "text/plain": [
       "{'Vendor': 'Cisco', 'Model': '2700', 'IOS': '14.7', 'Ports': '4'}"
      ]
     },
     "execution_count": 175,
     "metadata": {},
     "output_type": "execute_result"
    }
   ],
   "source": [
    "dict1"
   ]
  },
  {
   "cell_type": "code",
   "execution_count": 176,
   "id": "d1dec071",
   "metadata": {},
   "outputs": [
    {
     "data": {
      "text/plain": [
       "4"
      ]
     },
     "execution_count": 176,
     "metadata": {},
     "output_type": "execute_result"
    }
   ],
   "source": [
    "len(dict1)"
   ]
  },
  {
   "cell_type": "code",
   "execution_count": 177,
   "id": "760e5870",
   "metadata": {},
   "outputs": [
    {
     "data": {
      "text/plain": [
       "False"
      ]
     },
     "execution_count": 177,
     "metadata": {},
     "output_type": "execute_result"
    }
   ],
   "source": [
    "\"vendor\" in dict1"
   ]
  },
  {
   "cell_type": "code",
   "execution_count": 178,
   "id": "acf1fad1",
   "metadata": {},
   "outputs": [
    {
     "data": {
      "text/plain": [
       "True"
      ]
     },
     "execution_count": 178,
     "metadata": {},
     "output_type": "execute_result"
    }
   ],
   "source": [
    "'Vendor' in dict1"
   ]
  },
  {
   "cell_type": "code",
   "execution_count": 179,
   "id": "fcc012e2",
   "metadata": {},
   "outputs": [
    {
     "data": {
      "text/plain": [
       "False"
      ]
     },
     "execution_count": 179,
     "metadata": {},
     "output_type": "execute_result"
    }
   ],
   "source": [
    "'Cisco' in dict1"
   ]
  },
  {
   "cell_type": "code",
   "execution_count": 180,
   "id": "f30e8a81",
   "metadata": {},
   "outputs": [
    {
     "data": {
      "text/plain": [
       "True"
      ]
     },
     "execution_count": 180,
     "metadata": {},
     "output_type": "execute_result"
    }
   ],
   "source": [
    "'Model' in dict1"
   ]
  },
  {
   "cell_type": "code",
   "execution_count": 181,
   "id": "96edad10",
   "metadata": {},
   "outputs": [
    {
     "data": {
      "text/plain": [
       "dict_values(['Cisco', '2700', '14.7', '4'])"
      ]
     },
     "execution_count": 181,
     "metadata": {},
     "output_type": "execute_result"
    }
   ],
   "source": [
    "dict1.values()"
   ]
  },
  {
   "cell_type": "code",
   "execution_count": 182,
   "id": "6f2cafb3",
   "metadata": {},
   "outputs": [
    {
     "data": {
      "text/plain": [
       "dict_keys(['Vendor', 'Model', 'IOS', 'Ports'])"
      ]
     },
     "execution_count": 182,
     "metadata": {},
     "output_type": "execute_result"
    }
   ],
   "source": [
    "dict1.keys()"
   ]
  },
  {
   "cell_type": "code",
   "execution_count": 183,
   "id": "446729ed",
   "metadata": {},
   "outputs": [
    {
     "data": {
      "text/plain": [
       "dict_items([('Vendor', 'Cisco'), ('Model', '2700'), ('IOS', '14.7'), ('Ports', '4')])"
      ]
     },
     "execution_count": 183,
     "metadata": {},
     "output_type": "execute_result"
    }
   ],
   "source": [
    "dict1.items()"
   ]
  },
  {
   "cell_type": "markdown",
   "id": "556c9cb1",
   "metadata": {},
   "source": [
    "- Order is preserved in dictionaries in Python 3."
   ]
  },
  {
   "cell_type": "markdown",
   "id": "8bbcfbfc",
   "metadata": {},
   "source": [
    "# Conversion of Data Types"
   ]
  },
  {
   "cell_type": "code",
   "execution_count": 184,
   "id": "bef970ed",
   "metadata": {},
   "outputs": [],
   "source": [
    "# Converstion of string to float\n",
    "\n",
    "str1 = '49'\n",
    "float1 = float(str1)"
   ]
  },
  {
   "cell_type": "code",
   "execution_count": 185,
   "id": "e10e2825",
   "metadata": {},
   "outputs": [
    {
     "data": {
      "text/plain": [
       "float"
      ]
     },
     "execution_count": 185,
     "metadata": {},
     "output_type": "execute_result"
    }
   ],
   "source": [
    "type(float1)"
   ]
  },
  {
   "cell_type": "code",
   "execution_count": 186,
   "id": "96db1f5a",
   "metadata": {},
   "outputs": [
    {
     "data": {
      "text/plain": [
       "str"
      ]
     },
     "execution_count": 186,
     "metadata": {},
     "output_type": "execute_result"
    }
   ],
   "source": [
    "type(str1)"
   ]
  },
  {
   "cell_type": "code",
   "execution_count": 187,
   "id": "a3dcc6b0",
   "metadata": {},
   "outputs": [
    {
     "data": {
      "text/plain": [
       "49.0"
      ]
     },
     "execution_count": 187,
     "metadata": {},
     "output_type": "execute_result"
    }
   ],
   "source": [
    "float1"
   ]
  },
  {
   "cell_type": "code",
   "execution_count": 188,
   "id": "64747aa5",
   "metadata": {},
   "outputs": [],
   "source": [
    "# Conversion of float to string\n",
    "float2 = 35.35\n",
    "str2 = str(float2)"
   ]
  },
  {
   "cell_type": "code",
   "execution_count": 189,
   "id": "70377d4e",
   "metadata": {},
   "outputs": [
    {
     "data": {
      "text/plain": [
       "float"
      ]
     },
     "execution_count": 189,
     "metadata": {},
     "output_type": "execute_result"
    }
   ],
   "source": [
    "type(float2)"
   ]
  },
  {
   "cell_type": "code",
   "execution_count": 190,
   "id": "8ba48bf5",
   "metadata": {},
   "outputs": [
    {
     "data": {
      "text/plain": [
       "str"
      ]
     },
     "execution_count": 190,
     "metadata": {},
     "output_type": "execute_result"
    }
   ],
   "source": [
    "type(str2)"
   ]
  },
  {
   "cell_type": "code",
   "execution_count": 191,
   "id": "50cf884a",
   "metadata": {},
   "outputs": [],
   "source": [
    "# Conversion of string to int\n",
    "str3 = '2500'\n",
    "int1 = int(str3)"
   ]
  },
  {
   "cell_type": "code",
   "execution_count": 192,
   "id": "bdf36ade",
   "metadata": {},
   "outputs": [
    {
     "data": {
      "text/plain": [
       "int"
      ]
     },
     "execution_count": 192,
     "metadata": {},
     "output_type": "execute_result"
    }
   ],
   "source": [
    "type(int1)"
   ]
  },
  {
   "cell_type": "code",
   "execution_count": 193,
   "id": "bbac1f5f",
   "metadata": {},
   "outputs": [
    {
     "data": {
      "text/plain": [
       "2500"
      ]
     },
     "execution_count": 193,
     "metadata": {},
     "output_type": "execute_result"
    }
   ],
   "source": [
    "int1"
   ]
  },
  {
   "cell_type": "code",
   "execution_count": 194,
   "id": "935ddf7e",
   "metadata": {},
   "outputs": [],
   "source": [
    "# Conversion of tuple to list\n",
    "tuple1 = (1, 2, 3)\n",
    "list1 = list(tuple1)"
   ]
  },
  {
   "cell_type": "code",
   "execution_count": 195,
   "id": "adc3a4fa",
   "metadata": {},
   "outputs": [
    {
     "data": {
      "text/plain": [
       "tuple"
      ]
     },
     "execution_count": 195,
     "metadata": {},
     "output_type": "execute_result"
    }
   ],
   "source": [
    "type(tuple1)"
   ]
  },
  {
   "cell_type": "code",
   "execution_count": 196,
   "id": "853a4821",
   "metadata": {},
   "outputs": [
    {
     "data": {
      "text/plain": [
       "list"
      ]
     },
     "execution_count": 196,
     "metadata": {},
     "output_type": "execute_result"
    }
   ],
   "source": [
    "type(list1)"
   ]
  },
  {
   "cell_type": "code",
   "execution_count": 197,
   "id": "8f5cb97b",
   "metadata": {},
   "outputs": [
    {
     "data": {
      "text/plain": [
       "[1, 2, 3]"
      ]
     },
     "execution_count": 197,
     "metadata": {},
     "output_type": "execute_result"
    }
   ],
   "source": [
    "list1"
   ]
  },
  {
   "cell_type": "code",
   "execution_count": 198,
   "id": "53ad9517",
   "metadata": {},
   "outputs": [],
   "source": [
    "# Converstion of list into tuple\n",
    "list2 = [4, 5, 6]\n",
    "tuple2 = tuple(list2)"
   ]
  },
  {
   "cell_type": "code",
   "execution_count": 199,
   "id": "64b975fa",
   "metadata": {},
   "outputs": [
    {
     "data": {
      "text/plain": [
       "list"
      ]
     },
     "execution_count": 199,
     "metadata": {},
     "output_type": "execute_result"
    }
   ],
   "source": [
    "type(list2)"
   ]
  },
  {
   "cell_type": "code",
   "execution_count": 200,
   "id": "82deb6f1",
   "metadata": {},
   "outputs": [
    {
     "data": {
      "text/plain": [
       "tuple"
      ]
     },
     "execution_count": 200,
     "metadata": {},
     "output_type": "execute_result"
    }
   ],
   "source": [
    "type(tuple2)"
   ]
  },
  {
   "cell_type": "code",
   "execution_count": 201,
   "id": "c240189a",
   "metadata": {},
   "outputs": [
    {
     "data": {
      "text/plain": [
       "(4, 5, 6)"
      ]
     },
     "execution_count": 201,
     "metadata": {},
     "output_type": "execute_result"
    }
   ],
   "source": [
    "tuple2"
   ]
  },
  {
   "cell_type": "code",
   "execution_count": 202,
   "id": "18f063d5",
   "metadata": {},
   "outputs": [],
   "source": [
    "# Converting list to set\n",
    "set2 = set(list2)"
   ]
  },
  {
   "cell_type": "code",
   "execution_count": 203,
   "id": "f37acba5",
   "metadata": {},
   "outputs": [
    {
     "data": {
      "text/plain": [
       "set"
      ]
     },
     "execution_count": 203,
     "metadata": {},
     "output_type": "execute_result"
    }
   ],
   "source": [
    "type(set2)"
   ]
  },
  {
   "cell_type": "code",
   "execution_count": 204,
   "id": "a7f6b676",
   "metadata": {},
   "outputs": [
    {
     "data": {
      "text/plain": [
       "{4, 5, 6}"
      ]
     },
     "execution_count": 204,
     "metadata": {},
     "output_type": "execute_result"
    }
   ],
   "source": [
    "set2"
   ]
  },
  {
   "cell_type": "code",
   "execution_count": 205,
   "id": "d617c9ef",
   "metadata": {},
   "outputs": [],
   "source": [
    "# Conversion of decimal to binary\n",
    "num = 10\n",
    "num_bin = bin(num)"
   ]
  },
  {
   "cell_type": "code",
   "execution_count": 206,
   "id": "2e06d614",
   "metadata": {},
   "outputs": [
    {
     "data": {
      "text/plain": [
       "str"
      ]
     },
     "execution_count": 206,
     "metadata": {},
     "output_type": "execute_result"
    }
   ],
   "source": [
    "type(num_bin)"
   ]
  },
  {
   "cell_type": "code",
   "execution_count": 207,
   "id": "858a8534",
   "metadata": {},
   "outputs": [
    {
     "data": {
      "text/plain": [
       "'0b1010'"
      ]
     },
     "execution_count": 207,
     "metadata": {},
     "output_type": "execute_result"
    }
   ],
   "source": [
    "num_bin"
   ]
  },
  {
   "cell_type": "code",
   "execution_count": 208,
   "id": "05989137",
   "metadata": {},
   "outputs": [],
   "source": [
    "num_hex = hex(num)"
   ]
  },
  {
   "cell_type": "code",
   "execution_count": 209,
   "id": "40257502",
   "metadata": {},
   "outputs": [
    {
     "data": {
      "text/plain": [
       "'0xa'"
      ]
     },
     "execution_count": 209,
     "metadata": {},
     "output_type": "execute_result"
    }
   ],
   "source": [
    "num_hex"
   ]
  },
  {
   "cell_type": "code",
   "execution_count": 210,
   "id": "ffc88b1b",
   "metadata": {},
   "outputs": [],
   "source": [
    "bin_to_num = int(num_bin, 2)"
   ]
  },
  {
   "cell_type": "code",
   "execution_count": 211,
   "id": "c9e37e40",
   "metadata": {},
   "outputs": [
    {
     "data": {
      "text/plain": [
       "10"
      ]
     },
     "execution_count": 211,
     "metadata": {},
     "output_type": "execute_result"
    }
   ],
   "source": [
    "bin_to_num"
   ]
  },
  {
   "cell_type": "code",
   "execution_count": 212,
   "id": "cc51b176",
   "metadata": {},
   "outputs": [],
   "source": [
    "hex_to_num = int(num_hex, 16)"
   ]
  },
  {
   "cell_type": "code",
   "execution_count": 213,
   "id": "e93ccdfb",
   "metadata": {},
   "outputs": [
    {
     "data": {
      "text/plain": [
       "int"
      ]
     },
     "execution_count": 213,
     "metadata": {},
     "output_type": "execute_result"
    }
   ],
   "source": [
    "type(hex_to_num)"
   ]
  },
  {
   "cell_type": "code",
   "execution_count": 214,
   "id": "d187e99f",
   "metadata": {},
   "outputs": [
    {
     "data": {
      "text/plain": [
       "10"
      ]
     },
     "execution_count": 214,
     "metadata": {},
     "output_type": "execute_result"
    }
   ],
   "source": [
    "hex_to_num"
   ]
  },
  {
   "cell_type": "markdown",
   "id": "10e2d4b8",
   "metadata": {},
   "source": [
    "# Conditioanl Statements:"
   ]
  },
  {
   "cell_type": "markdown",
   "id": "bfc5bbad",
   "metadata": {},
   "source": [
    "### If / Elif / Else"
   ]
  },
  {
   "cell_type": "markdown",
   "id": "6f371bca",
   "metadata": {},
   "source": [
    "- Donot mix space with tab in code"
   ]
  },
  {
   "cell_type": "code",
   "execution_count": 215,
   "id": "fd016419",
   "metadata": {},
   "outputs": [
    {
     "name": "stdout",
     "output_type": "stream",
     "text": [
      "x is greater than 5\n"
     ]
    }
   ],
   "source": [
    "x = 10\n",
    "\n",
    "if x >5:\n",
    "    print('x is greater than 5')"
   ]
  },
  {
   "cell_type": "code",
   "execution_count": 216,
   "id": "90622d5f",
   "metadata": {},
   "outputs": [
    {
     "name": "stdout",
     "output_type": "stream",
     "text": [
      "x is less than 20\n"
     ]
    }
   ],
   "source": [
    "if x < 20:\n",
    "    print('x is less than 20')"
   ]
  },
  {
   "cell_type": "code",
   "execution_count": 217,
   "id": "6e6d482a",
   "metadata": {},
   "outputs": [
    {
     "name": "stdout",
     "output_type": "stream",
     "text": [
      "x equals to 20.\n"
     ]
    }
   ],
   "source": [
    "y = 20\n",
    "if y > 20:\n",
    "    print('x is greater than 20.')\n",
    "else:\n",
    "    print('x equals to 20.')"
   ]
  },
  {
   "cell_type": "code",
   "execution_count": 218,
   "id": "3f967810",
   "metadata": {},
   "outputs": [
    {
     "name": "stdout",
     "output_type": "stream",
     "text": [
      "z is less than 20.\n"
     ]
    }
   ],
   "source": [
    "z = 19\n",
    "if z > 20:\n",
    "    print('z is greater than 20.')\n",
    "elif z <20:\n",
    "    print('z is less than 20.')\n",
    "elif z == 20:\n",
    "    print('z is equal to 20.')\n",
    "else:\n",
    "    print('No other condtion is true.')"
   ]
  },
  {
   "cell_type": "markdown",
   "id": "63f361cb",
   "metadata": {},
   "source": [
    "### For / For - Else"
   ]
  },
  {
   "cell_type": "code",
   "execution_count": 219,
   "id": "0276b0ad",
   "metadata": {},
   "outputs": [
    {
     "name": "stdout",
     "output_type": "stream",
     "text": [
      "Aaravi is our kid.\n",
      "Aayara is our kid.\n",
      "Aarvik is our kid.\n"
     ]
    }
   ],
   "source": [
    "kids = ['Aaravi', 'Aayara', 'Aarvik']\n",
    "for item in kids:\n",
    "    print(f'{item} is our kid.')"
   ]
  },
  {
   "cell_type": "code",
   "execution_count": 220,
   "id": "dccf4b1f",
   "metadata": {},
   "outputs": [
    {
     "name": "stdout",
     "output_type": "stream",
     "text": [
      "I\n",
      "n\n",
      " \n",
      "G\n",
      "o\n",
      "d\n",
      " \n",
      "W\n",
      "e\n",
      " \n",
      "T\n",
      "r\n",
      "u\n",
      "s\n",
      "t\n"
     ]
    }
   ],
   "source": [
    "america = 'In God We Trust'\n",
    "for item in america:\n",
    "    print(item)"
   ]
  },
  {
   "cell_type": "code",
   "execution_count": 221,
   "id": "993dfc83",
   "metadata": {},
   "outputs": [
    {
     "name": "stdout",
     "output_type": "stream",
     "text": [
      "18\n",
      "19\n",
      "20\n",
      "21\n",
      "22\n",
      "23\n",
      "24\n",
      "25\n",
      "26\n",
      "27\n",
      "28\n",
      "29\n",
      "30\n",
      "31\n",
      "32\n",
      "33\n",
      "34\n",
      "35\n",
      "36\n",
      "37\n",
      "38\n",
      "39\n",
      "40\n",
      "41\n",
      "42\n",
      "43\n",
      "44\n",
      "45\n",
      "46\n",
      "47\n",
      "48\n",
      "49\n",
      "50\n",
      "51\n",
      "52\n",
      "53\n",
      "54\n",
      "55\n",
      "56\n",
      "57\n",
      "58\n",
      "59\n",
      "60\n",
      "61\n",
      "62\n",
      "63\n",
      "64\n",
      "65\n",
      "66\n",
      "67\n",
      "68\n",
      "69\n",
      "70\n",
      "71\n",
      "72\n",
      "73\n",
      "74\n",
      "75\n",
      "76\n",
      "77\n",
      "78\n",
      "79\n",
      "80\n",
      "81\n",
      "82\n",
      "83\n",
      "84\n",
      "85\n",
      "86\n",
      "87\n",
      "88\n",
      "89\n",
      "90\n",
      "91\n",
      "92\n",
      "93\n",
      "94\n",
      "95\n",
      "96\n",
      "97\n",
      "98\n",
      "99\n",
      "100\n",
      "101\n",
      "102\n",
      "103\n",
      "104\n",
      "105\n",
      "106\n",
      "107\n",
      "108\n",
      "109\n",
      "110\n"
     ]
    }
   ],
   "source": [
    "ages = range(18, 111)\n",
    "for age in ages:\n",
    "    print(age)"
   ]
  },
  {
   "cell_type": "code",
   "execution_count": 222,
   "id": "f81b49d7",
   "metadata": {},
   "outputs": [
    {
     "data": {
      "text/plain": [
       "3"
      ]
     },
     "execution_count": 222,
     "metadata": {},
     "output_type": "execute_result"
    }
   ],
   "source": [
    "len(kids)"
   ]
  },
  {
   "cell_type": "code",
   "execution_count": 223,
   "id": "5e4fb5db",
   "metadata": {},
   "outputs": [
    {
     "name": "stdout",
     "output_type": "stream",
     "text": [
      "6\n",
      "6\n",
      "6\n"
     ]
    }
   ],
   "source": [
    "for item in kids:\n",
    "    print(len(item))"
   ]
  },
  {
   "cell_type": "markdown",
   "id": "8f96da71",
   "metadata": {},
   "source": [
    "- We need enumerate function to use index and item together."
   ]
  },
  {
   "cell_type": "code",
   "execution_count": 224,
   "id": "bd8c0ef9",
   "metadata": {},
   "outputs": [
    {
     "name": "stdout",
     "output_type": "stream",
     "text": [
      "0 Aaravi\n",
      "1 Aayara\n",
      "2 Aarvik\n",
      "The end of for loop.\n"
     ]
    }
   ],
   "source": [
    "for index, item in enumerate(kids):\n",
    "    print(index, item)\n",
    "else:\n",
    "    print('The end of for loop.')"
   ]
  },
  {
   "cell_type": "markdown",
   "id": "888b6899",
   "metadata": {},
   "source": [
    "### While / While - Else"
   ]
  },
  {
   "cell_type": "code",
   "execution_count": 225,
   "id": "b28e8799",
   "metadata": {},
   "outputs": [
    {
     "name": "stdout",
     "output_type": "stream",
     "text": [
      "11\n",
      "12\n",
      "13\n",
      "14\n",
      "15\n",
      "16\n",
      "17\n",
      "18\n",
      "19\n",
      "20\n",
      "21\n"
     ]
    }
   ],
   "source": [
    "item = 10\n",
    "while item <= 20:\n",
    "    item = item + 1\n",
    "    print(f'{item}')"
   ]
  },
  {
   "cell_type": "code",
   "execution_count": 226,
   "id": "c3f5133e",
   "metadata": {},
   "outputs": [
    {
     "name": "stdout",
     "output_type": "stream",
     "text": [
      "11\n",
      "12\n",
      "13\n",
      "14\n",
      "15\n",
      "16\n",
      "17\n",
      "18\n",
      "19\n",
      "20\n",
      "21\n",
      "Now item value is greater than 20.\n"
     ]
    }
   ],
   "source": [
    "item = 10\n",
    "while item <= 20:\n",
    "    item = item + 1\n",
    "    print(f'{item}')\n",
    "else:\n",
    "    print('Now item value is greater than 20.')"
   ]
  },
  {
   "cell_type": "markdown",
   "id": "fd51bbbc",
   "metadata": {},
   "source": [
    "# Nested Structures IF / FOR / WHILE"
   ]
  },
  {
   "cell_type": "code",
   "execution_count": 227,
   "id": "413a2e89",
   "metadata": {},
   "outputs": [
    {
     "name": "stdout",
     "output_type": "stream",
     "text": [
      "40\n",
      "80\n",
      "120\n",
      "4\n",
      "50\n",
      "100\n",
      "150\n",
      "5\n",
      "60\n",
      "120\n",
      "180\n",
      "6\n"
     ]
    }
   ],
   "source": [
    "list1 = [4, 5, 6]\n",
    "list2 = [10, 20, 30]\n",
    "for i in list1:\n",
    "    for j in list2:\n",
    "        print(i*j)\n",
    "    print(i)"
   ]
  },
  {
   "cell_type": "code",
   "execution_count": 228,
   "id": "ffda4d01",
   "metadata": {},
   "outputs": [
    {
     "name": "stdout",
     "output_type": "stream",
     "text": [
      "6\n",
      "7\n",
      "8\n",
      "9\n",
      "10\n",
      "11\n",
      "6\n",
      "7\n",
      "8\n",
      "9\n",
      "10\n",
      "11\n",
      "6\n",
      "7\n",
      "8\n",
      "9\n",
      "10\n",
      "11\n",
      "6\n",
      "7\n",
      "8\n",
      "9\n",
      "10\n",
      "11\n",
      "6\n",
      "7\n",
      "8\n",
      "9\n",
      "10\n",
      "11\n",
      "6\n",
      "7\n",
      "8\n",
      "9\n",
      "10\n",
      "11\n",
      "6\n",
      "7\n",
      "8\n",
      "9\n",
      "10\n",
      "11\n",
      "6\n",
      "7\n",
      "8\n",
      "9\n",
      "10\n",
      "11\n",
      "6\n",
      "7\n",
      "8\n",
      "9\n",
      "10\n",
      "11\n",
      "6\n",
      "7\n",
      "8\n",
      "9\n",
      "10\n",
      "11\n"
     ]
    }
   ],
   "source": [
    "x = 1\n",
    "while x <= 10:\n",
    "    x += 1\n",
    "    z = 5\n",
    "    while z <= 10:\n",
    "        z += 1\n",
    "        print(z)\n",
    "        "
   ]
  },
  {
   "cell_type": "markdown",
   "id": "350d8cbc",
   "metadata": {},
   "source": [
    "# Break / Continue / Pass # Again"
   ]
  },
  {
   "cell_type": "code",
   "execution_count": 229,
   "id": "264c4f46",
   "metadata": {},
   "outputs": [
    {
     "name": "stdout",
     "output_type": "stream",
     "text": [
      "0\n",
      "1\n",
      "2\n",
      "3\n",
      "4\n",
      "5\n",
      "6\n",
      "7\n",
      "8\n",
      "9\n",
      "10\n",
      "11\n",
      "12\n",
      "13\n",
      "14\n",
      "15\n",
      "16\n",
      "17\n"
     ]
    }
   ],
   "source": [
    "for number in range(20):\n",
    "    if number == 18:\n",
    "        break\n",
    "    print(number)"
   ]
  },
  {
   "cell_type": "code",
   "execution_count": 230,
   "id": "1bba662b",
   "metadata": {},
   "outputs": [
    {
     "name": "stdout",
     "output_type": "stream",
     "text": [
      "40\n",
      "Outside the nested loop\n",
      "50\n",
      "Outside the nested loop\n",
      "60\n",
      "Outside the nested loop\n"
     ]
    }
   ],
   "source": [
    "for i in list1:\n",
    "    for j in list2:\n",
    "        if j == 20:\n",
    "            break\n",
    "        print(i*j)\n",
    "    print(\"Outside the nested loop\")"
   ]
  },
  {
   "cell_type": "markdown",
   "id": "e44c4834",
   "metadata": {},
   "source": [
    "### Continue"
   ]
  },
  {
   "cell_type": "code",
   "execution_count": 470,
   "id": "4c721f2e",
   "metadata": {},
   "outputs": [],
   "source": [
    "list1 = range(10)"
   ]
  },
  {
   "cell_type": "code",
   "execution_count": 472,
   "id": "b7b85270",
   "metadata": {},
   "outputs": [
    {
     "name": "stdout",
     "output_type": "stream",
     "text": [
      "0\n",
      "1\n",
      "2\n",
      "3\n",
      "4\n",
      "6\n",
      "7\n",
      "8\n",
      "9\n"
     ]
    }
   ],
   "source": [
    "for i in list1:\n",
    "    if i == 5:\n",
    "        continue\n",
    "    print(i)"
   ]
  },
  {
   "cell_type": "code",
   "execution_count": 231,
   "id": "efe805d6",
   "metadata": {},
   "outputs": [],
   "source": [
    "list1 = [4, 5, 6]\n",
    "list2 = [10, 20, 30]"
   ]
  },
  {
   "cell_type": "code",
   "execution_count": null,
   "id": "8bb73e05",
   "metadata": {},
   "outputs": [],
   "source": []
  },
  {
   "cell_type": "code",
   "execution_count": 232,
   "id": "7bac5cfc",
   "metadata": {},
   "outputs": [
    {
     "name": "stdout",
     "output_type": "stream",
     "text": [
      "40\n",
      "120\n",
      "Outside the nested loop\n",
      "50\n",
      "150\n",
      "Outside the nested loop\n",
      "60\n",
      "180\n",
      "Outside the nested loop\n"
     ]
    }
   ],
   "source": [
    "for i in list1:\n",
    "    for j in list2:\n",
    "        if j == 20:\n",
    "            continue\n",
    "        print(i*j)\n",
    "    print(\"Outside the nested loop\")"
   ]
  },
  {
   "cell_type": "markdown",
   "id": "db1cd518",
   "metadata": {},
   "source": [
    "### Pass"
   ]
  },
  {
   "cell_type": "code",
   "execution_count": 233,
   "id": "49fc0d07",
   "metadata": {},
   "outputs": [],
   "source": [
    "for i in list1:\n",
    "  pass"
   ]
  },
  {
   "cell_type": "markdown",
   "id": "d9f7cd02",
   "metadata": {},
   "source": [
    "# Error in Python\n",
    "- Syntax Error\n",
    "- Name Error\n",
    "- ZeroDivisionError"
   ]
  },
  {
   "cell_type": "markdown",
   "id": "9fec4c67",
   "metadata": {},
   "source": [
    "### Try /Except / Else / Finally"
   ]
  },
  {
   "cell_type": "code",
   "execution_count": 234,
   "id": "28e128de",
   "metadata": {},
   "outputs": [
    {
     "ename": "SyntaxError",
     "evalue": "invalid syntax (1030121891.py, line 3)",
     "output_type": "error",
     "traceback": [
      "\u001b[0;36m  File \u001b[0;32m\"/var/folders/zq/x5sj66553p9dvbt1_y838q_h0000gn/T/ipykernel_16998/1030121891.py\"\u001b[0;36m, line \u001b[0;32m3\u001b[0m\n\u001b[0;31m    code to be executed\u001b[0m\n\u001b[0m         ^\u001b[0m\n\u001b[0;31mSyntaxError\u001b[0m\u001b[0;31m:\u001b[0m invalid syntax\n"
     ]
    }
   ],
   "source": [
    "# Format of the code\n",
    "try:\n",
    "    code to be executed\n",
    "except:\n",
    "    code in case code fails"
   ]
  },
  {
   "cell_type": "code",
   "execution_count": 235,
   "id": "c31df9c5",
   "metadata": {},
   "outputs": [
    {
     "name": "stdout",
     "output_type": "stream",
     "text": [
      "division by zero --> Division by 0 is not allowed.\n"
     ]
    }
   ],
   "source": [
    "try:\n",
    "    for i in range(5):\n",
    "        print(i/0)\n",
    "except ZeroDivisionError as e:\n",
    "    print(e, '--> Division by 0 is not allowed.')\n",
    "    "
   ]
  },
  {
   "cell_type": "code",
   "execution_count": 236,
   "id": "c153d7d3",
   "metadata": {},
   "outputs": [
    {
     "name": "stdout",
     "output_type": "stream",
     "text": [
      "0.0\n",
      "0.5\n",
      "1.0\n",
      "1.5\n",
      "2.0\n"
     ]
    }
   ],
   "source": [
    "try:\n",
    "    for i in range(5):\n",
    "        print(i/2)\n",
    "except ZeroDivisionError as e:\n",
    "    print(e, '--> Division by 0 is not allowed.')"
   ]
  },
  {
   "cell_type": "code",
   "execution_count": 237,
   "id": "52367cd1",
   "metadata": {},
   "outputs": [
    {
     "ename": "IndentationError",
     "evalue": "expected an indented block (3029444041.py, line 10)",
     "output_type": "error",
     "traceback": [
      "\u001b[0;36m  File \u001b[0;32m\"/var/folders/zq/x5sj66553p9dvbt1_y838q_h0000gn/T/ipykernel_16998/3029444041.py\"\u001b[0;36m, line \u001b[0;32m10\u001b[0m\n\u001b[0;31m    finally:\u001b[0m\n\u001b[0m    ^\u001b[0m\n\u001b[0;31mIndentationError\u001b[0m\u001b[0;31m:\u001b[0m expected an indented block\n"
     ]
    }
   ],
   "source": [
    "# Catching all possible errors but not recommended\n",
    "\n",
    "try:\n",
    "    for i in range(5):\n",
    "        print(i/0)\n",
    "except :\n",
    "    print('There is error but find it your self.')\n",
    "else: \n",
    "    # in case there is no ecception\n",
    "finally:\n",
    "    # It will be executed whether there is error in try block or not."
   ]
  },
  {
   "cell_type": "code",
   "execution_count": 238,
   "id": "c35f0b04",
   "metadata": {},
   "outputs": [
    {
     "name": "stdout",
     "output_type": "stream",
     "text": [
      "0.0\n",
      "0.5\n",
      "1.0\n",
      "1.5\n",
      "2.0\n",
      "Code in else clause is executed in case of no exception\n",
      "Code in finally clause is executed regardless of exception or not\n"
     ]
    }
   ],
   "source": [
    "# Catching all possible errors but not recommended\n",
    "\n",
    "try:\n",
    "    for i in range(5):\n",
    "        print(i/2)\n",
    "except :\n",
    "    print('There is error but find it your self.')\n",
    "else: \n",
    "    print('Code in else clause is executed in case of no exception')# in case there is no ecception\n",
    "finally:\n",
    "    print('Code in finally clause is executed regardless of exception or not')# It will be executed whether there is error in try block or not."
   ]
  },
  {
   "cell_type": "markdown",
   "id": "b2b094b4",
   "metadata": {},
   "source": [
    "### Syntax Errror"
   ]
  },
  {
   "cell_type": "markdown",
   "id": "9b754d81",
   "metadata": {},
   "source": [
    "- Error message are important as they may tell about name, location and cause of error."
   ]
  },
  {
   "cell_type": "markdown",
   "id": "4587184d",
   "metadata": {},
   "source": [
    "### Fixing Exceptions"
   ]
  },
  {
   "cell_type": "markdown",
   "id": "539047dc",
   "metadata": {},
   "source": [
    "- ImportError\n",
    "- ModuleNotFoundError\n",
    "- ZeroDivisionError\n",
    "- NameError\n",
    "- TypeError\n",
    "- IndexError\n",
    "- KeyBoardInterrupt"
   ]
  },
  {
   "cell_type": "markdown",
   "id": "2e46a699",
   "metadata": {},
   "source": [
    "# Functions"
   ]
  },
  {
   "cell_type": "code",
   "execution_count": 239,
   "id": "9f715aa5",
   "metadata": {},
   "outputs": [],
   "source": [
    "def my_first_function():\n",
    "    'This is my first function' # docs string\n",
    "    print('Hello Python')"
   ]
  },
  {
   "cell_type": "code",
   "execution_count": 240,
   "id": "268677e9",
   "metadata": {},
   "outputs": [
    {
     "name": "stdout",
     "output_type": "stream",
     "text": [
      "Hello Python\n"
     ]
    }
   ],
   "source": [
    "my_first_function()"
   ]
  },
  {
   "cell_type": "code",
   "execution_count": 241,
   "id": "072feca9",
   "metadata": {},
   "outputs": [
    {
     "name": "stdout",
     "output_type": "stream",
     "text": [
      "Help on function my_first_function in module __main__:\n",
      "\n",
      "my_first_function()\n",
      "    This is my first function\n",
      "\n"
     ]
    }
   ],
   "source": [
    "help(my_first_function)"
   ]
  },
  {
   "cell_type": "markdown",
   "id": "06362240",
   "metadata": {},
   "source": [
    "- Functions are dynamic structures."
   ]
  },
  {
   "cell_type": "code",
   "execution_count": 242,
   "id": "277f3955",
   "metadata": {},
   "outputs": [],
   "source": [
    "def my_first_function(x):\n",
    "    'This is my first function' # docs string\n",
    "    print(f'Hello {x}')"
   ]
  },
  {
   "cell_type": "code",
   "execution_count": 243,
   "id": "a044c2a7",
   "metadata": {},
   "outputs": [
    {
     "name": "stdout",
     "output_type": "stream",
     "text": [
      "Hello Python\n"
     ]
    }
   ],
   "source": [
    "my_first_function('Python')"
   ]
  },
  {
   "cell_type": "code",
   "execution_count": 244,
   "id": "dd52aca6",
   "metadata": {},
   "outputs": [
    {
     "name": "stdout",
     "output_type": "stream",
     "text": [
      "Hello Java\n"
     ]
    }
   ],
   "source": [
    "my_first_function('Java')"
   ]
  },
  {
   "cell_type": "markdown",
   "id": "98ab172d",
   "metadata": {},
   "source": [
    "- Parameters are the ones written inside parenthesis while defining a function.\n",
    "- Arguments are the ones written inside parenthesis while calling a function."
   ]
  },
  {
   "cell_type": "code",
   "execution_count": 245,
   "id": "bb18d1f9",
   "metadata": {},
   "outputs": [],
   "source": [
    "def my_second_function(x, y):\n",
    "    print(\"Hello \" + x + \"!\")\n",
    "    print(\"Hello \" + y + \"!\")"
   ]
  },
  {
   "cell_type": "code",
   "execution_count": 246,
   "id": "d8ea9219",
   "metadata": {},
   "outputs": [
    {
     "name": "stdout",
     "output_type": "stream",
     "text": [
      "Hello Aaravi!\n",
      "Hello Aayara!\n"
     ]
    }
   ],
   "source": [
    "my_second_function(\"Aaravi\", \"Aayara\")"
   ]
  },
  {
   "cell_type": "code",
   "execution_count": 247,
   "id": "41fa4b54",
   "metadata": {},
   "outputs": [],
   "source": [
    "def my_sum(x, y):\n",
    "    sum1 = x + y\n",
    "    return sum1\n",
    "    "
   ]
  },
  {
   "cell_type": "code",
   "execution_count": 248,
   "id": "9cdb3b93",
   "metadata": {},
   "outputs": [
    {
     "data": {
      "text/plain": [
       "7"
      ]
     },
     "execution_count": 248,
     "metadata": {},
     "output_type": "execute_result"
    }
   ],
   "source": [
    "my_sum(2, 5)"
   ]
  },
  {
   "cell_type": "code",
   "execution_count": 249,
   "id": "632c3885",
   "metadata": {},
   "outputs": [
    {
     "data": {
      "text/plain": [
       "7.0"
      ]
     },
     "execution_count": 249,
     "metadata": {},
     "output_type": "execute_result"
    }
   ],
   "source": [
    "my_sum(2.5, 4.5)"
   ]
  },
  {
   "cell_type": "markdown",
   "id": "47a0cb77",
   "metadata": {},
   "source": [
    "# Functions - Arguments"
   ]
  },
  {
   "cell_type": "markdown",
   "id": "8185b63d",
   "metadata": {},
   "source": [
    "- Positional Arguments\n",
    "- Keywords Arguments\n",
    "- Mixed Arguments with Keywords Arguments at last\n",
    "- Default Arguments : Assigned while defining function\n",
    "\n"
   ]
  },
  {
   "cell_type": "markdown",
   "id": "7e9f0b4d",
   "metadata": {},
   "source": [
    "# Functions - Namespaces"
   ]
  },
  {
   "cell_type": "markdown",
   "id": "18c0034a",
   "metadata": {},
   "source": [
    "- Built-in namespace\n",
    "- Global namespace\n",
    "- Local namespace"
   ]
  },
  {
   "cell_type": "markdown",
   "id": "eca781b5",
   "metadata": {},
   "source": [
    "# Modules and Importing Modules"
   ]
  },
  {
   "cell_type": "code",
   "execution_count": 250,
   "id": "ee0ab4bc",
   "metadata": {},
   "outputs": [
    {
     "data": {
      "text/plain": [
       "['__doc__',\n",
       " '__file__',\n",
       " '__loader__',\n",
       " '__name__',\n",
       " '__package__',\n",
       " '__spec__',\n",
       " 'acos',\n",
       " 'acosh',\n",
       " 'asin',\n",
       " 'asinh',\n",
       " 'atan',\n",
       " 'atan2',\n",
       " 'atanh',\n",
       " 'ceil',\n",
       " 'comb',\n",
       " 'copysign',\n",
       " 'cos',\n",
       " 'cosh',\n",
       " 'degrees',\n",
       " 'dist',\n",
       " 'e',\n",
       " 'erf',\n",
       " 'erfc',\n",
       " 'exp',\n",
       " 'expm1',\n",
       " 'fabs',\n",
       " 'factorial',\n",
       " 'floor',\n",
       " 'fmod',\n",
       " 'frexp',\n",
       " 'fsum',\n",
       " 'gamma',\n",
       " 'gcd',\n",
       " 'hypot',\n",
       " 'inf',\n",
       " 'isclose',\n",
       " 'isfinite',\n",
       " 'isinf',\n",
       " 'isnan',\n",
       " 'isqrt',\n",
       " 'ldexp',\n",
       " 'lgamma',\n",
       " 'log',\n",
       " 'log10',\n",
       " 'log1p',\n",
       " 'log2',\n",
       " 'modf',\n",
       " 'nan',\n",
       " 'perm',\n",
       " 'pi',\n",
       " 'pow',\n",
       " 'prod',\n",
       " 'radians',\n",
       " 'remainder',\n",
       " 'sin',\n",
       " 'sinh',\n",
       " 'sqrt',\n",
       " 'tan',\n",
       " 'tanh',\n",
       " 'tau',\n",
       " 'trunc']"
      ]
     },
     "execution_count": 250,
     "metadata": {},
     "output_type": "execute_result"
    }
   ],
   "source": [
    "import math\n",
    "dir(math)"
   ]
  },
  {
   "cell_type": "code",
   "execution_count": 251,
   "id": "2f8bad37",
   "metadata": {},
   "outputs": [
    {
     "data": {
      "text/plain": [
       "3.141592653589793"
      ]
     },
     "execution_count": 251,
     "metadata": {},
     "output_type": "execute_result"
    }
   ],
   "source": [
    "math.pi"
   ]
  },
  {
   "cell_type": "code",
   "execution_count": 252,
   "id": "a53c11ff",
   "metadata": {},
   "outputs": [
    {
     "data": {
      "text/plain": [
       "<function math.sin(x, /)>"
      ]
     },
     "execution_count": 252,
     "metadata": {},
     "output_type": "execute_result"
    }
   ],
   "source": [
    "math.sin"
   ]
  },
  {
   "cell_type": "code",
   "execution_count": 253,
   "id": "29533b9a",
   "metadata": {},
   "outputs": [
    {
     "data": {
      "text/plain": [
       "['BooleanDtype',\n",
       " 'Categorical',\n",
       " 'CategoricalDtype',\n",
       " 'CategoricalIndex',\n",
       " 'DataFrame',\n",
       " 'DateOffset',\n",
       " 'DatetimeIndex',\n",
       " 'DatetimeTZDtype',\n",
       " 'ExcelFile',\n",
       " 'ExcelWriter',\n",
       " 'Flags',\n",
       " 'Float32Dtype',\n",
       " 'Float64Dtype',\n",
       " 'Float64Index',\n",
       " 'Grouper',\n",
       " 'HDFStore',\n",
       " 'Index',\n",
       " 'IndexSlice',\n",
       " 'Int16Dtype',\n",
       " 'Int32Dtype',\n",
       " 'Int64Dtype',\n",
       " 'Int64Index',\n",
       " 'Int8Dtype',\n",
       " 'Interval',\n",
       " 'IntervalDtype',\n",
       " 'IntervalIndex',\n",
       " 'MultiIndex',\n",
       " 'NA',\n",
       " 'NaT',\n",
       " 'NamedAgg',\n",
       " 'Period',\n",
       " 'PeriodDtype',\n",
       " 'PeriodIndex',\n",
       " 'RangeIndex',\n",
       " 'Series',\n",
       " 'SparseDtype',\n",
       " 'StringDtype',\n",
       " 'Timedelta',\n",
       " 'TimedeltaIndex',\n",
       " 'Timestamp',\n",
       " 'UInt16Dtype',\n",
       " 'UInt32Dtype',\n",
       " 'UInt64Dtype',\n",
       " 'UInt64Index',\n",
       " 'UInt8Dtype',\n",
       " '__builtins__',\n",
       " '__cached__',\n",
       " '__doc__',\n",
       " '__docformat__',\n",
       " '__file__',\n",
       " '__getattr__',\n",
       " '__git_version__',\n",
       " '__loader__',\n",
       " '__name__',\n",
       " '__package__',\n",
       " '__path__',\n",
       " '__spec__',\n",
       " '__version__',\n",
       " '_config',\n",
       " '_hashtable',\n",
       " '_is_numpy_dev',\n",
       " '_lib',\n",
       " '_libs',\n",
       " '_np_version_under1p18',\n",
       " '_testing',\n",
       " '_tslib',\n",
       " '_typing',\n",
       " '_version',\n",
       " 'api',\n",
       " 'array',\n",
       " 'arrays',\n",
       " 'bdate_range',\n",
       " 'compat',\n",
       " 'concat',\n",
       " 'core',\n",
       " 'crosstab',\n",
       " 'cut',\n",
       " 'date_range',\n",
       " 'describe_option',\n",
       " 'errors',\n",
       " 'eval',\n",
       " 'factorize',\n",
       " 'get_dummies',\n",
       " 'get_option',\n",
       " 'infer_freq',\n",
       " 'interval_range',\n",
       " 'io',\n",
       " 'isna',\n",
       " 'isnull',\n",
       " 'json_normalize',\n",
       " 'lreshape',\n",
       " 'melt',\n",
       " 'merge',\n",
       " 'merge_asof',\n",
       " 'merge_ordered',\n",
       " 'notna',\n",
       " 'notnull',\n",
       " 'offsets',\n",
       " 'option_context',\n",
       " 'options',\n",
       " 'pandas',\n",
       " 'period_range',\n",
       " 'pivot',\n",
       " 'pivot_table',\n",
       " 'plotting',\n",
       " 'qcut',\n",
       " 'read_clipboard',\n",
       " 'read_csv',\n",
       " 'read_excel',\n",
       " 'read_feather',\n",
       " 'read_fwf',\n",
       " 'read_gbq',\n",
       " 'read_hdf',\n",
       " 'read_html',\n",
       " 'read_json',\n",
       " 'read_orc',\n",
       " 'read_parquet',\n",
       " 'read_pickle',\n",
       " 'read_sas',\n",
       " 'read_spss',\n",
       " 'read_sql',\n",
       " 'read_sql_query',\n",
       " 'read_sql_table',\n",
       " 'read_stata',\n",
       " 'read_table',\n",
       " 'read_xml',\n",
       " 'reset_option',\n",
       " 'set_eng_float_format',\n",
       " 'set_option',\n",
       " 'show_versions',\n",
       " 'test',\n",
       " 'testing',\n",
       " 'timedelta_range',\n",
       " 'to_datetime',\n",
       " 'to_numeric',\n",
       " 'to_pickle',\n",
       " 'to_timedelta',\n",
       " 'tseries',\n",
       " 'unique',\n",
       " 'util',\n",
       " 'value_counts',\n",
       " 'wide_to_long']"
      ]
     },
     "execution_count": 253,
     "metadata": {},
     "output_type": "execute_result"
    }
   ],
   "source": [
    "import pandas\n",
    "dir(pandas)"
   ]
  },
  {
   "cell_type": "code",
   "execution_count": 254,
   "id": "93f4faeb",
   "metadata": {},
   "outputs": [],
   "source": [
    "import my_module"
   ]
  },
  {
   "cell_type": "code",
   "execution_count": 255,
   "id": "4497d260",
   "metadata": {},
   "outputs": [],
   "source": [
    "import my_module"
   ]
  },
  {
   "cell_type": "code",
   "execution_count": 256,
   "id": "44f39cb0",
   "metadata": {},
   "outputs": [
    {
     "name": "stdout",
     "output_type": "stream",
     "text": [
      "this is my app!\n"
     ]
    }
   ],
   "source": [
    "import python_app"
   ]
  },
  {
   "cell_type": "markdown",
   "id": "c27f9a4a",
   "metadata": {},
   "source": [
    "### Modules - Helpful Functions: dir() and help()"
   ]
  },
  {
   "cell_type": "code",
   "execution_count": 257,
   "id": "6568bc34",
   "metadata": {},
   "outputs": [],
   "source": [
    "import sys\n"
   ]
  },
  {
   "cell_type": "code",
   "execution_count": 258,
   "id": "8abefa1d",
   "metadata": {},
   "outputs": [
    {
     "name": "stdout",
     "output_type": "stream",
     "text": [
      "Help on built-in module sys:\n",
      "\n",
      "NAME\n",
      "    sys\n",
      "\n",
      "MODULE REFERENCE\n",
      "    https://docs.python.org/3.8/library/sys\n",
      "    \n",
      "    The following documentation is automatically generated from the Python\n",
      "    source files.  It may be incomplete, incorrect or include features that\n",
      "    are considered implementation detail and may vary between Python\n",
      "    implementations.  When in doubt, consult the module reference at the\n",
      "    location listed above.\n",
      "\n",
      "DESCRIPTION\n",
      "    This module provides access to some objects used or maintained by the\n",
      "    interpreter and to functions that interact strongly with the interpreter.\n",
      "    \n",
      "    Dynamic objects:\n",
      "    \n",
      "    argv -- command line arguments; argv[0] is the script pathname if known\n",
      "    path -- module search path; path[0] is the script directory, else ''\n",
      "    modules -- dictionary of loaded modules\n",
      "    \n",
      "    displayhook -- called to show results in an interactive session\n",
      "    excepthook -- called to handle any uncaught exception other than SystemExit\n",
      "      To customize printing in an interactive session or to install a custom\n",
      "      top-level exception handler, assign other functions to replace these.\n",
      "    \n",
      "    stdin -- standard input file object; used by input()\n",
      "    stdout -- standard output file object; used by print()\n",
      "    stderr -- standard error object; used for error messages\n",
      "      By assigning other file objects (or objects that behave like files)\n",
      "      to these, it is possible to redirect all of the interpreter's I/O.\n",
      "    \n",
      "    last_type -- type of last uncaught exception\n",
      "    last_value -- value of last uncaught exception\n",
      "    last_traceback -- traceback of last uncaught exception\n",
      "      These three are only available in an interactive session after a\n",
      "      traceback has been printed.\n",
      "    \n",
      "    Static objects:\n",
      "    \n",
      "    builtin_module_names -- tuple of module names built into this interpreter\n",
      "    copyright -- copyright notice pertaining to this interpreter\n",
      "    exec_prefix -- prefix used to find the machine-specific Python library\n",
      "    executable -- absolute path of the executable binary of the Python interpreter\n",
      "    float_info -- a named tuple with information about the float implementation.\n",
      "    float_repr_style -- string indicating the style of repr() output for floats\n",
      "    hash_info -- a named tuple with information about the hash algorithm.\n",
      "    hexversion -- version information encoded as a single integer\n",
      "    implementation -- Python implementation information.\n",
      "    int_info -- a named tuple with information about the int implementation.\n",
      "    maxsize -- the largest supported length of containers.\n",
      "    maxunicode -- the value of the largest Unicode code point\n",
      "    platform -- platform identifier\n",
      "    prefix -- prefix used to find the Python library\n",
      "    thread_info -- a named tuple with information about the thread implementation.\n",
      "    version -- the version of this interpreter as a string\n",
      "    version_info -- version information as a named tuple\n",
      "    __stdin__ -- the original stdin; don't touch!\n",
      "    __stdout__ -- the original stdout; don't touch!\n",
      "    __stderr__ -- the original stderr; don't touch!\n",
      "    __displayhook__ -- the original displayhook; don't touch!\n",
      "    __excepthook__ -- the original excepthook; don't touch!\n",
      "    \n",
      "    Functions:\n",
      "    \n",
      "    displayhook() -- print an object to the screen, and save it in builtins._\n",
      "    excepthook() -- print an exception and its traceback to sys.stderr\n",
      "    exc_info() -- return thread-safe information about the current exception\n",
      "    exit() -- exit the interpreter by raising SystemExit\n",
      "    getdlopenflags() -- returns flags to be used for dlopen() calls\n",
      "    getprofile() -- get the global profiling function\n",
      "    getrefcount() -- return the reference count for an object (plus one :-)\n",
      "    getrecursionlimit() -- return the max recursion depth for the interpreter\n",
      "    getsizeof() -- return the size of an object in bytes\n",
      "    gettrace() -- get the global debug tracing function\n",
      "    setcheckinterval() -- control how often the interpreter checks for events\n",
      "    setdlopenflags() -- set the flags to be used for dlopen() calls\n",
      "    setprofile() -- set the global profiling function\n",
      "    setrecursionlimit() -- set the max recursion depth for the interpreter\n",
      "    settrace() -- set the global debug tracing function\n",
      "\n",
      "FUNCTIONS\n",
      "    __breakpointhook__ = breakpointhook(...)\n",
      "        breakpointhook(*args, **kws)\n",
      "        \n",
      "        This hook function is called by built-in breakpoint().\n",
      "    \n",
      "    __displayhook__ = displayhook(object, /)\n",
      "        Print an object to sys.stdout and also save it in builtins._\n",
      "    \n",
      "    __excepthook__ = excepthook(exctype, value, traceback, /)\n",
      "        Handle an exception by displaying it with a traceback on sys.stderr.\n",
      "    \n",
      "    __unraisablehook__ = unraisablehook(unraisable, /)\n",
      "        Handle an unraisable exception.\n",
      "        \n",
      "        The unraisable argument has the following attributes:\n",
      "        \n",
      "        * exc_type: Exception type.\n",
      "        * exc_value: Exception value, can be None.\n",
      "        * exc_traceback: Exception traceback, can be None.\n",
      "        * err_msg: Error message, can be None.\n",
      "        * object: Object causing the exception, can be None.\n",
      "    \n",
      "    addaudithook(hook)\n",
      "        Adds a new audit hook callback.\n",
      "    \n",
      "    audit(...)\n",
      "        audit(event, *args)\n",
      "        \n",
      "        Passes the event to any audit hooks that are attached.\n",
      "    \n",
      "    call_tracing(func, args, /)\n",
      "        Call func(*args), while tracing is enabled.\n",
      "        \n",
      "        The tracing state is saved, and restored afterwards.  This is intended\n",
      "        to be called from a debugger from a checkpoint, to recursively debug\n",
      "        some other code.\n",
      "    \n",
      "    callstats()\n",
      "        Return a tuple of function call statistics.\n",
      "        \n",
      "        A tuple is returned only if CALL_PROFILE was defined when Python was\n",
      "        built.  Otherwise, this returns None.\n",
      "        \n",
      "        When enabled, this function returns detailed, implementation-specific\n",
      "        details about the number of function calls executed. The return value\n",
      "        is a 11-tuple where the entries in the tuple are counts of:\n",
      "        0. all function calls\n",
      "        1. calls to PyFunction_Type objects\n",
      "        2. PyFunction calls that do not create an argument tuple\n",
      "        3. PyFunction calls that do not create an argument tuple\n",
      "           and bypass PyEval_EvalCodeEx()\n",
      "        4. PyMethod calls\n",
      "        5. PyMethod calls on bound methods\n",
      "        6. PyType calls\n",
      "        7. PyCFunction calls\n",
      "        8. generator calls\n",
      "        9. All other calls\n",
      "        10. Number of stack pops performed by call_function()\n",
      "    \n",
      "    exc_info()\n",
      "        Return current exception information: (type, value, traceback).\n",
      "        \n",
      "        Return information about the most recent exception caught by an except\n",
      "        clause in the current stack frame or in an older stack frame.\n",
      "    \n",
      "    exit(status=None, /)\n",
      "        Exit the interpreter by raising SystemExit(status).\n",
      "        \n",
      "        If the status is omitted or None, it defaults to zero (i.e., success).\n",
      "        If the status is an integer, it will be used as the system exit status.\n",
      "        If it is another kind of object, it will be printed and the system\n",
      "        exit status will be one (i.e., failure).\n",
      "    \n",
      "    get_asyncgen_hooks()\n",
      "        Return the installed asynchronous generators hooks.\n",
      "        \n",
      "        This returns a namedtuple of the form (firstiter, finalizer).\n",
      "    \n",
      "    get_coroutine_origin_tracking_depth()\n",
      "        Check status of origin tracking for coroutine objects in this thread.\n",
      "    \n",
      "    getallocatedblocks()\n",
      "        Return the number of memory blocks currently allocated.\n",
      "    \n",
      "    getcheckinterval()\n",
      "        Return the current check interval; see sys.setcheckinterval().\n",
      "    \n",
      "    getdefaultencoding()\n",
      "        Return the current default encoding used by the Unicode implementation.\n",
      "    \n",
      "    getdlopenflags()\n",
      "        Return the current value of the flags that are used for dlopen calls.\n",
      "        \n",
      "        The flag constants are defined in the os module.\n",
      "    \n",
      "    getfilesystemencodeerrors()\n",
      "        Return the error mode used Unicode to OS filename conversion.\n",
      "    \n",
      "    getfilesystemencoding()\n",
      "        Return the encoding used to convert Unicode filenames to OS filenames.\n",
      "    \n",
      "    getprofile()\n",
      "        Return the profiling function set with sys.setprofile.\n",
      "        \n",
      "        See the profiler chapter in the library manual.\n",
      "    \n",
      "    getrecursionlimit()\n",
      "        Return the current value of the recursion limit.\n",
      "        \n",
      "        The recursion limit is the maximum depth of the Python interpreter\n",
      "        stack.  This limit prevents infinite recursion from causing an overflow\n",
      "        of the C stack and crashing Python.\n",
      "    \n",
      "    getrefcount(object, /)\n",
      "        Return the reference count of object.\n",
      "        \n",
      "        The count returned is generally one higher than you might expect,\n",
      "        because it includes the (temporary) reference as an argument to\n",
      "        getrefcount().\n",
      "    \n",
      "    getsizeof(...)\n",
      "        getsizeof(object [, default]) -> int\n",
      "        \n",
      "        Return the size of object in bytes.\n",
      "    \n",
      "    getswitchinterval()\n",
      "        Return the current thread switch interval; see sys.setswitchinterval().\n",
      "    \n",
      "    gettrace()\n",
      "        Return the global debug tracing function set with sys.settrace.\n",
      "        \n",
      "        See the debugger chapter in the library manual.\n",
      "    \n",
      "    intern(string, /)\n",
      "        ``Intern'' the given string.\n",
      "        \n",
      "        This enters the string in the (global) table of interned strings whose\n",
      "        purpose is to speed up dictionary lookups. Return the string itself or\n",
      "        the previously interned string object with the same value.\n",
      "    \n",
      "    is_finalizing()\n",
      "        Return True if Python is exiting.\n",
      "    \n",
      "    set_asyncgen_hooks(...)\n",
      "        set_asyncgen_hooks(* [, firstiter] [, finalizer])\n",
      "        \n",
      "        Set a finalizer for async generators objects.\n",
      "    \n",
      "    set_coroutine_origin_tracking_depth(depth)\n",
      "        Enable or disable origin tracking for coroutine objects in this thread.\n",
      "        \n",
      "        Coroutine objects will track 'depth' frames of traceback information\n",
      "        about where they came from, available in their cr_origin attribute.\n",
      "        \n",
      "        Set a depth of 0 to disable.\n",
      "    \n",
      "    setcheckinterval(n, /)\n",
      "        Set the async event check interval to n instructions.\n",
      "        \n",
      "        This tells the Python interpreter to check for asynchronous events\n",
      "        every n instructions.\n",
      "        \n",
      "        This also affects how often thread switches occur.\n",
      "    \n",
      "    setdlopenflags(flags, /)\n",
      "        Set the flags used by the interpreter for dlopen calls.\n",
      "        \n",
      "        This is used, for example, when the interpreter loads extension\n",
      "        modules. Among other things, this will enable a lazy resolving of\n",
      "        symbols when importing a module, if called as sys.setdlopenflags(0).\n",
      "        To share symbols across extension modules, call as\n",
      "        sys.setdlopenflags(os.RTLD_GLOBAL).  Symbolic names for the flag\n",
      "        modules can be found in the os module (RTLD_xxx constants, e.g.\n",
      "        os.RTLD_LAZY).\n",
      "    \n",
      "    setprofile(...)\n",
      "        setprofile(function)\n",
      "        \n",
      "        Set the profiling function.  It will be called on each function call\n",
      "        and return.  See the profiler chapter in the library manual.\n",
      "    \n",
      "    setrecursionlimit(limit, /)\n",
      "        Set the maximum depth of the Python interpreter stack to n.\n",
      "        \n",
      "        This limit prevents infinite recursion from causing an overflow of the C\n",
      "        stack and crashing Python.  The highest possible limit is platform-\n",
      "        dependent.\n",
      "    \n",
      "    setswitchinterval(interval, /)\n",
      "        Set the ideal thread switching delay inside the Python interpreter.\n",
      "        \n",
      "        The actual frequency of switching threads can be lower if the\n",
      "        interpreter executes long sequences of uninterruptible code\n",
      "        (this is implementation-specific and workload-dependent).\n",
      "        \n",
      "        The parameter must represent the desired switching delay in seconds\n",
      "        A typical value is 0.005 (5 milliseconds).\n",
      "    \n",
      "    settrace(...)\n",
      "        settrace(function)\n",
      "        \n",
      "        Set the global debug tracing function.  It will be called on each\n",
      "        function call.  See the debugger chapter in the library manual.\n",
      "    \n",
      "    unraisablehook(unraisable, /)\n",
      "        Handle an unraisable exception.\n",
      "        \n",
      "        The unraisable argument has the following attributes:\n",
      "        \n",
      "        * exc_type: Exception type.\n",
      "        * exc_value: Exception value, can be None.\n",
      "        * exc_traceback: Exception traceback, can be None.\n",
      "        * err_msg: Error message, can be None.\n",
      "        * object: Object causing the exception, can be None.\n",
      "\n",
      "DATA\n",
      "    __stderr__ = <_io.TextIOWrapper name='<stderr>' mode='w' encoding='utf...\n",
      "    __stdin__ = <_io.TextIOWrapper name='<stdin>' mode='r' encoding='utf-8...\n",
      "    __stdout__ = <_io.TextIOWrapper name='<stdout>' mode='w' encoding='utf...\n",
      "    abiflags = ''\n",
      "    api_version = 1013\n",
      "    argv = ['/opt/homebrew/anaconda3/lib/python3.8/site-packages/ipykernel...\n",
      "    base_exec_prefix = '/opt/homebrew/anaconda3'\n",
      "    base_prefix = '/opt/homebrew/anaconda3'\n",
      "    builtin_module_names = ('_abc', '_ast', '_codecs', '_collections', '_f...\n",
      "    byteorder = 'little'\n",
      "    copyright = 'Copyright (c) 2001-2021 Python Software Foundati...ematis...\n",
      "    displayhook = <ipykernel.displayhook.ZMQShellDisplayHook object>\n",
      "    dont_write_bytecode = False\n",
      "    exec_prefix = '/opt/homebrew/anaconda3'\n",
      "    executable = '/opt/homebrew/anaconda3/bin/python'\n",
      "    flags = sys.flags(debug=0, inspect=0, interactive=0, opt...ation=1, is...\n",
      "    float_info = sys.float_info(max=1.7976931348623157e+308, max_...epsilo...\n",
      "    float_repr_style = 'short'\n",
      "    hash_info = sys.hash_info(width=64, modulus=2305843009213693...iphash2...\n",
      "    hexversion = 50858224\n",
      "    implementation = namespace(_multiarch='darwin', cache_tag='cpytho...in...\n",
      "    int_info = sys.int_info(bits_per_digit=30, sizeof_digit=4)\n",
      "    last_value = IndentationError('expected an indented block', (...ernel_...\n",
      "    maxsize = 9223372036854775807\n",
      "    maxunicode = 1114111\n",
      "    meta_path = [<class '_frozen_importlib.BuiltinImporter'>, <class '_fro...\n",
      "    modules = {'IPython': <module 'IPython' from '/opt/homebrew/anaconda3/...\n",
      "    path = ['/Users/rajaramgautam/codeup-data-science/job_training', '/opt...\n",
      "    path_hooks = [<class 'zipimport.zipimporter'>, <function FileFinder.pa...\n",
      "    path_importer_cache = {'/Users/rajaramgautam/.ipython': FileFinder('/U...\n",
      "    platform = 'darwin'\n",
      "    prefix = '/opt/homebrew/anaconda3'\n",
      "    ps1 = 'In : '\n",
      "    ps2 = '...: '\n",
      "    ps3 = 'Out: '\n",
      "    pycache_prefix = None\n",
      "    stderr = <ipykernel.iostream.OutStream object>\n",
      "    stdin = <_io.TextIOWrapper name='<stdin>' mode='r' encoding='utf-8'>\n",
      "    stdout = <ipykernel.iostream.OutStream object>\n",
      "    thread_info = sys.thread_info(name='pthread', lock='mutex+cond', versi...\n",
      "    version = '3.8.8 (default, Apr 13 2021, 12:59:45) \\n[Clang 10.0.0 ]'\n",
      "    version_info = sys.version_info(major=3, minor=8, micro=8, releaseleve...\n",
      "    warnoptions = []\n",
      "\n",
      "FILE\n",
      "    (built-in)\n",
      "\n",
      "\n"
     ]
    }
   ],
   "source": [
    "help(sys)"
   ]
  },
  {
   "cell_type": "code",
   "execution_count": 259,
   "id": "41cac9f8",
   "metadata": {},
   "outputs": [
    {
     "data": {
      "text/plain": [
       "['__breakpointhook__',\n",
       " '__displayhook__',\n",
       " '__doc__',\n",
       " '__excepthook__',\n",
       " '__interactivehook__',\n",
       " '__loader__',\n",
       " '__name__',\n",
       " '__package__',\n",
       " '__spec__',\n",
       " '__stderr__',\n",
       " '__stdin__',\n",
       " '__stdout__',\n",
       " '__unraisablehook__',\n",
       " '_base_executable',\n",
       " '_clear_type_cache',\n",
       " '_current_frames',\n",
       " '_debugmallocstats',\n",
       " '_framework',\n",
       " '_getframe',\n",
       " '_git',\n",
       " '_home',\n",
       " '_xoptions',\n",
       " 'abiflags',\n",
       " 'addaudithook',\n",
       " 'api_version',\n",
       " 'argv',\n",
       " 'audit',\n",
       " 'base_exec_prefix',\n",
       " 'base_prefix',\n",
       " 'breakpointhook',\n",
       " 'builtin_module_names',\n",
       " 'byteorder',\n",
       " 'call_tracing',\n",
       " 'callstats',\n",
       " 'copyright',\n",
       " 'displayhook',\n",
       " 'dont_write_bytecode',\n",
       " 'exc_info',\n",
       " 'excepthook',\n",
       " 'exec_prefix',\n",
       " 'executable',\n",
       " 'exit',\n",
       " 'flags',\n",
       " 'float_info',\n",
       " 'float_repr_style',\n",
       " 'get_asyncgen_hooks',\n",
       " 'get_coroutine_origin_tracking_depth',\n",
       " 'getallocatedblocks',\n",
       " 'getcheckinterval',\n",
       " 'getdefaultencoding',\n",
       " 'getdlopenflags',\n",
       " 'getfilesystemencodeerrors',\n",
       " 'getfilesystemencoding',\n",
       " 'getprofile',\n",
       " 'getrecursionlimit',\n",
       " 'getrefcount',\n",
       " 'getsizeof',\n",
       " 'getswitchinterval',\n",
       " 'gettrace',\n",
       " 'hash_info',\n",
       " 'hexversion',\n",
       " 'implementation',\n",
       " 'int_info',\n",
       " 'intern',\n",
       " 'is_finalizing',\n",
       " 'last_traceback',\n",
       " 'last_type',\n",
       " 'last_value',\n",
       " 'maxsize',\n",
       " 'maxunicode',\n",
       " 'meta_path',\n",
       " 'modules',\n",
       " 'path',\n",
       " 'path_hooks',\n",
       " 'path_importer_cache',\n",
       " 'platform',\n",
       " 'prefix',\n",
       " 'ps1',\n",
       " 'ps2',\n",
       " 'ps3',\n",
       " 'pycache_prefix',\n",
       " 'set_asyncgen_hooks',\n",
       " 'set_coroutine_origin_tracking_depth',\n",
       " 'setcheckinterval',\n",
       " 'setdlopenflags',\n",
       " 'setprofile',\n",
       " 'setrecursionlimit',\n",
       " 'setswitchinterval',\n",
       " 'settrace',\n",
       " 'stderr',\n",
       " 'stdin',\n",
       " 'stdout',\n",
       " 'thread_info',\n",
       " 'unraisablehook',\n",
       " 'version',\n",
       " 'version_info',\n",
       " 'warnoptions']"
      ]
     },
     "execution_count": 259,
     "metadata": {},
     "output_type": "execute_result"
    }
   ],
   "source": [
    "dir(sys)"
   ]
  },
  {
   "cell_type": "code",
   "execution_count": 260,
   "id": "5e5e9590",
   "metadata": {},
   "outputs": [
    {
     "name": "stdout",
     "output_type": "stream",
     "text": [
      "Help on package pandas:\n",
      "\n",
      "NAME\n",
      "    pandas\n",
      "\n",
      "DESCRIPTION\n",
      "    pandas - a powerful data analysis and manipulation library for Python\n",
      "    =====================================================================\n",
      "    \n",
      "    **pandas** is a Python package providing fast, flexible, and expressive data\n",
      "    structures designed to make working with \"relational\" or \"labeled\" data both\n",
      "    easy and intuitive. It aims to be the fundamental high-level building block for\n",
      "    doing practical, **real world** data analysis in Python. Additionally, it has\n",
      "    the broader goal of becoming **the most powerful and flexible open source data\n",
      "    analysis / manipulation tool available in any language**. It is already well on\n",
      "    its way toward this goal.\n",
      "    \n",
      "    Main Features\n",
      "    -------------\n",
      "    Here are just a few of the things that pandas does well:\n",
      "    \n",
      "      - Easy handling of missing data in floating point as well as non-floating\n",
      "        point data.\n",
      "      - Size mutability: columns can be inserted and deleted from DataFrame and\n",
      "        higher dimensional objects\n",
      "      - Automatic and explicit data alignment: objects can be explicitly aligned\n",
      "        to a set of labels, or the user can simply ignore the labels and let\n",
      "        `Series`, `DataFrame`, etc. automatically align the data for you in\n",
      "        computations.\n",
      "      - Powerful, flexible group by functionality to perform split-apply-combine\n",
      "        operations on data sets, for both aggregating and transforming data.\n",
      "      - Make it easy to convert ragged, differently-indexed data in other Python\n",
      "        and NumPy data structures into DataFrame objects.\n",
      "      - Intelligent label-based slicing, fancy indexing, and subsetting of large\n",
      "        data sets.\n",
      "      - Intuitive merging and joining data sets.\n",
      "      - Flexible reshaping and pivoting of data sets.\n",
      "      - Hierarchical labeling of axes (possible to have multiple labels per tick).\n",
      "      - Robust IO tools for loading data from flat files (CSV and delimited),\n",
      "        Excel files, databases, and saving/loading data from the ultrafast HDF5\n",
      "        format.\n",
      "      - Time series-specific functionality: date range generation and frequency\n",
      "        conversion, moving window statistics, date shifting and lagging.\n",
      "\n",
      "PACKAGE CONTENTS\n",
      "    _config (package)\n",
      "    _libs (package)\n",
      "    _testing (package)\n",
      "    _typing\n",
      "    _version\n",
      "    api (package)\n",
      "    arrays (package)\n",
      "    compat (package)\n",
      "    conftest\n",
      "    core (package)\n",
      "    errors (package)\n",
      "    io (package)\n",
      "    plotting (package)\n",
      "    testing\n",
      "    tests (package)\n",
      "    tseries (package)\n",
      "    util (package)\n",
      "\n",
      "SUBMODULES\n",
      "    _hashtable\n",
      "    _lib\n",
      "    _tslib\n",
      "    offsets\n",
      "\n",
      "FUNCTIONS\n",
      "    __getattr__(name)\n",
      "        # GH 27101\n",
      "\n",
      "DATA\n",
      "    IndexSlice = <pandas.core.indexing._IndexSlice object>\n",
      "    NA = <NA>\n",
      "    NaT = NaT\n",
      "    __docformat__ = 'restructuredtext'\n",
      "    __git_version__ = '73c68257545b5f8530b7044f56647bd2db92e2ba'\n",
      "    describe_option = <pandas._config.config.CallableDynamicDoc object>\n",
      "    get_option = <pandas._config.config.CallableDynamicDoc object>\n",
      "    options = <pandas._config.config.DictWrapper object>\n",
      "    reset_option = <pandas._config.config.CallableDynamicDoc object>\n",
      "    set_option = <pandas._config.config.CallableDynamicDoc object>\n",
      "\n",
      "VERSION\n",
      "    1.3.3\n",
      "\n",
      "FILE\n",
      "    /opt/homebrew/anaconda3/lib/python3.8/site-packages/pandas/__init__.py\n",
      "\n",
      "\n"
     ]
    }
   ],
   "source": [
    "help(pandas)"
   ]
  },
  {
   "cell_type": "markdown",
   "id": "eb773a00",
   "metadata": {},
   "source": [
    "# openpyxl"
   ]
  },
  {
   "cell_type": "code",
   "execution_count": 261,
   "id": "a2dd8078",
   "metadata": {},
   "outputs": [],
   "source": [
    "import openpyxl"
   ]
  },
  {
   "cell_type": "markdown",
   "id": "d98c756a",
   "metadata": {},
   "source": [
    "# Opening & Reading"
   ]
  },
  {
   "cell_type": "code",
   "execution_count": 262,
   "id": "4602fb67",
   "metadata": {},
   "outputs": [],
   "source": [
    "myfile = open('routers.txt', 'r')\n",
    "# r - reading, w - writing, a - appending, b - binary, x - exclusive creation"
   ]
  },
  {
   "cell_type": "code",
   "execution_count": 263,
   "id": "335df5fe",
   "metadata": {},
   "outputs": [],
   "source": [
    "# myfile = open('routers.txt', 'w')"
   ]
  },
  {
   "cell_type": "code",
   "execution_count": 264,
   "id": "b527a9e8",
   "metadata": {},
   "outputs": [
    {
     "data": {
      "text/plain": [
       "'r'"
      ]
     },
     "execution_count": 264,
     "metadata": {},
     "output_type": "execute_result"
    }
   ],
   "source": [
    "myfile.mode"
   ]
  },
  {
   "cell_type": "code",
   "execution_count": 265,
   "id": "6d775d45",
   "metadata": {},
   "outputs": [
    {
     "data": {
      "text/plain": [
       "'Cisco\\nJuniper\\nHP\\nAvaya\\nNortel\\nArista\\nLinksys'"
      ]
     },
     "execution_count": 265,
     "metadata": {},
     "output_type": "execute_result"
    }
   ],
   "source": [
    "myfile.read()"
   ]
  },
  {
   "cell_type": "code",
   "execution_count": 266,
   "id": "fff4ef33",
   "metadata": {},
   "outputs": [
    {
     "data": {
      "text/plain": [
       "''"
      ]
     },
     "execution_count": 266,
     "metadata": {},
     "output_type": "execute_result"
    }
   ],
   "source": [
    "myfile.read(5)"
   ]
  },
  {
   "cell_type": "code",
   "execution_count": 267,
   "id": "b00bdd7d",
   "metadata": {},
   "outputs": [
    {
     "data": {
      "text/plain": [
       "0"
      ]
     },
     "execution_count": 267,
     "metadata": {},
     "output_type": "execute_result"
    }
   ],
   "source": [
    "myfile.seek(0)"
   ]
  },
  {
   "cell_type": "code",
   "execution_count": 268,
   "id": "06272037",
   "metadata": {},
   "outputs": [
    {
     "data": {
      "text/plain": [
       "'Cisco'"
      ]
     },
     "execution_count": 268,
     "metadata": {},
     "output_type": "execute_result"
    }
   ],
   "source": [
    "myfile.read(5)"
   ]
  },
  {
   "cell_type": "code",
   "execution_count": 269,
   "id": "754cf237",
   "metadata": {},
   "outputs": [
    {
     "data": {
      "text/plain": [
       "5"
      ]
     },
     "execution_count": 269,
     "metadata": {},
     "output_type": "execute_result"
    }
   ],
   "source": [
    "myfile.tell()"
   ]
  },
  {
   "cell_type": "code",
   "execution_count": 270,
   "id": "adca21dc",
   "metadata": {},
   "outputs": [
    {
     "data": {
      "text/plain": [
       "'\\nJuni'"
      ]
     },
     "execution_count": 270,
     "metadata": {},
     "output_type": "execute_result"
    }
   ],
   "source": [
    "myfile.read(5)"
   ]
  },
  {
   "cell_type": "code",
   "execution_count": 271,
   "id": "5359127a",
   "metadata": {},
   "outputs": [
    {
     "data": {
      "text/plain": [
       "0"
      ]
     },
     "execution_count": 271,
     "metadata": {},
     "output_type": "execute_result"
    }
   ],
   "source": [
    "myfile.seek(0)"
   ]
  },
  {
   "cell_type": "code",
   "execution_count": 272,
   "id": "1d27223d",
   "metadata": {},
   "outputs": [
    {
     "data": {
      "text/plain": [
       "'Cisco\\n'"
      ]
     },
     "execution_count": 272,
     "metadata": {},
     "output_type": "execute_result"
    }
   ],
   "source": [
    "myfile.readline()"
   ]
  },
  {
   "cell_type": "code",
   "execution_count": 273,
   "id": "63c63557",
   "metadata": {},
   "outputs": [
    {
     "data": {
      "text/plain": [
       "'Juniper\\n'"
      ]
     },
     "execution_count": 273,
     "metadata": {},
     "output_type": "execute_result"
    }
   ],
   "source": [
    "myfile.readline()"
   ]
  },
  {
   "cell_type": "code",
   "execution_count": 274,
   "id": "5f0eb42d",
   "metadata": {},
   "outputs": [
    {
     "data": {
      "text/plain": [
       "'HP\\n'"
      ]
     },
     "execution_count": 274,
     "metadata": {},
     "output_type": "execute_result"
    }
   ],
   "source": [
    "myfile.readline()"
   ]
  },
  {
   "cell_type": "code",
   "execution_count": 275,
   "id": "a7a4fb5f",
   "metadata": {},
   "outputs": [
    {
     "data": {
      "text/plain": [
       "'Avaya\\n'"
      ]
     },
     "execution_count": 275,
     "metadata": {},
     "output_type": "execute_result"
    }
   ],
   "source": [
    "myfile.readline()"
   ]
  },
  {
   "cell_type": "code",
   "execution_count": 276,
   "id": "79d94d63",
   "metadata": {},
   "outputs": [
    {
     "data": {
      "text/plain": [
       "'Nortel\\n'"
      ]
     },
     "execution_count": 276,
     "metadata": {},
     "output_type": "execute_result"
    }
   ],
   "source": [
    "myfile.readline()"
   ]
  },
  {
   "cell_type": "code",
   "execution_count": 277,
   "id": "71e013a9",
   "metadata": {},
   "outputs": [
    {
     "data": {
      "text/plain": [
       "'Arista\\n'"
      ]
     },
     "execution_count": 277,
     "metadata": {},
     "output_type": "execute_result"
    }
   ],
   "source": [
    "myfile.readline()"
   ]
  },
  {
   "cell_type": "code",
   "execution_count": 278,
   "id": "0d975ea9",
   "metadata": {},
   "outputs": [
    {
     "data": {
      "text/plain": [
       "'Linksys'"
      ]
     },
     "execution_count": 278,
     "metadata": {},
     "output_type": "execute_result"
    }
   ],
   "source": [
    "myfile.readline()"
   ]
  },
  {
   "cell_type": "code",
   "execution_count": 279,
   "id": "a397556e",
   "metadata": {},
   "outputs": [
    {
     "data": {
      "text/plain": [
       "''"
      ]
     },
     "execution_count": 279,
     "metadata": {},
     "output_type": "execute_result"
    }
   ],
   "source": [
    "myfile.readline()"
   ]
  },
  {
   "cell_type": "code",
   "execution_count": 280,
   "id": "24fdb343",
   "metadata": {},
   "outputs": [
    {
     "data": {
      "text/plain": [
       "0"
      ]
     },
     "execution_count": 280,
     "metadata": {},
     "output_type": "execute_result"
    }
   ],
   "source": [
    "myfile.seek(0)"
   ]
  },
  {
   "cell_type": "code",
   "execution_count": 281,
   "id": "f419c170",
   "metadata": {},
   "outputs": [
    {
     "data": {
      "text/plain": [
       "['Cisco\\n', 'Juniper\\n', 'HP\\n', 'Avaya\\n', 'Nortel\\n', 'Arista\\n', 'Linksys']"
      ]
     },
     "execution_count": 281,
     "metadata": {},
     "output_type": "execute_result"
    }
   ],
   "source": [
    "myfile.readlines()"
   ]
  },
  {
   "cell_type": "code",
   "execution_count": 282,
   "id": "bae1b608",
   "metadata": {},
   "outputs": [
    {
     "data": {
      "text/plain": [
       "[]"
      ]
     },
     "execution_count": 282,
     "metadata": {},
     "output_type": "execute_result"
    }
   ],
   "source": [
    "myfile.readlines()"
   ]
  },
  {
   "cell_type": "code",
   "execution_count": 283,
   "id": "af995fce",
   "metadata": {},
   "outputs": [
    {
     "data": {
      "text/plain": [
       "0"
      ]
     },
     "execution_count": 283,
     "metadata": {},
     "output_type": "execute_result"
    }
   ],
   "source": [
    "myfile.seek(0)"
   ]
  },
  {
   "cell_type": "code",
   "execution_count": 284,
   "id": "fb904ad2",
   "metadata": {},
   "outputs": [
    {
     "name": "stdout",
     "output_type": "stream",
     "text": [
      "Avaya\n",
      "\n",
      "Arista\n",
      "\n"
     ]
    }
   ],
   "source": [
    "for line in myfile.readlines():\n",
    "    if line.startswith('A'):\n",
    "        print(line)"
   ]
  },
  {
   "cell_type": "code",
   "execution_count": 285,
   "id": "13e80781",
   "metadata": {},
   "outputs": [
    {
     "data": {
      "text/plain": [
       "0"
      ]
     },
     "execution_count": 285,
     "metadata": {},
     "output_type": "execute_result"
    }
   ],
   "source": [
    "myfile.seek(0)"
   ]
  },
  {
   "cell_type": "code",
   "execution_count": 286,
   "id": "a152c11c",
   "metadata": {},
   "outputs": [
    {
     "name": "stdout",
     "output_type": "stream",
     "text": [
      "Cisco\n",
      "\n",
      "Juniper\n",
      "\n",
      "HP\n",
      "\n",
      "Avaya\n",
      "\n",
      "Nortel\n",
      "\n",
      "Arista\n",
      "\n",
      "Linksys\n"
     ]
    }
   ],
   "source": [
    "for line in myfile.readlines():\n",
    "    print(line)"
   ]
  },
  {
   "cell_type": "code",
   "execution_count": 287,
   "id": "c3ea950a",
   "metadata": {},
   "outputs": [
    {
     "data": {
      "text/plain": [
       "0"
      ]
     },
     "execution_count": 287,
     "metadata": {},
     "output_type": "execute_result"
    }
   ],
   "source": [
    "myfile.seek(0)"
   ]
  },
  {
   "cell_type": "code",
   "execution_count": 290,
   "id": "5d8270d6",
   "metadata": {},
   "outputs": [],
   "source": [
    "myfile = open('routers2.txt', 'x')"
   ]
  },
  {
   "cell_type": "code",
   "execution_count": 291,
   "id": "4c6b566b",
   "metadata": {},
   "outputs": [
    {
     "data": {
      "text/plain": [
       "0"
      ]
     },
     "execution_count": 291,
     "metadata": {},
     "output_type": "execute_result"
    }
   ],
   "source": [
    "myfile.tell()"
   ]
  },
  {
   "cell_type": "markdown",
   "id": "ba10ff9d",
   "metadata": {},
   "source": [
    "# Additional Way of Avoiding the Unicode Error"
   ]
  },
  {
   "cell_type": "markdown",
   "id": "2c1cc7fd",
   "metadata": {},
   "source": [
    "- r in front of string will remove unicode string or double \\."
   ]
  },
  {
   "cell_type": "markdown",
   "id": "bf34df2d",
   "metadata": {},
   "source": [
    "# Writing and Appending"
   ]
  },
  {
   "cell_type": "code",
   "execution_count": 292,
   "id": "dd9735eb",
   "metadata": {},
   "outputs": [],
   "source": [
    "newfile = open('routers2.txt', 'w')"
   ]
  },
  {
   "cell_type": "code",
   "execution_count": 293,
   "id": "c14d5ed7",
   "metadata": {},
   "outputs": [
    {
     "data": {
      "text/plain": [
       "43"
      ]
     },
     "execution_count": 293,
     "metadata": {},
     "output_type": "execute_result"
    }
   ],
   "source": [
    "newfile.write(\"I like to code in Python! \\n Do you as well?\")"
   ]
  },
  {
   "cell_type": "code",
   "execution_count": 295,
   "id": "c15ec5ec",
   "metadata": {},
   "outputs": [],
   "source": [
    "newfile.close()"
   ]
  },
  {
   "cell_type": "code",
   "execution_count": 296,
   "id": "c2dae937",
   "metadata": {},
   "outputs": [],
   "source": [
    "newfile = open('routers2.txt', 'w')"
   ]
  },
  {
   "cell_type": "code",
   "execution_count": 297,
   "id": "97ae8041",
   "metadata": {},
   "outputs": [
    {
     "data": {
      "text/plain": [
       "77"
      ]
     },
     "execution_count": 297,
     "metadata": {},
     "output_type": "execute_result"
    }
   ],
   "source": [
    "newfile.write(\"We can write anything here. \\n But we should close it before, it gets updated.\")"
   ]
  },
  {
   "cell_type": "code",
   "execution_count": 298,
   "id": "ef21bcee",
   "metadata": {},
   "outputs": [],
   "source": [
    "newfile.close()"
   ]
  },
  {
   "cell_type": "code",
   "execution_count": 300,
   "id": "7b1b076a",
   "metadata": {},
   "outputs": [],
   "source": [
    "newfile = open('routers2.txt', 'w')"
   ]
  },
  {
   "cell_type": "code",
   "execution_count": 301,
   "id": "00fcc509",
   "metadata": {},
   "outputs": [
    {
     "data": {
      "text/plain": [
       "31"
      ]
     },
     "execution_count": 301,
     "metadata": {},
     "output_type": "execute_result"
    }
   ],
   "source": [
    "newfile.write('This time, it will get updated.')"
   ]
  },
  {
   "cell_type": "code",
   "execution_count": 302,
   "id": "53940a97",
   "metadata": {},
   "outputs": [],
   "source": [
    "newfile.close()"
   ]
  },
  {
   "cell_type": "code",
   "execution_count": 303,
   "id": "fe90b73e",
   "metadata": {},
   "outputs": [],
   "source": [
    "newfile = open('routers2.txt', 'w')"
   ]
  },
  {
   "cell_type": "code",
   "execution_count": 304,
   "id": "1632a535",
   "metadata": {},
   "outputs": [],
   "source": [
    "newfile.writelines(('Cisco1', 'Juniper1', 'HP1'))"
   ]
  },
  {
   "cell_type": "code",
   "execution_count": 305,
   "id": "9d8d9274",
   "metadata": {},
   "outputs": [],
   "source": [
    "newfile.close()"
   ]
  },
  {
   "cell_type": "code",
   "execution_count": 306,
   "id": "e6076c41",
   "metadata": {},
   "outputs": [],
   "source": [
    "newfile = open('routers2.txt', 'a')"
   ]
  },
  {
   "cell_type": "code",
   "execution_count": 307,
   "id": "69c32f0d",
   "metadata": {},
   "outputs": [
    {
     "data": {
      "text/plain": [
       "44"
      ]
     },
     "execution_count": 307,
     "metadata": {},
     "output_type": "execute_result"
    }
   ],
   "source": [
    "newfile.write('I am appending new thing. I am writing here.')"
   ]
  },
  {
   "cell_type": "code",
   "execution_count": 308,
   "id": "96ac97ff",
   "metadata": {},
   "outputs": [],
   "source": [
    "newfile.close()"
   ]
  },
  {
   "cell_type": "code",
   "execution_count": 309,
   "id": "a2baf473",
   "metadata": {},
   "outputs": [],
   "source": [
    "newfile = open('routers2.txt', 'w+')"
   ]
  },
  {
   "cell_type": "code",
   "execution_count": 310,
   "id": "d8beaa21",
   "metadata": {},
   "outputs": [
    {
     "data": {
      "text/plain": [
       "14"
      ]
     },
     "execution_count": 310,
     "metadata": {},
     "output_type": "execute_result"
    }
   ],
   "source": [
    "newfile.write('Something Else')"
   ]
  },
  {
   "cell_type": "code",
   "execution_count": 311,
   "id": "06a61d42",
   "metadata": {},
   "outputs": [
    {
     "data": {
      "text/plain": [
       "0"
      ]
     },
     "execution_count": 311,
     "metadata": {},
     "output_type": "execute_result"
    }
   ],
   "source": [
    "newfile.seek(0)"
   ]
  },
  {
   "cell_type": "code",
   "execution_count": 312,
   "id": "9afcc61f",
   "metadata": {},
   "outputs": [
    {
     "data": {
      "text/plain": [
       "'Something Else'"
      ]
     },
     "execution_count": 312,
     "metadata": {},
     "output_type": "execute_result"
    }
   ],
   "source": [
    "newfile.read()"
   ]
  },
  {
   "cell_type": "code",
   "execution_count": 313,
   "id": "a2fa9b1c",
   "metadata": {},
   "outputs": [],
   "source": [
    "newfile.close()"
   ]
  },
  {
   "cell_type": "code",
   "execution_count": 314,
   "id": "728978e9",
   "metadata": {},
   "outputs": [],
   "source": [
    "newfile = open('routers2.txt', 'a')"
   ]
  },
  {
   "cell_type": "code",
   "execution_count": 315,
   "id": "82cb2229",
   "metadata": {},
   "outputs": [
    {
     "data": {
      "text/plain": [
       "44"
      ]
     },
     "execution_count": 315,
     "metadata": {},
     "output_type": "execute_result"
    }
   ],
   "source": [
    "newfile.write('I am writing again. \\n We can see this again.')"
   ]
  },
  {
   "cell_type": "code",
   "execution_count": 316,
   "id": "d1ba0a97",
   "metadata": {},
   "outputs": [],
   "source": [
    "newfile.close()"
   ]
  },
  {
   "cell_type": "code",
   "execution_count": 317,
   "id": "54af12ba",
   "metadata": {},
   "outputs": [],
   "source": [
    "newfile = open('routers2.txt', 'w+')"
   ]
  },
  {
   "cell_type": "code",
   "execution_count": 320,
   "id": "4122aea7",
   "metadata": {},
   "outputs": [
    {
     "data": {
      "text/plain": [
       "0"
      ]
     },
     "execution_count": 320,
     "metadata": {},
     "output_type": "execute_result"
    }
   ],
   "source": [
    "newfile.seek(0)"
   ]
  },
  {
   "cell_type": "code",
   "execution_count": 321,
   "id": "319ec982",
   "metadata": {},
   "outputs": [
    {
     "data": {
      "text/plain": [
       "''"
      ]
     },
     "execution_count": 321,
     "metadata": {},
     "output_type": "execute_result"
    }
   ],
   "source": [
    "newfile.read()"
   ]
  },
  {
   "cell_type": "code",
   "execution_count": 322,
   "id": "3f6a5be8",
   "metadata": {},
   "outputs": [
    {
     "data": {
      "text/plain": [
       "44"
      ]
     },
     "execution_count": 322,
     "metadata": {},
     "output_type": "execute_result"
    }
   ],
   "source": [
    "newfile.write('I am writing again. \\n We can see this again.')"
   ]
  },
  {
   "cell_type": "code",
   "execution_count": 325,
   "id": "b3cf4bd1",
   "metadata": {},
   "outputs": [
    {
     "data": {
      "text/plain": [
       "0"
      ]
     },
     "execution_count": 325,
     "metadata": {},
     "output_type": "execute_result"
    }
   ],
   "source": [
    "newfile.seek(0)"
   ]
  },
  {
   "cell_type": "code",
   "execution_count": 326,
   "id": "043a8c00",
   "metadata": {},
   "outputs": [
    {
     "data": {
      "text/plain": [
       "'I am writing again. \\n We can see this again.'"
      ]
     },
     "execution_count": 326,
     "metadata": {},
     "output_type": "execute_result"
    }
   ],
   "source": [
    "newfile.read()"
   ]
  },
  {
   "cell_type": "code",
   "execution_count": 327,
   "id": "a4b28244",
   "metadata": {},
   "outputs": [],
   "source": [
    "newfile.close()"
   ]
  },
  {
   "cell_type": "code",
   "execution_count": 328,
   "id": "e6054ad5",
   "metadata": {},
   "outputs": [
    {
     "data": {
      "text/plain": [
       "True"
      ]
     },
     "execution_count": 328,
     "metadata": {},
     "output_type": "execute_result"
    }
   ],
   "source": [
    "newfile.closed"
   ]
  },
  {
   "cell_type": "markdown",
   "id": "f99e27dd",
   "metadata": {},
   "source": [
    "### Deleting File Contents in txt file"
   ]
  },
  {
   "cell_type": "code",
   "execution_count": 330,
   "id": "54c3d82d",
   "metadata": {},
   "outputs": [],
   "source": [
    "newfile = open('routers2.txt', 'r')"
   ]
  },
  {
   "cell_type": "code",
   "execution_count": 331,
   "id": "8e5a7a31",
   "metadata": {},
   "outputs": [
    {
     "data": {
      "text/plain": [
       "'I am writing again. \\n We can see this again.'"
      ]
     },
     "execution_count": 331,
     "metadata": {},
     "output_type": "execute_result"
    }
   ],
   "source": [
    "newfile.read()"
   ]
  },
  {
   "cell_type": "code",
   "execution_count": 332,
   "id": "5aa5a5b4",
   "metadata": {},
   "outputs": [],
   "source": [
    "newfile = open('routers2.txt', 'a')"
   ]
  },
  {
   "cell_type": "code",
   "execution_count": 333,
   "id": "5745e2aa",
   "metadata": {},
   "outputs": [
    {
     "data": {
      "text/plain": [
       "19"
      ]
     },
     "execution_count": 333,
     "metadata": {},
     "output_type": "execute_result"
    }
   ],
   "source": [
    "newfile.write('\\n This is addition.')"
   ]
  },
  {
   "cell_type": "code",
   "execution_count": 334,
   "id": "c55de328",
   "metadata": {},
   "outputs": [
    {
     "data": {
      "text/plain": [
       "0"
      ]
     },
     "execution_count": 334,
     "metadata": {},
     "output_type": "execute_result"
    }
   ],
   "source": [
    "newfile.seek(0)"
   ]
  },
  {
   "cell_type": "code",
   "execution_count": 336,
   "id": "f9a959f6",
   "metadata": {},
   "outputs": [],
   "source": [
    "newfile = open('routers2.txt')"
   ]
  },
  {
   "cell_type": "code",
   "execution_count": 337,
   "id": "dc7ecb6f",
   "metadata": {},
   "outputs": [
    {
     "data": {
      "text/plain": [
       "'I am writing again. \\n We can see this again.\\n This is addition.'"
      ]
     },
     "execution_count": 337,
     "metadata": {},
     "output_type": "execute_result"
    }
   ],
   "source": [
    "newfile.read()"
   ]
  },
  {
   "cell_type": "code",
   "execution_count": 338,
   "id": "4d1e42f8",
   "metadata": {},
   "outputs": [
    {
     "data": {
      "text/plain": [
       "0"
      ]
     },
     "execution_count": 338,
     "metadata": {},
     "output_type": "execute_result"
    }
   ],
   "source": [
    "newfile.seek(0)"
   ]
  },
  {
   "cell_type": "code",
   "execution_count": 339,
   "id": "9786fd47",
   "metadata": {},
   "outputs": [
    {
     "data": {
      "text/plain": [
       "63"
      ]
     },
     "execution_count": 339,
     "metadata": {},
     "output_type": "execute_result"
    }
   ],
   "source": [
    "len(newfile.read())"
   ]
  },
  {
   "cell_type": "code",
   "execution_count": 340,
   "id": "c73b7122",
   "metadata": {},
   "outputs": [],
   "source": [
    "newfile.close()"
   ]
  },
  {
   "cell_type": "code",
   "execution_count": 341,
   "id": "760b0470",
   "metadata": {},
   "outputs": [
    {
     "data": {
      "text/plain": [
       "True"
      ]
     },
     "execution_count": 341,
     "metadata": {},
     "output_type": "execute_result"
    }
   ],
   "source": [
    "newfile.closed"
   ]
  },
  {
   "cell_type": "code",
   "execution_count": 342,
   "id": "7a8fb896",
   "metadata": {},
   "outputs": [],
   "source": [
    "newfile = open('routers2.txt', 'w+')"
   ]
  },
  {
   "cell_type": "code",
   "execution_count": 343,
   "id": "3c7fec0c",
   "metadata": {},
   "outputs": [
    {
     "data": {
      "text/plain": [
       "0"
      ]
     },
     "execution_count": 343,
     "metadata": {},
     "output_type": "execute_result"
    }
   ],
   "source": [
    "newfile.truncate()"
   ]
  },
  {
   "cell_type": "code",
   "execution_count": 344,
   "id": "fa1e109b",
   "metadata": {},
   "outputs": [
    {
     "data": {
      "text/plain": [
       "''"
      ]
     },
     "execution_count": 344,
     "metadata": {},
     "output_type": "execute_result"
    }
   ],
   "source": [
    "newfile.read()"
   ]
  },
  {
   "cell_type": "code",
   "execution_count": 345,
   "id": "e33b6bd3",
   "metadata": {},
   "outputs": [],
   "source": [
    "newfile.close()"
   ]
  },
  {
   "cell_type": "code",
   "execution_count": 346,
   "id": "e611ec9e",
   "metadata": {},
   "outputs": [],
   "source": [
    "newfile = open('routers2.txt', 'w+')"
   ]
  },
  {
   "cell_type": "code",
   "execution_count": 347,
   "id": "8ffc097b",
   "metadata": {},
   "outputs": [
    {
     "data": {
      "text/plain": [
       "44"
      ]
     },
     "execution_count": 347,
     "metadata": {},
     "output_type": "execute_result"
    }
   ],
   "source": [
    "newfile.write('I am writing again. \\n We can see this again.')"
   ]
  },
  {
   "cell_type": "code",
   "execution_count": 348,
   "id": "c010fc1f",
   "metadata": {},
   "outputs": [
    {
     "data": {
      "text/plain": [
       "10"
      ]
     },
     "execution_count": 348,
     "metadata": {},
     "output_type": "execute_result"
    }
   ],
   "source": [
    "newfile.truncate(10)"
   ]
  },
  {
   "cell_type": "code",
   "execution_count": 349,
   "id": "bf07dc3e",
   "metadata": {},
   "outputs": [
    {
     "data": {
      "text/plain": [
       "''"
      ]
     },
     "execution_count": 349,
     "metadata": {},
     "output_type": "execute_result"
    }
   ],
   "source": [
    "newfile.read()"
   ]
  },
  {
   "cell_type": "code",
   "execution_count": 350,
   "id": "12b4a715",
   "metadata": {},
   "outputs": [
    {
     "data": {
      "text/plain": [
       "0"
      ]
     },
     "execution_count": 350,
     "metadata": {},
     "output_type": "execute_result"
    }
   ],
   "source": [
    "newfile.seek(0)"
   ]
  },
  {
   "cell_type": "code",
   "execution_count": 351,
   "id": "bb88c9a4",
   "metadata": {},
   "outputs": [
    {
     "data": {
      "text/plain": [
       "'I am writi'"
      ]
     },
     "execution_count": 351,
     "metadata": {},
     "output_type": "execute_result"
    }
   ],
   "source": [
    "newfile.read()"
   ]
  },
  {
   "cell_type": "code",
   "execution_count": 352,
   "id": "3d4183f1",
   "metadata": {},
   "outputs": [],
   "source": [
    "newfile.close()"
   ]
  },
  {
   "cell_type": "code",
   "execution_count": 353,
   "id": "32bc0591",
   "metadata": {},
   "outputs": [
    {
     "data": {
      "text/plain": [
       "True"
      ]
     },
     "execution_count": 353,
     "metadata": {},
     "output_type": "execute_result"
    }
   ],
   "source": [
    "newfile.closed"
   ]
  },
  {
   "cell_type": "markdown",
   "id": "d1b4265e",
   "metadata": {},
   "source": [
    "# Regular Expression (REGEX)"
   ]
  },
  {
   "cell_type": "code",
   "execution_count": 354,
   "id": "f5ae4bda",
   "metadata": {},
   "outputs": [],
   "source": [
    "import re"
   ]
  },
  {
   "cell_type": "code",
   "execution_count": 355,
   "id": "b45779a3",
   "metadata": {},
   "outputs": [],
   "source": [
    "mystr = 'You can learn any programming language, whether it is Python2, Python3, Perl, Java, JavaScript or PHP.'"
   ]
  },
  {
   "cell_type": "markdown",
   "id": "243bb51b",
   "metadata": {},
   "source": [
    "### match() - will look for pattern in the beginning of the string"
   ]
  },
  {
   "cell_type": "code",
   "execution_count": 356,
   "id": "489e4ccc",
   "metadata": {},
   "outputs": [],
   "source": [
    "# a = re.match(pattern, string, optional flags)"
   ]
  },
  {
   "cell_type": "code",
   "execution_count": 358,
   "id": "f3f87779",
   "metadata": {},
   "outputs": [],
   "source": [
    "a = re.match('You', mystr)"
   ]
  },
  {
   "cell_type": "code",
   "execution_count": 359,
   "id": "1ad222bd",
   "metadata": {},
   "outputs": [
    {
     "data": {
      "text/plain": [
       "re.Match"
      ]
     },
     "execution_count": 359,
     "metadata": {},
     "output_type": "execute_result"
    }
   ],
   "source": [
    "type(a)"
   ]
  },
  {
   "cell_type": "code",
   "execution_count": 360,
   "id": "c7ca224d",
   "metadata": {},
   "outputs": [
    {
     "data": {
      "text/plain": [
       "'You'"
      ]
     },
     "execution_count": 360,
     "metadata": {},
     "output_type": "execute_result"
    }
   ],
   "source": [
    "a.group()"
   ]
  },
  {
   "cell_type": "code",
   "execution_count": 361,
   "id": "e262089d",
   "metadata": {},
   "outputs": [],
   "source": [
    "a = re.match('java', mystr)"
   ]
  },
  {
   "cell_type": "code",
   "execution_count": 362,
   "id": "3f43604b",
   "metadata": {},
   "outputs": [
    {
     "data": {
      "text/plain": [
       "NoneType"
      ]
     },
     "execution_count": 362,
     "metadata": {},
     "output_type": "execute_result"
    }
   ],
   "source": [
    "type(a)"
   ]
  },
  {
   "cell_type": "code",
   "execution_count": 364,
   "id": "5689cd6c",
   "metadata": {},
   "outputs": [],
   "source": [
    "a = re.match('Java', mystr)"
   ]
  },
  {
   "cell_type": "code",
   "execution_count": 365,
   "id": "d28916f7",
   "metadata": {},
   "outputs": [
    {
     "data": {
      "text/plain": [
       "NoneType"
      ]
     },
     "execution_count": 365,
     "metadata": {},
     "output_type": "execute_result"
    }
   ],
   "source": [
    "type(a)"
   ]
  },
  {
   "cell_type": "code",
   "execution_count": 366,
   "id": "f37d7184",
   "metadata": {},
   "outputs": [],
   "source": [
    "a = re.match('you', mystr, re.I)"
   ]
  },
  {
   "cell_type": "code",
   "execution_count": 367,
   "id": "88e7b4f2",
   "metadata": {},
   "outputs": [
    {
     "data": {
      "text/plain": [
       "re.Match"
      ]
     },
     "execution_count": 367,
     "metadata": {},
     "output_type": "execute_result"
    }
   ],
   "source": [
    "type(a)"
   ]
  },
  {
   "cell_type": "code",
   "execution_count": 368,
   "id": "71f14beb",
   "metadata": {},
   "outputs": [
    {
     "data": {
      "text/plain": [
       "'You'"
      ]
     },
     "execution_count": 368,
     "metadata": {},
     "output_type": "execute_result"
    }
   ],
   "source": [
    "a.group()"
   ]
  },
  {
   "cell_type": "markdown",
   "id": "f75b107e",
   "metadata": {},
   "source": [
    "### search() - will look for pattern in whole string"
   ]
  },
  {
   "cell_type": "code",
   "execution_count": 369,
   "id": "052a2d91",
   "metadata": {},
   "outputs": [],
   "source": [
    "# b = re.search(pattern, string, optional flags)"
   ]
  },
  {
   "cell_type": "code",
   "execution_count": 370,
   "id": "bb8aa1ba",
   "metadata": {},
   "outputs": [],
   "source": [
    "b = re.search('Java', mystr)"
   ]
  },
  {
   "cell_type": "code",
   "execution_count": 371,
   "id": "7ab45bee",
   "metadata": {},
   "outputs": [
    {
     "data": {
      "text/plain": [
       "re.Match"
      ]
     },
     "execution_count": 371,
     "metadata": {},
     "output_type": "execute_result"
    }
   ],
   "source": [
    "type(b)"
   ]
  },
  {
   "cell_type": "code",
   "execution_count": 372,
   "id": "fb62b0ee",
   "metadata": {},
   "outputs": [
    {
     "data": {
      "text/plain": [
       "'Java'"
      ]
     },
     "execution_count": 372,
     "metadata": {},
     "output_type": "execute_result"
    }
   ],
   "source": [
    "b.group()"
   ]
  },
  {
   "cell_type": "code",
   "execution_count": 377,
   "id": "1f410d8b",
   "metadata": {},
   "outputs": [],
   "source": [
    "arp = \"22.22.22.1  0      b4:a9:5a:ff:c8:45 VLAN#222        L\""
   ]
  },
  {
   "cell_type": "code",
   "execution_count": 378,
   "id": "b5c7a5c0",
   "metadata": {},
   "outputs": [],
   "source": [
    "c = re.search(r\"(.+?) +(\\d) +(.+?)\\s{2,}(\\w)*\", arp)"
   ]
  },
  {
   "cell_type": "code",
   "execution_count": 379,
   "id": "86af1ac7",
   "metadata": {},
   "outputs": [
    {
     "data": {
      "text/plain": [
       "re.Match"
      ]
     },
     "execution_count": 379,
     "metadata": {},
     "output_type": "execute_result"
    }
   ],
   "source": [
    "type(c)"
   ]
  },
  {
   "cell_type": "code",
   "execution_count": 381,
   "id": "445466d5",
   "metadata": {},
   "outputs": [
    {
     "data": {
      "text/plain": [
       "'22.22.22.1'"
      ]
     },
     "execution_count": 381,
     "metadata": {},
     "output_type": "execute_result"
    }
   ],
   "source": [
    "c.group(1)"
   ]
  },
  {
   "cell_type": "markdown",
   "id": "b8a17b9c",
   "metadata": {},
   "source": [
    "###### + = means 1 or more repetitions of the expression before it.\n",
    "###### * = means 0 or more repetitions of the expression before it."
   ]
  },
  {
   "cell_type": "code",
   "execution_count": 383,
   "id": "e3052354",
   "metadata": {},
   "outputs": [],
   "source": [
    "c = re.search(r\"(.+) +(\\d) +(.+?)\\s{2,}(\\w)*\", arp)"
   ]
  },
  {
   "cell_type": "code",
   "execution_count": 384,
   "id": "c8b3a338",
   "metadata": {},
   "outputs": [
    {
     "data": {
      "text/plain": [
       "'22.22.22.1 '"
      ]
     },
     "execution_count": 384,
     "metadata": {},
     "output_type": "execute_result"
    }
   ],
   "source": [
    "c.group(1)"
   ]
  },
  {
   "cell_type": "code",
   "execution_count": 385,
   "id": "4453c3fa",
   "metadata": {},
   "outputs": [
    {
     "data": {
      "text/plain": [
       "'0'"
      ]
     },
     "execution_count": 385,
     "metadata": {},
     "output_type": "execute_result"
    }
   ],
   "source": [
    "c.group(2)"
   ]
  },
  {
   "cell_type": "code",
   "execution_count": 386,
   "id": "7423ea85",
   "metadata": {},
   "outputs": [
    {
     "data": {
      "text/plain": [
       "'b4:a9:5a:ff:c8:45 VLAN#222'"
      ]
     },
     "execution_count": 386,
     "metadata": {},
     "output_type": "execute_result"
    }
   ],
   "source": [
    "c.group(3)"
   ]
  },
  {
   "cell_type": "code",
   "execution_count": 387,
   "id": "08163a68",
   "metadata": {},
   "outputs": [
    {
     "data": {
      "text/plain": [
       "'L'"
      ]
     },
     "execution_count": 387,
     "metadata": {},
     "output_type": "execute_result"
    }
   ],
   "source": [
    "c.group(4)"
   ]
  },
  {
   "cell_type": "code",
   "execution_count": 389,
   "id": "0b72ad3c",
   "metadata": {},
   "outputs": [
    {
     "data": {
      "text/plain": [
       "'22.22.22.1  0      b4:a9:5a:ff:c8:45 VLAN#222        L'"
      ]
     },
     "execution_count": 389,
     "metadata": {},
     "output_type": "execute_result"
    }
   ],
   "source": [
    "c.group()"
   ]
  },
  {
   "cell_type": "code",
   "execution_count": 390,
   "id": "e45bf9df",
   "metadata": {},
   "outputs": [
    {
     "data": {
      "text/plain": [
       "'22.22.22.1  0      b4:a9:5a:ff:c8:45 VLAN#222        L'"
      ]
     },
     "execution_count": 390,
     "metadata": {},
     "output_type": "execute_result"
    }
   ],
   "source": [
    "c.group(0)"
   ]
  },
  {
   "cell_type": "code",
   "execution_count": 391,
   "id": "7bf05da9",
   "metadata": {},
   "outputs": [
    {
     "data": {
      "text/plain": [
       "('22.22.22.1 ', '0', 'b4:a9:5a:ff:c8:45 VLAN#222', 'L')"
      ]
     },
     "execution_count": 391,
     "metadata": {},
     "output_type": "execute_result"
    }
   ],
   "source": [
    "c.groups()"
   ]
  },
  {
   "cell_type": "markdown",
   "id": "aae46565",
   "metadata": {},
   "source": [
    "### findall() and sub()"
   ]
  },
  {
   "cell_type": "code",
   "execution_count": null,
   "id": "cd7ac4a5",
   "metadata": {},
   "outputs": [],
   "source": [
    "# findall() gives us list.\n"
   ]
  },
  {
   "cell_type": "code",
   "execution_count": 396,
   "id": "25c893b0",
   "metadata": {},
   "outputs": [],
   "source": [
    "e = re.findall(r\"\\d\\d\\.\\d{2}\\.[0-9][0-9]\\.[0-9]{1,3}\", arp)"
   ]
  },
  {
   "cell_type": "code",
   "execution_count": 397,
   "id": "7b418d6f",
   "metadata": {},
   "outputs": [
    {
     "data": {
      "text/plain": [
       "['22.22.22.1']"
      ]
     },
     "execution_count": 397,
     "metadata": {},
     "output_type": "execute_result"
    }
   ],
   "source": [
    "e"
   ]
  },
  {
   "cell_type": "code",
   "execution_count": 398,
   "id": "b0e00018",
   "metadata": {},
   "outputs": [
    {
     "data": {
      "text/plain": [
       "list"
      ]
     },
     "execution_count": 398,
     "metadata": {},
     "output_type": "execute_result"
    }
   ],
   "source": [
    "type(e)"
   ]
  },
  {
   "cell_type": "code",
   "execution_count": 399,
   "id": "c5080698",
   "metadata": {},
   "outputs": [],
   "source": [
    "e = re.findall(r\"(\\d\\d)\\.(\\d{2})\\.([0-9][0-9])\\.([0-9]{1,3})\", arp)"
   ]
  },
  {
   "cell_type": "code",
   "execution_count": 400,
   "id": "c915438b",
   "metadata": {},
   "outputs": [
    {
     "data": {
      "text/plain": [
       "[('22', '22', '22', '1')]"
      ]
     },
     "execution_count": 400,
     "metadata": {},
     "output_type": "execute_result"
    }
   ],
   "source": [
    "e"
   ]
  },
  {
   "cell_type": "code",
   "execution_count": 401,
   "id": "b47c81e3",
   "metadata": {},
   "outputs": [],
   "source": [
    "arp = \"22.22.22.1  0      b4:a9:5a:ff:c8:45 VLAN#222    10.10.10.10    L\""
   ]
  },
  {
   "cell_type": "code",
   "execution_count": 402,
   "id": "8592baa6",
   "metadata": {},
   "outputs": [],
   "source": [
    "f = re.findall(r\"(\\d\\d)\\.(\\d{2})\\.([0-9][0-9])\\.([0-9]{1,3})\", arp)"
   ]
  },
  {
   "cell_type": "code",
   "execution_count": 403,
   "id": "2c2208bc",
   "metadata": {},
   "outputs": [
    {
     "data": {
      "text/plain": [
       "[('22', '22', '22', '1'), ('10', '10', '10', '10')]"
      ]
     },
     "execution_count": 403,
     "metadata": {},
     "output_type": "execute_result"
    }
   ],
   "source": [
    "f"
   ]
  },
  {
   "cell_type": "code",
   "execution_count": 405,
   "id": "d64e951e",
   "metadata": {},
   "outputs": [],
   "source": [
    "# sub() replaces the pattern on target string with another string provided as arguments\n",
    "# re.sub(pattern, replacement, target-string)"
   ]
  },
  {
   "cell_type": "code",
   "execution_count": 406,
   "id": "24a52474",
   "metadata": {},
   "outputs": [],
   "source": [
    "g = re.sub(r\"\\d\", \"7\", arp)"
   ]
  },
  {
   "cell_type": "code",
   "execution_count": 407,
   "id": "e42fff5c",
   "metadata": {},
   "outputs": [
    {
     "data": {
      "text/plain": [
       "'77.77.77.7  7      b7:a7:7a:ff:c7:77 VLAN#777    77.77.77.77    L'"
      ]
     },
     "execution_count": 407,
     "metadata": {},
     "output_type": "execute_result"
    }
   ],
   "source": [
    "g"
   ]
  },
  {
   "cell_type": "markdown",
   "id": "339fa46a",
   "metadata": {},
   "source": [
    "# Special Sequences"
   ]
  },
  {
   "cell_type": "code",
   "execution_count": 409,
   "id": "cccd4bfb",
   "metadata": {},
   "outputs": [],
   "source": [
    "a = \"I enjoy learning programming language such as Python 3\""
   ]
  },
  {
   "cell_type": "code",
   "execution_count": 410,
   "id": "b166193b",
   "metadata": {},
   "outputs": [],
   "source": [
    "# \\d - digits\n",
    "# \\s - whitespace\n",
    "# \\w - characters and underscore\n",
    "# \\D - non digits\n",
    "# \\S - non whitespace\n",
    "# \\W - non characters"
   ]
  },
  {
   "cell_type": "code",
   "execution_count": 411,
   "id": "56bb9489",
   "metadata": {},
   "outputs": [],
   "source": [
    "result = re.search(r\"\\D+\", a)"
   ]
  },
  {
   "cell_type": "code",
   "execution_count": 412,
   "id": "d913a0f6",
   "metadata": {},
   "outputs": [
    {
     "data": {
      "text/plain": [
       "re.Match"
      ]
     },
     "execution_count": 412,
     "metadata": {},
     "output_type": "execute_result"
    }
   ],
   "source": [
    "type(result)"
   ]
  },
  {
   "cell_type": "code",
   "execution_count": 414,
   "id": "b453e0f3",
   "metadata": {},
   "outputs": [
    {
     "data": {
      "text/plain": [
       "'I enjoy learning programming language such as Python '"
      ]
     },
     "execution_count": 414,
     "metadata": {},
     "output_type": "execute_result"
    }
   ],
   "source": [
    "result.group()"
   ]
  },
  {
   "cell_type": "code",
   "execution_count": 418,
   "id": "56b508ca",
   "metadata": {},
   "outputs": [],
   "source": [
    "result1 = re.search(r\"\\D+\", a)"
   ]
  },
  {
   "cell_type": "code",
   "execution_count": 419,
   "id": "fc62bfde",
   "metadata": {},
   "outputs": [
    {
     "data": {
      "text/plain": [
       "'I enjoy learning programming language such as Python '"
      ]
     },
     "execution_count": 419,
     "metadata": {},
     "output_type": "execute_result"
    }
   ],
   "source": [
    "result1.group()"
   ]
  },
  {
   "cell_type": "code",
   "execution_count": 420,
   "id": "6901eaee",
   "metadata": {},
   "outputs": [],
   "source": [
    "result2 = re.search(r\"\\S+\", a)"
   ]
  },
  {
   "cell_type": "code",
   "execution_count": 421,
   "id": "e01c3d6b",
   "metadata": {},
   "outputs": [
    {
     "data": {
      "text/plain": [
       "'I'"
      ]
     },
     "execution_count": 421,
     "metadata": {},
     "output_type": "execute_result"
    }
   ],
   "source": [
    "result2.group()"
   ]
  },
  {
   "cell_type": "code",
   "execution_count": 426,
   "id": "5acf695f",
   "metadata": {},
   "outputs": [],
   "source": [
    "result3 = re.search(r\"\\W+\", a)"
   ]
  },
  {
   "cell_type": "code",
   "execution_count": 427,
   "id": "7247d3d2",
   "metadata": {},
   "outputs": [
    {
     "data": {
      "text/plain": [
       "' '"
      ]
     },
     "execution_count": 427,
     "metadata": {},
     "output_type": "execute_result"
    }
   ],
   "source": [
    "result3.group()"
   ]
  },
  {
   "cell_type": "code",
   "execution_count": 429,
   "id": "8116c969",
   "metadata": {},
   "outputs": [
    {
     "data": {
      "text/plain": [
       "1"
      ]
     },
     "execution_count": 429,
     "metadata": {},
     "output_type": "execute_result"
    }
   ],
   "source": [
    "a.index(result3.group())"
   ]
  },
  {
   "cell_type": "markdown",
   "id": "5a155032",
   "metadata": {},
   "source": [
    "# Class"
   ]
  },
  {
   "cell_type": "markdown",
   "id": "06e4c2d1",
   "metadata": {},
   "source": [
    "### OOP"
   ]
  },
  {
   "cell_type": "markdown",
   "id": "e8c5a069",
   "metadata": {},
   "source": [
    "- Starts with capital letter and no space.\n",
    "- All other rules for variable and functions."
   ]
  },
  {
   "cell_type": "code",
   "execution_count": 430,
   "id": "1766ef95",
   "metadata": {},
   "outputs": [],
   "source": [
    "class MyRouter(object):\n",
    "    \"This is a class that decribes the characteristics of a router.\"\n",
    "    def __init__(self, routername, model, serialno, ios): # init method or class constructor, first executed\n",
    "        self.routername = routername\n",
    "        self.model = model\n",
    "        self.serialno = serialno\n",
    "        self.ios = ios\n",
    "    def print_router(self, manuf_date):\n",
    "        print(\"The router name is: \", self.routername)\n",
    "        print(\"The router model is: \", self.model)\n",
    "        print(\"The router serialno is: \", self.serialno)\n",
    "        print(\"The router ios version is: \", self.ios)\n",
    "        print(\"The model and date combined: \", self.model + manuf_date)\n",
    "        \n",
    "        "
   ]
  },
  {
   "cell_type": "code",
   "execution_count": 431,
   "id": "88205e29",
   "metadata": {},
   "outputs": [],
   "source": [
    "# creating an object\n",
    "router1 = MyRouter('R1', '2600', '1234567', '12.4')"
   ]
  },
  {
   "cell_type": "code",
   "execution_count": 432,
   "id": "5f6dc87e",
   "metadata": {},
   "outputs": [
    {
     "data": {
      "text/plain": [
       "<__main__.MyRouter at 0x7fdfa1a07f10>"
      ]
     },
     "execution_count": 432,
     "metadata": {},
     "output_type": "execute_result"
    }
   ],
   "source": [
    "# calling the object created\n",
    "router1"
   ]
  },
  {
   "cell_type": "code",
   "execution_count": 433,
   "id": "13b51b7c",
   "metadata": {},
   "outputs": [
    {
     "data": {
      "text/plain": [
       "'R1'"
      ]
     },
     "execution_count": 433,
     "metadata": {},
     "output_type": "execute_result"
    }
   ],
   "source": [
    "# Accessing attributes of the object\n",
    "router1.routername"
   ]
  },
  {
   "cell_type": "code",
   "execution_count": 434,
   "id": "abcdee3f",
   "metadata": {},
   "outputs": [
    {
     "data": {
      "text/plain": [
       "'2600'"
      ]
     },
     "execution_count": 434,
     "metadata": {},
     "output_type": "execute_result"
    }
   ],
   "source": [
    "router1.model"
   ]
  },
  {
   "cell_type": "code",
   "execution_count": 435,
   "id": "b863d83c",
   "metadata": {},
   "outputs": [
    {
     "data": {
      "text/plain": [
       "'1234567'"
      ]
     },
     "execution_count": 435,
     "metadata": {},
     "output_type": "execute_result"
    }
   ],
   "source": [
    "router1.serialno"
   ]
  },
  {
   "cell_type": "code",
   "execution_count": 436,
   "id": "6e923ee4",
   "metadata": {},
   "outputs": [
    {
     "data": {
      "text/plain": [
       "'12.4'"
      ]
     },
     "execution_count": 436,
     "metadata": {},
     "output_type": "execute_result"
    }
   ],
   "source": [
    "router1.ios"
   ]
  },
  {
   "cell_type": "code",
   "execution_count": 440,
   "id": "82d783ac",
   "metadata": {},
   "outputs": [
    {
     "name": "stdout",
     "output_type": "stream",
     "text": [
      "The router name is:  R1\n",
      "The router model is:  2600\n",
      "The router serialno is:  1234567\n",
      "The router ios version is:  12.4\n",
      "The model and date combined:  2600 May 04, 2022\n"
     ]
    }
   ],
   "source": [
    "# Accessing methods of the object\n",
    "router1.print_router(\" May 04, 2022\")"
   ]
  },
  {
   "cell_type": "code",
   "execution_count": 441,
   "id": "c92258c3",
   "metadata": {},
   "outputs": [],
   "source": [
    "router2 = MyRouter('R2', '7200', '101010', '12.2')"
   ]
  },
  {
   "cell_type": "code",
   "execution_count": 443,
   "id": "f54b4e6a",
   "metadata": {},
   "outputs": [
    {
     "name": "stdout",
     "output_type": "stream",
     "text": [
      "The router name is:  R2\n",
      "The router model is:  7200\n",
      "The router serialno is:  101010\n",
      "The router ios version is:  12.2\n",
      "The model and date combined:  720005/04/2022\n"
     ]
    }
   ],
   "source": [
    "# Accessing the methods of the object\n",
    "router2.print_router('05/04/2022')"
   ]
  },
  {
   "cell_type": "code",
   "execution_count": 444,
   "id": "977ab3b4",
   "metadata": {},
   "outputs": [],
   "source": [
    "# Changing the attibute value for router2 \n",
    "router2.ios = '12.3'"
   ]
  },
  {
   "cell_type": "code",
   "execution_count": 445,
   "id": "db6007b1",
   "metadata": {},
   "outputs": [
    {
     "data": {
      "text/plain": [
       "'12.3'"
      ]
     },
     "execution_count": 445,
     "metadata": {},
     "output_type": "execute_result"
    }
   ],
   "source": [
    "router2.ios "
   ]
  },
  {
   "cell_type": "code",
   "execution_count": 446,
   "id": "73da5b84",
   "metadata": {},
   "outputs": [
    {
     "name": "stdout",
     "output_type": "stream",
     "text": [
      "The router name is:  R2\n",
      "The router model is:  7200\n",
      "The router serialno is:  101010\n",
      "The router ios version is:  12.3\n",
      "The model and date combined:  720005/04/2022\n"
     ]
    }
   ],
   "source": [
    "# Accessing the methods of the object and see the difference on attibute value for ios\n",
    "router2.print_router('05/04/2022')"
   ]
  },
  {
   "cell_type": "markdown",
   "id": "76cdd9a1",
   "metadata": {},
   "source": [
    "### getattr() : Getting attribute of the object"
   ]
  },
  {
   "cell_type": "code",
   "execution_count": 447,
   "id": "d96d8fdd",
   "metadata": {},
   "outputs": [
    {
     "data": {
      "text/plain": [
       "'2600'"
      ]
     },
     "execution_count": 447,
     "metadata": {},
     "output_type": "execute_result"
    }
   ],
   "source": [
    "getattr(router1, \"model\")"
   ]
  },
  {
   "cell_type": "code",
   "execution_count": 449,
   "id": "11c5056e",
   "metadata": {},
   "outputs": [
    {
     "data": {
      "text/plain": [
       "'R1'"
      ]
     },
     "execution_count": 449,
     "metadata": {},
     "output_type": "execute_result"
    }
   ],
   "source": [
    "getattr(router1, \"routername\")"
   ]
  },
  {
   "cell_type": "markdown",
   "id": "634ebe17",
   "metadata": {},
   "source": [
    "### setattr() : Setting attribute of the object"
   ]
  },
  {
   "cell_type": "code",
   "execution_count": 450,
   "id": "70436456",
   "metadata": {},
   "outputs": [],
   "source": [
    "setattr(router1, \"ios\", \"12.1\")"
   ]
  },
  {
   "cell_type": "code",
   "execution_count": 451,
   "id": "8ba82762",
   "metadata": {},
   "outputs": [
    {
     "data": {
      "text/plain": [
       "'12.1'"
      ]
     },
     "execution_count": 451,
     "metadata": {},
     "output_type": "execute_result"
    }
   ],
   "source": [
    "getattr(router1, \"ios\")"
   ]
  },
  {
   "cell_type": "markdown",
   "id": "634919a9",
   "metadata": {},
   "source": [
    "### hasattr()"
   ]
  },
  {
   "cell_type": "code",
   "execution_count": 452,
   "id": "8fa97514",
   "metadata": {},
   "outputs": [
    {
     "data": {
      "text/plain": [
       "True"
      ]
     },
     "execution_count": 452,
     "metadata": {},
     "output_type": "execute_result"
    }
   ],
   "source": [
    "hasattr(router1, \"ios\")"
   ]
  },
  {
   "cell_type": "code",
   "execution_count": 453,
   "id": "7cc510b1",
   "metadata": {},
   "outputs": [
    {
     "data": {
      "text/plain": [
       "False"
      ]
     },
     "execution_count": 453,
     "metadata": {},
     "output_type": "execute_result"
    }
   ],
   "source": [
    "hasattr(router1, \"ios2\")"
   ]
  },
  {
   "cell_type": "code",
   "execution_count": 454,
   "id": "121f018d",
   "metadata": {},
   "outputs": [
    {
     "data": {
      "text/plain": [
       "True"
      ]
     },
     "execution_count": 454,
     "metadata": {},
     "output_type": "execute_result"
    }
   ],
   "source": [
    "hasattr(router2, \"ios\")"
   ]
  },
  {
   "cell_type": "markdown",
   "id": "19818a51",
   "metadata": {},
   "source": [
    "### delattr()"
   ]
  },
  {
   "cell_type": "code",
   "execution_count": 455,
   "id": "9e4173c0",
   "metadata": {},
   "outputs": [],
   "source": [
    "delattr(router2, \"ios\")"
   ]
  },
  {
   "cell_type": "code",
   "execution_count": 456,
   "id": "fff84c40",
   "metadata": {},
   "outputs": [
    {
     "data": {
      "text/plain": [
       "False"
      ]
     },
     "execution_count": 456,
     "metadata": {},
     "output_type": "execute_result"
    }
   ],
   "source": [
    "hasattr(router2, \"ios\")"
   ]
  },
  {
   "cell_type": "code",
   "execution_count": 457,
   "id": "3ac3ce74",
   "metadata": {},
   "outputs": [
    {
     "ename": "AttributeError",
     "evalue": "'MyRouter' object has no attribute 'ios'",
     "output_type": "error",
     "traceback": [
      "\u001b[0;31m---------------------------------------------------------------------------\u001b[0m",
      "\u001b[0;31mAttributeError\u001b[0m                            Traceback (most recent call last)",
      "\u001b[0;32m/var/folders/zq/x5sj66553p9dvbt1_y838q_h0000gn/T/ipykernel_16998/1727478156.py\u001b[0m in \u001b[0;36m<module>\u001b[0;34m\u001b[0m\n\u001b[0;32m----> 1\u001b[0;31m \u001b[0mgetattr\u001b[0m\u001b[0;34m(\u001b[0m\u001b[0mrouter2\u001b[0m\u001b[0;34m,\u001b[0m \u001b[0;34m\"ios\"\u001b[0m\u001b[0;34m)\u001b[0m\u001b[0;34m\u001b[0m\u001b[0;34m\u001b[0m\u001b[0m\n\u001b[0m",
      "\u001b[0;31mAttributeError\u001b[0m: 'MyRouter' object has no attribute 'ios'"
     ]
    }
   ],
   "source": [
    "getattr(router2, \"ios\")"
   ]
  },
  {
   "cell_type": "markdown",
   "id": "78924a93",
   "metadata": {},
   "source": [
    "### isinstance()"
   ]
  },
  {
   "cell_type": "code",
   "execution_count": 458,
   "id": "9c245b3d",
   "metadata": {},
   "outputs": [
    {
     "data": {
      "text/plain": [
       "True"
      ]
     },
     "execution_count": 458,
     "metadata": {},
     "output_type": "execute_result"
    }
   ],
   "source": [
    "isinstance(router2, MyRouter)"
   ]
  },
  {
   "cell_type": "markdown",
   "id": "340f706f",
   "metadata": {},
   "source": [
    "# Class Inheritance"
   ]
  },
  {
   "cell_type": "code",
   "execution_count": 460,
   "id": "ad043364",
   "metadata": {},
   "outputs": [],
   "source": [
    "class MyRouter(object):\n",
    "    \"This is a class that decribes the characteristics of a router.\"\n",
    "    def __init__(self, routername, model, serialno, ios): # init method or class constructor, first executed\n",
    "        self.routername = routername\n",
    "        self.model = model\n",
    "        self.serialno = serialno\n",
    "        self.ios = ios\n",
    "    def print_router(self, manuf_date):\n",
    "        print(\"The router name is: \", self.routername)\n",
    "        print(\"The router model is: \", self.model)\n",
    "        print(\"The router serialno is: \", self.serialno)\n",
    "        print(\"The router ios version is: \", self.ios)\n",
    "        print(\"The model and date combined: \", self.model + manuf_date)    "
   ]
  },
  {
   "cell_type": "code",
   "execution_count": 461,
   "id": "db3111de",
   "metadata": {},
   "outputs": [],
   "source": [
    "class MyNewRouter(MyRouter):\n",
    "    \"This is a class that decribes the characteristics of a router.\"\n",
    "    def __init__(self, routername, model, serialno, ios, portsno): # init method or class constructor, first executed\n",
    "        MyRouter.__init__(self, routername, model, serialno, ios)\n",
    "        self.portsno = portsno\n",
    "    def print_new_router(self, string):\n",
    "        print(string + self.model)"
   ]
  },
  {
   "cell_type": "code",
   "execution_count": 462,
   "id": "77d8299a",
   "metadata": {},
   "outputs": [],
   "source": [
    "new_router1 = MyNewRouter(\"newr1\", \"1800\", \"1111111\", \"12.2\", \"10\")"
   ]
  },
  {
   "cell_type": "code",
   "execution_count": 465,
   "id": "1c251931",
   "metadata": {},
   "outputs": [
    {
     "data": {
      "text/plain": [
       "'10'"
      ]
     },
     "execution_count": 465,
     "metadata": {},
     "output_type": "execute_result"
    }
   ],
   "source": [
    "getattr(new_router1, \"portsno\")"
   ]
  },
  {
   "cell_type": "code",
   "execution_count": 466,
   "id": "6ebfdeb0",
   "metadata": {},
   "outputs": [
    {
     "name": "stdout",
     "output_type": "stream",
     "text": [
      "The router name is:  newr1\n",
      "The router model is:  1800\n",
      "The router serialno is:  1111111\n",
      "The router ios version is:  12.2\n",
      "The model and date combined:  1800ABC\n"
     ]
    }
   ],
   "source": [
    "new_router1.print_router(\"ABC\")"
   ]
  },
  {
   "cell_type": "code",
   "execution_count": 467,
   "id": "5f645e97",
   "metadata": {},
   "outputs": [
    {
     "name": "stdout",
     "output_type": "stream",
     "text": [
      "ABC1800\n"
     ]
    }
   ],
   "source": [
    "new_router1.print_new_router(\"ABC\")"
   ]
  },
  {
   "cell_type": "markdown",
   "id": "539af631",
   "metadata": {},
   "source": [
    "### issubclass()"
   ]
  },
  {
   "cell_type": "code",
   "execution_count": 468,
   "id": "9775c137",
   "metadata": {},
   "outputs": [
    {
     "data": {
      "text/plain": [
       "True"
      ]
     },
     "execution_count": 468,
     "metadata": {},
     "output_type": "execute_result"
    }
   ],
   "source": [
    "issubclass(MyNewRouter, MyRouter)"
   ]
  },
  {
   "cell_type": "markdown",
   "id": "7598c758",
   "metadata": {},
   "source": [
    "# For Data Engineer Role, do we need to know OOP's concept of Python in depth if we will not be the one who will be modeling the data?"
   ]
  },
  {
   "cell_type": "markdown",
   "id": "3af52591",
   "metadata": {},
   "source": [
    "# For Data Engineer role on current and future project, which library we will be using the most?"
   ]
  },
  {
   "cell_type": "markdown",
   "id": "c3717a9d",
   "metadata": {},
   "source": [
    "# How messy can our data be in real project?"
   ]
  },
  {
   "cell_type": "markdown",
   "id": "b66e81e1",
   "metadata": {},
   "source": [
    "### List / Set / Dictionary Comprehensions"
   ]
  },
  {
   "cell_type": "code",
   "execution_count": 474,
   "id": "7dcd4bf7",
   "metadata": {},
   "outputs": [],
   "source": [
    "list1 = []"
   ]
  },
  {
   "cell_type": "code",
   "execution_count": 475,
   "id": "4858f60d",
   "metadata": {},
   "outputs": [],
   "source": [
    "for i in range(10):\n",
    "    result = i**2\n",
    "    list1.append(result)"
   ]
  },
  {
   "cell_type": "code",
   "execution_count": 476,
   "id": "930c0cc4",
   "metadata": {},
   "outputs": [
    {
     "data": {
      "text/plain": [
       "[0, 1, 4, 9, 16, 25, 36, 49, 64, 81]"
      ]
     },
     "execution_count": 476,
     "metadata": {},
     "output_type": "execute_result"
    }
   ],
   "source": [
    "list1"
   ]
  },
  {
   "cell_type": "code",
   "execution_count": 477,
   "id": "a53effd3",
   "metadata": {},
   "outputs": [],
   "source": [
    "list2 =[x**2 for x in range(10)]"
   ]
  },
  {
   "cell_type": "code",
   "execution_count": 478,
   "id": "a8757734",
   "metadata": {},
   "outputs": [
    {
     "data": {
      "text/plain": [
       "[0, 1, 4, 9, 16, 25, 36, 49, 64, 81]"
      ]
     },
     "execution_count": 478,
     "metadata": {},
     "output_type": "execute_result"
    }
   ],
   "source": [
    "list2"
   ]
  },
  {
   "cell_type": "code",
   "execution_count": 481,
   "id": "7a5e34c2",
   "metadata": {},
   "outputs": [],
   "source": [
    "list3 =[x**2 for x in range(10) if x > 5]"
   ]
  },
  {
   "cell_type": "code",
   "execution_count": 482,
   "id": "001725f9",
   "metadata": {},
   "outputs": [
    {
     "data": {
      "text/plain": [
       "[36, 49, 64, 81]"
      ]
     },
     "execution_count": 482,
     "metadata": {},
     "output_type": "execute_result"
    }
   ],
   "source": [
    "list3"
   ]
  },
  {
   "cell_type": "code",
   "execution_count": 483,
   "id": "bd89883c",
   "metadata": {},
   "outputs": [],
   "source": [
    "set1 = {x**2 for x in range(10)}"
   ]
  },
  {
   "cell_type": "code",
   "execution_count": 484,
   "id": "18ce3325",
   "metadata": {},
   "outputs": [
    {
     "data": {
      "text/plain": [
       "{0, 1, 4, 9, 16, 25, 36, 49, 64, 81}"
      ]
     },
     "execution_count": 484,
     "metadata": {},
     "output_type": "execute_result"
    }
   ],
   "source": [
    "set1"
   ]
  },
  {
   "cell_type": "code",
   "execution_count": 485,
   "id": "9df1921e",
   "metadata": {},
   "outputs": [],
   "source": [
    "set2 = {x**2 for x in range(10) if x > 5}"
   ]
  },
  {
   "cell_type": "code",
   "execution_count": 486,
   "id": "a8b1fa8e",
   "metadata": {},
   "outputs": [
    {
     "data": {
      "text/plain": [
       "{36, 49, 64, 81}"
      ]
     },
     "execution_count": 486,
     "metadata": {},
     "output_type": "execute_result"
    }
   ],
   "source": [
    "set2"
   ]
  },
  {
   "cell_type": "code",
   "execution_count": 487,
   "id": "5b937bb4",
   "metadata": {},
   "outputs": [],
   "source": [
    "dict1 = {x:x**2 for x in range(10)}"
   ]
  },
  {
   "cell_type": "code",
   "execution_count": 488,
   "id": "e08c5bab",
   "metadata": {},
   "outputs": [
    {
     "data": {
      "text/plain": [
       "{0: 0, 1: 1, 2: 4, 3: 9, 4: 16, 5: 25, 6: 36, 7: 49, 8: 64, 9: 81}"
      ]
     },
     "execution_count": 488,
     "metadata": {},
     "output_type": "execute_result"
    }
   ],
   "source": [
    "dict1"
   ]
  },
  {
   "cell_type": "markdown",
   "id": "9e8b5f65",
   "metadata": {},
   "source": [
    "### Lambda Functions"
   ]
  },
  {
   "cell_type": "markdown",
   "id": "787581c1",
   "metadata": {},
   "source": [
    "###### lambda arg1, arg2, ..., argn: an expression using the arguments"
   ]
  },
  {
   "cell_type": "code",
   "execution_count": 489,
   "id": "2f66669e",
   "metadata": {},
   "outputs": [],
   "source": [
    "a = lambda x, y: x*y"
   ]
  },
  {
   "cell_type": "code",
   "execution_count": 490,
   "id": "4cc328cb",
   "metadata": {},
   "outputs": [
    {
     "data": {
      "text/plain": [
       "function"
      ]
     },
     "execution_count": 490,
     "metadata": {},
     "output_type": "execute_result"
    }
   ],
   "source": [
    "type(a)"
   ]
  },
  {
   "cell_type": "code",
   "execution_count": 491,
   "id": "8bb5b93c",
   "metadata": {},
   "outputs": [
    {
     "data": {
      "text/plain": [
       "100"
      ]
     },
     "execution_count": 491,
     "metadata": {},
     "output_type": "execute_result"
    }
   ],
   "source": [
    "a(10, 10)"
   ]
  },
  {
   "cell_type": "code",
   "execution_count": 493,
   "id": "c127ceef",
   "metadata": {},
   "outputs": [
    {
     "data": {
      "text/plain": [
       "1000"
      ]
     },
     "execution_count": 493,
     "metadata": {},
     "output_type": "execute_result"
    }
   ],
   "source": [
    "a(10, 100)"
   ]
  },
  {
   "cell_type": "code",
   "execution_count": 494,
   "id": "e2ada570",
   "metadata": {},
   "outputs": [],
   "source": [
    "b = lambda mylist: [x*y for x in range(10) for y in range(5)] + mylist"
   ]
  },
  {
   "cell_type": "code",
   "execution_count": 495,
   "id": "489ded31",
   "metadata": {},
   "outputs": [
    {
     "data": {
      "text/plain": [
       "<function __main__.<lambda>(mylist)>"
      ]
     },
     "execution_count": 495,
     "metadata": {},
     "output_type": "execute_result"
    }
   ],
   "source": [
    "b"
   ]
  },
  {
   "cell_type": "code",
   "execution_count": 499,
   "id": "85ee8537",
   "metadata": {},
   "outputs": [
    {
     "data": {
      "text/plain": [
       "[0,\n",
       " 0,\n",
       " 0,\n",
       " 0,\n",
       " 0,\n",
       " 0,\n",
       " 1,\n",
       " 2,\n",
       " 3,\n",
       " 4,\n",
       " 0,\n",
       " 2,\n",
       " 4,\n",
       " 6,\n",
       " 8,\n",
       " 0,\n",
       " 3,\n",
       " 6,\n",
       " 9,\n",
       " 12,\n",
       " 0,\n",
       " 4,\n",
       " 8,\n",
       " 12,\n",
       " 16,\n",
       " 0,\n",
       " 5,\n",
       " 10,\n",
       " 15,\n",
       " 20,\n",
       " 0,\n",
       " 6,\n",
       " 12,\n",
       " 18,\n",
       " 24,\n",
       " 0,\n",
       " 7,\n",
       " 14,\n",
       " 21,\n",
       " 28,\n",
       " 0,\n",
       " 8,\n",
       " 16,\n",
       " 24,\n",
       " 32,\n",
       " 0,\n",
       " 9,\n",
       " 18,\n",
       " 27,\n",
       " 36,\n",
       " 100,\n",
       " 101,\n",
       " 102]"
      ]
     },
     "execution_count": 499,
     "metadata": {},
     "output_type": "execute_result"
    }
   ],
   "source": [
    "b([100, 101, 102])"
   ]
  },
  {
   "cell_type": "markdown",
   "id": "8543385e",
   "metadata": {},
   "source": [
    "### map()"
   ]
  },
  {
   "cell_type": "code",
   "execution_count": 500,
   "id": "e439aa2f",
   "metadata": {},
   "outputs": [],
   "source": [
    "def product10(a):\n",
    "    return a *10"
   ]
  },
  {
   "cell_type": "code",
   "execution_count": 501,
   "id": "e112b490",
   "metadata": {},
   "outputs": [],
   "source": [
    "r1 = range(10)"
   ]
  },
  {
   "cell_type": "code",
   "execution_count": 503,
   "id": "ca725181",
   "metadata": {},
   "outputs": [
    {
     "data": {
      "text/plain": [
       "[0, 1, 2, 3, 4, 5, 6, 7, 8, 9]"
      ]
     },
     "execution_count": 503,
     "metadata": {},
     "output_type": "execute_result"
    }
   ],
   "source": [
    "list(r1)"
   ]
  },
  {
   "cell_type": "code",
   "execution_count": 504,
   "id": "0a4f8c7d",
   "metadata": {},
   "outputs": [
    {
     "data": {
      "text/plain": [
       "<map at 0x7fdfa18c9910>"
      ]
     },
     "execution_count": 504,
     "metadata": {},
     "output_type": "execute_result"
    }
   ],
   "source": [
    "map(product10, r1)"
   ]
  },
  {
   "cell_type": "code",
   "execution_count": 505,
   "id": "13d1b24d",
   "metadata": {},
   "outputs": [
    {
     "data": {
      "text/plain": [
       "[0, 10, 20, 30, 40, 50, 60, 70, 80, 90]"
      ]
     },
     "execution_count": 505,
     "metadata": {},
     "output_type": "execute_result"
    }
   ],
   "source": [
    "list(map(product10, r1))"
   ]
  },
  {
   "cell_type": "code",
   "execution_count": 506,
   "id": "73715f97",
   "metadata": {},
   "outputs": [
    {
     "data": {
      "text/plain": [
       "[0, 10, 20, 30, 40, 50, 60, 70, 80, 90]"
      ]
     },
     "execution_count": 506,
     "metadata": {},
     "output_type": "execute_result"
    }
   ],
   "source": [
    "list(map((lambda a: a * 10), r1))"
   ]
  },
  {
   "cell_type": "markdown",
   "id": "13d0b262",
   "metadata": {},
   "source": [
    "### filter()"
   ]
  },
  {
   "cell_type": "code",
   "execution_count": 507,
   "id": "56d77ca9",
   "metadata": {},
   "outputs": [
    {
     "data": {
      "text/plain": [
       "<filter at 0x7fdfa1613790>"
      ]
     },
     "execution_count": 507,
     "metadata": {},
     "output_type": "execute_result"
    }
   ],
   "source": [
    "filter((lambda a: a >5), r1)"
   ]
  },
  {
   "cell_type": "code",
   "execution_count": 508,
   "id": "e968c894",
   "metadata": {},
   "outputs": [
    {
     "data": {
      "text/plain": [
       "[6, 7, 8, 9]"
      ]
     },
     "execution_count": 508,
     "metadata": {},
     "output_type": "execute_result"
    }
   ],
   "source": [
    "list(filter((lambda a: a >5), r1))"
   ]
  },
  {
   "cell_type": "markdown",
   "id": "2329aebf",
   "metadata": {},
   "source": [
    "# Iterators and Generators"
   ]
  },
  {
   "cell_type": "markdown",
   "id": "d611f0e0",
   "metadata": {},
   "source": [
    "### iter"
   ]
  },
  {
   "cell_type": "code",
   "execution_count": 509,
   "id": "59270935",
   "metadata": {},
   "outputs": [],
   "source": [
    "my_list = list(range(10))"
   ]
  },
  {
   "cell_type": "code",
   "execution_count": 510,
   "id": "d2a267d8",
   "metadata": {},
   "outputs": [
    {
     "data": {
      "text/plain": [
       "[0, 1, 2, 3, 4, 5, 6, 7, 8, 9]"
      ]
     },
     "execution_count": 510,
     "metadata": {},
     "output_type": "execute_result"
    }
   ],
   "source": [
    "my_list"
   ]
  },
  {
   "cell_type": "code",
   "execution_count": 511,
   "id": "902f10fa",
   "metadata": {},
   "outputs": [
    {
     "name": "stdout",
     "output_type": "stream",
     "text": [
      "0\n",
      "1\n",
      "2\n",
      "3\n",
      "4\n",
      "5\n",
      "6\n",
      "7\n",
      "8\n",
      "9\n"
     ]
    }
   ],
   "source": [
    "for i in my_list:\n",
    "    print(i)"
   ]
  },
  {
   "cell_type": "code",
   "execution_count": 512,
   "id": "8416efc3",
   "metadata": {},
   "outputs": [],
   "source": [
    "my_iter = iter(my_list)"
   ]
  },
  {
   "cell_type": "code",
   "execution_count": 513,
   "id": "91c9748d",
   "metadata": {},
   "outputs": [
    {
     "data": {
      "text/plain": [
       "list_iterator"
      ]
     },
     "execution_count": 513,
     "metadata": {},
     "output_type": "execute_result"
    }
   ],
   "source": [
    "type(my_iter)"
   ]
  },
  {
   "cell_type": "code",
   "execution_count": 524,
   "id": "570618c4",
   "metadata": {},
   "outputs": [
    {
     "ename": "StopIteration",
     "evalue": "",
     "output_type": "error",
     "traceback": [
      "\u001b[0;31m---------------------------------------------------------------------------\u001b[0m",
      "\u001b[0;31mStopIteration\u001b[0m                             Traceback (most recent call last)",
      "\u001b[0;32m/var/folders/zq/x5sj66553p9dvbt1_y838q_h0000gn/T/ipykernel_16998/3343788962.py\u001b[0m in \u001b[0;36m<module>\u001b[0;34m\u001b[0m\n\u001b[0;32m----> 1\u001b[0;31m \u001b[0mnext\u001b[0m\u001b[0;34m(\u001b[0m\u001b[0mmy_iter\u001b[0m\u001b[0;34m)\u001b[0m\u001b[0;34m\u001b[0m\u001b[0;34m\u001b[0m\u001b[0m\n\u001b[0m",
      "\u001b[0;31mStopIteration\u001b[0m: "
     ]
    }
   ],
   "source": [
    "next(my_iter)"
   ]
  },
  {
   "cell_type": "markdown",
   "id": "6d2a76a2",
   "metadata": {},
   "source": [
    "### generator"
   ]
  },
  {
   "cell_type": "code",
   "execution_count": 525,
   "id": "4bdd56cb",
   "metadata": {},
   "outputs": [],
   "source": [
    "def my_gen(x, y):\n",
    "    for i in range(x):\n",
    "        print('i is %d' % i)\n",
    "        print('y is %d' % y)\n",
    "        yield i*y"
   ]
  },
  {
   "cell_type": "code",
   "execution_count": 526,
   "id": "09325d07",
   "metadata": {},
   "outputs": [],
   "source": [
    "my_object = my_gen(10, 5)"
   ]
  },
  {
   "cell_type": "code",
   "execution_count": 527,
   "id": "f6170b07",
   "metadata": {},
   "outputs": [
    {
     "data": {
      "text/plain": [
       "<generator object my_gen at 0x7fdfa16d7dd0>"
      ]
     },
     "execution_count": 527,
     "metadata": {},
     "output_type": "execute_result"
    }
   ],
   "source": [
    "my_object"
   ]
  },
  {
   "cell_type": "code",
   "execution_count": 528,
   "id": "377b2240",
   "metadata": {},
   "outputs": [
    {
     "data": {
      "text/plain": [
       "generator"
      ]
     },
     "execution_count": 528,
     "metadata": {},
     "output_type": "execute_result"
    }
   ],
   "source": [
    "type(my_object)"
   ]
  },
  {
   "cell_type": "code",
   "execution_count": 529,
   "id": "7a1cc008",
   "metadata": {},
   "outputs": [
    {
     "name": "stdout",
     "output_type": "stream",
     "text": [
      "i is 0\n",
      "y is 5\n"
     ]
    },
    {
     "data": {
      "text/plain": [
       "0"
      ]
     },
     "execution_count": 529,
     "metadata": {},
     "output_type": "execute_result"
    }
   ],
   "source": [
    "next(my_object)"
   ]
  },
  {
   "cell_type": "code",
   "execution_count": 530,
   "id": "0087efe2",
   "metadata": {},
   "outputs": [
    {
     "name": "stdout",
     "output_type": "stream",
     "text": [
      "i is 1\n",
      "y is 5\n"
     ]
    },
    {
     "data": {
      "text/plain": [
       "5"
      ]
     },
     "execution_count": 530,
     "metadata": {},
     "output_type": "execute_result"
    }
   ],
   "source": [
    "next(my_object)"
   ]
  },
  {
   "cell_type": "code",
   "execution_count": 531,
   "id": "877dd829",
   "metadata": {},
   "outputs": [
    {
     "name": "stdout",
     "output_type": "stream",
     "text": [
      "i is 2\n",
      "y is 5\n"
     ]
    },
    {
     "data": {
      "text/plain": [
       "10"
      ]
     },
     "execution_count": 531,
     "metadata": {},
     "output_type": "execute_result"
    }
   ],
   "source": [
    "next(my_object)"
   ]
  },
  {
   "cell_type": "code",
   "execution_count": 532,
   "id": "c785b8f6",
   "metadata": {},
   "outputs": [
    {
     "name": "stdout",
     "output_type": "stream",
     "text": [
      "i is 3\n",
      "y is 5\n"
     ]
    },
    {
     "data": {
      "text/plain": [
       "15"
      ]
     },
     "execution_count": 532,
     "metadata": {},
     "output_type": "execute_result"
    }
   ],
   "source": [
    "next(my_object)"
   ]
  },
  {
   "cell_type": "code",
   "execution_count": 533,
   "id": "a52778d4",
   "metadata": {},
   "outputs": [
    {
     "name": "stdout",
     "output_type": "stream",
     "text": [
      "i is 4\n",
      "y is 5\n"
     ]
    },
    {
     "data": {
      "text/plain": [
       "20"
      ]
     },
     "execution_count": 533,
     "metadata": {},
     "output_type": "execute_result"
    }
   ],
   "source": [
    "next(my_object)"
   ]
  },
  {
   "cell_type": "code",
   "execution_count": 534,
   "id": "3ae7f73d",
   "metadata": {},
   "outputs": [
    {
     "name": "stdout",
     "output_type": "stream",
     "text": [
      "i is 5\n",
      "y is 5\n"
     ]
    },
    {
     "data": {
      "text/plain": [
       "25"
      ]
     },
     "execution_count": 534,
     "metadata": {},
     "output_type": "execute_result"
    }
   ],
   "source": [
    "next(my_object)"
   ]
  },
  {
   "cell_type": "code",
   "execution_count": 535,
   "id": "0509c006",
   "metadata": {},
   "outputs": [
    {
     "name": "stdout",
     "output_type": "stream",
     "text": [
      "i is 6\n",
      "y is 5\n"
     ]
    },
    {
     "data": {
      "text/plain": [
       "30"
      ]
     },
     "execution_count": 535,
     "metadata": {},
     "output_type": "execute_result"
    }
   ],
   "source": [
    "next(my_object)"
   ]
  },
  {
   "cell_type": "code",
   "execution_count": 536,
   "id": "c83fe60e",
   "metadata": {},
   "outputs": [
    {
     "name": "stdout",
     "output_type": "stream",
     "text": [
      "i is 7\n",
      "y is 5\n"
     ]
    },
    {
     "data": {
      "text/plain": [
       "35"
      ]
     },
     "execution_count": 536,
     "metadata": {},
     "output_type": "execute_result"
    }
   ],
   "source": [
    "next(my_object)"
   ]
  },
  {
   "cell_type": "code",
   "execution_count": 537,
   "id": "2da9eaab",
   "metadata": {},
   "outputs": [
    {
     "name": "stdout",
     "output_type": "stream",
     "text": [
      "i is 8\n",
      "y is 5\n"
     ]
    },
    {
     "data": {
      "text/plain": [
       "40"
      ]
     },
     "execution_count": 537,
     "metadata": {},
     "output_type": "execute_result"
    }
   ],
   "source": [
    "next(my_object)"
   ]
  },
  {
   "cell_type": "code",
   "execution_count": 538,
   "id": "10ede5cb",
   "metadata": {},
   "outputs": [
    {
     "name": "stdout",
     "output_type": "stream",
     "text": [
      "i is 9\n",
      "y is 5\n"
     ]
    },
    {
     "data": {
      "text/plain": [
       "45"
      ]
     },
     "execution_count": 538,
     "metadata": {},
     "output_type": "execute_result"
    }
   ],
   "source": [
    "next(my_object)"
   ]
  },
  {
   "cell_type": "code",
   "execution_count": 539,
   "id": "13e27a8a",
   "metadata": {},
   "outputs": [
    {
     "ename": "StopIteration",
     "evalue": "",
     "output_type": "error",
     "traceback": [
      "\u001b[0;31m---------------------------------------------------------------------------\u001b[0m",
      "\u001b[0;31mStopIteration\u001b[0m                             Traceback (most recent call last)",
      "\u001b[0;32m/var/folders/zq/x5sj66553p9dvbt1_y838q_h0000gn/T/ipykernel_16998/3252938272.py\u001b[0m in \u001b[0;36m<module>\u001b[0;34m\u001b[0m\n\u001b[0;32m----> 1\u001b[0;31m \u001b[0mnext\u001b[0m\u001b[0;34m(\u001b[0m\u001b[0mmy_object\u001b[0m\u001b[0;34m)\u001b[0m\u001b[0;34m\u001b[0m\u001b[0;34m\u001b[0m\u001b[0m\n\u001b[0m",
      "\u001b[0;31mStopIteration\u001b[0m: "
     ]
    }
   ],
   "source": [
    "next(my_object)"
   ]
  },
  {
   "cell_type": "code",
   "execution_count": 540,
   "id": "38df8b7f",
   "metadata": {},
   "outputs": [],
   "source": [
    "gen_exp = (x for x in range(5))"
   ]
  },
  {
   "cell_type": "code",
   "execution_count": 541,
   "id": "d258d899",
   "metadata": {},
   "outputs": [
    {
     "data": {
      "text/plain": [
       "0"
      ]
     },
     "execution_count": 541,
     "metadata": {},
     "output_type": "execute_result"
    }
   ],
   "source": [
    "next(gen_exp)"
   ]
  },
  {
   "cell_type": "code",
   "execution_count": 542,
   "id": "97fb8f16",
   "metadata": {},
   "outputs": [
    {
     "data": {
      "text/plain": [
       "1"
      ]
     },
     "execution_count": 542,
     "metadata": {},
     "output_type": "execute_result"
    }
   ],
   "source": [
    "next(gen_exp)"
   ]
  },
  {
   "cell_type": "code",
   "execution_count": 543,
   "id": "8c1eaba0",
   "metadata": {},
   "outputs": [
    {
     "data": {
      "text/plain": [
       "2"
      ]
     },
     "execution_count": 543,
     "metadata": {},
     "output_type": "execute_result"
    }
   ],
   "source": [
    "next(gen_exp)"
   ]
  },
  {
   "cell_type": "code",
   "execution_count": 544,
   "id": "d2be1cf0",
   "metadata": {},
   "outputs": [
    {
     "data": {
      "text/plain": [
       "3"
      ]
     },
     "execution_count": 544,
     "metadata": {},
     "output_type": "execute_result"
    }
   ],
   "source": [
    "next(gen_exp)"
   ]
  },
  {
   "cell_type": "code",
   "execution_count": 545,
   "id": "0e85ce4f",
   "metadata": {},
   "outputs": [
    {
     "data": {
      "text/plain": [
       "4"
      ]
     },
     "execution_count": 545,
     "metadata": {},
     "output_type": "execute_result"
    }
   ],
   "source": [
    "next(gen_exp)"
   ]
  },
  {
   "cell_type": "code",
   "execution_count": 546,
   "id": "ac561f1a",
   "metadata": {},
   "outputs": [
    {
     "ename": "StopIteration",
     "evalue": "",
     "output_type": "error",
     "traceback": [
      "\u001b[0;31m---------------------------------------------------------------------------\u001b[0m",
      "\u001b[0;31mStopIteration\u001b[0m                             Traceback (most recent call last)",
      "\u001b[0;32m/var/folders/zq/x5sj66553p9dvbt1_y838q_h0000gn/T/ipykernel_16998/2285306296.py\u001b[0m in \u001b[0;36m<module>\u001b[0;34m\u001b[0m\n\u001b[0;32m----> 1\u001b[0;31m \u001b[0mnext\u001b[0m\u001b[0;34m(\u001b[0m\u001b[0mgen_exp\u001b[0m\u001b[0;34m)\u001b[0m\u001b[0;34m\u001b[0m\u001b[0;34m\u001b[0m\u001b[0m\n\u001b[0m",
      "\u001b[0;31mStopIteration\u001b[0m: "
     ]
    }
   ],
   "source": [
    "next(gen_exp)"
   ]
  },
  {
   "cell_type": "markdown",
   "id": "f37638da",
   "metadata": {},
   "source": [
    "### Itertools"
   ]
  },
  {
   "cell_type": "code",
   "execution_count": null,
   "id": "7d40b695",
   "metadata": {},
   "outputs": [],
   "source": []
  }
 ],
 "metadata": {
  "kernelspec": {
   "display_name": "Python 3 (ipykernel)",
   "language": "python",
   "name": "python3"
  },
  "language_info": {
   "codemirror_mode": {
    "name": "ipython",
    "version": 3
   },
   "file_extension": ".py",
   "mimetype": "text/x-python",
   "name": "python",
   "nbconvert_exporter": "python",
   "pygments_lexer": "ipython3",
   "version": "3.8.8"
  }
 },
 "nbformat": 4,
 "nbformat_minor": 5
}
