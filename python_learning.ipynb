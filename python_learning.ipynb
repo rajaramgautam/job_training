{
 "cells": [
  {
   "cell_type": "markdown",
   "id": "260f7502",
   "metadata": {},
   "source": [
    "# Date 05/02/2022"
   ]
  },
  {
   "cell_type": "code",
   "execution_count": 1,
   "id": "f97c888d",
   "metadata": {},
   "outputs": [
    {
     "name": "stdout",
     "output_type": "stream",
     "text": [
      "Hello Python\n"
     ]
    }
   ],
   "source": [
    "print('Hello Python')"
   ]
  },
  {
   "cell_type": "code",
   "execution_count": 2,
   "id": "e7701cac",
   "metadata": {},
   "outputs": [
    {
     "name": "stdout",
     "output_type": "stream",
     "text": [
      "I am already writing code and enjoying this course!\n"
     ]
    }
   ],
   "source": [
    "print('I am already writing code and enjoying this course!')"
   ]
  },
  {
   "cell_type": "code",
   "execution_count": 9,
   "id": "ceeb7caf",
   "metadata": {},
   "outputs": [
    {
     "name": "stdout",
     "output_type": "stream",
     "text": [
      "What do you want for lunch? : Roti\n",
      "Your Roti is ready.\n"
     ]
    }
   ],
   "source": [
    "lunch = input('What do you want for lunch? : ')\n",
    "lunch\n",
    "print(f\"Your \" + lunch + \" is ready.\")"
   ]
  },
  {
   "cell_type": "markdown",
   "id": "dbc59189",
   "metadata": {},
   "source": [
    "### Varaiable\n",
    "- Variables should always start with lettes usually lower case.\n",
    "- It should never start with number or any other symbol.\n",
    "- No spaces or special characters in variable names\n",
    "- Names are case sensitive and python in over all is case sensitive language.\n",
    "- Reasonable name length\n",
    "- Get away from python reserve words\n"
   ]
  },
  {
   "cell_type": "code",
   "execution_count": 10,
   "id": "74742e65",
   "metadata": {},
   "outputs": [],
   "source": [
    "a = b = c = 10"
   ]
  },
  {
   "cell_type": "code",
   "execution_count": 11,
   "id": "496ec8ee",
   "metadata": {},
   "outputs": [
    {
     "data": {
      "text/plain": [
       "4366858880"
      ]
     },
     "execution_count": 11,
     "metadata": {},
     "output_type": "execute_result"
    }
   ],
   "source": [
    "id(a)"
   ]
  },
  {
   "cell_type": "code",
   "execution_count": 12,
   "id": "4c3bb3e7",
   "metadata": {},
   "outputs": [
    {
     "data": {
      "text/plain": [
       "4366858880"
      ]
     },
     "execution_count": 12,
     "metadata": {},
     "output_type": "execute_result"
    }
   ],
   "source": [
    "id(b)"
   ]
  },
  {
   "cell_type": "code",
   "execution_count": 13,
   "id": "d7b4a379",
   "metadata": {},
   "outputs": [
    {
     "data": {
      "text/plain": [
       "4366858880"
      ]
     },
     "execution_count": 13,
     "metadata": {},
     "output_type": "execute_result"
    }
   ],
   "source": [
    "id(c)"
   ]
  },
  {
   "cell_type": "code",
   "execution_count": 15,
   "id": "3ac20813",
   "metadata": {},
   "outputs": [],
   "source": [
    "d, e , f = 5, 6, 7"
   ]
  },
  {
   "cell_type": "code",
   "execution_count": 16,
   "id": "32cae37c",
   "metadata": {},
   "outputs": [
    {
     "data": {
      "text/plain": [
       "5"
      ]
     },
     "execution_count": 16,
     "metadata": {},
     "output_type": "execute_result"
    }
   ],
   "source": [
    "d"
   ]
  },
  {
   "cell_type": "code",
   "execution_count": 17,
   "id": "6909bcae",
   "metadata": {},
   "outputs": [
    {
     "data": {
      "text/plain": [
       "6"
      ]
     },
     "execution_count": 17,
     "metadata": {},
     "output_type": "execute_result"
    }
   ],
   "source": [
    "e"
   ]
  },
  {
   "cell_type": "code",
   "execution_count": 18,
   "id": "8b2c0536",
   "metadata": {},
   "outputs": [
    {
     "data": {
      "text/plain": [
       "7"
      ]
     },
     "execution_count": 18,
     "metadata": {},
     "output_type": "execute_result"
    }
   ],
   "source": [
    "f"
   ]
  },
  {
   "cell_type": "code",
   "execution_count": 19,
   "id": "d7f43ab0",
   "metadata": {},
   "outputs": [
    {
     "name": "stdout",
     "output_type": "stream",
     "text": [
      "4366858752\n"
     ]
    }
   ],
   "source": [
    "print(id(e))"
   ]
  },
  {
   "cell_type": "code",
   "execution_count": 20,
   "id": "32f3867d",
   "metadata": {},
   "outputs": [
    {
     "name": "stdout",
     "output_type": "stream",
     "text": [
      "4366858784\n"
     ]
    }
   ],
   "source": [
    "print(id(f))"
   ]
  },
  {
   "cell_type": "markdown",
   "id": "637a6099",
   "metadata": {},
   "source": [
    "# Data Types"
   ]
  },
  {
   "cell_type": "markdown",
   "id": "42294bec",
   "metadata": {},
   "source": [
    "- strings\n",
    "- numbers\n",
    "- boolean\n",
    "- lists\n",
    "- sets\n",
    "- frozensets\n",
    "- tuples\n",
    "- ranges\n",
    "- dictionaries\n",
    "- None"
   ]
  },
  {
   "cell_type": "markdown",
   "id": "65cd701d",
   "metadata": {},
   "source": [
    "- Mutuability (lists, sets, dictionaries)\n",
    "- Immutuability"
   ]
  },
  {
   "cell_type": "code",
   "execution_count": 24,
   "id": "772201ca",
   "metadata": {},
   "outputs": [
    {
     "name": "stdout",
     "output_type": "stream",
     "text": [
      "18\n",
      "19\n",
      "20\n",
      "21\n",
      "22\n",
      "23\n",
      "24\n",
      "25\n",
      "26\n",
      "27\n",
      "28\n",
      "29\n",
      "30\n",
      "31\n",
      "32\n",
      "33\n",
      "34\n",
      "35\n",
      "36\n",
      "37\n",
      "38\n",
      "39\n",
      "40\n",
      "41\n",
      "42\n",
      "43\n",
      "44\n",
      "45\n",
      "46\n",
      "47\n",
      "48\n",
      "49\n",
      "50\n",
      "51\n",
      "52\n",
      "53\n",
      "54\n",
      "55\n",
      "56\n",
      "57\n",
      "58\n",
      "59\n",
      "60\n",
      "61\n",
      "62\n",
      "63\n",
      "64\n",
      "65\n",
      "66\n",
      "67\n",
      "68\n",
      "69\n",
      "70\n",
      "71\n",
      "72\n",
      "73\n",
      "74\n",
      "75\n",
      "76\n",
      "77\n",
      "78\n",
      "79\n",
      "80\n",
      "81\n",
      "82\n",
      "83\n",
      "84\n",
      "85\n",
      "86\n",
      "87\n",
      "88\n",
      "89\n",
      "90\n",
      "91\n",
      "92\n",
      "93\n",
      "94\n",
      "95\n",
      "96\n",
      "97\n",
      "98\n",
      "99\n",
      "100\n",
      "101\n",
      "102\n",
      "103\n",
      "104\n",
      "105\n",
      "106\n",
      "107\n",
      "108\n",
      "109\n",
      "110\n",
      "111\n",
      "112\n",
      "113\n",
      "114\n",
      "115\n",
      "116\n",
      "117\n",
      "118\n",
      "119\n",
      "120\n",
      "121\n",
      "122\n",
      "123\n",
      "124\n",
      "125\n",
      "126\n",
      "127\n",
      "128\n",
      "129\n",
      "130\n",
      "131\n",
      "132\n",
      "133\n",
      "134\n",
      "135\n",
      "136\n",
      "137\n",
      "138\n",
      "139\n",
      "140\n",
      "141\n",
      "142\n",
      "143\n",
      "144\n",
      "145\n",
      "146\n",
      "147\n",
      "148\n",
      "149\n"
     ]
    }
   ],
   "source": [
    "voter_age = range(18, 150)\n",
    "for item in voter_age:\n",
    "    print(item)"
   ]
  },
  {
   "cell_type": "markdown",
   "id": "17fd5b5a",
   "metadata": {},
   "source": [
    "### Strings"
   ]
  },
  {
   "cell_type": "code",
   "execution_count": 25,
   "id": "967b82db",
   "metadata": {},
   "outputs": [
    {
     "data": {
      "text/plain": [
       "'This is my first string'"
      ]
     },
     "execution_count": 25,
     "metadata": {},
     "output_type": "execute_result"
    }
   ],
   "source": [
    "my_string = 'This is my first string'\n",
    "my_string"
   ]
  },
  {
   "cell_type": "markdown",
   "id": "148ac5d7",
   "metadata": {},
   "source": [
    "###### \\ escaping characters"
   ]
  },
  {
   "cell_type": "code",
   "execution_count": 27,
   "id": "be7466d0",
   "metadata": {},
   "outputs": [],
   "source": [
    "string = 'Cisco Router'"
   ]
  },
  {
   "cell_type": "code",
   "execution_count": 29,
   "id": "a85697b1",
   "metadata": {},
   "outputs": [
    {
     "data": {
      "text/plain": [
       "'Cisco'"
      ]
     },
     "execution_count": 29,
     "metadata": {},
     "output_type": "execute_result"
    }
   ],
   "source": [
    "string[0:5]"
   ]
  },
  {
   "cell_type": "code",
   "execution_count": 30,
   "id": "97a9362c",
   "metadata": {},
   "outputs": [
    {
     "data": {
      "text/plain": [
       "12"
      ]
     },
     "execution_count": 30,
     "metadata": {},
     "output_type": "execute_result"
    }
   ],
   "source": [
    "len(string)"
   ]
  },
  {
   "cell_type": "markdown",
   "id": "485cec2c",
   "metadata": {},
   "source": [
    "###### Methods of String"
   ]
  },
  {
   "cell_type": "code",
   "execution_count": 31,
   "id": "6ceed83d",
   "metadata": {},
   "outputs": [],
   "source": [
    "a = 'Cisco Switch'"
   ]
  },
  {
   "cell_type": "code",
   "execution_count": 33,
   "id": "883e9b25",
   "metadata": {},
   "outputs": [
    {
     "data": {
      "text/plain": [
       "0"
      ]
     },
     "execution_count": 33,
     "metadata": {},
     "output_type": "execute_result"
    }
   ],
   "source": [
    "a.index('C')"
   ]
  },
  {
   "cell_type": "code",
   "execution_count": 35,
   "id": "9ed5728d",
   "metadata": {},
   "outputs": [
    {
     "data": {
      "text/plain": [
       "2"
      ]
     },
     "execution_count": 35,
     "metadata": {},
     "output_type": "execute_result"
    }
   ],
   "source": [
    "a.count('i')"
   ]
  },
  {
   "cell_type": "code",
   "execution_count": 36,
   "id": "c6064e77",
   "metadata": {},
   "outputs": [
    {
     "data": {
      "text/plain": [
       "7"
      ]
     },
     "execution_count": 36,
     "metadata": {},
     "output_type": "execute_result"
    }
   ],
   "source": [
    "a.find('w')"
   ]
  },
  {
   "cell_type": "code",
   "execution_count": 37,
   "id": "bb981b8d",
   "metadata": {},
   "outputs": [
    {
     "data": {
      "text/plain": [
       "-1"
      ]
     },
     "execution_count": 37,
     "metadata": {},
     "output_type": "execute_result"
    }
   ],
   "source": [
    "a.find('abc')"
   ]
  },
  {
   "cell_type": "code",
   "execution_count": 38,
   "id": "ecd0d51d",
   "metadata": {},
   "outputs": [
    {
     "data": {
      "text/plain": [
       "'cisco switch'"
      ]
     },
     "execution_count": 38,
     "metadata": {},
     "output_type": "execute_result"
    }
   ],
   "source": [
    "a.lower()"
   ]
  },
  {
   "cell_type": "code",
   "execution_count": 39,
   "id": "f698b52f",
   "metadata": {},
   "outputs": [
    {
     "data": {
      "text/plain": [
       "'CISCO SWITCH'"
      ]
     },
     "execution_count": 39,
     "metadata": {},
     "output_type": "execute_result"
    }
   ],
   "source": [
    "a.upper()"
   ]
  },
  {
   "cell_type": "code",
   "execution_count": 41,
   "id": "2ec222ba",
   "metadata": {},
   "outputs": [
    {
     "data": {
      "text/plain": [
       "True"
      ]
     },
     "execution_count": 41,
     "metadata": {},
     "output_type": "execute_result"
    }
   ],
   "source": [
    "a.startswith('C')"
   ]
  },
  {
   "cell_type": "code",
   "execution_count": 43,
   "id": "b708e9bb",
   "metadata": {},
   "outputs": [
    {
     "data": {
      "text/plain": [
       "False"
      ]
     },
     "execution_count": 43,
     "metadata": {},
     "output_type": "execute_result"
    }
   ],
   "source": [
    "a.endswith('c')"
   ]
  },
  {
   "cell_type": "code",
   "execution_count": 45,
   "id": "31827481",
   "metadata": {},
   "outputs": [],
   "source": [
    "b = '    Cisco Switch   '"
   ]
  },
  {
   "cell_type": "code",
   "execution_count": 46,
   "id": "d2e954f2",
   "metadata": {},
   "outputs": [
    {
     "data": {
      "text/plain": [
       "'Cisco Switch'"
      ]
     },
     "execution_count": 46,
     "metadata": {},
     "output_type": "execute_result"
    }
   ],
   "source": [
    "b.strip()"
   ]
  },
  {
   "cell_type": "code",
   "execution_count": 47,
   "id": "3a37de92",
   "metadata": {},
   "outputs": [],
   "source": [
    "c = \"$$$Cisco Switch$$$\""
   ]
  },
  {
   "cell_type": "code",
   "execution_count": 48,
   "id": "4d3a208c",
   "metadata": {},
   "outputs": [
    {
     "data": {
      "text/plain": [
       "'Cisco Switch'"
      ]
     },
     "execution_count": 48,
     "metadata": {},
     "output_type": "execute_result"
    }
   ],
   "source": [
    "c.strip('$')"
   ]
  },
  {
   "cell_type": "code",
   "execution_count": 51,
   "id": "aec70a12",
   "metadata": {},
   "outputs": [],
   "source": [
    "d = '    Cisco Switch   '"
   ]
  },
  {
   "cell_type": "code",
   "execution_count": 52,
   "id": "e4b394c2",
   "metadata": {},
   "outputs": [
    {
     "data": {
      "text/plain": [
       "'CiscoSwitch'"
      ]
     },
     "execution_count": 52,
     "metadata": {},
     "output_type": "execute_result"
    }
   ],
   "source": [
    "d.replace(' ', '')"
   ]
  },
  {
   "cell_type": "code",
   "execution_count": 53,
   "id": "6427fc68",
   "metadata": {},
   "outputs": [],
   "source": [
    "e = 'Cisco, Juniper, HP, Avaya, Nortel'"
   ]
  },
  {
   "cell_type": "code",
   "execution_count": 54,
   "id": "29b54e3c",
   "metadata": {},
   "outputs": [
    {
     "data": {
      "text/plain": [
       "['Cisco', ' Juniper', ' HP', ' Avaya', ' Nortel']"
      ]
     },
     "execution_count": 54,
     "metadata": {},
     "output_type": "execute_result"
    }
   ],
   "source": [
    "e.split(',')"
   ]
  },
  {
   "cell_type": "code",
   "execution_count": 55,
   "id": "91ff6584",
   "metadata": {},
   "outputs": [
    {
     "data": {
      "text/plain": [
       "'C_i_s_c_o_ _S_w_i_t_c_h'"
      ]
     },
     "execution_count": 55,
     "metadata": {},
     "output_type": "execute_result"
    }
   ],
   "source": [
    "'_'.join(a)"
   ]
  },
  {
   "cell_type": "markdown",
   "id": "20b82739",
   "metadata": {},
   "source": [
    "###### Operators & Formatting"
   ]
  },
  {
   "cell_type": "code",
   "execution_count": 56,
   "id": "a1d29005",
   "metadata": {},
   "outputs": [
    {
     "data": {
      "text/plain": [
       "'CiscoSwitch'"
      ]
     },
     "execution_count": 56,
     "metadata": {},
     "output_type": "execute_result"
    }
   ],
   "source": [
    "x = 'Cisco'\n",
    "y = 'Switch'\n",
    "x+y"
   ]
  },
  {
   "cell_type": "code",
   "execution_count": 57,
   "id": "5ba24b36",
   "metadata": {},
   "outputs": [
    {
     "data": {
      "text/plain": [
       "'CiscoCiscoCisco'"
      ]
     },
     "execution_count": 57,
     "metadata": {},
     "output_type": "execute_result"
    }
   ],
   "source": [
    "3 * x"
   ]
  },
  {
   "cell_type": "code",
   "execution_count": 58,
   "id": "b95c04b8",
   "metadata": {},
   "outputs": [
    {
     "data": {
      "text/plain": [
       "'Cisco model: 2600XM, 2 WAN slots, IOS 12.400000'"
      ]
     },
     "execution_count": 58,
     "metadata": {},
     "output_type": "execute_result"
    }
   ],
   "source": [
    "'Cisco model: %s, %d WAN slots, IOS %f' %('2600XM', 2, 12.4)"
   ]
  },
  {
   "cell_type": "code",
   "execution_count": 60,
   "id": "cab41211",
   "metadata": {},
   "outputs": [
    {
     "data": {
      "text/plain": [
       "'Cisco model: 2600XM, 2 WAN slots, IOS 12.4'"
      ]
     },
     "execution_count": 60,
     "metadata": {},
     "output_type": "execute_result"
    }
   ],
   "source": [
    "'Cisco model: %s, %d WAN slots, IOS %.1f' %('2600XM', 2, 12.4)"
   ]
  },
  {
   "cell_type": "code",
   "execution_count": 61,
   "id": "7516644d",
   "metadata": {},
   "outputs": [
    {
     "data": {
      "text/plain": [
       "'Cisco model: 2600XM, 2 WAN slots, IOS 12.40'"
      ]
     },
     "execution_count": 61,
     "metadata": {},
     "output_type": "execute_result"
    }
   ],
   "source": [
    "'Cisco model: %s, %d WAN slots, IOS %.2f' %('2600XM', 2, 12.4)"
   ]
  },
  {
   "cell_type": "code",
   "execution_count": 62,
   "id": "a3e33a6b",
   "metadata": {},
   "outputs": [
    {
     "data": {
      "text/plain": [
       "'Cisco model: 2600XM, 2 WAN slots, IOS 12.4'"
      ]
     },
     "execution_count": 62,
     "metadata": {},
     "output_type": "execute_result"
    }
   ],
   "source": [
    "'Cisco model: {}, {} WAN slots, IOS {}' .format ('2600XM', 2, 12.4)"
   ]
  },
  {
   "cell_type": "markdown",
   "id": "47da443e",
   "metadata": {},
   "source": [
    "###### f-stings"
   ]
  },
  {
   "cell_type": "code",
   "execution_count": 67,
   "id": "093c9298",
   "metadata": {},
   "outputs": [],
   "source": [
    "model = '2600 X M' \n",
    "slots = 4  \n",
    "ios = 12.3"
   ]
  },
  {
   "cell_type": "code",
   "execution_count": 68,
   "id": "4d09ad88",
   "metadata": {},
   "outputs": [
    {
     "data": {
      "text/plain": [
       "'Cisco model: 2600 X M, 4 WAN slots, IOS 12.3'"
      ]
     },
     "execution_count": 68,
     "metadata": {},
     "output_type": "execute_result"
    }
   ],
   "source": [
    "f'Cisco model: {model}, {slots} WAN slots, IOS {ios}'"
   ]
  },
  {
   "cell_type": "code",
   "execution_count": 69,
   "id": "ff9c7a1b",
   "metadata": {},
   "outputs": [
    {
     "data": {
      "text/plain": [
       "'Cisco model: 2600 x m, 8 WAN slots, IOS 12.3'"
      ]
     },
     "execution_count": 69,
     "metadata": {},
     "output_type": "execute_result"
    }
   ],
   "source": [
    "f'Cisco model: {model.lower()}, {slots * 2} WAN slots, IOS {ios}'"
   ]
  },
  {
   "cell_type": "code",
   "execution_count": 70,
   "id": "a4c2226b",
   "metadata": {},
   "outputs": [],
   "source": [
    "string1 = 'Hello, wea are home.'"
   ]
  },
  {
   "cell_type": "code",
   "execution_count": 71,
   "id": "15f79fb9",
   "metadata": {},
   "outputs": [
    {
     "data": {
      "text/plain": [
       "'home.'"
      ]
     },
     "execution_count": 71,
     "metadata": {},
     "output_type": "execute_result"
    }
   ],
   "source": [
    "string1[-5:]"
   ]
  },
  {
   "cell_type": "code",
   "execution_count": 72,
   "id": "f7beb108",
   "metadata": {},
   "outputs": [
    {
     "data": {
      "text/plain": [
       "'home'"
      ]
     },
     "execution_count": 72,
     "metadata": {},
     "output_type": "execute_result"
    }
   ],
   "source": [
    "string1[-5:-1]"
   ]
  },
  {
   "cell_type": "code",
   "execution_count": 73,
   "id": "2b97a3e8",
   "metadata": {},
   "outputs": [
    {
     "data": {
      "text/plain": [
       "'Hello'"
      ]
     },
     "execution_count": 73,
     "metadata": {},
     "output_type": "execute_result"
    }
   ],
   "source": [
    "string1[0:5]"
   ]
  },
  {
   "cell_type": "code",
   "execution_count": 75,
   "id": "4ff35613",
   "metadata": {},
   "outputs": [
    {
     "data": {
      "text/plain": [
       "'Hlo e r oe'"
      ]
     },
     "execution_count": 75,
     "metadata": {},
     "output_type": "execute_result"
    }
   ],
   "source": [
    "string1[::2]"
   ]
  },
  {
   "cell_type": "code",
   "execution_count": 76,
   "id": "7b581667",
   "metadata": {},
   "outputs": [
    {
     "data": {
      "text/plain": [
       "'.emoh era aew ,olleH'"
      ]
     },
     "execution_count": 76,
     "metadata": {},
     "output_type": "execute_result"
    }
   ],
   "source": [
    "string1[::-1]"
   ]
  },
  {
   "cell_type": "markdown",
   "id": "8a5e9225",
   "metadata": {},
   "source": [
    "###### mysting[start: stop: step]"
   ]
  },
  {
   "cell_type": "code",
   "execution_count": 77,
   "id": "65e9882f",
   "metadata": {},
   "outputs": [],
   "source": [
    "mystring = '0123456789'"
   ]
  },
  {
   "cell_type": "code",
   "execution_count": 79,
   "id": "1cd70d85",
   "metadata": {},
   "outputs": [
    {
     "data": {
      "text/plain": [
       "'02468'"
      ]
     },
     "execution_count": 79,
     "metadata": {},
     "output_type": "execute_result"
    }
   ],
   "source": [
    "mystring[0::2]"
   ]
  },
  {
   "cell_type": "code",
   "execution_count": 80,
   "id": "844a639a",
   "metadata": {},
   "outputs": [
    {
     "data": {
      "text/plain": [
       "'13579'"
      ]
     },
     "execution_count": 80,
     "metadata": {},
     "output_type": "execute_result"
    }
   ],
   "source": [
    "mystring[1::2]"
   ]
  },
  {
   "cell_type": "code",
   "execution_count": 81,
   "id": "2c0832ff",
   "metadata": {},
   "outputs": [],
   "source": [
    "string3 = 'nepal mountain budha pashupati nath'"
   ]
  },
  {
   "cell_type": "code",
   "execution_count": 89,
   "id": "e52b8bdf",
   "metadata": {},
   "outputs": [],
   "source": [
    "string4 = string3.title()"
   ]
  },
  {
   "cell_type": "code",
   "execution_count": 83,
   "id": "de27be9b",
   "metadata": {},
   "outputs": [
    {
     "data": {
      "text/plain": [
       "False"
      ]
     },
     "execution_count": 83,
     "metadata": {},
     "output_type": "execute_result"
    }
   ],
   "source": [
    "string3.isalnum()"
   ]
  },
  {
   "cell_type": "code",
   "execution_count": 84,
   "id": "16b65922",
   "metadata": {},
   "outputs": [
    {
     "data": {
      "text/plain": [
       "False"
      ]
     },
     "execution_count": 84,
     "metadata": {},
     "output_type": "execute_result"
    }
   ],
   "source": [
    "string3.isalpha()"
   ]
  },
  {
   "cell_type": "code",
   "execution_count": 85,
   "id": "29d9beb6",
   "metadata": {},
   "outputs": [
    {
     "data": {
      "text/plain": [
       "False"
      ]
     },
     "execution_count": 85,
     "metadata": {},
     "output_type": "execute_result"
    }
   ],
   "source": [
    "string3.isdigit()"
   ]
  },
  {
   "cell_type": "code",
   "execution_count": 86,
   "id": "36a50280",
   "metadata": {},
   "outputs": [
    {
     "data": {
      "text/plain": [
       "True"
      ]
     },
     "execution_count": 86,
     "metadata": {},
     "output_type": "execute_result"
    }
   ],
   "source": [
    "string3.islower()"
   ]
  },
  {
   "cell_type": "code",
   "execution_count": 87,
   "id": "7d08634b",
   "metadata": {},
   "outputs": [
    {
     "data": {
      "text/plain": [
       "False"
      ]
     },
     "execution_count": 87,
     "metadata": {},
     "output_type": "execute_result"
    }
   ],
   "source": [
    "string3.isupper()"
   ]
  },
  {
   "cell_type": "code",
   "execution_count": 88,
   "id": "626756e0",
   "metadata": {},
   "outputs": [
    {
     "data": {
      "text/plain": [
       "False"
      ]
     },
     "execution_count": 88,
     "metadata": {},
     "output_type": "execute_result"
    }
   ],
   "source": [
    "string3.isnumeric()"
   ]
  },
  {
   "cell_type": "code",
   "execution_count": 90,
   "id": "853ed25b",
   "metadata": {},
   "outputs": [
    {
     "data": {
      "text/plain": [
       "True"
      ]
     },
     "execution_count": 90,
     "metadata": {},
     "output_type": "execute_result"
    }
   ],
   "source": [
    "string4.istitle()"
   ]
  },
  {
   "cell_type": "code",
   "execution_count": 91,
   "id": "c5c74b60",
   "metadata": {},
   "outputs": [
    {
     "data": {
      "text/plain": [
       "False"
      ]
     },
     "execution_count": 91,
     "metadata": {},
     "output_type": "execute_result"
    }
   ],
   "source": [
    "string4.isupper()"
   ]
  },
  {
   "cell_type": "code",
   "execution_count": 92,
   "id": "fed3e2ef",
   "metadata": {},
   "outputs": [],
   "source": [
    "string5 = string3.upper()"
   ]
  },
  {
   "cell_type": "code",
   "execution_count": 93,
   "id": "598e7306",
   "metadata": {},
   "outputs": [
    {
     "data": {
      "text/plain": [
       "True"
      ]
     },
     "execution_count": 93,
     "metadata": {},
     "output_type": "execute_result"
    }
   ],
   "source": [
    "string5.isupper()"
   ]
  },
  {
   "cell_type": "markdown",
   "id": "7d1bc11b",
   "metadata": {},
   "source": [
    "# Numbers"
   ]
  },
  {
   "cell_type": "code",
   "execution_count": 94,
   "id": "06f85916",
   "metadata": {},
   "outputs": [
    {
     "data": {
      "text/plain": [
       "3"
      ]
     },
     "execution_count": 94,
     "metadata": {},
     "output_type": "execute_result"
    }
   ],
   "source": [
    "7//2"
   ]
  },
  {
   "cell_type": "code",
   "execution_count": 95,
   "id": "3214572d",
   "metadata": {},
   "outputs": [
    {
     "data": {
      "text/plain": [
       "1"
      ]
     },
     "execution_count": 95,
     "metadata": {},
     "output_type": "execute_result"
    }
   ],
   "source": [
    "7%2"
   ]
  },
  {
   "cell_type": "code",
   "execution_count": 100,
   "id": "c39e9bba",
   "metadata": {},
   "outputs": [
    {
     "data": {
      "text/plain": [
       "False"
      ]
     },
     "execution_count": 100,
     "metadata": {},
     "output_type": "execute_result"
    }
   ],
   "source": [
    "bool([])"
   ]
  },
  {
   "cell_type": "code",
   "execution_count": 102,
   "id": "7623b39a",
   "metadata": {},
   "outputs": [
    {
     "data": {
      "text/plain": [
       "False"
      ]
     },
     "execution_count": 102,
     "metadata": {},
     "output_type": "execute_result"
    }
   ],
   "source": [
    "bool({})"
   ]
  },
  {
   "cell_type": "code",
   "execution_count": 103,
   "id": "3eb02365",
   "metadata": {},
   "outputs": [
    {
     "data": {
      "text/plain": [
       "False"
      ]
     },
     "execution_count": 103,
     "metadata": {},
     "output_type": "execute_result"
    }
   ],
   "source": [
    "bool(None)"
   ]
  },
  {
   "cell_type": "code",
   "execution_count": 104,
   "id": "ddc15068",
   "metadata": {},
   "outputs": [
    {
     "data": {
      "text/plain": [
       "False"
      ]
     },
     "execution_count": 104,
     "metadata": {},
     "output_type": "execute_result"
    }
   ],
   "source": [
    "bool(0)"
   ]
  },
  {
   "cell_type": "code",
   "execution_count": 105,
   "id": "f3374481",
   "metadata": {},
   "outputs": [
    {
     "data": {
      "text/plain": [
       "False"
      ]
     },
     "execution_count": 105,
     "metadata": {},
     "output_type": "execute_result"
    }
   ],
   "source": [
    "bool(0.0)"
   ]
  },
  {
   "cell_type": "markdown",
   "id": "679e5a02",
   "metadata": {},
   "source": [
    "# Boolean"
   ]
  },
  {
   "cell_type": "markdown",
   "id": "e84a2224",
   "metadata": {},
   "source": [
    "# List"
   ]
  },
  {
   "cell_type": "code",
   "execution_count": 106,
   "id": "d32beb83",
   "metadata": {},
   "outputs": [
    {
     "data": {
      "text/plain": [
       "list"
      ]
     },
     "execution_count": 106,
     "metadata": {},
     "output_type": "execute_result"
    }
   ],
   "source": [
    "list1 = []\n",
    "type(list1)"
   ]
  },
  {
   "cell_type": "code",
   "execution_count": 107,
   "id": "61395b31",
   "metadata": {},
   "outputs": [],
   "source": [
    "list1.append('Cisco')"
   ]
  },
  {
   "cell_type": "code",
   "execution_count": 108,
   "id": "1fa6fdf3",
   "metadata": {},
   "outputs": [
    {
     "data": {
      "text/plain": [
       "['Cisco']"
      ]
     },
     "execution_count": 108,
     "metadata": {},
     "output_type": "execute_result"
    }
   ],
   "source": [
    "list1"
   ]
  },
  {
   "cell_type": "code",
   "execution_count": 109,
   "id": "93328b2f",
   "metadata": {},
   "outputs": [],
   "source": [
    "list1.append('Juniper')"
   ]
  },
  {
   "cell_type": "code",
   "execution_count": 110,
   "id": "6197b292",
   "metadata": {},
   "outputs": [
    {
     "data": {
      "text/plain": [
       "['Cisco', 'Juniper']"
      ]
     },
     "execution_count": 110,
     "metadata": {},
     "output_type": "execute_result"
    }
   ],
   "source": [
    "list1"
   ]
  },
  {
   "cell_type": "code",
   "execution_count": 111,
   "id": "1134fb2f",
   "metadata": {},
   "outputs": [],
   "source": [
    "list1.append('Avaya')"
   ]
  },
  {
   "cell_type": "code",
   "execution_count": 112,
   "id": "e0711ce5",
   "metadata": {},
   "outputs": [
    {
     "data": {
      "text/plain": [
       "['Cisco', 'Juniper', 'Avaya']"
      ]
     },
     "execution_count": 112,
     "metadata": {},
     "output_type": "execute_result"
    }
   ],
   "source": [
    "list1"
   ]
  },
  {
   "cell_type": "markdown",
   "id": "62a7b5fa",
   "metadata": {},
   "source": [
    "###### List Methods"
   ]
  },
  {
   "cell_type": "code",
   "execution_count": 113,
   "id": "9b1c3bf4",
   "metadata": {},
   "outputs": [],
   "source": [
    "list2 = [-11, 2, 12]"
   ]
  },
  {
   "cell_type": "code",
   "execution_count": 114,
   "id": "613951bd",
   "metadata": {},
   "outputs": [
    {
     "data": {
      "text/plain": [
       "-11"
      ]
     },
     "execution_count": 114,
     "metadata": {},
     "output_type": "execute_result"
    }
   ],
   "source": [
    "min(list2)"
   ]
  },
  {
   "cell_type": "code",
   "execution_count": 115,
   "id": "f2d48c54",
   "metadata": {},
   "outputs": [
    {
     "data": {
      "text/plain": [
       "12"
      ]
     },
     "execution_count": 115,
     "metadata": {},
     "output_type": "execute_result"
    }
   ],
   "source": [
    "max(list2)"
   ]
  },
  {
   "cell_type": "code",
   "execution_count": 116,
   "id": "341835d2",
   "metadata": {},
   "outputs": [],
   "source": [
    "list1.append(100)"
   ]
  },
  {
   "cell_type": "code",
   "execution_count": 117,
   "id": "077c5c6c",
   "metadata": {},
   "outputs": [
    {
     "data": {
      "text/plain": [
       "['Cisco', 'Juniper', 'Avaya', 100]"
      ]
     },
     "execution_count": 117,
     "metadata": {},
     "output_type": "execute_result"
    }
   ],
   "source": [
    "list1"
   ]
  },
  {
   "cell_type": "code",
   "execution_count": 118,
   "id": "6d755cad",
   "metadata": {},
   "outputs": [],
   "source": [
    "del list1[3]"
   ]
  },
  {
   "cell_type": "code",
   "execution_count": 119,
   "id": "b90d1767",
   "metadata": {},
   "outputs": [
    {
     "data": {
      "text/plain": [
       "'Cisco'"
      ]
     },
     "execution_count": 119,
     "metadata": {},
     "output_type": "execute_result"
    }
   ],
   "source": [
    "list1.pop(0)"
   ]
  },
  {
   "cell_type": "code",
   "execution_count": 120,
   "id": "8201e524",
   "metadata": {},
   "outputs": [
    {
     "data": {
      "text/plain": [
       "['Juniper', 'Avaya']"
      ]
     },
     "execution_count": 120,
     "metadata": {},
     "output_type": "execute_result"
    }
   ],
   "source": [
    "list1"
   ]
  },
  {
   "cell_type": "code",
   "execution_count": 121,
   "id": "49569bfd",
   "metadata": {},
   "outputs": [],
   "source": [
    "list1.remove('Juniper')"
   ]
  },
  {
   "cell_type": "code",
   "execution_count": 122,
   "id": "dec4ff36",
   "metadata": {},
   "outputs": [
    {
     "data": {
      "text/plain": [
       "['Avaya']"
      ]
     },
     "execution_count": 122,
     "metadata": {},
     "output_type": "execute_result"
    }
   ],
   "source": [
    "list1"
   ]
  },
  {
   "cell_type": "code",
   "execution_count": 126,
   "id": "7062cf0c",
   "metadata": {},
   "outputs": [],
   "source": [
    "list1.insert(3, 'Nortel')"
   ]
  },
  {
   "cell_type": "code",
   "execution_count": 127,
   "id": "30454cb5",
   "metadata": {},
   "outputs": [
    {
     "data": {
      "text/plain": [
       "['Avaya', 'Nortel', 'Nortel']"
      ]
     },
     "execution_count": 127,
     "metadata": {},
     "output_type": "execute_result"
    }
   ],
   "source": [
    "list1"
   ]
  },
  {
   "cell_type": "code",
   "execution_count": 128,
   "id": "79e586de",
   "metadata": {},
   "outputs": [
    {
     "name": "stdout",
     "output_type": "stream",
     "text": [
      "Avaya\n",
      "Nortel\n",
      "Nortel\n"
     ]
    }
   ],
   "source": [
    "for item in list1:\n",
    "    print(item)"
   ]
  },
  {
   "cell_type": "code",
   "execution_count": 129,
   "id": "5234af90",
   "metadata": {},
   "outputs": [
    {
     "data": {
      "text/plain": [
       "{'Avaya', 'Nortel'}"
      ]
     },
     "execution_count": 129,
     "metadata": {},
     "output_type": "execute_result"
    }
   ],
   "source": [
    "set(list1)"
   ]
  },
  {
   "cell_type": "code",
   "execution_count": 130,
   "id": "58e57dc1",
   "metadata": {},
   "outputs": [],
   "source": [
    "list2 = [9, 99, 999]"
   ]
  },
  {
   "cell_type": "code",
   "execution_count": 139,
   "id": "6eadd59a",
   "metadata": {},
   "outputs": [],
   "source": [
    "list3 = list1.extend(list2)"
   ]
  },
  {
   "cell_type": "code",
   "execution_count": 140,
   "id": "aaa0f02c",
   "metadata": {},
   "outputs": [
    {
     "data": {
      "text/plain": [
       "['Avaya', 'Nortel', 'Nortel', 9, 99, 999, 9, 99, 999, 9, 99, 999, 9, 99, 999]"
      ]
     },
     "execution_count": 140,
     "metadata": {},
     "output_type": "execute_result"
    }
   ],
   "source": [
    "list1"
   ]
  },
  {
   "cell_type": "code",
   "execution_count": 141,
   "id": "072360c6",
   "metadata": {},
   "outputs": [
    {
     "data": {
      "text/plain": [
       "['Avaya', 'Nortel', 'Nortel', 9, 99, 999, 9, 99, 999, 9, 99, 999, 9, 99, 999]"
      ]
     },
     "execution_count": 141,
     "metadata": {},
     "output_type": "execute_result"
    }
   ],
   "source": [
    "list1"
   ]
  },
  {
   "cell_type": "code",
   "execution_count": 142,
   "id": "7b31ca21",
   "metadata": {},
   "outputs": [],
   "source": [
    "list3"
   ]
  },
  {
   "cell_type": "code",
   "execution_count": 143,
   "id": "06bf9f30",
   "metadata": {},
   "outputs": [
    {
     "data": {
      "text/plain": [
       "4"
      ]
     },
     "execution_count": 143,
     "metadata": {},
     "output_type": "execute_result"
    }
   ],
   "source": [
    "list1.count(99)"
   ]
  },
  {
   "cell_type": "code",
   "execution_count": 145,
   "id": "8878847f",
   "metadata": {},
   "outputs": [],
   "source": [
    "list4 = [10, 20, 11, 66, 69, 99, 50, 49]"
   ]
  },
  {
   "cell_type": "code",
   "execution_count": 146,
   "id": "f3fdd315",
   "metadata": {},
   "outputs": [],
   "source": [
    "list4.sort()"
   ]
  },
  {
   "cell_type": "code",
   "execution_count": 147,
   "id": "f82c04d5",
   "metadata": {},
   "outputs": [
    {
     "data": {
      "text/plain": [
       "[10, 11, 20, 49, 50, 66, 69, 99]"
      ]
     },
     "execution_count": 147,
     "metadata": {},
     "output_type": "execute_result"
    }
   ],
   "source": [
    "list4"
   ]
  },
  {
   "cell_type": "code",
   "execution_count": 148,
   "id": "c2c57256",
   "metadata": {},
   "outputs": [],
   "source": [
    "list4.reverse()"
   ]
  },
  {
   "cell_type": "code",
   "execution_count": 149,
   "id": "afaf3b97",
   "metadata": {},
   "outputs": [
    {
     "data": {
      "text/plain": [
       "[99, 69, 66, 50, 49, 20, 11, 10]"
      ]
     },
     "execution_count": 149,
     "metadata": {},
     "output_type": "execute_result"
    }
   ],
   "source": [
    "list4"
   ]
  },
  {
   "cell_type": "code",
   "execution_count": 150,
   "id": "b1777c43",
   "metadata": {},
   "outputs": [
    {
     "data": {
      "text/plain": [
       "[99, 69, 66, 50, 49, 20, 11, 10]"
      ]
     },
     "execution_count": 150,
     "metadata": {},
     "output_type": "execute_result"
    }
   ],
   "source": [
    "list4"
   ]
  },
  {
   "cell_type": "code",
   "execution_count": 155,
   "id": "803eb2ed",
   "metadata": {},
   "outputs": [],
   "source": [
    "list4.reverse()"
   ]
  },
  {
   "cell_type": "code",
   "execution_count": 156,
   "id": "d2a8cde0",
   "metadata": {},
   "outputs": [
    {
     "data": {
      "text/plain": [
       "[10, 11, 20, 49, 50, 66, 69, 99]"
      ]
     },
     "execution_count": 156,
     "metadata": {},
     "output_type": "execute_result"
    }
   ],
   "source": [
    "list4"
   ]
  },
  {
   "cell_type": "code",
   "execution_count": 157,
   "id": "02c8b65c",
   "metadata": {},
   "outputs": [
    {
     "data": {
      "text/plain": [
       "[10, 11, 20, 49, 50, 66, 69, 99]"
      ]
     },
     "execution_count": 157,
     "metadata": {},
     "output_type": "execute_result"
    }
   ],
   "source": [
    "list4"
   ]
  },
  {
   "cell_type": "markdown",
   "id": "533da0fa",
   "metadata": {},
   "source": [
    "###### List Slicing"
   ]
  },
  {
   "cell_type": "code",
   "execution_count": 158,
   "id": "d90abe0b",
   "metadata": {},
   "outputs": [
    {
     "data": {
      "text/plain": [
       "[11, 20, 49, 50, 66]"
      ]
     },
     "execution_count": 158,
     "metadata": {},
     "output_type": "execute_result"
    }
   ],
   "source": [
    "list4[1:6]"
   ]
  },
  {
   "cell_type": "code",
   "execution_count": 159,
   "id": "fb89f8a3",
   "metadata": {},
   "outputs": [
    {
     "data": {
      "text/plain": [
       "[49, 50, 66, 69, 99]"
      ]
     },
     "execution_count": 159,
     "metadata": {},
     "output_type": "execute_result"
    }
   ],
   "source": [
    "list4[3:]"
   ]
  },
  {
   "cell_type": "code",
   "execution_count": 161,
   "id": "a45811be",
   "metadata": {},
   "outputs": [
    {
     "data": {
      "text/plain": [
       "[10, 11, 20, 49, 50, 66, 69, 99]"
      ]
     },
     "execution_count": 161,
     "metadata": {},
     "output_type": "execute_result"
    }
   ],
   "source": [
    "list4[:]"
   ]
  },
  {
   "cell_type": "code",
   "execution_count": 163,
   "id": "dbcfb5cd",
   "metadata": {},
   "outputs": [
    {
     "data": {
      "text/plain": [
       "[20, 49, 50, 66, 69]"
      ]
     },
     "execution_count": 163,
     "metadata": {},
     "output_type": "execute_result"
    }
   ],
   "source": [
    "list4[-6:-1]"
   ]
  },
  {
   "cell_type": "code",
   "execution_count": 164,
   "id": "8d8afb13",
   "metadata": {},
   "outputs": [
    {
     "data": {
      "text/plain": [
       "[66, 69, 99]"
      ]
     },
     "execution_count": 164,
     "metadata": {},
     "output_type": "execute_result"
    }
   ],
   "source": [
    "list4[-3:]"
   ]
  },
  {
   "cell_type": "code",
   "execution_count": 166,
   "id": "3410a823",
   "metadata": {},
   "outputs": [
    {
     "data": {
      "text/plain": [
       "[10, 11, 20, 49, 50]"
      ]
     },
     "execution_count": 166,
     "metadata": {},
     "output_type": "execute_result"
    }
   ],
   "source": [
    "list4[:-3]"
   ]
  },
  {
   "cell_type": "code",
   "execution_count": 168,
   "id": "2e2a0b2d",
   "metadata": {},
   "outputs": [
    {
     "data": {
      "text/plain": [
       "[99, 69, 66, 50, 49, 20, 11, 10]"
      ]
     },
     "execution_count": 168,
     "metadata": {},
     "output_type": "execute_result"
    }
   ],
   "source": [
    "list4[::-1]"
   ]
  },
  {
   "cell_type": "markdown",
   "id": "1c1b8182",
   "metadata": {},
   "source": [
    "# Sets"
   ]
  },
  {
   "cell_type": "code",
   "execution_count": 169,
   "id": "f9e26e33",
   "metadata": {},
   "outputs": [],
   "source": [
    "list4.append(66)"
   ]
  },
  {
   "cell_type": "code",
   "execution_count": 170,
   "id": "1845faa0",
   "metadata": {},
   "outputs": [
    {
     "data": {
      "text/plain": [
       "[10, 11, 20, 49, 50, 66, 69, 99, 66]"
      ]
     },
     "execution_count": 170,
     "metadata": {},
     "output_type": "execute_result"
    }
   ],
   "source": [
    "list4"
   ]
  },
  {
   "cell_type": "code",
   "execution_count": 171,
   "id": "12760501",
   "metadata": {},
   "outputs": [
    {
     "data": {
      "text/plain": [
       "{10, 11, 20, 49, 50, 66, 69, 99}"
      ]
     },
     "execution_count": 171,
     "metadata": {},
     "output_type": "execute_result"
    }
   ],
   "source": [
    "set(list4)"
   ]
  },
  {
   "cell_type": "code",
   "execution_count": 174,
   "id": "ff6d4701",
   "metadata": {},
   "outputs": [],
   "source": [
    "set2 = {11, 12, 13, 14, 15, 15, 11}"
   ]
  },
  {
   "cell_type": "code",
   "execution_count": 175,
   "id": "596edea0",
   "metadata": {},
   "outputs": [
    {
     "data": {
      "text/plain": [
       "{11, 12, 13, 14, 15}"
      ]
     },
     "execution_count": 175,
     "metadata": {},
     "output_type": "execute_result"
    }
   ],
   "source": [
    "set2"
   ]
  },
  {
   "cell_type": "code",
   "execution_count": 177,
   "id": "b4a87532",
   "metadata": {},
   "outputs": [],
   "source": [
    "set2.add(22)"
   ]
  },
  {
   "cell_type": "code",
   "execution_count": 178,
   "id": "d4444fd7",
   "metadata": {},
   "outputs": [
    {
     "data": {
      "text/plain": [
       "{11, 12, 13, 14, 15, 22}"
      ]
     },
     "execution_count": 178,
     "metadata": {},
     "output_type": "execute_result"
    }
   ],
   "source": [
    "set2"
   ]
  },
  {
   "cell_type": "code",
   "execution_count": null,
   "id": "7a4ac5c3",
   "metadata": {},
   "outputs": [],
   "source": [
    "set2.remove"
   ]
  },
  {
   "cell_type": "code",
   "execution_count": null,
   "id": "b17ea151",
   "metadata": {},
   "outputs": [],
   "source": [
    "- difference()\n",
    "- add()\n",
    "- pop()\n",
    "- intersection()\n",
    "- union()"
   ]
  },
  {
   "cell_type": "markdown",
   "id": "754aa0e6",
   "metadata": {},
   "source": [
    "###### Frozensets"
   ]
  },
  {
   "cell_type": "markdown",
   "id": "1ddee48f",
   "metadata": {},
   "source": [
    "- Immutability"
   ]
  },
  {
   "cell_type": "code",
   "execution_count": 179,
   "id": "31a4efe4",
   "metadata": {},
   "outputs": [],
   "source": [
    "list1 = [1, 2, 3, 4]\n",
    "list2 = [3, 4, 7]"
   ]
  },
  {
   "cell_type": "code",
   "execution_count": 180,
   "id": "f3fac7c5",
   "metadata": {},
   "outputs": [],
   "source": [
    "fs1 = frozenset(list1)\n",
    "fs2 = frozenset(list2)"
   ]
  },
  {
   "cell_type": "code",
   "execution_count": 181,
   "id": "84bce094",
   "metadata": {},
   "outputs": [
    {
     "data": {
      "text/plain": [
       "frozenset({1, 2, 3, 4})"
      ]
     },
     "execution_count": 181,
     "metadata": {},
     "output_type": "execute_result"
    }
   ],
   "source": [
    "fs1"
   ]
  },
  {
   "cell_type": "code",
   "execution_count": 182,
   "id": "7e254aec",
   "metadata": {},
   "outputs": [
    {
     "data": {
      "text/plain": [
       "frozenset({3, 4, 7})"
      ]
     },
     "execution_count": 182,
     "metadata": {},
     "output_type": "execute_result"
    }
   ],
   "source": [
    "fs2"
   ]
  },
  {
   "cell_type": "code",
   "execution_count": 183,
   "id": "654015d6",
   "metadata": {},
   "outputs": [
    {
     "data": {
      "text/plain": [
       "frozenset"
      ]
     },
     "execution_count": 183,
     "metadata": {},
     "output_type": "execute_result"
    }
   ],
   "source": [
    "type(fs1)"
   ]
  },
  {
   "cell_type": "code",
   "execution_count": 185,
   "id": "04b315ed",
   "metadata": {},
   "outputs": [],
   "source": [
    "fs3 = fs1.copy"
   ]
  },
  {
   "cell_type": "code",
   "execution_count": 186,
   "id": "c1c54a4c",
   "metadata": {},
   "outputs": [
    {
     "data": {
      "text/plain": [
       "<function frozenset.copy>"
      ]
     },
     "execution_count": 186,
     "metadata": {},
     "output_type": "execute_result"
    }
   ],
   "source": [
    "fs3"
   ]
  },
  {
   "cell_type": "markdown",
   "id": "dc648f80",
   "metadata": {},
   "source": [
    "# Tuples"
   ]
  },
  {
   "cell_type": "markdown",
   "id": "dc3203b0",
   "metadata": {},
   "source": [
    "- Immutable List"
   ]
  },
  {
   "cell_type": "code",
   "execution_count": 187,
   "id": "3f793fc7",
   "metadata": {},
   "outputs": [
    {
     "data": {
      "text/plain": [
       "tuple"
      ]
     },
     "execution_count": 187,
     "metadata": {},
     "output_type": "execute_result"
    }
   ],
   "source": [
    "my_tuple = ()\n",
    "type(my_tuple)"
   ]
  },
  {
   "cell_type": "code",
   "execution_count": 188,
   "id": "d37fb33f",
   "metadata": {},
   "outputs": [],
   "source": [
    "my_tuple = (2)"
   ]
  },
  {
   "cell_type": "code",
   "execution_count": 189,
   "id": "e545b112",
   "metadata": {},
   "outputs": [
    {
     "data": {
      "text/plain": [
       "int"
      ]
     },
     "execution_count": 189,
     "metadata": {},
     "output_type": "execute_result"
    }
   ],
   "source": [
    "type(my_tuple)"
   ]
  },
  {
   "cell_type": "code",
   "execution_count": 190,
   "id": "2323cf38",
   "metadata": {},
   "outputs": [],
   "source": [
    "my_tuple = (2,)"
   ]
  },
  {
   "cell_type": "code",
   "execution_count": 191,
   "id": "7bc309c7",
   "metadata": {},
   "outputs": [
    {
     "data": {
      "text/plain": [
       "tuple"
      ]
     },
     "execution_count": 191,
     "metadata": {},
     "output_type": "execute_result"
    }
   ],
   "source": [
    "type(my_tuple)"
   ]
  },
  {
   "cell_type": "markdown",
   "id": "25afd396",
   "metadata": {},
   "source": [
    "- Tuples support indexting.\n",
    "- Slicing is possible with tuples."
   ]
  },
  {
   "cell_type": "markdown",
   "id": "9f9de17d",
   "metadata": {},
   "source": [
    "###### Tuple Packing and Unpacking"
   ]
  },
  {
   "cell_type": "code",
   "execution_count": 200,
   "id": "b5a70ddc",
   "metadata": {},
   "outputs": [],
   "source": [
    "tuple1 = ('Rajaram', 'Gautam', 'Texas', 76542)\n",
    "(First_Name, Last_Name, State, Zipcode) = tuple1 # Not a item in tuple in string data fromat\n"
   ]
  },
  {
   "cell_type": "code",
   "execution_count": 196,
   "id": "ae2b11cf",
   "metadata": {},
   "outputs": [
    {
     "data": {
      "text/plain": [
       "'Rajaram'"
      ]
     },
     "execution_count": 196,
     "metadata": {},
     "output_type": "execute_result"
    }
   ],
   "source": [
    "First_Name"
   ]
  },
  {
   "cell_type": "code",
   "execution_count": 197,
   "id": "f5223ad0",
   "metadata": {},
   "outputs": [
    {
     "data": {
      "text/plain": [
       "'Gautam'"
      ]
     },
     "execution_count": 197,
     "metadata": {},
     "output_type": "execute_result"
    }
   ],
   "source": [
    "Last_Name"
   ]
  },
  {
   "cell_type": "code",
   "execution_count": 198,
   "id": "963c62b2",
   "metadata": {},
   "outputs": [
    {
     "data": {
      "text/plain": [
       "'Texas'"
      ]
     },
     "execution_count": 198,
     "metadata": {},
     "output_type": "execute_result"
    }
   ],
   "source": [
    "State"
   ]
  },
  {
   "cell_type": "code",
   "execution_count": 199,
   "id": "a827ee3a",
   "metadata": {},
   "outputs": [
    {
     "data": {
      "text/plain": [
       "76542"
      ]
     },
     "execution_count": 199,
     "metadata": {},
     "output_type": "execute_result"
    }
   ],
   "source": [
    "Zipcode"
   ]
  },
  {
   "cell_type": "markdown",
   "id": "74ac1c7c",
   "metadata": {},
   "source": [
    "### Tuples vs. Lists"
   ]
  },
  {
   "cell_type": "code",
   "execution_count": 201,
   "id": "baa82142",
   "metadata": {},
   "outputs": [
    {
     "data": {
      "text/plain": [
       "4"
      ]
     },
     "execution_count": 201,
     "metadata": {},
     "output_type": "execute_result"
    }
   ],
   "source": [
    "len(tuple1)"
   ]
  },
  {
   "cell_type": "code",
   "execution_count": 210,
   "id": "f97c69b9",
   "metadata": {},
   "outputs": [],
   "source": [
    "tuple2 = (5, 6, 7, 2)"
   ]
  },
  {
   "cell_type": "code",
   "execution_count": 211,
   "id": "474952d0",
   "metadata": {},
   "outputs": [
    {
     "data": {
      "text/plain": [
       "2"
      ]
     },
     "execution_count": 211,
     "metadata": {},
     "output_type": "execute_result"
    }
   ],
   "source": [
    "min(tuple1)"
   ]
  },
  {
   "cell_type": "code",
   "execution_count": 212,
   "id": "27255141",
   "metadata": {},
   "outputs": [
    {
     "data": {
      "text/plain": [
       "7"
      ]
     },
     "execution_count": 212,
     "metadata": {},
     "output_type": "execute_result"
    }
   ],
   "source": [
    "max(tuple2)"
   ]
  },
  {
   "cell_type": "code",
   "execution_count": 213,
   "id": "6f400beb",
   "metadata": {},
   "outputs": [],
   "source": [
    "# concating tuple\n",
    "tuple3 = tuple2 + (8, 9, 10)"
   ]
  },
  {
   "cell_type": "code",
   "execution_count": 214,
   "id": "55533ac2",
   "metadata": {},
   "outputs": [
    {
     "data": {
      "text/plain": [
       "(5, 6, 7, 2, 8, 9, 10)"
      ]
     },
     "execution_count": 214,
     "metadata": {},
     "output_type": "execute_result"
    }
   ],
   "source": [
    "# Running Tuple\n",
    "tuple3"
   ]
  },
  {
   "cell_type": "code",
   "execution_count": 215,
   "id": "25052cc5",
   "metadata": {},
   "outputs": [],
   "source": [
    "tuple4 = 2*tuple3"
   ]
  },
  {
   "cell_type": "code",
   "execution_count": 216,
   "id": "479e163d",
   "metadata": {},
   "outputs": [
    {
     "data": {
      "text/plain": [
       "(5, 6, 7, 2, 8, 9, 10, 5, 6, 7, 2, 8, 9, 10)"
      ]
     },
     "execution_count": 216,
     "metadata": {},
     "output_type": "execute_result"
    }
   ],
   "source": [
    "tuple4"
   ]
  },
  {
   "cell_type": "code",
   "execution_count": 220,
   "id": "936fef3c",
   "metadata": {},
   "outputs": [
    {
     "data": {
      "text/plain": [
       "10"
      ]
     },
     "execution_count": 220,
     "metadata": {},
     "output_type": "execute_result"
    }
   ],
   "source": [
    "tuple4[-1]"
   ]
  },
  {
   "cell_type": "code",
   "execution_count": 222,
   "id": "53e17fd7",
   "metadata": {},
   "outputs": [
    {
     "data": {
      "text/plain": [
       "(8, 9, 10)"
      ]
     },
     "execution_count": 222,
     "metadata": {},
     "output_type": "execute_result"
    }
   ],
   "source": [
    "tuple4[-3:]"
   ]
  },
  {
   "cell_type": "markdown",
   "id": "46bb325b",
   "metadata": {},
   "source": [
    "# Range"
   ]
  },
  {
   "cell_type": "code",
   "execution_count": 225,
   "id": "c6749a5e",
   "metadata": {},
   "outputs": [
    {
     "name": "stdout",
     "output_type": "stream",
     "text": [
      "0\n",
      "1\n",
      "2\n",
      "3\n",
      "4\n",
      "5\n",
      "6\n",
      "7\n",
      "8\n",
      "9\n"
     ]
    }
   ],
   "source": [
    "for i in range(10):\n",
    "    print(i)"
   ]
  },
  {
   "cell_type": "code",
   "execution_count": 230,
   "id": "d814270e",
   "metadata": {},
   "outputs": [
    {
     "name": "stdout",
     "output_type": "stream",
     "text": [
      "1\n",
      "3\n",
      "5\n",
      "7\n",
      "9\n"
     ]
    }
   ],
   "source": [
    "for item in range(1, 10, 2):\n",
    "    print(item)"
   ]
  },
  {
   "cell_type": "code",
   "execution_count": 231,
   "id": "da5c18c8",
   "metadata": {},
   "outputs": [],
   "source": [
    "range1 = range(10)"
   ]
  },
  {
   "cell_type": "code",
   "execution_count": 233,
   "id": "7a1868f9",
   "metadata": {},
   "outputs": [
    {
     "data": {
      "text/plain": [
       "[0, 1, 2, 3, 4, 5, 6, 7, 8, 9]"
      ]
     },
     "execution_count": 233,
     "metadata": {},
     "output_type": "execute_result"
    }
   ],
   "source": [
    "list(range1)"
   ]
  },
  {
   "cell_type": "code",
   "execution_count": 234,
   "id": "0a6a8178",
   "metadata": {},
   "outputs": [
    {
     "data": {
      "text/plain": [
       "range"
      ]
     },
     "execution_count": 234,
     "metadata": {},
     "output_type": "execute_result"
    }
   ],
   "source": [
    "type(range1)"
   ]
  },
  {
   "cell_type": "code",
   "execution_count": 235,
   "id": "4e5aa223",
   "metadata": {},
   "outputs": [
    {
     "data": {
      "text/plain": [
       "list"
      ]
     },
     "execution_count": 235,
     "metadata": {},
     "output_type": "execute_result"
    }
   ],
   "source": [
    "type(list(range1))"
   ]
  },
  {
   "cell_type": "code",
   "execution_count": 236,
   "id": "293795d8",
   "metadata": {},
   "outputs": [
    {
     "data": {
      "text/plain": [
       "9"
      ]
     },
     "execution_count": 236,
     "metadata": {},
     "output_type": "execute_result"
    }
   ],
   "source": [
    "range1[-1]"
   ]
  },
  {
   "cell_type": "code",
   "execution_count": 238,
   "id": "8a875482",
   "metadata": {},
   "outputs": [
    {
     "data": {
      "text/plain": [
       "[9, 8, 7, 6, 5, 4, 3, 2, 1, 0]"
      ]
     },
     "execution_count": 238,
     "metadata": {},
     "output_type": "execute_result"
    }
   ],
   "source": [
    "list(range1[::-1])"
   ]
  },
  {
   "cell_type": "code",
   "execution_count": 239,
   "id": "d78970bd",
   "metadata": {},
   "outputs": [
    {
     "data": {
      "text/plain": [
       "False"
      ]
     },
     "execution_count": 239,
     "metadata": {},
     "output_type": "execute_result"
    }
   ],
   "source": [
    "11 in range1"
   ]
  },
  {
   "cell_type": "code",
   "execution_count": 240,
   "id": "4946bfb3",
   "metadata": {},
   "outputs": [
    {
     "data": {
      "text/plain": [
       "True"
      ]
     },
     "execution_count": 240,
     "metadata": {},
     "output_type": "execute_result"
    }
   ],
   "source": [
    "7 in range1"
   ]
  },
  {
   "cell_type": "code",
   "execution_count": 241,
   "id": "6b0041fb",
   "metadata": {},
   "outputs": [
    {
     "data": {
      "text/plain": [
       "4"
      ]
     },
     "execution_count": 241,
     "metadata": {},
     "output_type": "execute_result"
    }
   ],
   "source": [
    "range1[4]"
   ]
  },
  {
   "cell_type": "code",
   "execution_count": 242,
   "id": "7db7c50e",
   "metadata": {},
   "outputs": [
    {
     "data": {
      "text/plain": [
       "7"
      ]
     },
     "execution_count": 242,
     "metadata": {},
     "output_type": "execute_result"
    }
   ],
   "source": [
    "range1.index(7)"
   ]
  },
  {
   "cell_type": "markdown",
   "id": "5c14a253",
   "metadata": {},
   "source": [
    "- Slicing in range is not possible but we can convert it into list and do the slicing"
   ]
  },
  {
   "cell_type": "markdown",
   "id": "9ee6cf96",
   "metadata": {},
   "source": [
    "# Dictionaries"
   ]
  },
  {
   "cell_type": "markdown",
   "id": "18c529b7",
   "metadata": {},
   "source": [
    "- Mutables"
   ]
  },
  {
   "cell_type": "code",
   "execution_count": 243,
   "id": "887f107a",
   "metadata": {},
   "outputs": [],
   "source": [
    "dict1 = {}"
   ]
  },
  {
   "cell_type": "code",
   "execution_count": 244,
   "id": "09e5d818",
   "metadata": {},
   "outputs": [
    {
     "data": {
      "text/plain": [
       "dict"
      ]
     },
     "execution_count": 244,
     "metadata": {},
     "output_type": "execute_result"
    }
   ],
   "source": [
    "type(dict1)"
   ]
  },
  {
   "cell_type": "code",
   "execution_count": 245,
   "id": "a5ceee64",
   "metadata": {},
   "outputs": [],
   "source": [
    "dict1 = {'Vendor' : 'Cisco', 'Model': '2700', 'IOS' : '12.4', 'Ports': '4'}"
   ]
  },
  {
   "cell_type": "code",
   "execution_count": 246,
   "id": "1267f8a5",
   "metadata": {},
   "outputs": [
    {
     "data": {
      "text/plain": [
       "{'Vendor': 'Cisco', 'Model': '2700', 'IOS': '12.4', 'Ports': '4'}"
      ]
     },
     "execution_count": 246,
     "metadata": {},
     "output_type": "execute_result"
    }
   ],
   "source": [
    "dict1"
   ]
  },
  {
   "cell_type": "markdown",
   "id": "d99ca9e2",
   "metadata": {},
   "source": [
    "- Each key on the dictionaries must be unique and immutable type."
   ]
  },
  {
   "cell_type": "markdown",
   "id": "fdabb721",
   "metadata": {},
   "source": [
    "### Dictionaries Methods"
   ]
  },
  {
   "cell_type": "code",
   "execution_count": 247,
   "id": "3c4a41f6",
   "metadata": {},
   "outputs": [
    {
     "data": {
      "text/plain": [
       "'Cisco'"
      ]
     },
     "execution_count": 247,
     "metadata": {},
     "output_type": "execute_result"
    }
   ],
   "source": [
    "dict1['Vendor']"
   ]
  },
  {
   "cell_type": "code",
   "execution_count": 248,
   "id": "cc7fd0b9",
   "metadata": {},
   "outputs": [],
   "source": [
    "# adding a member to dictionaries\n",
    "dict1['RAM'] = '128'"
   ]
  },
  {
   "cell_type": "code",
   "execution_count": 249,
   "id": "996ee34a",
   "metadata": {},
   "outputs": [
    {
     "data": {
      "text/plain": [
       "{'Vendor': 'Cisco', 'Model': '2700', 'IOS': '12.4', 'Ports': '4', 'RAM': '128'}"
      ]
     },
     "execution_count": 249,
     "metadata": {},
     "output_type": "execute_result"
    }
   ],
   "source": [
    "dict1"
   ]
  },
  {
   "cell_type": "code",
   "execution_count": 251,
   "id": "79c269c7",
   "metadata": {},
   "outputs": [],
   "source": [
    "# Updating a member to dictionaries\n",
    "dict1['IOS'] = '14.7'"
   ]
  },
  {
   "cell_type": "code",
   "execution_count": 252,
   "id": "039ae059",
   "metadata": {},
   "outputs": [
    {
     "data": {
      "text/plain": [
       "{'Vendor': 'Cisco', 'Model': '2700', 'IOS': '14.7', 'Ports': '4', 'RAM': '128'}"
      ]
     },
     "execution_count": 252,
     "metadata": {},
     "output_type": "execute_result"
    }
   ],
   "source": [
    "dict1"
   ]
  },
  {
   "cell_type": "code",
   "execution_count": 253,
   "id": "991a1fa0",
   "metadata": {},
   "outputs": [],
   "source": [
    "del dict1['RAM']"
   ]
  },
  {
   "cell_type": "code",
   "execution_count": 254,
   "id": "0e9902eb",
   "metadata": {},
   "outputs": [
    {
     "data": {
      "text/plain": [
       "{'Vendor': 'Cisco', 'Model': '2700', 'IOS': '14.7', 'Ports': '4'}"
      ]
     },
     "execution_count": 254,
     "metadata": {},
     "output_type": "execute_result"
    }
   ],
   "source": [
    "dict1"
   ]
  },
  {
   "cell_type": "code",
   "execution_count": 255,
   "id": "cd29ce4d",
   "metadata": {},
   "outputs": [
    {
     "data": {
      "text/plain": [
       "4"
      ]
     },
     "execution_count": 255,
     "metadata": {},
     "output_type": "execute_result"
    }
   ],
   "source": [
    "len(dict1)"
   ]
  },
  {
   "cell_type": "code",
   "execution_count": 257,
   "id": "70843962",
   "metadata": {},
   "outputs": [
    {
     "data": {
      "text/plain": [
       "False"
      ]
     },
     "execution_count": 257,
     "metadata": {},
     "output_type": "execute_result"
    }
   ],
   "source": [
    "\"vendor\" in dict1"
   ]
  },
  {
   "cell_type": "code",
   "execution_count": 258,
   "id": "cd7574ae",
   "metadata": {},
   "outputs": [
    {
     "data": {
      "text/plain": [
       "True"
      ]
     },
     "execution_count": 258,
     "metadata": {},
     "output_type": "execute_result"
    }
   ],
   "source": [
    "'Vendor' in dict1"
   ]
  },
  {
   "cell_type": "code",
   "execution_count": 259,
   "id": "b47a2530",
   "metadata": {},
   "outputs": [
    {
     "data": {
      "text/plain": [
       "False"
      ]
     },
     "execution_count": 259,
     "metadata": {},
     "output_type": "execute_result"
    }
   ],
   "source": [
    "'Cisco' in dict1"
   ]
  },
  {
   "cell_type": "code",
   "execution_count": 260,
   "id": "7d8850e5",
   "metadata": {},
   "outputs": [
    {
     "data": {
      "text/plain": [
       "True"
      ]
     },
     "execution_count": 260,
     "metadata": {},
     "output_type": "execute_result"
    }
   ],
   "source": [
    "'Model' in dict1"
   ]
  },
  {
   "cell_type": "code",
   "execution_count": 262,
   "id": "d222d4a0",
   "metadata": {},
   "outputs": [
    {
     "data": {
      "text/plain": [
       "dict_values(['Cisco', '2700', '14.7', '4'])"
      ]
     },
     "execution_count": 262,
     "metadata": {},
     "output_type": "execute_result"
    }
   ],
   "source": [
    "dict1.values()"
   ]
  },
  {
   "cell_type": "code",
   "execution_count": 263,
   "id": "f0009f7d",
   "metadata": {},
   "outputs": [
    {
     "data": {
      "text/plain": [
       "dict_keys(['Vendor', 'Model', 'IOS', 'Ports'])"
      ]
     },
     "execution_count": 263,
     "metadata": {},
     "output_type": "execute_result"
    }
   ],
   "source": [
    "dict1.keys()"
   ]
  },
  {
   "cell_type": "code",
   "execution_count": 264,
   "id": "a76b7a71",
   "metadata": {},
   "outputs": [
    {
     "data": {
      "text/plain": [
       "dict_items([('Vendor', 'Cisco'), ('Model', '2700'), ('IOS', '14.7'), ('Ports', '4')])"
      ]
     },
     "execution_count": 264,
     "metadata": {},
     "output_type": "execute_result"
    }
   ],
   "source": [
    "dict1.items()"
   ]
  },
  {
   "cell_type": "markdown",
   "id": "a63ff91c",
   "metadata": {},
   "source": [
    "- Order is preserved in dictionaries in Python 3."
   ]
  },
  {
   "cell_type": "markdown",
   "id": "18020d50",
   "metadata": {},
   "source": [
    "# Conversion of Data Types"
   ]
  },
  {
   "cell_type": "code",
   "execution_count": 265,
   "id": "def6236d",
   "metadata": {},
   "outputs": [],
   "source": [
    "# Converstion of string to float\n",
    "\n",
    "str1 = '49'\n",
    "float1 = float(str1)"
   ]
  },
  {
   "cell_type": "code",
   "execution_count": 266,
   "id": "092aaf3d",
   "metadata": {},
   "outputs": [
    {
     "data": {
      "text/plain": [
       "float"
      ]
     },
     "execution_count": 266,
     "metadata": {},
     "output_type": "execute_result"
    }
   ],
   "source": [
    "type(float1)"
   ]
  },
  {
   "cell_type": "code",
   "execution_count": 267,
   "id": "450f419e",
   "metadata": {},
   "outputs": [
    {
     "data": {
      "text/plain": [
       "str"
      ]
     },
     "execution_count": 267,
     "metadata": {},
     "output_type": "execute_result"
    }
   ],
   "source": [
    "type(str1)"
   ]
  },
  {
   "cell_type": "code",
   "execution_count": 272,
   "id": "6995e681",
   "metadata": {},
   "outputs": [
    {
     "data": {
      "text/plain": [
       "49.0"
      ]
     },
     "execution_count": 272,
     "metadata": {},
     "output_type": "execute_result"
    }
   ],
   "source": [
    "float1"
   ]
  },
  {
   "cell_type": "code",
   "execution_count": 268,
   "id": "b1d19e7c",
   "metadata": {},
   "outputs": [],
   "source": [
    "# Conversion of float to string\n",
    "float2 = 35.35\n",
    "str2 = str(float2)"
   ]
  },
  {
   "cell_type": "code",
   "execution_count": 269,
   "id": "9fc6e5ba",
   "metadata": {},
   "outputs": [
    {
     "data": {
      "text/plain": [
       "float"
      ]
     },
     "execution_count": 269,
     "metadata": {},
     "output_type": "execute_result"
    }
   ],
   "source": [
    "type(float2)"
   ]
  },
  {
   "cell_type": "code",
   "execution_count": 270,
   "id": "fc243a94",
   "metadata": {},
   "outputs": [
    {
     "data": {
      "text/plain": [
       "str"
      ]
     },
     "execution_count": 270,
     "metadata": {},
     "output_type": "execute_result"
    }
   ],
   "source": [
    "type(str2)"
   ]
  },
  {
   "cell_type": "code",
   "execution_count": 273,
   "id": "3fb43663",
   "metadata": {},
   "outputs": [],
   "source": [
    "# Conversion of string to int\n",
    "str3 = '2500'\n",
    "int1 = int(str3)"
   ]
  },
  {
   "cell_type": "code",
   "execution_count": 274,
   "id": "883c1613",
   "metadata": {},
   "outputs": [
    {
     "data": {
      "text/plain": [
       "int"
      ]
     },
     "execution_count": 274,
     "metadata": {},
     "output_type": "execute_result"
    }
   ],
   "source": [
    "type(int1)"
   ]
  },
  {
   "cell_type": "code",
   "execution_count": 275,
   "id": "d6861690",
   "metadata": {},
   "outputs": [
    {
     "data": {
      "text/plain": [
       "2500"
      ]
     },
     "execution_count": 275,
     "metadata": {},
     "output_type": "execute_result"
    }
   ],
   "source": [
    "int1"
   ]
  },
  {
   "cell_type": "code",
   "execution_count": 276,
   "id": "54759f90",
   "metadata": {},
   "outputs": [],
   "source": [
    "# Conversion of tuple to list\n",
    "tuple1 = (1, 2, 3)\n",
    "list1 = list(tuple1)"
   ]
  },
  {
   "cell_type": "code",
   "execution_count": 277,
   "id": "8b163caf",
   "metadata": {},
   "outputs": [
    {
     "data": {
      "text/plain": [
       "tuple"
      ]
     },
     "execution_count": 277,
     "metadata": {},
     "output_type": "execute_result"
    }
   ],
   "source": [
    "type(tuple1)"
   ]
  },
  {
   "cell_type": "code",
   "execution_count": 278,
   "id": "94e66600",
   "metadata": {},
   "outputs": [
    {
     "data": {
      "text/plain": [
       "list"
      ]
     },
     "execution_count": 278,
     "metadata": {},
     "output_type": "execute_result"
    }
   ],
   "source": [
    "type(list1)"
   ]
  },
  {
   "cell_type": "code",
   "execution_count": 279,
   "id": "9d2235bc",
   "metadata": {},
   "outputs": [
    {
     "data": {
      "text/plain": [
       "[1, 2, 3]"
      ]
     },
     "execution_count": 279,
     "metadata": {},
     "output_type": "execute_result"
    }
   ],
   "source": [
    "list1"
   ]
  },
  {
   "cell_type": "code",
   "execution_count": 280,
   "id": "2eaaee11",
   "metadata": {},
   "outputs": [],
   "source": [
    "# Converstion of list into tuple\n",
    "list2 = [4, 5, 6]\n",
    "tuple2 = tuple(list2)"
   ]
  },
  {
   "cell_type": "code",
   "execution_count": 281,
   "id": "81338548",
   "metadata": {},
   "outputs": [
    {
     "data": {
      "text/plain": [
       "tuple"
      ]
     },
     "execution_count": 281,
     "metadata": {},
     "output_type": "execute_result"
    }
   ],
   "source": [
    "type(list2)"
   ]
  },
  {
   "cell_type": "code",
   "execution_count": 282,
   "id": "22b36be4",
   "metadata": {},
   "outputs": [
    {
     "data": {
      "text/plain": [
       "tuple"
      ]
     },
     "execution_count": 282,
     "metadata": {},
     "output_type": "execute_result"
    }
   ],
   "source": [
    "type(tuple2)"
   ]
  },
  {
   "cell_type": "code",
   "execution_count": 283,
   "id": "51ce0ff8",
   "metadata": {},
   "outputs": [
    {
     "data": {
      "text/plain": [
       "(4, 5, 6)"
      ]
     },
     "execution_count": 283,
     "metadata": {},
     "output_type": "execute_result"
    }
   ],
   "source": [
    "tuple2"
   ]
  },
  {
   "cell_type": "code",
   "execution_count": 284,
   "id": "d69b0c87",
   "metadata": {},
   "outputs": [],
   "source": [
    "# Converting list to set\n",
    "set2 = set(list2)"
   ]
  },
  {
   "cell_type": "code",
   "execution_count": 285,
   "id": "908dd90b",
   "metadata": {},
   "outputs": [
    {
     "data": {
      "text/plain": [
       "set"
      ]
     },
     "execution_count": 285,
     "metadata": {},
     "output_type": "execute_result"
    }
   ],
   "source": [
    "type(set2)"
   ]
  },
  {
   "cell_type": "code",
   "execution_count": 286,
   "id": "796cf8aa",
   "metadata": {},
   "outputs": [
    {
     "data": {
      "text/plain": [
       "{4, 5, 6}"
      ]
     },
     "execution_count": 286,
     "metadata": {},
     "output_type": "execute_result"
    }
   ],
   "source": [
    "set2"
   ]
  },
  {
   "cell_type": "code",
   "execution_count": 287,
   "id": "06acf662",
   "metadata": {},
   "outputs": [],
   "source": [
    "# Conversion of decimal to binary\n",
    "num = 10\n",
    "num_bin = bin(num)"
   ]
  },
  {
   "cell_type": "code",
   "execution_count": 288,
   "id": "4b218bd8",
   "metadata": {},
   "outputs": [
    {
     "data": {
      "text/plain": [
       "str"
      ]
     },
     "execution_count": 288,
     "metadata": {},
     "output_type": "execute_result"
    }
   ],
   "source": [
    "type(num_bin)"
   ]
  },
  {
   "cell_type": "code",
   "execution_count": 289,
   "id": "e19701c9",
   "metadata": {},
   "outputs": [
    {
     "data": {
      "text/plain": [
       "'0b1010'"
      ]
     },
     "execution_count": 289,
     "metadata": {},
     "output_type": "execute_result"
    }
   ],
   "source": [
    "num_bin"
   ]
  },
  {
   "cell_type": "code",
   "execution_count": 290,
   "id": "6957e5b2",
   "metadata": {},
   "outputs": [],
   "source": [
    "num_hex = hex(num)"
   ]
  },
  {
   "cell_type": "code",
   "execution_count": 291,
   "id": "ce71997c",
   "metadata": {},
   "outputs": [
    {
     "data": {
      "text/plain": [
       "'0xa'"
      ]
     },
     "execution_count": 291,
     "metadata": {},
     "output_type": "execute_result"
    }
   ],
   "source": [
    "num_hex"
   ]
  },
  {
   "cell_type": "code",
   "execution_count": 293,
   "id": "ce20a16e",
   "metadata": {},
   "outputs": [],
   "source": [
    "bin_to_num = int(num_bin, 2)"
   ]
  },
  {
   "cell_type": "code",
   "execution_count": 294,
   "id": "66541a92",
   "metadata": {},
   "outputs": [
    {
     "data": {
      "text/plain": [
       "10"
      ]
     },
     "execution_count": 294,
     "metadata": {},
     "output_type": "execute_result"
    }
   ],
   "source": [
    "bin_to_num"
   ]
  },
  {
   "cell_type": "code",
   "execution_count": 295,
   "id": "181a48b5",
   "metadata": {},
   "outputs": [],
   "source": [
    "hex_to_num = int(num_hex, 16)"
   ]
  },
  {
   "cell_type": "code",
   "execution_count": 296,
   "id": "2be2f022",
   "metadata": {},
   "outputs": [
    {
     "data": {
      "text/plain": [
       "int"
      ]
     },
     "execution_count": 296,
     "metadata": {},
     "output_type": "execute_result"
    }
   ],
   "source": [
    "type(hex_to_num)"
   ]
  },
  {
   "cell_type": "code",
   "execution_count": 297,
   "id": "505e320c",
   "metadata": {},
   "outputs": [
    {
     "data": {
      "text/plain": [
       "10"
      ]
     },
     "execution_count": 297,
     "metadata": {},
     "output_type": "execute_result"
    }
   ],
   "source": [
    "hex_to_num"
   ]
  },
  {
   "cell_type": "markdown",
   "id": "b9281c38",
   "metadata": {},
   "source": [
    "# Conditioanl Statements:"
   ]
  },
  {
   "cell_type": "markdown",
   "id": "25350b39",
   "metadata": {},
   "source": [
    "### If / Elif / Else"
   ]
  },
  {
   "cell_type": "markdown",
   "id": "1d7afd50",
   "metadata": {},
   "source": [
    "- Donot mix space with tab in code"
   ]
  },
  {
   "cell_type": "code",
   "execution_count": 299,
   "id": "ca478658",
   "metadata": {},
   "outputs": [
    {
     "name": "stdout",
     "output_type": "stream",
     "text": [
      "x is greater than 5\n"
     ]
    }
   ],
   "source": [
    "x = 10\n",
    "\n",
    "if x >5:\n",
    "    print('x is greater than 5')"
   ]
  },
  {
   "cell_type": "code",
   "execution_count": 300,
   "id": "8709d357",
   "metadata": {},
   "outputs": [
    {
     "name": "stdout",
     "output_type": "stream",
     "text": [
      "x is less than 20\n"
     ]
    }
   ],
   "source": [
    "if x < 20:\n",
    "    print('x is less than 20')"
   ]
  },
  {
   "cell_type": "code",
   "execution_count": 302,
   "id": "d9186b97",
   "metadata": {},
   "outputs": [
    {
     "name": "stdout",
     "output_type": "stream",
     "text": [
      "x equals to 20.\n"
     ]
    }
   ],
   "source": [
    "y = 20\n",
    "if y > 20:\n",
    "    print('x is greater than 20.')\n",
    "else:\n",
    "    print('x equals to 20.')"
   ]
  },
  {
   "cell_type": "code",
   "execution_count": 304,
   "id": "dee5caab",
   "metadata": {},
   "outputs": [
    {
     "name": "stdout",
     "output_type": "stream",
     "text": [
      "z is less than 20.\n"
     ]
    }
   ],
   "source": [
    "z = 19\n",
    "if z > 20:\n",
    "    print('z is greater than 20.')\n",
    "elif z <20:\n",
    "    print('z is less than 20.')\n",
    "elif z == 20:\n",
    "    print('z is equal to 20.')\n",
    "else:\n",
    "    print('No other condtion is true.')"
   ]
  },
  {
   "cell_type": "markdown",
   "id": "27850471",
   "metadata": {},
   "source": [
    "### For / For - Else"
   ]
  },
  {
   "cell_type": "code",
   "execution_count": 305,
   "id": "c2a2eea2",
   "metadata": {},
   "outputs": [
    {
     "name": "stdout",
     "output_type": "stream",
     "text": [
      "Aaravi is our kid.\n",
      "Aayara is our kid.\n",
      "Aarvik is our kid.\n"
     ]
    }
   ],
   "source": [
    "kids = ['Aaravi', 'Aayara', 'Aarvik']\n",
    "for item in kids:\n",
    "    print(f'{item} is our kid.')"
   ]
  },
  {
   "cell_type": "code",
   "execution_count": 306,
   "id": "4dd4a7fc",
   "metadata": {},
   "outputs": [
    {
     "name": "stdout",
     "output_type": "stream",
     "text": [
      "I\n",
      "n\n",
      " \n",
      "G\n",
      "o\n",
      "d\n",
      " \n",
      "W\n",
      "e\n",
      " \n",
      "T\n",
      "r\n",
      "u\n",
      "s\n",
      "t\n"
     ]
    }
   ],
   "source": [
    "america = 'In God We Trust'\n",
    "for item in america:\n",
    "    print(item)"
   ]
  },
  {
   "cell_type": "code",
   "execution_count": 307,
   "id": "cd5d3c54",
   "metadata": {},
   "outputs": [
    {
     "name": "stdout",
     "output_type": "stream",
     "text": [
      "18\n",
      "19\n",
      "20\n",
      "21\n",
      "22\n",
      "23\n",
      "24\n",
      "25\n",
      "26\n",
      "27\n",
      "28\n",
      "29\n",
      "30\n",
      "31\n",
      "32\n",
      "33\n",
      "34\n",
      "35\n",
      "36\n",
      "37\n",
      "38\n",
      "39\n",
      "40\n",
      "41\n",
      "42\n",
      "43\n",
      "44\n",
      "45\n",
      "46\n",
      "47\n",
      "48\n",
      "49\n",
      "50\n",
      "51\n",
      "52\n",
      "53\n",
      "54\n",
      "55\n",
      "56\n",
      "57\n",
      "58\n",
      "59\n",
      "60\n",
      "61\n",
      "62\n",
      "63\n",
      "64\n",
      "65\n",
      "66\n",
      "67\n",
      "68\n",
      "69\n",
      "70\n",
      "71\n",
      "72\n",
      "73\n",
      "74\n",
      "75\n",
      "76\n",
      "77\n",
      "78\n",
      "79\n",
      "80\n",
      "81\n",
      "82\n",
      "83\n",
      "84\n",
      "85\n",
      "86\n",
      "87\n",
      "88\n",
      "89\n",
      "90\n",
      "91\n",
      "92\n",
      "93\n",
      "94\n",
      "95\n",
      "96\n",
      "97\n",
      "98\n",
      "99\n",
      "100\n",
      "101\n",
      "102\n",
      "103\n",
      "104\n",
      "105\n",
      "106\n",
      "107\n",
      "108\n",
      "109\n",
      "110\n"
     ]
    }
   ],
   "source": [
    "ages = range(18, 111)\n",
    "for age in ages:\n",
    "    print(age)"
   ]
  },
  {
   "cell_type": "code",
   "execution_count": 308,
   "id": "dae7cd6f",
   "metadata": {},
   "outputs": [
    {
     "data": {
      "text/plain": [
       "3"
      ]
     },
     "execution_count": 308,
     "metadata": {},
     "output_type": "execute_result"
    }
   ],
   "source": [
    "len(kids)"
   ]
  },
  {
   "cell_type": "code",
   "execution_count": 309,
   "id": "f29c8378",
   "metadata": {},
   "outputs": [
    {
     "name": "stdout",
     "output_type": "stream",
     "text": [
      "6\n",
      "6\n",
      "6\n"
     ]
    }
   ],
   "source": [
    "for item in kids:\n",
    "    print(len(item))"
   ]
  },
  {
   "cell_type": "markdown",
   "id": "d837e015",
   "metadata": {},
   "source": [
    "- We need enumerate function to use index and item together."
   ]
  },
  {
   "cell_type": "code",
   "execution_count": 314,
   "id": "a78f26f7",
   "metadata": {},
   "outputs": [
    {
     "name": "stdout",
     "output_type": "stream",
     "text": [
      "0 Aaravi\n",
      "1 Aayara\n",
      "2 Aarvik\n",
      "The end of for loop.\n"
     ]
    }
   ],
   "source": [
    "for index, item in enumerate(kids):\n",
    "    print(index, item)\n",
    "else:\n",
    "    print('The end of for loop.')"
   ]
  },
  {
   "cell_type": "markdown",
   "id": "1e341bca",
   "metadata": {},
   "source": [
    "### While / While - Else"
   ]
  },
  {
   "cell_type": "code",
   "execution_count": 322,
   "id": "2b1851d2",
   "metadata": {},
   "outputs": [
    {
     "name": "stdout",
     "output_type": "stream",
     "text": [
      "11\n",
      "12\n",
      "13\n",
      "14\n",
      "15\n",
      "16\n",
      "17\n",
      "18\n",
      "19\n",
      "20\n",
      "21\n"
     ]
    }
   ],
   "source": [
    "item = 10\n",
    "while item <= 20:\n",
    "    item = item + 1\n",
    "    print(f'{item}')"
   ]
  },
  {
   "cell_type": "code",
   "execution_count": 323,
   "id": "d6990aa3",
   "metadata": {},
   "outputs": [
    {
     "name": "stdout",
     "output_type": "stream",
     "text": [
      "11\n",
      "12\n",
      "13\n",
      "14\n",
      "15\n",
      "16\n",
      "17\n",
      "18\n",
      "19\n",
      "20\n",
      "21\n",
      "Now item value is greater than 20.\n"
     ]
    }
   ],
   "source": [
    "item = 10\n",
    "while item <= 20:\n",
    "    item = item + 1\n",
    "    print(f'{item}')\n",
    "else:\n",
    "    print('Now item value is greater than 20.')"
   ]
  },
  {
   "cell_type": "markdown",
   "id": "0ecffa7f",
   "metadata": {},
   "source": [
    "# Nested Structures IF / FOR / WHILE"
   ]
  },
  {
   "cell_type": "code",
   "execution_count": 326,
   "id": "957281be",
   "metadata": {},
   "outputs": [
    {
     "name": "stdout",
     "output_type": "stream",
     "text": [
      "40\n",
      "80\n",
      "120\n",
      "4\n",
      "50\n",
      "100\n",
      "150\n",
      "5\n",
      "60\n",
      "120\n",
      "180\n",
      "6\n"
     ]
    }
   ],
   "source": [
    "list1 = [4, 5, 6]\n",
    "list2 = [10, 20, 30]\n",
    "for i in list1:\n",
    "    for j in list2:\n",
    "        print(i*j)\n",
    "    print(i)"
   ]
  },
  {
   "cell_type": "code",
   "execution_count": 327,
   "id": "408166bb",
   "metadata": {},
   "outputs": [
    {
     "name": "stdout",
     "output_type": "stream",
     "text": [
      "6\n",
      "7\n",
      "8\n",
      "9\n",
      "10\n",
      "11\n",
      "6\n",
      "7\n",
      "8\n",
      "9\n",
      "10\n",
      "11\n",
      "6\n",
      "7\n",
      "8\n",
      "9\n",
      "10\n",
      "11\n",
      "6\n",
      "7\n",
      "8\n",
      "9\n",
      "10\n",
      "11\n",
      "6\n",
      "7\n",
      "8\n",
      "9\n",
      "10\n",
      "11\n",
      "6\n",
      "7\n",
      "8\n",
      "9\n",
      "10\n",
      "11\n",
      "6\n",
      "7\n",
      "8\n",
      "9\n",
      "10\n",
      "11\n",
      "6\n",
      "7\n",
      "8\n",
      "9\n",
      "10\n",
      "11\n",
      "6\n",
      "7\n",
      "8\n",
      "9\n",
      "10\n",
      "11\n",
      "6\n",
      "7\n",
      "8\n",
      "9\n",
      "10\n",
      "11\n"
     ]
    }
   ],
   "source": [
    "x = 1\n",
    "while x <= 10:\n",
    "    x += 1\n",
    "    z = 5\n",
    "    while z <= 10:\n",
    "        z += 1\n",
    "        print(z)\n",
    "        "
   ]
  },
  {
   "cell_type": "markdown",
   "id": "62aafaf5",
   "metadata": {},
   "source": [
    "# Break / Continue / Pass # Again"
   ]
  },
  {
   "cell_type": "code",
   "execution_count": 330,
   "id": "17859a82",
   "metadata": {},
   "outputs": [
    {
     "name": "stdout",
     "output_type": "stream",
     "text": [
      "0\n",
      "1\n",
      "2\n",
      "3\n",
      "4\n",
      "5\n",
      "6\n",
      "7\n",
      "8\n",
      "9\n",
      "10\n",
      "11\n",
      "12\n",
      "13\n",
      "14\n",
      "15\n",
      "16\n",
      "17\n"
     ]
    }
   ],
   "source": [
    "for number in range(20):\n",
    "    if number == 18:\n",
    "        break\n",
    "    print(number)"
   ]
  },
  {
   "cell_type": "code",
   "execution_count": 331,
   "id": "f09d8fdb",
   "metadata": {},
   "outputs": [
    {
     "name": "stdout",
     "output_type": "stream",
     "text": [
      "40\n",
      "Outside the nested loop\n",
      "50\n",
      "Outside the nested loop\n",
      "60\n",
      "Outside the nested loop\n"
     ]
    }
   ],
   "source": [
    "for i in list1:\n",
    "    for j in list2:\n",
    "        if j == 20:\n",
    "            break\n",
    "        print(i*j)\n",
    "    print(\"Outside the nested loop\")"
   ]
  },
  {
   "cell_type": "markdown",
   "id": "19c8b337",
   "metadata": {},
   "source": [
    "### Continue"
   ]
  },
  {
   "cell_type": "code",
   "execution_count": null,
   "id": "a8e247b5",
   "metadata": {},
   "outputs": [],
   "source": [
    "list1 = [4, 5, 6]\n",
    "list2 = [10, 20, 30]"
   ]
  },
  {
   "cell_type": "code",
   "execution_count": 332,
   "id": "327d6db5",
   "metadata": {},
   "outputs": [
    {
     "name": "stdout",
     "output_type": "stream",
     "text": [
      "40\n",
      "120\n",
      "Outside the nested loop\n",
      "50\n",
      "150\n",
      "Outside the nested loop\n",
      "60\n",
      "180\n",
      "Outside the nested loop\n"
     ]
    }
   ],
   "source": [
    "for i in list1:\n",
    "    for j in list2:\n",
    "        if j == 20:\n",
    "            continue\n",
    "        print(i*j)\n",
    "    print(\"Outside the nested loop\")"
   ]
  },
  {
   "cell_type": "markdown",
   "id": "4727db0b",
   "metadata": {},
   "source": [
    "### Pass"
   ]
  },
  {
   "cell_type": "code",
   "execution_count": 336,
   "id": "c9f09952",
   "metadata": {},
   "outputs": [],
   "source": [
    "for i in list1:\n",
    "  pass"
   ]
  },
  {
   "cell_type": "markdown",
   "id": "9da6b9dc",
   "metadata": {},
   "source": [
    "# Error in Python\n",
    "- Syntax Error\n",
    "- Name Error\n",
    "- ZeroDivisionError"
   ]
  },
  {
   "cell_type": "markdown",
   "id": "6f8e21ff",
   "metadata": {},
   "source": [
    "### Try /Except / Else / Finally"
   ]
  },
  {
   "cell_type": "code",
   "execution_count": null,
   "id": "27f2ae4d",
   "metadata": {},
   "outputs": [],
   "source": [
    "# Format of the code\n",
    "try:\n",
    "    code to be executed\n",
    "except:\n",
    "    code in case code fails"
   ]
  },
  {
   "cell_type": "code",
   "execution_count": 337,
   "id": "3941e062",
   "metadata": {},
   "outputs": [
    {
     "name": "stdout",
     "output_type": "stream",
     "text": [
      "division by zero --> Division by 0 is not allowed.\n"
     ]
    }
   ],
   "source": [
    "try:\n",
    "    for i in range(5):\n",
    "        print(i/0)\n",
    "except ZeroDivisionError as e:\n",
    "    print(e, '--> Division by 0 is not allowed.')\n",
    "    "
   ]
  },
  {
   "cell_type": "code",
   "execution_count": 338,
   "id": "a570b5d8",
   "metadata": {},
   "outputs": [
    {
     "name": "stdout",
     "output_type": "stream",
     "text": [
      "0.0\n",
      "0.5\n",
      "1.0\n",
      "1.5\n",
      "2.0\n"
     ]
    }
   ],
   "source": [
    "try:\n",
    "    for i in range(5):\n",
    "        print(i/2)\n",
    "except ZeroDivisionError as e:\n",
    "    print(e, '--> Division by 0 is not allowed.')"
   ]
  },
  {
   "cell_type": "code",
   "execution_count": 340,
   "id": "b4d4ae7b",
   "metadata": {},
   "outputs": [
    {
     "name": "stdout",
     "output_type": "stream",
     "text": [
      "There is error but find it your self.\n"
     ]
    }
   ],
   "source": [
    "# Catching all possible errors but not recommended\n",
    "\n",
    "try:\n",
    "    for i in range(5):\n",
    "        print(i/0)\n",
    "except :\n",
    "    print('There is error but find it your self.')\n",
    "else: \n",
    "    # in case there is no ecception\n",
    "finally:\n",
    "    # It will be executed whether there is error in try block or not."
   ]
  },
  {
   "cell_type": "code",
   "execution_count": 343,
   "id": "eb9e7a33",
   "metadata": {},
   "outputs": [
    {
     "name": "stdout",
     "output_type": "stream",
     "text": [
      "0.0\n",
      "0.5\n",
      "1.0\n",
      "1.5\n",
      "2.0\n",
      "Code in else clause is executed in case of no exception\n",
      "Code in finally clause is executed regardless of exception or not\n"
     ]
    }
   ],
   "source": [
    "# Catching all possible errors but not recommended\n",
    "\n",
    "try:\n",
    "    for i in range(5):\n",
    "        print(i/2)\n",
    "except :\n",
    "    print('There is error but find it your self.')\n",
    "else: \n",
    "    print('Code in else clause is executed in case of no exception')# in case there is no ecception\n",
    "finally:\n",
    "    print('Code in finally clause is executed regardless of exception or not')# It will be executed whether there is error in try block or not."
   ]
  },
  {
   "cell_type": "markdown",
   "id": "ff09814b",
   "metadata": {},
   "source": [
    "### Syntax Errror"
   ]
  },
  {
   "cell_type": "code",
   "execution_count": null,
   "id": "18ce0fc0",
   "metadata": {},
   "outputs": [],
   "source": [
    "- Error message are important as they may tell about name, location and cause of error."
   ]
  }
 ],
 "metadata": {
  "kernelspec": {
   "display_name": "Python 3 (ipykernel)",
   "language": "python",
   "name": "python3"
  },
  "language_info": {
   "codemirror_mode": {
    "name": "ipython",
    "version": 3
   },
   "file_extension": ".py",
   "mimetype": "text/x-python",
   "name": "python",
   "nbconvert_exporter": "python",
   "pygments_lexer": "ipython3",
   "version": "3.8.8"
  }
 },
 "nbformat": 4,
 "nbformat_minor": 5
}
