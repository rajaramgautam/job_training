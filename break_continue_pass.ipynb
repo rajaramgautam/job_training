{
 "cells": [
  {
   "cell_type": "markdown",
   "id": "6a01962b",
   "metadata": {},
   "source": [
    "# Difference between Break, Continue and Pass:"
   ]
  },
  {
   "cell_type": "markdown",
   "id": "67fbe7a2",
   "metadata": {},
   "source": [
    "### Break"
   ]
  },
  {
   "cell_type": "code",
   "execution_count": 4,
   "id": "0771b7e5",
   "metadata": {},
   "outputs": [
    {
     "name": "stdout",
     "output_type": "stream",
     "text": [
      "0\n",
      "1\n",
      "2\n"
     ]
    }
   ],
   "source": [
    "list1 = [0, 1, 2, 3, 4, 5, 6, 7]\n",
    "for number in list1: # number can be replaced by anything like item, i, j member etc\n",
    "    if number == 3: \n",
    "        break # for the condition on if clause it will break the iteration process\n",
    "    print(number)"
   ]
  },
  {
   "cell_type": "markdown",
   "id": "05fb2cc5",
   "metadata": {},
   "source": [
    "### Here break stops whole process once the condition is number == 3 is met. Neither we would have got print of  all number 0 to 7."
   ]
  },
  {
   "cell_type": "markdown",
   "id": "578ed8e0",
   "metadata": {},
   "source": [
    "### Continue"
   ]
  },
  {
   "cell_type": "code",
   "execution_count": 6,
   "id": "26ab9d63",
   "metadata": {},
   "outputs": [
    {
     "name": "stdout",
     "output_type": "stream",
     "text": [
      "0\n",
      "1\n",
      "2\n",
      "4\n",
      "5\n",
      "6\n",
      "7\n"
     ]
    }
   ],
   "source": [
    "list1 = [0, 1, 2, 3, 4, 5, 6, 7]\n",
    "for number in list1: # number can be replaced by anything like item, i, j member etc\n",
    "    if number == 3: \n",
    "        continue \n",
    "        # for the condition on if clause it will iterate the process without running code below it for \n",
    "        # the condition on if clause\n",
    "    print(number)"
   ]
  },
  {
   "cell_type": "markdown",
   "id": "07056d67",
   "metadata": {},
   "source": [
    "### For the condition on if clause it will iterate the process without running code below it for the condition on if clause"
   ]
  },
  {
   "cell_type": "markdown",
   "id": "8f2d2955",
   "metadata": {},
   "source": [
    "### Pass"
   ]
  },
  {
   "cell_type": "code",
   "execution_count": 12,
   "id": "31577e44",
   "metadata": {},
   "outputs": [
    {
     "ename": "SyntaxError",
     "evalue": "unexpected EOF while parsing (2398724530.py, line 1)",
     "output_type": "error",
     "traceback": [
      "\u001b[0;36m  File \u001b[0;32m\"/var/folders/zq/x5sj66553p9dvbt1_y838q_h0000gn/T/ipykernel_24445/2398724530.py\"\u001b[0;36m, line \u001b[0;32m1\u001b[0m\n\u001b[0;31m    for i in list1:\u001b[0m\n\u001b[0m                   ^\u001b[0m\n\u001b[0;31mSyntaxError\u001b[0m\u001b[0;31m:\u001b[0m unexpected EOF while parsing\n"
     ]
    }
   ],
   "source": [
    "for i in list1:"
   ]
  },
  {
   "cell_type": "code",
   "execution_count": 13,
   "id": "e94f769d",
   "metadata": {},
   "outputs": [],
   "source": [
    "for i in list1: # We are not ready to code let us put keyword pass on code block\n",
    "    pass"
   ]
  },
  {
   "cell_type": "code",
   "execution_count": null,
   "id": "ce702dd4",
   "metadata": {},
   "outputs": [],
   "source": [
    "### Use of pass in function"
   ]
  },
  {
   "cell_type": "code",
   "execution_count": 16,
   "id": "fc0f768a",
   "metadata": {},
   "outputs": [
    {
     "ename": "SyntaxError",
     "evalue": "unexpected EOF while parsing (3430148224.py, line 1)",
     "output_type": "error",
     "traceback": [
      "\u001b[0;36m  File \u001b[0;32m\"/var/folders/zq/x5sj66553p9dvbt1_y838q_h0000gn/T/ipykernel_24445/3430148224.py\"\u001b[0;36m, line \u001b[0;32m1\u001b[0m\n\u001b[0;31m    def my_function():\u001b[0m\n\u001b[0m                       ^\u001b[0m\n\u001b[0;31mSyntaxError\u001b[0m\u001b[0;31m:\u001b[0m unexpected EOF while parsing\n"
     ]
    }
   ],
   "source": [
    "def my_function(): "
   ]
  },
  {
   "cell_type": "code",
   "execution_count": 17,
   "id": "6253a2d3",
   "metadata": {},
   "outputs": [],
   "source": [
    "def my_function(): # We are not ready to code let us put keyword pass on code block\n",
    "    pass"
   ]
  },
  {
   "cell_type": "markdown",
   "id": "650492f4",
   "metadata": {},
   "source": [
    "### Thus pass in code replacer till we dont have our actual logic or code that goes on function or other place. So that our interpreter does not throw us an error."
   ]
  },
  {
   "cell_type": "code",
   "execution_count": null,
   "id": "f6a9f8aa",
   "metadata": {},
   "outputs": [],
   "source": []
  }
 ],
 "metadata": {
  "kernelspec": {
   "display_name": "Python 3 (ipykernel)",
   "language": "python",
   "name": "python3"
  },
  "language_info": {
   "codemirror_mode": {
    "name": "ipython",
    "version": 3
   },
   "file_extension": ".py",
   "mimetype": "text/x-python",
   "name": "python",
   "nbconvert_exporter": "python",
   "pygments_lexer": "ipython3",
   "version": "3.8.8"
  }
 },
 "nbformat": 4,
 "nbformat_minor": 5
}
