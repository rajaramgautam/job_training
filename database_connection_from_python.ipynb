{
 "cells": [
  {
   "cell_type": "code",
   "execution_count": 2,
   "id": "8bf648b2",
   "metadata": {},
   "outputs": [],
   "source": [
    "secret = 'gautam'"
   ]
  },
  {
   "cell_type": "code",
   "execution_count": 4,
   "id": "f3fa4918",
   "metadata": {},
   "outputs": [],
   "source": [
    "import psycopg2 as pg"
   ]
  },
  {
   "cell_type": "code",
   "execution_count": 6,
   "id": "82c4060d",
   "metadata": {},
   "outputs": [],
   "source": [
    "conn = pg.connect(database = 'dvdrental', user = 'postgres', password = secret)"
   ]
  },
  {
   "cell_type": "code",
   "execution_count": 7,
   "id": "a9ec7c8a",
   "metadata": {},
   "outputs": [],
   "source": [
    "cur = conn.cursor()"
   ]
  },
  {
   "cell_type": "code",
   "execution_count": 8,
   "id": "5e669c69",
   "metadata": {},
   "outputs": [],
   "source": [
    "cur.execute('select * from payment')"
   ]
  },
  {
   "cell_type": "code",
   "execution_count": 9,
   "id": "16efe26b",
   "metadata": {},
   "outputs": [],
   "source": [
    "data = cur.fetchmany(11)"
   ]
  },
  {
   "cell_type": "code",
   "execution_count": 13,
   "id": "51292f72",
   "metadata": {},
   "outputs": [
    {
     "data": {
      "text/plain": [
       "(17503,\n",
       " 341,\n",
       " 2,\n",
       " 1520,\n",
       " Decimal('7.99'),\n",
       " datetime.datetime(2007, 2, 15, 22, 25, 46, 996577))"
      ]
     },
     "execution_count": 13,
     "metadata": {},
     "output_type": "execute_result"
    }
   ],
   "source": [
    "data[0]"
   ]
  },
  {
   "cell_type": "code",
   "execution_count": 14,
   "id": "e1b430f8",
   "metadata": {},
   "outputs": [
    {
     "data": {
      "text/plain": [
       "17503"
      ]
     },
     "execution_count": 14,
     "metadata": {},
     "output_type": "execute_result"
    }
   ],
   "source": [
    "data[0][0]"
   ]
  },
  {
   "cell_type": "code",
   "execution_count": 15,
   "id": "c6d90342",
   "metadata": {},
   "outputs": [
    {
     "data": {
      "text/plain": [
       "341"
      ]
     },
     "execution_count": 15,
     "metadata": {},
     "output_type": "execute_result"
    }
   ],
   "source": [
    "data[0][1]"
   ]
  },
  {
   "cell_type": "code",
   "execution_count": 16,
   "id": "1df0a128",
   "metadata": {},
   "outputs": [
    {
     "data": {
      "text/plain": [
       "2"
      ]
     },
     "execution_count": 16,
     "metadata": {},
     "output_type": "execute_result"
    }
   ],
   "source": [
    "data[0][2]"
   ]
  },
  {
   "cell_type": "code",
   "execution_count": 17,
   "id": "6d9a9b3c",
   "metadata": {},
   "outputs": [
    {
     "data": {
      "text/plain": [
       "1520"
      ]
     },
     "execution_count": 17,
     "metadata": {},
     "output_type": "execute_result"
    }
   ],
   "source": [
    "data[0][3]"
   ]
  },
  {
   "cell_type": "code",
   "execution_count": 18,
   "id": "a78a0a47",
   "metadata": {},
   "outputs": [
    {
     "data": {
      "text/plain": [
       "Decimal('7.99')"
      ]
     },
     "execution_count": 18,
     "metadata": {},
     "output_type": "execute_result"
    }
   ],
   "source": [
    "data[0][4]"
   ]
  },
  {
   "cell_type": "code",
   "execution_count": 19,
   "id": "965ac540",
   "metadata": {},
   "outputs": [
    {
     "data": {
      "text/plain": [
       "datetime.datetime(2007, 2, 15, 22, 25, 46, 996577)"
      ]
     },
     "execution_count": 19,
     "metadata": {},
     "output_type": "execute_result"
    }
   ],
   "source": [
    "data[0][5]"
   ]
  },
  {
   "cell_type": "code",
   "execution_count": 20,
   "id": "6a37eea8",
   "metadata": {},
   "outputs": [],
   "source": [
    "conn.close()"
   ]
  },
  {
   "cell_type": "code",
   "execution_count": null,
   "id": "7856619c",
   "metadata": {},
   "outputs": [],
   "source": []
  }
 ],
 "metadata": {
  "kernelspec": {
   "display_name": "Python 3 (ipykernel)",
   "language": "python",
   "name": "python3"
  },
  "language_info": {
   "codemirror_mode": {
    "name": "ipython",
    "version": 3
   },
   "file_extension": ".py",
   "mimetype": "text/x-python",
   "name": "python",
   "nbconvert_exporter": "python",
   "pygments_lexer": "ipython3",
   "version": "3.8.8"
  }
 },
 "nbformat": 4,
 "nbformat_minor": 5
}
